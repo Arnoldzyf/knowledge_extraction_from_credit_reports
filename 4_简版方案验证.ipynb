{
 "cells": [
  {
   "cell_type": "markdown",
   "id": "58852e07-11f7-4e14-afc0-fe51a2e03997",
   "metadata": {},
   "source": [
    "- 所有文件都会先经过ocr识别处理\n",
    "- ocr后的结果应该是一个大的json文件，该文件应：\n",
    "    - 嵌套式体现文档结构，表明哪些是标题及其标题等级\n",
    "    - 文档内容应区分表格内容（有开头结尾标记）和其他\n",
    "    - 内容跨页需要合并\n",
    "- 由于ocr接口正在开发中，本方案依据理想化的ocr结果编写"
   ]
  },
  {
   "cell_type": "code",
   "execution_count": 2,
   "id": "dacd14ce-77ab-49f7-bcc7-8c7a64ebe900",
   "metadata": {},
   "outputs": [
    {
     "name": "stderr",
     "output_type": "stream",
     "text": [
      "E:\\miniconda3\\envs\\ZheShang\\lib\\site-packages\\tqdm\\auto.py:21: TqdmWarning: IProgress not found. Please update jupyter and ipywidgets. See https://ipywidgets.readthedocs.io/en/stable/user_install.html\n",
      "  from .autonotebook import tqdm as notebook_tqdm\n",
      "E:\\miniconda3\\envs\\ZheShang\\lib\\site-packages\\_distutils_hack\\__init__.py:32: UserWarning: Setuptools is replacing distutils. Support for replacing an already imported distutils is deprecated. In the future, this condition will fail. Register concerns at https://github.com/pypa/setuptools/issues/new?template=distutils-deprecation.yml\n",
      "  warnings.warn(\n"
     ]
    }
   ],
   "source": [
    "from paddlenlp import Taskflow\n",
    "import pandas as pd\n",
    "import json\n",
    "from IPython.display import display\n",
    "import re\n",
    "import os\n",
    "from translate import Translator"
   ]
  },
  {
   "cell_type": "code",
   "execution_count": 3,
   "id": "f95b7620-5e17-4258-ba3b-66cf0da90faa",
   "metadata": {},
   "outputs": [],
   "source": [
    "##忽视future warnings\n",
    "import warnings\n",
    "warnings.filterwarnings('ignore', category=FutureWarning)"
   ]
  },
  {
   "cell_type": "markdown",
   "id": "fafbd4e3-78fa-44cf-acac-6975d376e10f",
   "metadata": {},
   "source": [
    "# Params & Helping Functions"
   ]
  },
  {
   "cell_type": "markdown",
   "id": "767c2c5c-dd1b-4558-beed-594c12a0d2ce",
   "metadata": {},
   "source": [
    "## extract_info_from_taskflow"
   ]
  },
  {
   "cell_type": "code",
   "execution_count": 4,
   "id": "67b114b8-7f37-43cf-b239-eabf2081fcbf",
   "metadata": {},
   "outputs": [
    {
     "name": "stderr",
     "output_type": "stream",
     "text": [
      "\u001b[33m[2024-09-05 08:37:09,371] [ WARNING]\u001b[0m - The schema has not been set yet, please set a schema via set_schema(). More details about the setting of schema please refer to https://github.com/PaddlePaddle/PaddleNLP/blob/develop/applications/information_extraction/taskflow_text.md\u001b[0m\n",
      "\u001b[32m[2024-09-05 08:37:11,404] [    INFO]\u001b[0m - We are using <class 'paddlenlp.transformers.ernie.tokenizer.ErnieTokenizer'> to load './uie-base'.\u001b[0m\n"
     ]
    }
   ],
   "source": [
    "ie = Taskflow('information_extraction', task_path = './uie-base') \n",
    "## if from pretrain: task_path = 'uie-base path' \n",
    "## 现在模型在 \"C:/Users/0049004320/.paddlenlp/taskflow/information_extraction/uie-base\"\n",
    "\n",
    "def extract_info_from_taskflow(case, schema, task=ie):\n",
    "    '''\n",
    "    task: taskflow\n",
    "    case: string, info for analysing\n",
    "    schema: key-words needs to be extracted\n",
    "    '''\n",
    "    task.set_schema(schema)\n",
    "    info = task(case)  ## paddleNLP taskflow 模型抽取信息\n",
    "    result = {}  ## 存放抽取结果\n",
    "    for k in schema:\n",
    "        v = info[0].get(k)\n",
    "        if v:\n",
    "            v = v[0].get(\"text\")\n",
    "        result[k] = v\n",
    "    return result"
   ]
  },
  {
   "cell_type": "markdown",
   "id": "2e7c9a56-acfd-4c6e-adca-16eac1a12c43",
   "metadata": {},
   "source": [
    "## key translation"
   ]
  },
  {
   "cell_type": "code",
   "execution_count": 85,
   "id": "734b56b4-f26e-4a16-8eb7-885c19f0cd23",
   "metadata": {},
   "outputs": [
    {
     "data": {
      "text/plain": [
       "{'account_information': [{'issuer': '工商银行信用卡中心',\n",
       "   'account_identification': 'AAA003',\n",
       "   'date_of_issue': '2009.05.22',\n",
       "   'account_credit_limit': '16,000',\n",
       "   'shared_credit_limit': '16,000',\n",
       "   'currency': '人民币',\n",
       "   'business_type': '贷记卡',\n",
       "   'guarantee': '信用/免担保'}],\n",
       " 'as_of_april_12_2015': [{'account_status': '正常',\n",
       "   'balance': '255,500',\n",
       "   'used_credit_limit': '135,500',\n",
       "   'large_amount_of_unissued_special_installment_balance': '110,000',\n",
       "   'number_of_remaining_installments': '11',\n",
       "   'average_usage_limit_last_6_months': '90,000',\n",
       "   'maximum_usage_limit': '150,000'},\n",
       "  {'statement_closing_date': '2015.04.12',\n",
       "   'repayment_due_this_month': '24,500',\n",
       "   'actual_repayment_this_month': '0',\n",
       "   'last_repayment_date': '2015.03.10',\n",
       "   'current_overdue_periods': '1',\n",
       "   'current_overdue_total': '24,550'}],\n",
       " 'large_amount_of_special_installment_information': [{'large_amount_of_special_installment_quota': '120,000',\n",
       "   'installment_limit_effective_date': '2015.09.12',\n",
       "   'installment_limit_expiration_date': '2016.09.11',\n",
       "   'spent_installment_amount': '120,000'}],\n",
       " 'latest_repayment_history_after_april_12_2015': [{'balance': '230,950',\n",
       "   'repayment_date': '2015.04.25',\n",
       "   'repayment_amount': '24,550',\n",
       "   'current_repayment_status': 'N'}],\n",
       " 'repayment_history_from_july_2010_to_april_2015': [{'2015': [{'1': 'N',\n",
       "     '2': 'N',\n",
       "     '3': 'N',\n",
       "     '4': 'N'},\n",
       "    {'1': '0', '2': '0', '3': '0', '4': '0'}]},\n",
       "  {'2014': [{'1': 'N',\n",
       "     '2': 'N',\n",
       "     '3': 'N',\n",
       "     '4': 'N',\n",
       "     '5': 'N',\n",
       "     '6': 'N',\n",
       "     '7': 'N',\n",
       "     '8': 'N',\n",
       "     '9': 'N',\n",
       "     '10': 'N',\n",
       "     '11': 'N',\n",
       "     '12': 'N'},\n",
       "    {'1': '0',\n",
       "     '2': '0',\n",
       "     '3': '0',\n",
       "     '4': '0',\n",
       "     '5': '0',\n",
       "     '6': '0',\n",
       "     '7': '0',\n",
       "     '8': '0',\n",
       "     '9': '0',\n",
       "     '10': '0',\n",
       "     '11': '0',\n",
       "     '12': '0'}]},\n",
       "  {'2013': [{'1': 'N',\n",
       "     '2': 'N',\n",
       "     '3': 'N',\n",
       "     '4': 'N',\n",
       "     '5': 'N',\n",
       "     '6': 'N',\n",
       "     '7': 'N',\n",
       "     '8': 'N',\n",
       "     '9': 'N',\n",
       "     '10': 'N',\n",
       "     '11': 'N',\n",
       "     '12': 'N'},\n",
       "    {'1': '0',\n",
       "     '2': '0',\n",
       "     '3': '0',\n",
       "     '4': '0',\n",
       "     '5': '0',\n",
       "     '6': '0',\n",
       "     '7': '0',\n",
       "     '8': '0',\n",
       "     '9': '0',\n",
       "     '10': '0',\n",
       "     '11': '0',\n",
       "     '12': '0'}]},\n",
       "  {'2012': [{'1': 'N',\n",
       "     '2': 'N',\n",
       "     '3': 'N',\n",
       "     '4': 'N',\n",
       "     '5': 'N',\n",
       "     '6': 'N',\n",
       "     '7': 'N',\n",
       "     '8': 'N',\n",
       "     '9': 'N',\n",
       "     '10': 'N',\n",
       "     '11': 'N',\n",
       "     '12': 'N'},\n",
       "    {'1': '0',\n",
       "     '2': '0',\n",
       "     '3': '0',\n",
       "     '4': '0',\n",
       "     '5': '0',\n",
       "     '6': '0',\n",
       "     '7': '0',\n",
       "     '8': '0',\n",
       "     '9': '0',\n",
       "     '10': '0',\n",
       "     '11': '0',\n",
       "     '12': '0'}]},\n",
       "  {'2011': [{'1': '#',\n",
       "     '2': '#',\n",
       "     '3': '#',\n",
       "     '4': '#',\n",
       "     '5': '#',\n",
       "     '6': '#',\n",
       "     '7': '#',\n",
       "     '8': '#',\n",
       "     '9': '#',\n",
       "     '10': '#',\n",
       "     '11': '#',\n",
       "     '12': '#'},\n",
       "    {'1': '--',\n",
       "     '2': '--',\n",
       "     '3': '--',\n",
       "     '4': '--',\n",
       "     '5': '--',\n",
       "     '6': '--',\n",
       "     '7': '--',\n",
       "     '8': '--',\n",
       "     '9': '--',\n",
       "     '10': '--',\n",
       "     '11': '--',\n",
       "     '12': '--'}]},\n",
       "  {'2010': [{'7': 'N', '8': 'N', '9': 'N', '10': 'N', '11': 'N', '12': 'N'},\n",
       "    {'7': '0', '8': '0', '9': '0', '10': '0', '11': '0', '12': '0'}]}],\n",
       " 'special_event_instructions': [{'special_event_instructions': '该账户 2015 年 05 月不出单。',\n",
       "   'special_transaction_type': '个性化分期',\n",
       "   'date_of_occurrence': '2012.07',\n",
       "   'change_months': '5',\n",
       "   'incurred_amount': '10,000',\n",
       "   'detailed_records': '--'}],\n",
       " 'institution_description': [{'institution_description': '该卡逾期情况极为严重。',\n",
       "   'date_added': '2012.12.15'}],\n",
       " 'i_certify_that': [{'i_certify_that': '本人因出国无法及时还款，导致当前逾期，非恶意违约。',\n",
       "   'date_added': '2013.07.02'}],\n",
       " 'objection_annotation': [{'objection_annotation': '该笔业务正处于异议处理中。',\n",
       "   'date_added': '2013.07.22'}]}"
      ]
     },
     "execution_count": 85,
     "metadata": {},
     "output_type": "execute_result"
    }
   ],
   "source": [
    "info_extraction = {\n",
    "'account_information':[{'issuer': '工商银行信用卡中心', 'account_identification': 'AAA003', 'date_of_issue': '2009.05.22', 'account_credit_limit': '16,000', 'shared_credit_limit': '16,000', 'currency': '人民币', 'business_type': '贷记卡', 'guarantee': '信用/免担保'}],\n",
    "'as_of_april_12_2015':[{'account_status': '正常', 'balance': '255,500', 'used_credit_limit': '135,500', 'large_amount_of_unissued_special_installment_balance': '110,000', 'number_of_remaining_installments': '11', 'average_usage_limit_last_6_months': '90,000', 'maximum_usage_limit': '150,000'}, {'statement_closing_date': '2015.04.12', 'repayment_due_this_month': '24,500', 'actual_repayment_this_month': '0', 'last_repayment_date': '2015.03.10', 'current_overdue_periods': '1', 'current_overdue_total': '24,550'}],\n",
    "'large_amount_of_special_installment_information':[{'large_amount_of_special_installment_quota': '120,000', 'installment_limit_effective_date': '2015.09.12', 'installment_limit_expiration_date': '2016.09.11', 'spent_installment_amount': '120,000'}],\n",
    "'latest_repayment_history_after_april_12_2015':[{'balance': '230,950', 'repayment_date': '2015.04.25', 'repayment_amount': '24,550', 'current_repayment_status': 'N'}],\n",
    "'repayment_history_from_july_2010_to_april_2015':[\n",
    "{'2015': [{'1':'N','2':'N','3':'N','4':'N'},{'1':'0','2':'0','3':'0','4':'0'}]},\n",
    "{'2014':[{'1':'N','2':'N','3':'N','4':'N','5':'N','6':'N','7':'N','8':'N','9':'N','10':'N','11':'N','12':'N'},{'1':'0','2':'0','3':'0','4':'0','5':'0','6':'0','7':'0','8':'0','9':'0','10':'0','11':'0','12':'0'}]},\n",
    "{'2013': [{'1':'N','2':'N','3':'N','4':'N','5':'N','6':'N','7':'N','8':'N','9':'N','10':'N','11':'N','12':'N'},{'1':'0','2':'0','3':'0','4':'0','5':'0','6':'0','7':'0','8':'0','9':'0','10':'0','11':'0','12':'0'}]},\n",
    "{'2012': [{'1':'N','2':'N','3':'N','4':'N','5':'N','6':'N','7':'N','8':'N','9':'N','10':'N','11':'N','12':'N'},{'1':'0','2':'0','3':'0','4':'0','5':'0','6':'0','7':'0','8':'0','9':'0','10':'0','11':'0','12':'0'}]},\n",
    "{'2011': [{'1':'#','2':'#','3':'#','4':'#','5':'#','6':'#','7':'#','8':'#','9':'#','10':'#','11':'#','12':'#'},{'1':'--','2':'--','3':'--','4':'--','5':'--','6':'--','7':'--','8':'--','9':'--','10':'--','11':'--','12':'--'}]},\n",
    "{'2010': [{'7':'N','8':'N','9':'N','10':'N','11':'N','12':'N'},{'7':'0','8':'0','9':'0','10':'0','11':'0','12':'0'}]}],\n",
    "'special_event_instructions':[{'special_event_instructions':'该账户 2015 年 05 月不出单。','special_transaction_type':'个性化分期','date_of_occurrence':'2012.07','change_months':'5','incurred_amount':'10,000','detailed_records':'--'}],\n",
    "'institution_description':[{'institution_description':'该卡逾期情况极为严重。','date_added':'2012.12.15'}],\n",
    "'i_certify_that':[{'i_certify_that':'本人因出国无法及时还款，导致当前逾期，非恶意违约。','date_added':'2013.07.02'}],\n",
    "'objection_annotation':[{'objection_annotation':'该笔业务正处于异议处理中。','date_added':'2013.07.22'}]}\n",
    "\n",
    "info_extraction"
   ]
  },
  {
   "cell_type": "code",
   "execution_count": 10,
   "id": "beb7a902-dcaa-459c-b0c4-f6158a480c73",
   "metadata": {},
   "outputs": [
    {
     "data": {
      "text/plain": [
       "'my_version'"
      ]
     },
     "execution_count": 10,
     "metadata": {},
     "output_type": "execute_result"
    }
   ],
   "source": [
    "a = '本人版'\n",
    "\n",
    "key_en=translator.translate(a)\n",
    " ## 原有下划线为标题分级\n",
    "key_en = re.sub(r'\\_', '\\_\\_', key_en)  \n",
    "## 转小写\n",
    "## 删除非英文字母非空格的字符\n",
    "key_en = re.sub(r'[^a-zA-Z0-9\\_\\s]', '', key_en.lower())  \n",
    "## 下划线连接\n",
    "key_en = '_'.join(key_en.split())\n",
    "key_en"
   ]
  },
  {
   "cell_type": "code",
   "execution_count": 77,
   "id": "22ab485f-b924-4cb8-981e-7b3b63320800",
   "metadata": {},
   "outputs": [],
   "source": [
    "trans_dict_path = \"./data/key2en.json\"\n",
    "translator = Translator(from_lang=\"ZH\",to_lang=\"EN\")\n",
    "\n",
    "def key_2_English(key, translator=translator, \n",
    "                  trans_dict_path=trans_dict_path, \n",
    "                  force_translate=False, update_trans_dict_file=True):\n",
    "    '''\n",
    "    用translate包将key转换成英文\n",
    "    并维护一个中转英的dict\n",
    "    可以人为修改对应英文\n",
    "\n",
    "    key: 一个要翻译的字符串\n",
    "    translator: Translator(from_lang=\"ZH\",to_lang=\"EN\")\n",
    "    trans_dict_path: 存储中英字符对应翻译\n",
    "\n",
    "    force_translate: 强制重新翻译，也会更新表格\n",
    "    update_trans_dict_file：是否更新存储的dict\n",
    "    '''\n",
    "    ## 检查是否含有中文\n",
    "    contains_ZH = False\n",
    "    for char in key:\n",
    "        if '\\u4e00' <= char <= '\\u9fff':\n",
    "            contains_ZH = True\n",
    "            break\n",
    "    if not contains_ZH:\n",
    "        return key\n",
    "        \n",
    "    need_updating = False  ## flag for 是否需要更新字典\n",
    "\n",
    "    ## 载入已有dict, 或创立新dict\n",
    "    if not os.path.exists(trans_dict_path):\n",
    "        need_updating = True\n",
    "        trans_dict = {}\n",
    "    else:\n",
    "        with open(trans_dict_path, 'r') as file:\n",
    "            trans_dict = json.load(file)\n",
    "\n",
    "    key_en = trans_dict.get(key)\n",
    "    if force_translate:\n",
    "        key_en = None\n",
    "    if not key_en:\n",
    "        need_updating = True\n",
    "        key_en = translator.translate(key)\n",
    "\n",
    "        matches = re.findall(\">(.*?)<\", key_en)  ## 有时会有<bold>..<>修饰\n",
    "        if matches:\n",
    "            key_en = matches[0].strip(\":\")\n",
    "\n",
    "        ## 原有下划线为标题分级\n",
    "        key_en = re.sub(r'\\_', '\\_\\_', key_en)  \n",
    "        ## 转小写\n",
    "        ## 删除非英文字母非空格的字符\n",
    "        key_en = re.sub(r'[^a-zA-Z0-9\\_\\s]', '', key_en.lower())  \n",
    "        ## 下划线连接\n",
    "        key_en = '_'.join(key_en.split())\n",
    "        \n",
    "        ## 更新dict\n",
    "        trans_dict[key] = key_en\n",
    "        if update_trans_dict_file:\n",
    "            with open(trans_dict_path, 'w') as file:\n",
    "                json.dump(trans_dict, file)\n",
    "\n",
    "    return key_en\n",
    "\n",
    "def update_trans_dict(key, key_en, trans_dict_path=trans_dict_path):\n",
    "    '''\n",
    "    手动修改英文翻译\n",
    "    '''\n",
    "    need_updating = False\n",
    "\n",
    "    ## 载入已有dict, 或创立新dict\n",
    "    if not os.path.exists(trans_dict_path):\n",
    "        need_updating = True\n",
    "        trans_dict = {}\n",
    "    else:\n",
    "        with open(trans_dict_path, 'r') as file:\n",
    "            trans_dict = json.load(file)\n",
    "\n",
    "    ## 更新dict\n",
    "    trans_dict[key] = key_en\n",
    "    with open(trans_dict_path, 'w') as file:\n",
    "        json.dump(trans_dict, file)\n",
    "\n",
    "def key_list_2_English(keys):\n",
    "    return [key_2_English(k) for k in keys]"
   ]
  },
  {
   "cell_type": "markdown",
   "id": "40587dd9-3fec-4cf2-a58c-01387b8d4454",
   "metadata": {},
   "source": [
    "## split cases"
   ]
  },
  {
   "cell_type": "code",
   "execution_count": 88,
   "id": "78bdd38a-387a-40ba-93f0-c10fc0a6bff4",
   "metadata": {},
   "outputs": [],
   "source": [
    "def split_cases_by_idx_from_paragraph(data, split_pattern=r'\\s+\\d+\\.\\s*'): \n",
    "    '''\n",
    "    用于分段：\n",
    "        1. 。。。\n",
    "        2. 。。。\n",
    "    '''\n",
    "    data = '\\n' + data.strip().strip(\"\\n\")\n",
    "\n",
    "    ## 分段标准: 一个或多个空白 + 一个或多个数字 + . + 空格\n",
    "    data_splited = re.split(split_pattern, data)\n",
    "\n",
    "    cases = []\n",
    "    for case in data_splited:\n",
    "        if case == '':\n",
    "            continue\n",
    "        ## 去所有\\n和空格\n",
    "        case = case.replace(\"\\n\",\"\").replace(\" \", \"\")\n",
    "        cases.append(case)\n",
    "    return cases"
   ]
  },
  {
   "cell_type": "markdown",
   "id": "4e9c3fc6-6e7a-4164-b9fb-f968e32029e9",
   "metadata": {},
   "source": [
    "## text result fixing"
   ]
  },
  {
   "cell_type": "code",
   "execution_count": 194,
   "id": "77d00905-d00f-47c1-8876-54780e34e380",
   "metadata": {},
   "outputs": [],
   "source": [
    "def text_result_fixing(case, result):\n",
    "    case = case.replace(\" \", \"\")\n",
    "    \n",
    "    if \"截至\" not in case:\n",
    "        if \"余额截至日期\" in result:\n",
    "            result[\"余额截至日期\"] = None\n",
    "        if \"截至日期\" in result:\n",
    "            result[\"截至日期\"] = None\n",
    "    \n",
    "    if \"余额\" not in case:\n",
    "        if \"余额数目\" in result:\n",
    "            result[\"余额数目\"] = None\n",
    "        if \"总余额\" in result:\n",
    "            result[\"总余额\"] = None\n",
    "        \n",
    "    if \"到期\" not in case:\n",
    "        if \"贷款到期日期\" in result:\n",
    "            result[\"贷款到期日期\"] = None\n",
    "        if \"业务到期日期\" in result:\n",
    "            result[\"业务到期日期\"] = None\n",
    "\n",
    "    if \"已结清\" not in case:\n",
    "        if \"结清日期\" in result:\n",
    "            result[\"结清日期\"] = None\n",
    "\n",
    "    if \"最近一次还款日期\" not in case:\n",
    "        if \"最近还款日期\" in result:\n",
    "            result[\"最近还款日期\"] = None\n",
    "\n",
    "    if '当前透支超过60天' in case:\n",
    "        if \"当前透支是否超过60天\" in result:\n",
    "            result[\"当前透支是否超过60天\"] = '是'\n",
    "    \n",
    "    if '已使用额度' in result:\n",
    "        if '已使用额度' not in case:\n",
    "            result[\"已使用额度\"] = None\n",
    "\n",
    "\n",
    "    \"\"\"\n",
    "    以下key,taskflow 其实不用处理\n",
    "    \"\"\"\n",
    "    if \"是否激活\" in result:\n",
    "        if '尚未激活' in case:\n",
    "            result[\"是否激活\"] = '否'\n",
    "        \n",
    "    if \"是否为呆账\" in result:\n",
    "        if \"已变成呆账\" in case:\n",
    "            result[\"是否为呆账\"] = \"是\"\n",
    "    \n",
    "    if \"是否变成司法追偿\" in result:\n",
    "        if \"已变成司法追偿\" in case:\n",
    "            result[\"是否变成司法追偿\"] = '是'\n",
    " \n",
    "    if \"当前有无逾期\" in result:\n",
    "        dqywyq = re.search(r'当前(.*?)逾期', case)\n",
    "        if dqywyq:\n",
    "            result[\"当前有无逾期\"] = dqywyq.group(1)\n",
    "\n",
    "    if \"是否为其他机构转入\" in result:\n",
    "        if \"其他机构转入\" in case:\n",
    "            result[\"是否为其他机构转入\"] = \"是\"\n",
    "        \n",
    "    if \"贷款币种\" in result:\n",
    "        dkbz = re.search(r\"\\（(.*?)\\）.*?贷款\", case)\n",
    "        if dkbz:\n",
    "            result[\"贷款币种\"] = dkbz.group(1)\n",
    "\n",
    "    if \"贷款种类\" in result:  ## 获取所有的贷款种类会更好\n",
    "        dkzl = re.search(r'\\）(.*?)贷款', case)\n",
    "        if dkzl:\n",
    "            result[\"贷款种类\"]=dkzl.group(1) + \"贷款\"\n",
    "\n",
    "    if \"业务种类\" in result:\n",
    "        ywzl = case.split(\"，\")\n",
    "        if ywzl:\n",
    "            ywzl = ywzl[0].split(\"）\")\n",
    "            if ywzl:\n",
    "                ywzl = ywzl[-1]\n",
    "                result[\"业务种类\"] = ywzl\n",
    "\n",
    "    if \"业务货币种类\" in result:\n",
    "        ywhbzl = re.search(r'办理的(.*?)，', case)\n",
    "        if ywhbzl:\n",
    "            ywhbzl = re.search(r'\\（(.*?)\\）', ywhbzl.group(1))\n",
    "            if ywhbzl:\n",
    "                result[\"业务货币种类\"] = ywhbzl.group(1)\n",
    "\n",
    "    if \"业务办理金额\" in result:\n",
    "        ywblje = case.split(\"办理的\")\n",
    "        if ywblje:\n",
    "            ywblje = ywblje[1].replace(\",\",\"\").replace(\"，\",\"\")\n",
    "            ywblje = re.search(r'\\d+', ywblje)\n",
    "            if ywblje:\n",
    "                result[\"业务办理金额\"] = ywblje.group(0)\n",
    "\n",
    "    if \"余额\" in case and \"余额数目\" in result and result[\"余额数目\"]==None:\n",
    "        ye = case.replace(\",\",\"\").replace(\"，\",\"\")\n",
    "        ye = re.search(r'(余额|余额为)(\\d+)', ye)\n",
    "        if ye:\n",
    "            result[\"余额数目\"] = ye.group(1)\n",
    "\n",
    "    if \"余额币种\" in result:\n",
    "        yebz = case.replace(\")\", \"）\").replace(\"(\", \"（\")\n",
    "        yebz = yebz.replace(\",\", \"\").replace(\"，\",\"\")\n",
    "        yebz = re.search(r'(余额|余额为)\\d+\\（(.*?)\\）', yebz)\n",
    "        if yebz:\n",
    "            result[\"余额币种\"] = yebz.group(2)\n",
    "\n",
    "    if \"承担相关还款责任的业务\" in result:\n",
    "        tgt = re.search(r'办理的(.*?)承担相关还款责任', case)\n",
    "        if tgt:\n",
    "            result[\"承担相关还款责任的业务\"] = tgt.group(1)\n",
    "\n",
    "    if \"逾期超过90天月数\" in result:\n",
    "        yq90 = re.search(r'其中(.*?)逾期超过90天', case)\n",
    "        if yq90:\n",
    "            result[\"逾期超过90天月数\"] = yq90.group(1)\n",
    "            \n",
    "    return result\n"
   ]
  },
  {
   "cell_type": "markdown",
   "id": "822de40e-6c79-4814-9a4a-e76b8203ac30",
   "metadata": {},
   "source": [
    "# 个人信用报告"
   ]
  },
  {
   "cell_type": "markdown",
   "id": "556798e8-ab63-4e50-9ace-b12762f71b0c",
   "metadata": {},
   "source": [
    "!!! 更新"
   ]
  },
  {
   "cell_type": "code",
   "execution_count": 44,
   "id": "f95fdf21-07af-4800-9840-6f8b020d0fa3",
   "metadata": {},
   "outputs": [
    {
     "data": {
      "text/plain": [
       "'information_summary'"
      ]
     },
     "execution_count": 44,
     "metadata": {},
     "output_type": "execute_result"
    }
   ],
   "source": [
    "key_2_English(\"信息概要\")"
   ]
  },
  {
   "cell_type": "code",
   "execution_count": 198,
   "id": "dac788ea-0797-47dd-9bed-2e1012d9caee",
   "metadata": {},
   "outputs": [],
   "source": [
    "en = [\"inquiry_records\",\n",
    "    \"institutional_inquiry_details\",\n",
    "    \"personal_inquiry_details\"]\n",
    "ch = [\"查询记录\", \"机构查询记录明细\", \"本人查询记录明细\"]\n",
    "for e,c in zip(en, ch):\n",
    "    update_trans_dict(c, e)"
   ]
  },
  {
   "cell_type": "code",
   "execution_count": 200,
   "id": "82df4764-1115-4f14-be1e-174d6f0294e6",
   "metadata": {},
   "outputs": [],
   "source": [
    "grxybg_data = [\n",
    "    \"报告编号：2016080303000014210351\", \n",
    "    \"报告时间：2016-08-03 09:30:15\",  # 确保分割标志是中文冒号, 其他事英文冒号\n",
    "    \"姓名：张三\",\n",
    "    \"证件类型：身份证\",\n",
    "    \"证件号码：110124197506232452\",\n",
    "    \"已婚\",\n",
    "    \"其他证件信息：护照G300234234/军人身份证 M09876893\"\n",
    "]"
   ]
  },
  {
   "cell_type": "code",
   "execution_count": 201,
   "id": "029bef6f-ef3c-49bf-94e5-1c517ba20ab5",
   "metadata": {},
   "outputs": [
    {
     "data": {
      "text/plain": [
       "{'报告编号': '2016080303000014210351',\n",
       " '报告时间': '2016-08-03 09:30:15',\n",
       " '姓名': '张三',\n",
       " '证件类型': '身份证',\n",
       " '证件号码': '110124197506232452',\n",
       " '婚姻状况': '已婚',\n",
       " '其他证件信息': '护照G300234234/军人身份证 M09876893'}"
      ]
     },
     "execution_count": 201,
     "metadata": {},
     "output_type": "execute_result"
    }
   ],
   "source": [
    "def grxybg_info_extraction(grxybg_data):\n",
    "    result = {}\n",
    "    for e in grxybg_data:\n",
    "        e = e.replace(\"：\", \":\")\n",
    "        k_v = e.split(\":\", 1)\n",
    "        if len(k_v) == 2:\n",
    "            result[k_v[0]] = k_v[1]\n",
    "        elif len(k_v) == 1:\n",
    "            result[\"婚姻状况\"] = e\n",
    "    return result\n",
    "\n",
    "grxybg_result = grxybg_info_extraction(grxybg_data)\n",
    "grxybg_result"
   ]
  },
  {
   "cell_type": "code",
   "execution_count": 20,
   "id": "1510f3ea-e5a8-4bc4-adcd-862b66349d6a",
   "metadata": {},
   "outputs": [
    {
     "data": {
      "text/plain": [
       "{'报告编号': 'report_id',\n",
       " '报告时间': 'report_time',\n",
       " '姓名': 'name',\n",
       " '证件类型': 'id_type',\n",
       " '证件号码': 'id_number',\n",
       " '婚姻状况': 'marital_status',\n",
       " '其他证件信息': 'other_document_information'}"
      ]
     },
     "execution_count": 20,
     "metadata": {},
     "output_type": "execute_result"
    }
   ],
   "source": [
    "{k:key_2_English(k) for k,v in grxybg_result.items()}"
   ]
  },
  {
   "cell_type": "code",
   "execution_count": 22,
   "id": "307d6ec3-07da-403c-b081-af22c877882c",
   "metadata": {},
   "outputs": [
    {
     "data": {
      "text/plain": [
       "{'report_id': '2016080303000014210351',\n",
       " 'report_time': '2016-08-03 09:30:15',\n",
       " 'name': '张三',\n",
       " 'id_type': '身份证',\n",
       " 'id_number': '110124197506232452',\n",
       " 'marital_status': '已婚',\n",
       " 'other_document_information': '护照G300234234/军人身份证 M09876893'}"
      ]
     },
     "execution_count": 22,
     "metadata": {},
     "output_type": "execute_result"
    }
   ],
   "source": [
    "grxybg_info = {key_2_English(k):v for k,v in grxybg_result.items()}\n",
    "grxybg_info"
   ]
  },
  {
   "cell_type": "markdown",
   "id": "7d7eaf70-2686-49bd-9d51-c98b186b6522",
   "metadata": {},
   "source": [
    "## == 内容样例"
   ]
  },
  {
   "cell_type": "markdown",
   "id": "6bacf710-47cd-477e-b654-73658a4142b6",
   "metadata": {},
   "source": [
    "![个人信用报告](4_简版方案/个人信用报告.png)"
   ]
  },
  {
   "cell_type": "code",
   "execution_count": 8,
   "id": "bda828f0-ff76-4316-8684-d0e078d01697",
   "metadata": {},
   "outputs": [
    {
     "data": {
      "text/plain": [
       "'\\n\\n报告编号：2016080303000014210351 报告时间：2016-08-03 09:30:15\\n姓名: 张三 证件类型: 身份证 证件号码: 110124197506232452 已婚\\n其他证件信息：护照G300234234/军人身份证 M09876893\\n\\n'"
      ]
     },
     "execution_count": 8,
     "metadata": {},
     "output_type": "execute_result"
    }
   ],
   "source": [
    "# grxybg_data = \"\"\"\n",
    "# \\n报告编号：2016080303000014210351 报告时间：2016-08-03 09:30:15\\n姓名: 张三 证件类型: 身份证 证件号码: 110124197506232452 已婚\\n其他证件信息：护照G300234234/军人身份证 M09876893\\n\n",
    "# \"\"\"\n",
    "# grxybg_data"
   ]
  },
  {
   "cell_type": "code",
   "execution_count": 9,
   "id": "a169300e-499e-4d4c-8214-b7f359483f28",
   "metadata": {},
   "outputs": [
    {
     "data": {
      "text/plain": [
       "'报告编号：2016080303000014210351 报告时间：2016-08-03 09:30:15  姓名: 张三 证件类型: 身份证 证件号码: 110124197506232452 已婚  其他证件信息：护照G300234234/军人身份证 M09876893'"
      ]
     },
     "execution_count": 9,
     "metadata": {},
     "output_type": "execute_result"
    }
   ],
   "source": [
    "# def grxybg_text_preprocess(data):\n",
    "#     data = data.strip().strip(\"\\n\").strip()\n",
    "#     data = data.replace(\"\\n\", \"  \")\n",
    "#     return data\n",
    "\n",
    "# grxybg_data = grxybg_text_preprocess(data=grxybg_data)\n",
    "# grxybg_data"
   ]
  },
  {
   "cell_type": "markdown",
   "id": "f9814c6c-0073-4291-a55c-ff6081f0985e",
   "metadata": {},
   "source": [
    "## == 预期提取效果"
   ]
  },
  {
   "cell_type": "markdown",
   "id": "86940699-f7d4-4827-943d-f3e8f5c8fd01",
   "metadata": {},
   "source": [
    "整体效果（提取结果存放在字段 `info_extraction`）：\n",
    "```json\n",
    "{\n",
    "    'header-0':{\n",
    "        'header-name':'个人信用报告',\n",
    "        'content':[ocr返回结果],\n",
    "        'info_extraction':[result]\n",
    "    }\n",
    "}\n",
    "```\n",
    "`result` 关键字段及其中英对照："
   ]
  },
  {
   "cell_type": "code",
   "execution_count": 15,
   "id": "d03b1812-949f-43e8-a227-f3387850ea20",
   "metadata": {},
   "outputs": [
    {
     "data": {
      "text/plain": [
       "{'报告编号': 'report_id',\n",
       " '报告时间': 'report_time',\n",
       " '姓名': 'name',\n",
       " '证件类型': 'id_type',\n",
       " '证件号码': 'id_number',\n",
       " '是否已婚': 'married_or_not',\n",
       " '其他证件信息': 'other_document_information'}"
      ]
     },
     "execution_count": 15,
     "metadata": {},
     "output_type": "execute_result"
    }
   ],
   "source": [
    "# '''人工提前确定好所有关键字段'''\n",
    "# grxybg_schema = []\n",
    "# grxybg_schema.extend(['报告编号', '报告时间'])\n",
    "# grxybg_schema.extend(['姓名', '证件类型', '证件号码', '是否已婚'])\n",
    "# grxybg_schema.extend(['其他证件信息'])\n",
    "\n",
    "# result = {k:key_2_English(k) for k in grxybg_schema}\n",
    "# result"
   ]
  },
  {
   "cell_type": "code",
   "execution_count": 14,
   "id": "bd85b448-f0c2-4feb-be19-4e2aa43ff649",
   "metadata": {},
   "outputs": [],
   "source": [
    "## 翻译修正\n",
    "# update_trans_dict(\"报告编号\",\"report_id\")\n",
    "# update_trans_dict(\"证件类型\",\"id_type\")"
   ]
  },
  {
   "cell_type": "markdown",
   "id": "1fdf662d-ec90-46e2-ba1a-54362c48a4fd",
   "metadata": {},
   "source": [
    "## == 提取方案"
   ]
  },
  {
   "cell_type": "markdown",
   "id": "d01cf74a-3618-47ff-ae39-eee3ace96330",
   "metadata": {},
   "source": [
    "1. 预处理文本\n",
    "2. 人工定义所有要提取的关键字段\n",
    "3. paddleNLP taskflow information extraction 信息抽取\n",
    "4. 人工调整校验"
   ]
  },
  {
   "cell_type": "markdown",
   "id": "ebeca7ad-3c31-4ed3-b8e7-2857e7544ae9",
   "metadata": {},
   "source": [
    "## == 案例执行结果"
   ]
  },
  {
   "cell_type": "markdown",
   "id": "d9fefb83-01e7-43b0-8187-1e38015f21b0",
   "metadata": {},
   "source": [
    "------------------------------ 模型抽取 ----------------------------------"
   ]
  },
  {
   "cell_type": "code",
   "execution_count": 19,
   "id": "d945863e-1959-42c7-a0b6-eed0d7c4d427",
   "metadata": {},
   "outputs": [
    {
     "data": {
      "text/plain": [
       "{'报告编号': '2016080303000014210351',\n",
       " '报告时间': '2016-08-03 09:30:15',\n",
       " '姓名': '张三',\n",
       " '证件类型': '身份证',\n",
       " '证件号码': '110124197506232452',\n",
       " '是否已婚': '已婚',\n",
       " '其他证件信息': '护照G300234234'}"
      ]
     },
     "execution_count": 19,
     "metadata": {},
     "output_type": "execute_result"
    }
   ],
   "source": [
    "# \"\"\" 加载信息抽取模型 \"\"\"\n",
    "# ## 默认uie_base\n",
    "# grxybg_result = extract_info_from_taskflow(task=ie, case=grxybg_data, schema=grxybg_schema)\n",
    "\n",
    "# grxybg_result"
   ]
  },
  {
   "cell_type": "markdown",
   "id": "e386fb52-df1c-45be-9789-bb1f247ef37a",
   "metadata": {},
   "source": [
    "- `其他证件信息` 识别不完整"
   ]
  },
  {
   "cell_type": "markdown",
   "id": "433ed1be-ba7a-47b3-a049-9cdf79ee1491",
   "metadata": {},
   "source": [
    "--------------------------------- 人工矫正 -------------------------------"
   ]
  },
  {
   "cell_type": "code",
   "execution_count": 20,
   "id": "154ca50a-6d8d-40da-a777-e0082d20ca6f",
   "metadata": {},
   "outputs": [],
   "source": [
    "# def grxybg_result_fixing(case, result):\n",
    "#     '''\n",
    "#     1. 其他证件信息\n",
    "#         默认该项是最后一个item,直接包含到case最后\n",
    "#     2. ... (待补充矫正)\n",
    "#     '''\n",
    "#     ## 其他证件信息\n",
    "#     item = \"其他证件信息\"\n",
    "#     matches = list(re.finditer(item, case))\n",
    "#     if len(matches) == 0:\n",
    "#         item_info = None\n",
    "#     else:\n",
    "#         idx = matches[0].end()\n",
    "#         item_info = case[idx:]\n",
    "#         item_info = re.sub(r'[\\n:： ]', '', item_info)\n",
    "#     result[item] = item_info\n",
    "\n",
    "#     return result"
   ]
  },
  {
   "cell_type": "code",
   "execution_count": 21,
   "id": "2149ad1e-59e4-44ae-b35c-02fe9507a8ea",
   "metadata": {},
   "outputs": [
    {
     "name": "stdout",
     "output_type": "stream",
     "text": [
      "报告编号：2016080303000014210351 报告时间：2016-08-03 09:30:15  姓名: 张三 证件类型: 身份证 证件号码: 110124197506232452 已婚  其他证件信息：护照G300234234/军人身份证 M09876893\n"
     ]
    },
    {
     "data": {
      "text/plain": [
       "{'report_id': '2016080303000014210351',\n",
       " 'report_time': '2016-08-03 09:30:15',\n",
       " 'name': '张三',\n",
       " 'id_type': '身份证',\n",
       " 'id_number': '110124197506232452',\n",
       " 'married_or_not': '已婚',\n",
       " 'other_document_information': '护照G300234234/军人身份证M09876893'}"
      ]
     },
     "execution_count": 21,
     "metadata": {},
     "output_type": "execute_result"
    }
   ],
   "source": [
    "# ## 人工矫正\n",
    "# grxybg_result = grxybg_result_fixing(case=grxybg_data, result=grxybg_result)\n",
    "\n",
    "# print(grxybg_data)\n",
    "# ## key用英文显示\n",
    "# {key_2_English(k):v for k,v in grxybg_result.items()}"
   ]
  },
  {
   "cell_type": "markdown",
   "id": "f2f68a4f-beb7-45b3-b313-dfa795ff8f6b",
   "metadata": {},
   "source": [
    "# 信贷记录"
   ]
  },
  {
   "cell_type": "markdown",
   "id": "ef060373-f7b4-4960-bf5c-8235f6ea81f2",
   "metadata": {},
   "source": [
    "## 信息概要"
   ]
  },
  {
   "cell_type": "markdown",
   "id": "a91a4c95-40fe-4259-a500-e0285e076088",
   "metadata": {},
   "source": [
    "#### == 内容样例"
   ]
  },
  {
   "cell_type": "markdown",
   "id": "534159fe-c228-4b73-8858-a0622ee6d375",
   "metadata": {},
   "source": [
    "![信息概要](./4_简版方案/信息概要.png)"
   ]
  },
  {
   "cell_type": "code",
   "execution_count": 59,
   "id": "febde466-f314-4ee5-bc26-5c4090a9146b",
   "metadata": {},
   "outputs": [
    {
     "data": {
      "text/plain": [
       "[[['', '资产处置信息', '垫款信息'], ['账户数', '1', '3']],\n",
       " [['', '信用卡', '贷款', None, '其他业务'],\n",
       "  [None, None, '购房', '其他', None],\n",
       "  ['账户数', '8', '4', '5', '8'],\n",
       "  [None, None, None, None, None],\n",
       "  ['未结清/未销户账户数', '4', '2', '3', '7'],\n",
       "  ['发生过逾期的账户数', '4', '2', '2', '4'],\n",
       "  ['发生过90天以上逾期的账户数', '4', '1', '1', '1']],\n",
       " [['', '为个人', '为企业'], ['相关还款责任账户数', '1', '3']]]"
      ]
     },
     "execution_count": 59,
     "metadata": {},
     "output_type": "execute_result"
    }
   ],
   "source": [
    "xxgy_data = []\n",
    "xxgy_data.append([\n",
    "    ['', '资产处置信息', '垫款信息'], \n",
    "    ['账户数', '1', '3']])\n",
    "\n",
    "xxgy_data.append([\n",
    "    ['', '信用卡', '贷款', None, '其他业务'],\n",
    "    [None, None, '购房', '其他', None],\n",
    "    ['账户数', '8', '4', '5', '8'],\n",
    "    [None, None, None, None, None],\n",
    "    ['未结清/未销户账户数', '4', '2', '3', '7'],\n",
    "    ['发生过逾期的账户数', '4', '2', '2', '4'],\n",
    "    ['发生过90天以上逾期的账户数', '4', '1', '1', '1']])\n",
    "\n",
    "xxgy_data.append([\n",
    "    ['', '为个人', '为企业'], \n",
    "    ['相关还款责任账户数', '1', '3']])\n",
    "\n",
    "xxgy_data"
   ]
  },
  {
   "cell_type": "markdown",
   "id": "78563fba-7c8b-4dde-9cec-c078433b85c2",
   "metadata": {},
   "source": [
    "#### == 预期提取效果"
   ]
  },
  {
   "cell_type": "markdown",
   "id": "0163a3e4-e812-4326-8053-61a7843c53f1",
   "metadata": {},
   "source": [
    "整体上（提取结果存放在字段 `info_extraction`）：\n",
    "```json\n",
    "'header-1-0':{\n",
    "    'header-name':'信息概要',\n",
    "    'content':[ocr返回结果],\n",
    "    'info_extraction':[table_1_info, table_2_info, table_3_info]\n",
    "}\n",
    "```\n",
    "`table_i_info` 样式如下："
   ]
  },
  {
   "cell_type": "markdown",
   "id": "7d0ae4ee-8fe3-4f79-a525-10a81a0c3d2b",
   "metadata": {},
   "source": [
    "一行一行读，嵌套标题会被展开\n",
    "```json\n",
    "{\n",
    "    row_name_1:{\n",
    "        col_name_1:value, col_name_2:value, ...}\n",
    "    },\n",
    "    row_name_2:{\n",
    "        col_name_1:value, col_name_2:value, ...}\n",
    "    },\n",
    "    ...\n",
    "}\n",
    "```"
   ]
  },
  {
   "cell_type": "markdown",
   "id": "6f36f69a-f841-4aa7-8093-d78b1e430432",
   "metadata": {},
   "source": [
    "#### == 提取方案"
   ]
  },
  {
   "cell_type": "markdown",
   "id": "8f4e213d-2137-415a-b748-5e83731ffad6",
   "metadata": {},
   "source": [
    "1. 预处理\n",
    "    - 删空值行\n",
    "    - 默认第一列为行名\n",
    "    - 无数字的前i(<=2)行为列名\n",
    "2. 一行一行按规则提取"
   ]
  },
  {
   "cell_type": "markdown",
   "id": "9e2afff2-632a-4b18-9d4d-987357ce5fee",
   "metadata": {},
   "source": [
    "#### == 案例执行结果"
   ]
  },
  {
   "cell_type": "markdown",
   "id": "b2a329e9-70c8-4bea-8ae0-f31cce1d63cf",
   "metadata": {},
   "source": [
    "------------------------------ 表格拆解函数 --------------------------------"
   ]
  },
  {
   "cell_type": "code",
   "execution_count": 60,
   "id": "786629a8-72e9-4cf3-9946-905015a76aaa",
   "metadata": {},
   "outputs": [],
   "source": [
    "def drop_None_row(table:list[list]):\n",
    "    '''\n",
    "    drop a row if its all None\n",
    "    '''\n",
    "    return [row for row in table if any(e is not None for e in row)]\n",
    "\n",
    "def is_number(s:str):\n",
    "    ## 不包含空值和None\n",
    "    if s is None or s == '':\n",
    "        return False\n",
    "    ## 其他值判断是否为纯数字\n",
    "    try:\n",
    "        float(s)\n",
    "        return True\n",
    "    except ValueError:\n",
    "        return False\n",
    "        \n",
    "def get_col_name_rows(table:list[list]):\n",
    "    '''\n",
    "    find first n rows that have no numbers\n",
    "    '''\n",
    "    for i in range(len(table)):\n",
    "        row = table[i]\n",
    "        flag = not any(is_number(e) for e in row)  ## 是否为标题行\n",
    "        if flag == False:\n",
    "            break\n",
    "    return table[:i]\n",
    "\n",
    "def is_empty(s:str):\n",
    "    if s is None or s == '':\n",
    "        return True\n",
    "    else:\n",
    "        return False\n",
    "        \n",
    "def combine_col_names(col_name_rows:list[list]):\n",
    "    '''\n",
    "    返回：行名、列名、数据\n",
    "    \n",
    "    逻辑：\n",
    "        1. 默认合并单元格的信息在左上格\n",
    "        2. 从末列向前：\n",
    "            a. 空值向上传递，遇到非空值被覆盖，继续向上转b\n",
    "            b. 非空值向上传递，(遇到空值，找该空值左边第一个非空值合并)，继续向上重复\n",
    "    \n",
    "    表格转置后可用在合并行名上\n",
    "    '''\n",
    "    R = len(col_name_rows)\n",
    "    C = len(col_name_rows[0])\n",
    "\n",
    "    col_names = []\n",
    "    for c in range(C-1, -1, -1):\n",
    "        col_name = col_name_rows[R-1][c]\n",
    "        \n",
    "        empty = False  ## whether col_name is empty now\n",
    "        if is_empty(col_name):\n",
    "            empty = True\n",
    "            \n",
    "        for r in range(R-2, -1, -1):\n",
    "            up = col_name_rows[r][c]\n",
    "            \n",
    "            if empty:\n",
    "                if is_empty(up): ## 空值连续向上\n",
    "                    continue\n",
    "                else:\n",
    "                    col_name = up  ## 空值被非空值覆盖\n",
    "                    empty = False\n",
    "            else:\n",
    "                if is_empty(up):\n",
    "                    ## 非空值向上遇到空值, 找空值左边第一个非空值作为母标题\n",
    "                    left = ''\n",
    "                    for c_temp in range(c-1, -1, -1):\n",
    "                        left = col_name_rows[r][c_temp]\n",
    "                        if not is_empty(left):\n",
    "                            col_name = left + \"_\" + col_name\n",
    "                            break\n",
    "                else:\n",
    "                    col_name = up + \"_\" + col_name\n",
    "\n",
    "        if not is_empty(col_name):  ## 存入非空列名\n",
    "            col_names.append(col_name)\n",
    "\n",
    "    return col_names[::-1]\n",
    "                \n",
    "                \n",
    "def xxgy_preprocess_table(table:list[list]):  ## 信息概要\n",
    "    '''\n",
    "    忽略首格[0][0]（默认为空）\n",
    "    默认行名在第一列\n",
    "    \n",
    "    可修改复用在标准表格上：\n",
    "        列名在左 + 行名在上 + 数字数据在中间\n",
    "    '''\n",
    "    ## 删全为None的行\n",
    "    table = drop_None_row(table)\n",
    "    R = len(table)\n",
    "    C = len(table[0])\n",
    "    # print(table)\n",
    "\n",
    "    ## 找'列名'的行:\n",
    "    col_name_rows = get_col_name_rows(table)\n",
    "    num_col_name_rows = len(col_name_rows)  ## 前几行是标题行\n",
    "    # print(num_col_name_rows)\n",
    "    \n",
    "    ## 提取列名\n",
    "    col_names = combine_col_names(col_name_rows)\n",
    "\n",
    "    ## 提取行名, 默认第一列\n",
    "    row_names = []\n",
    "    for r in range(num_col_name_rows, R):\n",
    "        row_names.append(table[r][0])\n",
    "\n",
    "    ## 提取数据:\n",
    "    ##     table里倒数 len(row_names)行, 和倒数 len(col_names)列\n",
    "    data = []\n",
    "    for r in range(R-len(row_names), R):\n",
    "        data_row = []\n",
    "        for c in range(C-len(col_names), C):\n",
    "            data_row.append(table[r][c])\n",
    "        data.append(data_row)\n",
    "\n",
    "    return row_names, col_names, data    "
   ]
  },
  {
   "cell_type": "markdown",
   "id": "ab38dda7-b38f-413c-9c17-8f236584b2e4",
   "metadata": {},
   "source": [
    "------------------------------ 表格拆解结果 ------------------------------"
   ]
  },
  {
   "cell_type": "code",
   "execution_count": 61,
   "id": "081873b5-5ca3-42df-b28d-152cfdc9662d",
   "metadata": {},
   "outputs": [
    {
     "data": {
      "text/plain": [
       "(['账户数'], ['资产处置信息', '垫款信息'], [['1', '3']])"
      ]
     },
     "execution_count": 61,
     "metadata": {},
     "output_type": "execute_result"
    }
   ],
   "source": [
    "table_1_result = xxgy_preprocess_table(xxgy_data[0])\n",
    "table_1_result"
   ]
  },
  {
   "cell_type": "code",
   "execution_count": 62,
   "id": "513bf2fe-e698-4d50-a290-fc9b1c421f69",
   "metadata": {},
   "outputs": [
    {
     "data": {
      "text/plain": [
       "(['账户数', '未结清/未销户账户数', '发生过逾期的账户数', '发生过90天以上逾期的账户数'],\n",
       " ['信用卡', '贷款_购房', '贷款_其他', '其他业务'],\n",
       " [['8', '4', '5', '8'],\n",
       "  ['4', '2', '3', '7'],\n",
       "  ['4', '2', '2', '4'],\n",
       "  ['4', '1', '1', '1']])"
      ]
     },
     "execution_count": 62,
     "metadata": {},
     "output_type": "execute_result"
    }
   ],
   "source": [
    "table_2_result = xxgy_preprocess_table(xxgy_data[1])\n",
    "table_2_result"
   ]
  },
  {
   "cell_type": "code",
   "execution_count": 63,
   "id": "ebb34c3d-6335-49b3-b977-4056cea8f596",
   "metadata": {},
   "outputs": [
    {
     "data": {
      "text/plain": [
       "(['相关还款责任账户数'], ['为个人', '为企业'], [['1', '3']])"
      ]
     },
     "execution_count": 63,
     "metadata": {},
     "output_type": "execute_result"
    }
   ],
   "source": [
    "table_3_result = xxgy_preprocess_table(xxgy_data[2])\n",
    "table_3_result"
   ]
  },
  {
   "cell_type": "markdown",
   "id": "a1c22dc4-eafd-4625-af14-6b681ee29637",
   "metadata": {},
   "source": [
    "------------------------------------ 信息抽取结果 -----------------------------------"
   ]
  },
  {
   "cell_type": "code",
   "execution_count": 64,
   "id": "41021168-bee0-4396-a1b8-203dbaa8b620",
   "metadata": {},
   "outputs": [],
   "source": [
    "def xxgy_table_result_to_json(row_names, col_names, data):\n",
    "    table_dict = {}\n",
    "    for r in range(len(row_names)):\n",
    "        r_name = row_names[r]\n",
    "        table_dict[r_name] = {}\n",
    "        for c in range(len(col_names)):\n",
    "            c_name = col_names[c]\n",
    "            table_dict[r_name][c_name]=data[r][c]\n",
    "    return table_dict  "
   ]
  },
  {
   "cell_type": "code",
   "execution_count": 65,
   "id": "5fd04b1b-0db1-401e-bd86-df6e65e9e506",
   "metadata": {},
   "outputs": [
    {
     "data": {
      "text/html": [
       "<div>\n",
       "<style scoped>\n",
       "    .dataframe tbody tr th:only-of-type {\n",
       "        vertical-align: middle;\n",
       "    }\n",
       "\n",
       "    .dataframe tbody tr th {\n",
       "        vertical-align: top;\n",
       "    }\n",
       "\n",
       "    .dataframe thead th {\n",
       "        text-align: right;\n",
       "    }\n",
       "</style>\n",
       "<table border=\"1\" class=\"dataframe\">\n",
       "  <thead>\n",
       "    <tr style=\"text-align: right;\">\n",
       "      <th></th>\n",
       "      <th>0</th>\n",
       "      <th>1</th>\n",
       "      <th>2</th>\n",
       "    </tr>\n",
       "  </thead>\n",
       "  <tbody>\n",
       "    <tr>\n",
       "      <th>0</th>\n",
       "      <td></td>\n",
       "      <td>资产处置信息</td>\n",
       "      <td>垫款信息</td>\n",
       "    </tr>\n",
       "    <tr>\n",
       "      <th>1</th>\n",
       "      <td>账户数</td>\n",
       "      <td>1</td>\n",
       "      <td>3</td>\n",
       "    </tr>\n",
       "  </tbody>\n",
       "</table>\n",
       "</div>"
      ],
      "text/plain": [
       "     0       1     2\n",
       "0       资产处置信息  垫款信息\n",
       "1  账户数       1     3"
      ]
     },
     "metadata": {},
     "output_type": "display_data"
    },
    {
     "data": {
      "text/plain": [
       "{'number_of_accounts': {'asset_disposal_information': '1',\n",
       "  'overdraft_information': '3'}}"
      ]
     },
     "execution_count": 65,
     "metadata": {},
     "output_type": "execute_result"
    }
   ],
   "source": [
    "table_1_info = xxgy_table_result_to_json(row_names=key_list_2_English(table_1_result[0]),\n",
    "                                         col_names=key_list_2_English(table_1_result[1]),\n",
    "                                        data=key_list_2_English(table_1_result[2]))\n",
    "display(pd.DataFrame(xxgy_data[0]))\n",
    "table_1_info"
   ]
  },
  {
   "cell_type": "code",
   "execution_count": 66,
   "id": "f7465505-423f-473d-864b-5a9ad0513953",
   "metadata": {},
   "outputs": [
    {
     "data": {
      "text/html": [
       "<div>\n",
       "<style scoped>\n",
       "    .dataframe tbody tr th:only-of-type {\n",
       "        vertical-align: middle;\n",
       "    }\n",
       "\n",
       "    .dataframe tbody tr th {\n",
       "        vertical-align: top;\n",
       "    }\n",
       "\n",
       "    .dataframe thead th {\n",
       "        text-align: right;\n",
       "    }\n",
       "</style>\n",
       "<table border=\"1\" class=\"dataframe\">\n",
       "  <thead>\n",
       "    <tr style=\"text-align: right;\">\n",
       "      <th></th>\n",
       "      <th>0</th>\n",
       "      <th>1</th>\n",
       "      <th>2</th>\n",
       "      <th>3</th>\n",
       "      <th>4</th>\n",
       "    </tr>\n",
       "  </thead>\n",
       "  <tbody>\n",
       "    <tr>\n",
       "      <th>0</th>\n",
       "      <td></td>\n",
       "      <td>信用卡</td>\n",
       "      <td>贷款</td>\n",
       "      <td>None</td>\n",
       "      <td>其他业务</td>\n",
       "    </tr>\n",
       "    <tr>\n",
       "      <th>1</th>\n",
       "      <td>None</td>\n",
       "      <td>None</td>\n",
       "      <td>购房</td>\n",
       "      <td>其他</td>\n",
       "      <td>None</td>\n",
       "    </tr>\n",
       "    <tr>\n",
       "      <th>2</th>\n",
       "      <td>账户数</td>\n",
       "      <td>8</td>\n",
       "      <td>4</td>\n",
       "      <td>5</td>\n",
       "      <td>8</td>\n",
       "    </tr>\n",
       "    <tr>\n",
       "      <th>3</th>\n",
       "      <td>None</td>\n",
       "      <td>None</td>\n",
       "      <td>None</td>\n",
       "      <td>None</td>\n",
       "      <td>None</td>\n",
       "    </tr>\n",
       "    <tr>\n",
       "      <th>4</th>\n",
       "      <td>未结清/未销户账户数</td>\n",
       "      <td>4</td>\n",
       "      <td>2</td>\n",
       "      <td>3</td>\n",
       "      <td>7</td>\n",
       "    </tr>\n",
       "    <tr>\n",
       "      <th>5</th>\n",
       "      <td>发生过逾期的账户数</td>\n",
       "      <td>4</td>\n",
       "      <td>2</td>\n",
       "      <td>2</td>\n",
       "      <td>4</td>\n",
       "    </tr>\n",
       "    <tr>\n",
       "      <th>6</th>\n",
       "      <td>发生过90天以上逾期的账户数</td>\n",
       "      <td>4</td>\n",
       "      <td>1</td>\n",
       "      <td>1</td>\n",
       "      <td>1</td>\n",
       "    </tr>\n",
       "  </tbody>\n",
       "</table>\n",
       "</div>"
      ],
      "text/plain": [
       "                0     1     2     3     4\n",
       "0                   信用卡    贷款  None  其他业务\n",
       "1            None  None    购房    其他  None\n",
       "2             账户数     8     4     5     8\n",
       "3            None  None  None  None  None\n",
       "4      未结清/未销户账户数     4     2     3     7\n",
       "5       发生过逾期的账户数     4     2     2     4\n",
       "6  发生过90天以上逾期的账户数     4     1     1     1"
      ]
     },
     "metadata": {},
     "output_type": "display_data"
    },
    {
     "data": {
      "text/plain": [
       "{'number_of_accounts': {'credit_cards': '8',\n",
       "  'loan__buy_home': '4',\n",
       "  'loan__other': '5',\n",
       "  'other_business': '8'},\n",
       " 'number_of_openuncancelled_accounts': {'credit_cards': '4',\n",
       "  'loan__buy_home': '2',\n",
       "  'loan__other': '3',\n",
       "  'other_business': '7'},\n",
       " 'number_of_accounts_with_records_of_being_overdue': {'credit_cards': '4',\n",
       "  'loan__buy_home': '2',\n",
       "  'loan__other': '2',\n",
       "  'other_business': '4'},\n",
       " 'number_of_accounts_with_records_of_being_overdue_for_over_90_days': {'credit_cards': '4',\n",
       "  'loan__buy_home': '1',\n",
       "  'loan__other': '1',\n",
       "  'other_business': '1'}}"
      ]
     },
     "execution_count": 66,
     "metadata": {},
     "output_type": "execute_result"
    }
   ],
   "source": [
    "table_2_info = xxgy_table_result_to_json(row_names=key_list_2_English(table_2_result[0]),\n",
    "                                         col_names=key_list_2_English(table_2_result[1]),\n",
    "                                        data=key_list_2_English(table_2_result[2]))\n",
    "display(pd.DataFrame(xxgy_data[1]))\n",
    "table_2_info"
   ]
  },
  {
   "cell_type": "code",
   "execution_count": 67,
   "id": "cb8148fe-4d55-42fa-b893-03f4973a99eb",
   "metadata": {},
   "outputs": [
    {
     "data": {
      "text/html": [
       "<div>\n",
       "<style scoped>\n",
       "    .dataframe tbody tr th:only-of-type {\n",
       "        vertical-align: middle;\n",
       "    }\n",
       "\n",
       "    .dataframe tbody tr th {\n",
       "        vertical-align: top;\n",
       "    }\n",
       "\n",
       "    .dataframe thead th {\n",
       "        text-align: right;\n",
       "    }\n",
       "</style>\n",
       "<table border=\"1\" class=\"dataframe\">\n",
       "  <thead>\n",
       "    <tr style=\"text-align: right;\">\n",
       "      <th></th>\n",
       "      <th>0</th>\n",
       "      <th>1</th>\n",
       "      <th>2</th>\n",
       "    </tr>\n",
       "  </thead>\n",
       "  <tbody>\n",
       "    <tr>\n",
       "      <th>0</th>\n",
       "      <td></td>\n",
       "      <td>为个人</td>\n",
       "      <td>为企业</td>\n",
       "    </tr>\n",
       "    <tr>\n",
       "      <th>1</th>\n",
       "      <td>相关还款责任账户数</td>\n",
       "      <td>1</td>\n",
       "      <td>3</td>\n",
       "    </tr>\n",
       "  </tbody>\n",
       "</table>\n",
       "</div>"
      ],
      "text/plain": [
       "           0    1    2\n",
       "0             为个人  为企业\n",
       "1  相关还款责任账户数    1    3"
      ]
     },
     "metadata": {},
     "output_type": "display_data"
    },
    {
     "data": {
      "text/plain": [
       "{'number_of_related_repayment_liability_accounts': {'for_individuals': '1',\n",
       "  'for_business': '3'}}"
      ]
     },
     "execution_count": 67,
     "metadata": {},
     "output_type": "execute_result"
    }
   ],
   "source": [
    "table_3_info = xxgy_table_result_to_json(row_names=key_list_2_English(table_3_result[0]),\n",
    "                                         col_names=key_list_2_English(table_3_result[1]),\n",
    "                                        data=key_list_2_English(table_3_result[2]))\n",
    "display(pd.DataFrame(xxgy_data[2]))\n",
    "table_3_info"
   ]
  },
  {
   "cell_type": "code",
   "execution_count": 68,
   "id": "27363687-3adb-48ab-91de-d9e7242c223b",
   "metadata": {},
   "outputs": [
    {
     "data": {
      "text/plain": [
       "[{'number_of_accounts': {'asset_disposal_information': '1',\n",
       "   'overdraft_information': '3'}},\n",
       " {'number_of_accounts': {'credit_cards': '8',\n",
       "   'loan__buy_home': '4',\n",
       "   'loan__other': '5',\n",
       "   'other_business': '8'},\n",
       "  'number_of_openuncancelled_accounts': {'credit_cards': '4',\n",
       "   'loan__buy_home': '2',\n",
       "   'loan__other': '3',\n",
       "   'other_business': '7'},\n",
       "  'number_of_accounts_with_records_of_being_overdue': {'credit_cards': '4',\n",
       "   'loan__buy_home': '2',\n",
       "   'loan__other': '2',\n",
       "   'other_business': '4'},\n",
       "  'number_of_accounts_with_records_of_being_overdue_for_over_90_days': {'credit_cards': '4',\n",
       "   'loan__buy_home': '1',\n",
       "   'loan__other': '1',\n",
       "   'other_business': '1'}},\n",
       " {'number_of_related_repayment_liability_accounts': {'for_individuals': '1',\n",
       "   'for_business': '3'}}]"
      ]
     },
     "execution_count": 68,
     "metadata": {},
     "output_type": "execute_result"
    }
   ],
   "source": [
    "[table_1_info, table_2_info, table_3_info]"
   ]
  },
  {
   "cell_type": "code",
   "execution_count": 79,
   "id": "408ad8e5-c3fb-480e-ad4b-edbbbc1377bb",
   "metadata": {},
   "outputs": [
    {
     "data": {
      "text/plain": [
       "{'账户数': 'number_of_accounts',\n",
       " '资产处置信息': 'asset_disposal_information',\n",
       " '垫款信息': 'overdraft_information',\n",
       " '未结清/未销户账户数': 'number_of_openuncancelled_accounts',\n",
       " '发生过逾期的账户数': 'number_of_accounts_with_records_of_being_overdue',\n",
       " '发生过90天以上逾期的账户数': 'number_of_accounts_with_records_of_being_overdue_for_over_90_days',\n",
       " '信用卡': 'credit_cards',\n",
       " '贷款_购房': 'loan__buy_home',\n",
       " '贷款_其他': 'loan__other',\n",
       " '其他业务': 'other_business',\n",
       " '相关还款责任账户数': 'number_of_related_repayment_liability_accounts',\n",
       " '为个人': 'for_individuals',\n",
       " '为企业': 'for_business'}"
      ]
     },
     "execution_count": 79,
     "metadata": {},
     "output_type": "execute_result"
    }
   ],
   "source": [
    "a = table_1_result[0]\n",
    "a.extend(table_1_result[1])\n",
    "a.extend(table_2_result[0])\n",
    "a.extend(table_2_result[1])\n",
    "a.extend(table_3_result[0])\n",
    "a.extend(table_3_result[1])\n",
    "{k:key_2_English(k) for k in a}"
   ]
  },
  {
   "cell_type": "markdown",
   "id": "7a42a4cc-308c-47f4-acc0-0dfa339f10bf",
   "metadata": {},
   "source": [
    "#### == 备注"
   ]
  },
  {
   "cell_type": "markdown",
   "id": "c74acc83-ce61-4096-adf5-f7491d2272fe",
   "metadata": {},
   "source": [
    "- !! 具体操作需根据ocr返回结果修改\n",
    "- 翻译矫正"
   ]
  },
  {
   "cell_type": "markdown",
   "id": "15a1e630-d8ef-4723-9e42-251b7296af52",
   "metadata": {},
   "source": [
    "### 资产处置信息\n",
    "简写 -- 具体思路同 `信用卡 -- 逾期贷记卡`"
   ]
  },
  {
   "cell_type": "markdown",
   "id": "4400b341-4574-42ff-a843-4eb71e6b9c37",
   "metadata": {},
   "source": [
    "#### -- 定义关键字段 "
   ]
  },
  {
   "cell_type": "code",
   "execution_count": 141,
   "id": "7e26e1c4-6f9d-4011-b8eb-b4a70ad927d4",
   "metadata": {},
   "outputs": [
    {
     "data": {
      "text/plain": [
       "{'债权接收日期': 'date_of_claim_receipt',\n",
       " '债权接收单位': 'entity_receiving_the_claim',\n",
       " '债权接收金额': 'amount_of_claim_received',\n",
       " '截至日期': 'reference_date',\n",
       " '余额数目': 'remaining_balance',\n",
       " '最近还款日期': 'last_repayment_date'}"
      ]
     },
     "execution_count": 141,
     "metadata": {},
     "output_type": "execute_result"
    }
   ],
   "source": [
    "'''关键字段需人工提前确定'''\n",
    "zcczxx_schema = [\"债权接收日期\", \"债权接收单位\", \"债权接收金额\"]\n",
    "zcczxx_schema.extend([\"截至日期\", \"余额数目\", \"最近还款日期\"])\n",
    "\n",
    "{k:key_2_English(k) for k in zcczxx_schema}"
   ]
  },
  {
   "cell_type": "code",
   "execution_count": 24,
   "id": "63fef06f-4493-450b-abef-5645b71b0b91",
   "metadata": {},
   "outputs": [],
   "source": [
    "## 翻译修正\n",
    "# update_trans_dict('债权接收日期', 'date_of_claim_receipt')\n",
    "# update_trans_dict('债权接收单位', 'entity_receiving_the_claim')\n",
    "# update_trans_dict('债权接收金额', 'amount_of_claim_received')\n",
    "# update_trans_dict('余额截至日期', 'balance_reference_date')\n",
    "# update_trans_dict('余额数目', 'remaining_balance')\n",
    "# update_trans_dict('最近还款日期', 'last_repayment_date')"
   ]
  },
  {
   "cell_type": "code",
   "execution_count": 34,
   "id": "f94b45f8-17af-4068-8780-9c068f04ed1f",
   "metadata": {},
   "outputs": [
    {
     "data": {
      "text/plain": [
       "{'信贷记录': 'credit_records',\n",
       " '信息概要': 'information_summary',\n",
       " '资产处置信息': 'asset_disposal_information'}"
      ]
     },
     "execution_count": 34,
     "metadata": {},
     "output_type": "execute_result"
    }
   ],
   "source": [
    "a = [\"信贷记录\", \"信息概要\", \"资产处置信息\"]\n",
    "{k:key_2_English(k) for k in a}"
   ]
  },
  {
   "cell_type": "markdown",
   "id": "ff9894f0-064a-4e86-97f2-822ccfa13140",
   "metadata": {},
   "source": [
    "#### -- 预处理数据"
   ]
  },
  {
   "cell_type": "code",
   "execution_count": 24,
   "id": "fae4965f-a8c6-437c-881f-8fa10827fabd",
   "metadata": {},
   "outputs": [
    {
     "data": {
      "text/plain": [
       "'\\n\\n1.2012年03月12日，东方资产管理公司接收债权，金额为11,000,000。截至 2014年11月11日，余额为920,000，最近一次\\n还款日期为2015年12月11日。\\n\\n'"
      ]
     },
     "execution_count": 24,
     "metadata": {},
     "output_type": "execute_result"
    }
   ],
   "source": [
    "## 预期ocr结果\n",
    "# zcczxx_data = \"\"\"\n",
    "# \\n1.2012年03月12日，东方资产管理公司接收债权，金额为11,000,000。截至 2014年11月11日，余额为920,000，最近一次\\n还款日期为2015年12月11日。\\n\n",
    "# \"\"\"\n",
    "# zcczxx_data"
   ]
  },
  {
   "cell_type": "code",
   "execution_count": 26,
   "id": "1367a5f1-7c38-4696-bc1a-119036129594",
   "metadata": {},
   "outputs": [
    {
     "data": {
      "text/plain": [
       "['2012年03月12日，东方资产管理公司接收债权，金额为11,000,000。截至 2014年11月11日，余额为920,000，最近一次还款日期为2015年12月11日。']"
      ]
     },
     "execution_count": 26,
     "metadata": {},
     "output_type": "execute_result"
    }
   ],
   "source": [
    "## 每个条目为一段\n",
    "# zcczxx_cases = split_cases_by_idx_from_paragraph(zcczxx_data)\n",
    "# zcczxx_cases"
   ]
  },
  {
   "cell_type": "markdown",
   "id": "f3346763-72d1-4077-b724-083ea0030237",
   "metadata": {},
   "source": [
    "!!! 更新"
   ]
  },
  {
   "cell_type": "code",
   "execution_count": 143,
   "id": "a3d5f831-67cb-42e8-ad37-4dfab0e230ce",
   "metadata": {},
   "outputs": [
    {
     "data": {
      "text/plain": [
       "['2012年03月12日，东方资产管理公司接收债权，金额为11,000,000。截至2014年11月11日，余额为920,000，最近一次还款日期为2015年12月11日。']"
      ]
     },
     "execution_count": 143,
     "metadata": {},
     "output_type": "execute_result"
    }
   ],
   "source": [
    "## 更新为\n",
    "zcczxx_data = []\n",
    "zcczxx_data.append(\"2012年03月12日，东方资产管理公司接收债权，金额为11,000,000。截至2014年11月11日，余额为920,000，最近一次还款日期为2015年12月11日。\")\n",
    "zcczxx_data"
   ]
  },
  {
   "cell_type": "markdown",
   "id": "e80337bc-1592-4930-ae71-911fc90f659f",
   "metadata": {},
   "source": [
    "#### -- 信息抽取结果"
   ]
  },
  {
   "cell_type": "code",
   "execution_count": 144,
   "id": "784bf2bb-c5fb-4a7e-bdcf-2aae4d0c5aca",
   "metadata": {},
   "outputs": [],
   "source": [
    "zcczxx_results = []\n",
    "for case in zcczxx_cases:\n",
    "    ## 模型提取\n",
    "    result = extract_info_from_taskflow(case=case, schema=zcczxx_schema)\n",
    "    zcczxx_results.append(result)"
   ]
  },
  {
   "cell_type": "code",
   "execution_count": 147,
   "id": "fa674af5-469f-497f-8cf7-e41f5a6f94fb",
   "metadata": {},
   "outputs": [
    {
     "name": "stdout",
     "output_type": "stream",
     "text": [
      "2012年03月12日，东方资产管理公司接收债权，金额为11,000,000。截至2014年11月11日，余额为920,000，最近一次还款日期为2015年12月11日。\n"
     ]
    },
    {
     "data": {
      "text/html": [
       "<div>\n",
       "<style scoped>\n",
       "    .dataframe tbody tr th:only-of-type {\n",
       "        vertical-align: middle;\n",
       "    }\n",
       "\n",
       "    .dataframe tbody tr th {\n",
       "        vertical-align: top;\n",
       "    }\n",
       "\n",
       "    .dataframe thead th {\n",
       "        text-align: right;\n",
       "    }\n",
       "</style>\n",
       "<table border=\"1\" class=\"dataframe\">\n",
       "  <thead>\n",
       "    <tr style=\"text-align: right;\">\n",
       "      <th></th>\n",
       "      <th>key</th>\n",
       "      <th>value</th>\n",
       "    </tr>\n",
       "  </thead>\n",
       "  <tbody>\n",
       "    <tr>\n",
       "      <th>0</th>\n",
       "      <td>债权接收日期</td>\n",
       "      <td>2012年03月12日</td>\n",
       "    </tr>\n",
       "    <tr>\n",
       "      <th>1</th>\n",
       "      <td>债权接收单位</td>\n",
       "      <td>东方资产管理公司</td>\n",
       "    </tr>\n",
       "    <tr>\n",
       "      <th>2</th>\n",
       "      <td>债权接收金额</td>\n",
       "      <td>11,000,000</td>\n",
       "    </tr>\n",
       "    <tr>\n",
       "      <th>3</th>\n",
       "      <td>截至日期</td>\n",
       "      <td>2014年11月11日</td>\n",
       "    </tr>\n",
       "    <tr>\n",
       "      <th>4</th>\n",
       "      <td>余额数目</td>\n",
       "      <td>920,000</td>\n",
       "    </tr>\n",
       "    <tr>\n",
       "      <th>5</th>\n",
       "      <td>最近还款日期</td>\n",
       "      <td>2015年12月11日</td>\n",
       "    </tr>\n",
       "  </tbody>\n",
       "</table>\n",
       "</div>"
      ],
      "text/plain": [
       "      key        value\n",
       "0  债权接收日期  2012年03月12日\n",
       "1  债权接收单位     东方资产管理公司\n",
       "2  债权接收金额   11,000,000\n",
       "3    截至日期  2014年11月11日\n",
       "4    余额数目      920,000\n",
       "5  最近还款日期  2015年12月11日"
      ]
     },
     "metadata": {},
     "output_type": "display_data"
    }
   ],
   "source": [
    "i = 0\n",
    "print(zcczxx_data[i])\n",
    "display(pd.DataFrame(list(zcczxx_results[i].items()), columns=['key', 'value']))"
   ]
  },
  {
   "cell_type": "code",
   "execution_count": 146,
   "id": "acdd39d3-b6ae-4cbc-8536-7ee519f49a64",
   "metadata": {},
   "outputs": [],
   "source": [
    "zcczxx_results_fixed = []\n",
    "for case, result in zip(zcczxx_data, zcczxx_results):\n",
    "    result = text_result_fixing(case, result)\n",
    "    zcczxx_results_fixed.append(result)"
   ]
  },
  {
   "cell_type": "code",
   "execution_count": 148,
   "id": "176e8727-240f-4cd6-976d-8bfb221b844c",
   "metadata": {},
   "outputs": [
    {
     "name": "stdout",
     "output_type": "stream",
     "text": [
      "2012年03月12日，东方资产管理公司接收债权，金额为11,000,000。截至2014年11月11日，余额为920,000，最近一次还款日期为2015年12月11日。\n"
     ]
    },
    {
     "data": {
      "text/html": [
       "<div>\n",
       "<style scoped>\n",
       "    .dataframe tbody tr th:only-of-type {\n",
       "        vertical-align: middle;\n",
       "    }\n",
       "\n",
       "    .dataframe tbody tr th {\n",
       "        vertical-align: top;\n",
       "    }\n",
       "\n",
       "    .dataframe thead th {\n",
       "        text-align: right;\n",
       "    }\n",
       "</style>\n",
       "<table border=\"1\" class=\"dataframe\">\n",
       "  <thead>\n",
       "    <tr style=\"text-align: right;\">\n",
       "      <th></th>\n",
       "      <th>key</th>\n",
       "      <th>value</th>\n",
       "    </tr>\n",
       "  </thead>\n",
       "  <tbody>\n",
       "    <tr>\n",
       "      <th>0</th>\n",
       "      <td>债权接收日期</td>\n",
       "      <td>2012年03月12日</td>\n",
       "    </tr>\n",
       "    <tr>\n",
       "      <th>1</th>\n",
       "      <td>债权接收单位</td>\n",
       "      <td>东方资产管理公司</td>\n",
       "    </tr>\n",
       "    <tr>\n",
       "      <th>2</th>\n",
       "      <td>债权接收金额</td>\n",
       "      <td>11,000,000</td>\n",
       "    </tr>\n",
       "    <tr>\n",
       "      <th>3</th>\n",
       "      <td>截至日期</td>\n",
       "      <td>2014年11月11日</td>\n",
       "    </tr>\n",
       "    <tr>\n",
       "      <th>4</th>\n",
       "      <td>余额数目</td>\n",
       "      <td>920,000</td>\n",
       "    </tr>\n",
       "    <tr>\n",
       "      <th>5</th>\n",
       "      <td>最近还款日期</td>\n",
       "      <td>2015年12月11日</td>\n",
       "    </tr>\n",
       "  </tbody>\n",
       "</table>\n",
       "</div>"
      ],
      "text/plain": [
       "      key        value\n",
       "0  债权接收日期  2012年03月12日\n",
       "1  债权接收单位     东方资产管理公司\n",
       "2  债权接收金额   11,000,000\n",
       "3    截至日期  2014年11月11日\n",
       "4    余额数目      920,000\n",
       "5  最近还款日期  2015年12月11日"
      ]
     },
     "metadata": {},
     "output_type": "display_data"
    }
   ],
   "source": [
    "for case, result in zip(zcczxx_data, zcczxx_results_fixed):\n",
    "    print(zcczxx_data[i])\n",
    "    display(pd.DataFrame(list(zcczxx_results_fixed[i].items()), columns=['key', 'value']))"
   ]
  },
  {
   "cell_type": "markdown",
   "id": "cf73fe19-7749-4370-aefe-85717bb6b709",
   "metadata": {},
   "source": [
    "#### -- en"
   ]
  },
  {
   "cell_type": "code",
   "execution_count": 153,
   "id": "7befea81-e880-4fea-b205-b1789ec2c693",
   "metadata": {},
   "outputs": [
    {
     "data": {
      "text/plain": [
       "[{'date_of_claim_receipt': '2012年03月12日',\n",
       "  'entity_receiving_the_claim': '东方资产管理公司',\n",
       "  'amount_of_claim_received': '11,000,000',\n",
       "  'reference_date': '2014年11月11日',\n",
       "  'remaining_balance': '920,000',\n",
       "  'last_repayment_date': '2015年12月11日'}]"
      ]
     },
     "execution_count": 153,
     "metadata": {},
     "output_type": "execute_result"
    }
   ],
   "source": [
    "zcczxx_results_fixed_en = []\n",
    "for result in zcczxx_results_fixed:\n",
    "    result = {key_2_English(k):v for k,v in result.items()}\n",
    "    zcczxx_results_fixed_en.append(result)\n",
    "\n",
    "zcczxx_results_fixed_en"
   ]
  },
  {
   "cell_type": "code",
   "execution_count": null,
   "id": "ee664f22-b9cd-4b50-b7c2-4cc021cf0103",
   "metadata": {},
   "outputs": [],
   "source": []
  },
  {
   "cell_type": "markdown",
   "id": "7f0f59a2-709a-46bd-9d4e-bd631df8c2fe",
   "metadata": {},
   "source": [
    "### 垫款信息 \n",
    "简写 -- 具体思路同 `信用卡 -- 逾期贷记卡`"
   ]
  },
  {
   "cell_type": "markdown",
   "id": "87fb01f4-cf93-473a-81cb-fe217d7f4a4f",
   "metadata": {},
   "source": [
    "#### -- 定义关键字段"
   ]
  },
  {
   "cell_type": "code",
   "execution_count": 50,
   "id": "efbd3cb0-f8f1-4a19-888a-4f0f3bc9533a",
   "metadata": {},
   "outputs": [],
   "source": [
    "update_trans_dict(\"垫款信息\", \"overdraft_information\")"
   ]
  },
  {
   "cell_type": "code",
   "execution_count": 160,
   "id": "7ebced86-d269-46cf-85ca-57551c826298",
   "metadata": {},
   "outputs": [
    {
     "data": {
      "text/plain": [
       "{'累计代偿金额开始日期': 'start_date_of_accumulated_indemnified_amount',\n",
       " '累计代偿金额所属单位': 'entity_responsible_for_accumulated_indemnified_amount',\n",
       " '累计代偿金额数目': 'accumulated_indemnified_amount',\n",
       " '结清日期': 'date_of_settlement',\n",
       " '余额截至日期': 'balance_reference_date',\n",
       " '余额数目': 'remaining_balance',\n",
       " '最近还款日期': 'last_repayment_date'}"
      ]
     },
     "execution_count": 160,
     "metadata": {},
     "output_type": "execute_result"
    }
   ],
   "source": [
    "'''关键字段需人工提前确定'''\n",
    "dkxx_schema = [\"累计代偿金额开始日期\", \"累计代偿金额所属单位\", \"累计代偿金额数目\"]\n",
    "dkxx_schema.extend([\"结清日期\"])\n",
    "dkxx_schema.extend([\"余额截至日期\", \"余额数目\", \"最近还款日期\"])\n",
    "\n",
    "{k:key_2_English(k) for k in dkxx_schema}"
   ]
  },
  {
   "cell_type": "markdown",
   "id": "852949ff-7a6c-40e1-b33d-d8dc65fe6b86",
   "metadata": {},
   "source": [
    "#### -- 预处理数据"
   ]
  },
  {
   "cell_type": "code",
   "execution_count": 33,
   "id": "41897d13-8b35-411f-aeb9-18b8b5a388cd",
   "metadata": {},
   "outputs": [
    {
     "data": {
      "text/plain": [
       "'\\n\\n1.2012年02月02日以来中国人寿保险公司累计代偿金额80，000。截至2014年09月9日，余额70,000，最近一次还款日期为\\n2014年10月10日。\\n2.2013年02月02日以来富登融资租赁担保公司累计代偿金额400,000。2016年1月已结清。\\n\\n'"
      ]
     },
     "execution_count": 33,
     "metadata": {},
     "output_type": "execute_result"
    }
   ],
   "source": [
    "## 预期ocr结果\n",
    "# dkxx_data = \"\"\"\n",
    "# \\n1.2012年02月02日以来中国人寿保险公司累计代偿金额80，000。截至2014年09月9日，余额70,000，最近一次还款日期为\\n2014年10月10日。\\n2.2013年02月02日以来富登融资租赁担保公司累计代偿金额400,000。2016年1月已结清。\\n\n",
    "# \"\"\"\n",
    "# dkxx_data"
   ]
  },
  {
   "cell_type": "code",
   "execution_count": 34,
   "id": "59a6298a-7f66-415a-9f70-39cc9dfda261",
   "metadata": {},
   "outputs": [
    {
     "data": {
      "text/plain": [
       "['2012年02月02日以来中国人寿保险公司累计代偿金额80，000。截至2014年09月9日，余额70,000，最近一次还款日期为2014年10月10日。',\n",
       " '2013年02月02日以来富登融资租赁担保公司累计代偿金额400,000。2016年1月已结清。']"
      ]
     },
     "execution_count": 34,
     "metadata": {},
     "output_type": "execute_result"
    }
   ],
   "source": [
    "## 每个条目为一段\n",
    "# dkxx_cases = split_cases_by_idx_from_paragraph(dkxx_data)\n",
    "# dkxx_cases"
   ]
  },
  {
   "cell_type": "code",
   "execution_count": 156,
   "id": "978b6f17-1dde-4702-92af-9577d8b71408",
   "metadata": {},
   "outputs": [
    {
     "data": {
      "text/plain": [
       "['2012年02月02日以来中国人寿保险公司累计代偿金额80，000。截至2014年09月9日，余额70,000，最近一次还款日期为2014年10月10日。',\n",
       " '2013年02月02日以来富登融资租赁担保公司累计代偿金额400,000。2016年1月已结清。']"
      ]
     },
     "execution_count": 156,
     "metadata": {},
     "output_type": "execute_result"
    }
   ],
   "source": [
    "dkxx_data = []\n",
    "dkxx_data.append(\"2012年02月02日以来中国人寿保险公司累计代偿金额80，000。截至2014年09月9日，余额70,000，最近一次还款日期为2014年10月10日。\")\n",
    "dkxx_data.append(\"2013年02月02日以来富登融资租赁担保公司累计代偿金额400,000。2016年1月已结清。\")\n",
    "dkxx_data"
   ]
  },
  {
   "cell_type": "markdown",
   "id": "40509479-3b95-4a0c-8725-c7884ff718b7",
   "metadata": {},
   "source": [
    "#### -- 信息抽取结果"
   ]
  },
  {
   "cell_type": "code",
   "execution_count": null,
   "id": "3855731e-7e2f-4bf1-867e-1c2167619263",
   "metadata": {},
   "outputs": [],
   "source": []
  },
  {
   "cell_type": "code",
   "execution_count": 69,
   "id": "3daed15b-e8f3-4fa4-bf88-44da0d976baf",
   "metadata": {},
   "outputs": [],
   "source": [
    "# \"\"\" 人工矫正抽取信息 \"\"\"\n",
    "# def dkxx_result_fixing(case, result):\n",
    "#     '''\n",
    "#     矫正逻辑：\n",
    "#         1. 若含有“已结清”：\n",
    "#                 是否已结清：是\n",
    "#             否则\n",
    "#                 结清日期：None\n",
    "#         2. 若不含有“截至”：\n",
    "#                 截至日期：None\n",
    "#         3. 若不含有“余额”：\n",
    "#                 余额数目: None\n",
    "#         4. 若不含有“还款日期”: \n",
    "#                 最近还款日期：None\n",
    "#     '''\n",
    "#     case = case.replace(\" \", \"\")  ## 删空格\n",
    "    \n",
    "#     if '已结清' in case:\n",
    "#         result[\"是否已结清\"] = '是'\n",
    "#     else:\n",
    "#         result[\"结清日期\"] = None\n",
    "\n",
    "#     if '截至' not in case:\n",
    "#         result[\"余额截至日期\"] = None\n",
    "        \n",
    "#     if \"余额\" not in case:\n",
    "#         result[\"余额数目\"] = None\n",
    "\n",
    "#     if '还款日期' not in case:\n",
    "#         result[\"最近还款日期\"] = None\n",
    "\n",
    "#     return result\n"
   ]
  },
  {
   "cell_type": "code",
   "execution_count": 161,
   "id": "4aa2ed1e-66ff-45df-b364-a2778f58a926",
   "metadata": {},
   "outputs": [
    {
     "name": "stdout",
     "output_type": "stream",
     "text": [
      "-----------\n",
      "2012年02月02日以来中国人寿保险公司累计代偿金额80，000。截至2014年09月9日，余额70,000，最近一次还款日期为2014年10月10日。\n"
     ]
    },
    {
     "data": {
      "text/html": [
       "<div>\n",
       "<style scoped>\n",
       "    .dataframe tbody tr th:only-of-type {\n",
       "        vertical-align: middle;\n",
       "    }\n",
       "\n",
       "    .dataframe tbody tr th {\n",
       "        vertical-align: top;\n",
       "    }\n",
       "\n",
       "    .dataframe thead th {\n",
       "        text-align: right;\n",
       "    }\n",
       "</style>\n",
       "<table border=\"1\" class=\"dataframe\">\n",
       "  <thead>\n",
       "    <tr style=\"text-align: right;\">\n",
       "      <th></th>\n",
       "      <th>key</th>\n",
       "      <th>value</th>\n",
       "    </tr>\n",
       "  </thead>\n",
       "  <tbody>\n",
       "    <tr>\n",
       "      <th>0</th>\n",
       "      <td>累计代偿金额开始日期</td>\n",
       "      <td>2012年02月02日</td>\n",
       "    </tr>\n",
       "    <tr>\n",
       "      <th>1</th>\n",
       "      <td>累计代偿金额所属单位</td>\n",
       "      <td>中国人寿保险公司</td>\n",
       "    </tr>\n",
       "    <tr>\n",
       "      <th>2</th>\n",
       "      <td>累计代偿金额数目</td>\n",
       "      <td>80，000</td>\n",
       "    </tr>\n",
       "    <tr>\n",
       "      <th>3</th>\n",
       "      <td>结清日期</td>\n",
       "      <td>2014年09月9日</td>\n",
       "    </tr>\n",
       "    <tr>\n",
       "      <th>4</th>\n",
       "      <td>余额截至日期</td>\n",
       "      <td>2014年09月9日</td>\n",
       "    </tr>\n",
       "    <tr>\n",
       "      <th>5</th>\n",
       "      <td>余额数目</td>\n",
       "      <td>70,000</td>\n",
       "    </tr>\n",
       "    <tr>\n",
       "      <th>6</th>\n",
       "      <td>最近还款日期</td>\n",
       "      <td>2014年10月10日</td>\n",
       "    </tr>\n",
       "  </tbody>\n",
       "</table>\n",
       "</div>"
      ],
      "text/plain": [
       "          key        value\n",
       "0  累计代偿金额开始日期  2012年02月02日\n",
       "1  累计代偿金额所属单位     中国人寿保险公司\n",
       "2    累计代偿金额数目       80，000\n",
       "3        结清日期   2014年09月9日\n",
       "4      余额截至日期   2014年09月9日\n",
       "5        余额数目       70,000\n",
       "6      最近还款日期  2014年10月10日"
      ]
     },
     "metadata": {},
     "output_type": "display_data"
    },
    {
     "data": {
      "text/html": [
       "<div>\n",
       "<style scoped>\n",
       "    .dataframe tbody tr th:only-of-type {\n",
       "        vertical-align: middle;\n",
       "    }\n",
       "\n",
       "    .dataframe tbody tr th {\n",
       "        vertical-align: top;\n",
       "    }\n",
       "\n",
       "    .dataframe thead th {\n",
       "        text-align: right;\n",
       "    }\n",
       "</style>\n",
       "<table border=\"1\" class=\"dataframe\">\n",
       "  <thead>\n",
       "    <tr style=\"text-align: right;\">\n",
       "      <th></th>\n",
       "      <th>key</th>\n",
       "      <th>value</th>\n",
       "    </tr>\n",
       "  </thead>\n",
       "  <tbody>\n",
       "    <tr>\n",
       "      <th>0</th>\n",
       "      <td>累计代偿金额开始日期</td>\n",
       "      <td>2012年02月02日</td>\n",
       "    </tr>\n",
       "    <tr>\n",
       "      <th>1</th>\n",
       "      <td>累计代偿金额所属单位</td>\n",
       "      <td>中国人寿保险公司</td>\n",
       "    </tr>\n",
       "    <tr>\n",
       "      <th>2</th>\n",
       "      <td>累计代偿金额数目</td>\n",
       "      <td>80，000</td>\n",
       "    </tr>\n",
       "    <tr>\n",
       "      <th>3</th>\n",
       "      <td>结清日期</td>\n",
       "      <td>None</td>\n",
       "    </tr>\n",
       "    <tr>\n",
       "      <th>4</th>\n",
       "      <td>余额截至日期</td>\n",
       "      <td>2014年09月9日</td>\n",
       "    </tr>\n",
       "    <tr>\n",
       "      <th>5</th>\n",
       "      <td>余额数目</td>\n",
       "      <td>70,000</td>\n",
       "    </tr>\n",
       "    <tr>\n",
       "      <th>6</th>\n",
       "      <td>最近还款日期</td>\n",
       "      <td>2014年10月10日</td>\n",
       "    </tr>\n",
       "  </tbody>\n",
       "</table>\n",
       "</div>"
      ],
      "text/plain": [
       "          key        value\n",
       "0  累计代偿金额开始日期  2012年02月02日\n",
       "1  累计代偿金额所属单位     中国人寿保险公司\n",
       "2    累计代偿金额数目       80，000\n",
       "3        结清日期         None\n",
       "4      余额截至日期   2014年09月9日\n",
       "5        余额数目       70,000\n",
       "6      最近还款日期  2014年10月10日"
      ]
     },
     "metadata": {},
     "output_type": "display_data"
    },
    {
     "data": {
      "text/html": [
       "<div>\n",
       "<style scoped>\n",
       "    .dataframe tbody tr th:only-of-type {\n",
       "        vertical-align: middle;\n",
       "    }\n",
       "\n",
       "    .dataframe tbody tr th {\n",
       "        vertical-align: top;\n",
       "    }\n",
       "\n",
       "    .dataframe thead th {\n",
       "        text-align: right;\n",
       "    }\n",
       "</style>\n",
       "<table border=\"1\" class=\"dataframe\">\n",
       "  <thead>\n",
       "    <tr style=\"text-align: right;\">\n",
       "      <th></th>\n",
       "      <th>key</th>\n",
       "      <th>value</th>\n",
       "    </tr>\n",
       "  </thead>\n",
       "  <tbody>\n",
       "    <tr>\n",
       "      <th>0</th>\n",
       "      <td>start_date_of_accumulated_indemnified_amount</td>\n",
       "      <td>2012年02月02日</td>\n",
       "    </tr>\n",
       "    <tr>\n",
       "      <th>1</th>\n",
       "      <td>entity_responsible_for_accumulated_indemnified...</td>\n",
       "      <td>中国人寿保险公司</td>\n",
       "    </tr>\n",
       "    <tr>\n",
       "      <th>2</th>\n",
       "      <td>accumulated_indemnified_amount</td>\n",
       "      <td>80，000</td>\n",
       "    </tr>\n",
       "    <tr>\n",
       "      <th>3</th>\n",
       "      <td>date_of_settlement</td>\n",
       "      <td>None</td>\n",
       "    </tr>\n",
       "    <tr>\n",
       "      <th>4</th>\n",
       "      <td>balance_reference_date</td>\n",
       "      <td>2014年09月9日</td>\n",
       "    </tr>\n",
       "    <tr>\n",
       "      <th>5</th>\n",
       "      <td>remaining_balance</td>\n",
       "      <td>70,000</td>\n",
       "    </tr>\n",
       "    <tr>\n",
       "      <th>6</th>\n",
       "      <td>last_repayment_date</td>\n",
       "      <td>2014年10月10日</td>\n",
       "    </tr>\n",
       "  </tbody>\n",
       "</table>\n",
       "</div>"
      ],
      "text/plain": [
       "                                                 key        value\n",
       "0       start_date_of_accumulated_indemnified_amount  2012年02月02日\n",
       "1  entity_responsible_for_accumulated_indemnified...     中国人寿保险公司\n",
       "2                     accumulated_indemnified_amount       80，000\n",
       "3                                 date_of_settlement         None\n",
       "4                             balance_reference_date   2014年09月9日\n",
       "5                                  remaining_balance       70,000\n",
       "6                                last_repayment_date  2014年10月10日"
      ]
     },
     "metadata": {},
     "output_type": "display_data"
    },
    {
     "name": "stdout",
     "output_type": "stream",
     "text": [
      "-----------\n",
      "2013年02月02日以来富登融资租赁担保公司累计代偿金额400,000。2016年1月已结清。\n"
     ]
    },
    {
     "data": {
      "text/html": [
       "<div>\n",
       "<style scoped>\n",
       "    .dataframe tbody tr th:only-of-type {\n",
       "        vertical-align: middle;\n",
       "    }\n",
       "\n",
       "    .dataframe tbody tr th {\n",
       "        vertical-align: top;\n",
       "    }\n",
       "\n",
       "    .dataframe thead th {\n",
       "        text-align: right;\n",
       "    }\n",
       "</style>\n",
       "<table border=\"1\" class=\"dataframe\">\n",
       "  <thead>\n",
       "    <tr style=\"text-align: right;\">\n",
       "      <th></th>\n",
       "      <th>key</th>\n",
       "      <th>value</th>\n",
       "    </tr>\n",
       "  </thead>\n",
       "  <tbody>\n",
       "    <tr>\n",
       "      <th>0</th>\n",
       "      <td>累计代偿金额开始日期</td>\n",
       "      <td>2013年02月02日</td>\n",
       "    </tr>\n",
       "    <tr>\n",
       "      <th>1</th>\n",
       "      <td>累计代偿金额所属单位</td>\n",
       "      <td>富登融资租赁担保公司</td>\n",
       "    </tr>\n",
       "    <tr>\n",
       "      <th>2</th>\n",
       "      <td>累计代偿金额数目</td>\n",
       "      <td>400,000</td>\n",
       "    </tr>\n",
       "    <tr>\n",
       "      <th>3</th>\n",
       "      <td>结清日期</td>\n",
       "      <td>2016年1月</td>\n",
       "    </tr>\n",
       "    <tr>\n",
       "      <th>4</th>\n",
       "      <td>余额截至日期</td>\n",
       "      <td>2013年02月02日</td>\n",
       "    </tr>\n",
       "    <tr>\n",
       "      <th>5</th>\n",
       "      <td>余额数目</td>\n",
       "      <td>400,000</td>\n",
       "    </tr>\n",
       "    <tr>\n",
       "      <th>6</th>\n",
       "      <td>最近还款日期</td>\n",
       "      <td>2013年02月02日</td>\n",
       "    </tr>\n",
       "  </tbody>\n",
       "</table>\n",
       "</div>"
      ],
      "text/plain": [
       "          key        value\n",
       "0  累计代偿金额开始日期  2013年02月02日\n",
       "1  累计代偿金额所属单位   富登融资租赁担保公司\n",
       "2    累计代偿金额数目      400,000\n",
       "3        结清日期      2016年1月\n",
       "4      余额截至日期  2013年02月02日\n",
       "5        余额数目      400,000\n",
       "6      最近还款日期  2013年02月02日"
      ]
     },
     "metadata": {},
     "output_type": "display_data"
    },
    {
     "data": {
      "text/html": [
       "<div>\n",
       "<style scoped>\n",
       "    .dataframe tbody tr th:only-of-type {\n",
       "        vertical-align: middle;\n",
       "    }\n",
       "\n",
       "    .dataframe tbody tr th {\n",
       "        vertical-align: top;\n",
       "    }\n",
       "\n",
       "    .dataframe thead th {\n",
       "        text-align: right;\n",
       "    }\n",
       "</style>\n",
       "<table border=\"1\" class=\"dataframe\">\n",
       "  <thead>\n",
       "    <tr style=\"text-align: right;\">\n",
       "      <th></th>\n",
       "      <th>key</th>\n",
       "      <th>value</th>\n",
       "    </tr>\n",
       "  </thead>\n",
       "  <tbody>\n",
       "    <tr>\n",
       "      <th>0</th>\n",
       "      <td>累计代偿金额开始日期</td>\n",
       "      <td>2013年02月02日</td>\n",
       "    </tr>\n",
       "    <tr>\n",
       "      <th>1</th>\n",
       "      <td>累计代偿金额所属单位</td>\n",
       "      <td>富登融资租赁担保公司</td>\n",
       "    </tr>\n",
       "    <tr>\n",
       "      <th>2</th>\n",
       "      <td>累计代偿金额数目</td>\n",
       "      <td>400,000</td>\n",
       "    </tr>\n",
       "    <tr>\n",
       "      <th>3</th>\n",
       "      <td>结清日期</td>\n",
       "      <td>2016年1月</td>\n",
       "    </tr>\n",
       "    <tr>\n",
       "      <th>4</th>\n",
       "      <td>余额截至日期</td>\n",
       "      <td>None</td>\n",
       "    </tr>\n",
       "    <tr>\n",
       "      <th>5</th>\n",
       "      <td>余额数目</td>\n",
       "      <td>None</td>\n",
       "    </tr>\n",
       "    <tr>\n",
       "      <th>6</th>\n",
       "      <td>最近还款日期</td>\n",
       "      <td>None</td>\n",
       "    </tr>\n",
       "  </tbody>\n",
       "</table>\n",
       "</div>"
      ],
      "text/plain": [
       "          key        value\n",
       "0  累计代偿金额开始日期  2013年02月02日\n",
       "1  累计代偿金额所属单位   富登融资租赁担保公司\n",
       "2    累计代偿金额数目      400,000\n",
       "3        结清日期      2016年1月\n",
       "4      余额截至日期         None\n",
       "5        余额数目         None\n",
       "6      最近还款日期         None"
      ]
     },
     "metadata": {},
     "output_type": "display_data"
    },
    {
     "data": {
      "text/html": [
       "<div>\n",
       "<style scoped>\n",
       "    .dataframe tbody tr th:only-of-type {\n",
       "        vertical-align: middle;\n",
       "    }\n",
       "\n",
       "    .dataframe tbody tr th {\n",
       "        vertical-align: top;\n",
       "    }\n",
       "\n",
       "    .dataframe thead th {\n",
       "        text-align: right;\n",
       "    }\n",
       "</style>\n",
       "<table border=\"1\" class=\"dataframe\">\n",
       "  <thead>\n",
       "    <tr style=\"text-align: right;\">\n",
       "      <th></th>\n",
       "      <th>key</th>\n",
       "      <th>value</th>\n",
       "    </tr>\n",
       "  </thead>\n",
       "  <tbody>\n",
       "    <tr>\n",
       "      <th>0</th>\n",
       "      <td>start_date_of_accumulated_indemnified_amount</td>\n",
       "      <td>2013年02月02日</td>\n",
       "    </tr>\n",
       "    <tr>\n",
       "      <th>1</th>\n",
       "      <td>entity_responsible_for_accumulated_indemnified...</td>\n",
       "      <td>富登融资租赁担保公司</td>\n",
       "    </tr>\n",
       "    <tr>\n",
       "      <th>2</th>\n",
       "      <td>accumulated_indemnified_amount</td>\n",
       "      <td>400,000</td>\n",
       "    </tr>\n",
       "    <tr>\n",
       "      <th>3</th>\n",
       "      <td>date_of_settlement</td>\n",
       "      <td>2016年1月</td>\n",
       "    </tr>\n",
       "    <tr>\n",
       "      <th>4</th>\n",
       "      <td>balance_reference_date</td>\n",
       "      <td>None</td>\n",
       "    </tr>\n",
       "    <tr>\n",
       "      <th>5</th>\n",
       "      <td>remaining_balance</td>\n",
       "      <td>None</td>\n",
       "    </tr>\n",
       "    <tr>\n",
       "      <th>6</th>\n",
       "      <td>last_repayment_date</td>\n",
       "      <td>None</td>\n",
       "    </tr>\n",
       "  </tbody>\n",
       "</table>\n",
       "</div>"
      ],
      "text/plain": [
       "                                                 key        value\n",
       "0       start_date_of_accumulated_indemnified_amount  2013年02月02日\n",
       "1  entity_responsible_for_accumulated_indemnified...   富登融资租赁担保公司\n",
       "2                     accumulated_indemnified_amount      400,000\n",
       "3                                 date_of_settlement      2016年1月\n",
       "4                             balance_reference_date         None\n",
       "5                                  remaining_balance         None\n",
       "6                                last_repayment_date         None"
      ]
     },
     "metadata": {},
     "output_type": "display_data"
    }
   ],
   "source": [
    "dkxx_results=[]\n",
    "dkxx_results_fixed = []\n",
    "dkxx_results_fixed_en = []\n",
    "\n",
    "for case in dkxx_data:\n",
    "    ## 模型提取\n",
    "    result = extract_info_from_taskflow(case=case, schema=dkxx_schema)\n",
    "    dkxx_results.append(result)\n",
    "    ## 结果展示\n",
    "    print(\"-----------\")\n",
    "    print(case)\n",
    "    display(pd.DataFrame(list(result.items()), columns=['key', 'value']))\n",
    "    ## 结果矫正\n",
    "    result = text_result_fixing(case, result)\n",
    "    display(pd.DataFrame(list(result.items()), columns=['key', 'value']))\n",
    "    dkxx_results_fixed.append(result)\n",
    "    ## key值转英文\n",
    "    result = {key_2_English(k):v for k,v in result.items()}\n",
    "    # display(pd.DataFrame(list(result.items()), columns=['key', 'value']))\n",
    "    dkxx_results_fixed_en.append(result)\n",
    "\n",
    "    results.append(result)"
   ]
  },
  {
   "cell_type": "markdown",
   "id": "aa7aba7a-0ff2-4d96-86fd-7c3afbad6d36",
   "metadata": {},
   "source": [
    "#### -- en"
   ]
  },
  {
   "cell_type": "code",
   "execution_count": 162,
   "id": "bd52fcac-e141-4f10-b6d7-96519db28914",
   "metadata": {},
   "outputs": [
    {
     "data": {
      "text/plain": [
       "[{'start_date_of_accumulated_indemnified_amount': '2012年02月02日',\n",
       "  'entity_responsible_for_accumulated_indemnified_amount': '中国人寿保险公司',\n",
       "  'accumulated_indemnified_amount': '80，000',\n",
       "  'date_of_settlement': None,\n",
       "  'balance_reference_date': '2014年09月9日',\n",
       "  'remaining_balance': '70,000',\n",
       "  'last_repayment_date': '2014年10月10日'},\n",
       " {'start_date_of_accumulated_indemnified_amount': '2013年02月02日',\n",
       "  'entity_responsible_for_accumulated_indemnified_amount': '富登融资租赁担保公司',\n",
       "  'accumulated_indemnified_amount': '400,000',\n",
       "  'date_of_settlement': '2016年1月',\n",
       "  'balance_reference_date': None,\n",
       "  'remaining_balance': None,\n",
       "  'last_repayment_date': None}]"
      ]
     },
     "execution_count": 162,
     "metadata": {},
     "output_type": "execute_result"
    }
   ],
   "source": [
    "dkxx_results_fixed_en"
   ]
  },
  {
   "cell_type": "markdown",
   "id": "b8f29a87-c245-40f2-912a-f00369da6600",
   "metadata": {},
   "source": [
    "## 信用卡"
   ]
  },
  {
   "cell_type": "markdown",
   "id": "31817d25-25ea-4d9f-83b2-dbb358149259",
   "metadata": {},
   "source": [
    "- !! 下面三个小块可能共用矫正函数"
   ]
  },
  {
   "cell_type": "markdown",
   "id": "eb2f4922-26fc-4c2c-965a-fdc8cfcb00d6",
   "metadata": {},
   "source": [
    "### 发生过逾期的贷记卡账户明细如下："
   ]
  },
  {
   "cell_type": "markdown",
   "id": "d82a95d1-d593-4396-b90a-549adf7c9edf",
   "metadata": {},
   "source": [
    "#### == 内容样例"
   ]
  },
  {
   "cell_type": "markdown",
   "id": "85ad98dc-626b-4f30-82fb-a57e58ab7df3",
   "metadata": {},
   "source": [
    "![发生过逾期的贷记卡账户明细](./4_简版方案/发生过逾期的贷记卡账户明细.png)"
   ]
  },
  {
   "cell_type": "code",
   "execution_count": 6,
   "id": "b6cdfc56-c4aa-4126-a28c-20059b730ac6",
   "metadata": {},
   "outputs": [
    {
     "data": {
      "text/plain": [
       "'\\n\\n1. 2004 年 8 月 30 日中国建设银行北京分行发放的贷记卡（人民币账户，卡片尾号：0001）。截至 2010 年 10 月，信用额度\\n10,000，已变成呆账，余额500。\\n2. 2004年8月30日中国工商银行北京分行发放的贷记卡（人民币账户，卡片尾号：0002）。截至2016年7月，信用额度50,000，\\n余额5,000（含未出单的大额专项分期余额4,000），当前有逾期。最近5年内有11个月处于逾期状态，其中5个月逾期超\\n过90天。\\n3. 2010年4月1日中国民生银行信用卡中心发放的贷记卡（人民币账户，卡片尾号：0003），2015年12月销户。最近5年内\\n有7个月处于逾期状态，其中3个月逾期超过90天。\\n2014年3月，该机构声明：该客户委托XX公司偿还贷款，因开发公司不按时还款导致出现多次逾期。\\n\\n'"
      ]
     },
     "execution_count": 6,
     "metadata": {},
     "output_type": "execute_result"
    }
   ],
   "source": [
    "# xyk_yq_data = \"\"\"\n",
    "# \\n1. 2004 年 8 月 30 日中国建设银行北京分行发放的贷记卡（人民币账户，卡片尾号：0001）。截至 2010 年 10 月，信用额度\\n10,000，已变成呆账，余额500。\\n2. 2004年8月30日中国工商银行北京分行发放的贷记卡（人民币账户，卡片尾号：0002）。截至2016年7月，信用额度50,000，\\n余额5,000（含未出单的大额专项分期余额4,000），当前有逾期。最近5年内有11个月处于逾期状态，其中5个月逾期超\\n过90天。\\n3. 2010年4月1日中国民生银行信用卡中心发放的贷记卡（人民币账户，卡片尾号：0003），2015年12月销户。最近5年内\\n有7个月处于逾期状态，其中3个月逾期超过90天。\\n2014年3月，该机构声明：该客户委托XX公司偿还贷款，因开发公司不按时还款导致出现多次逾期。\\n\n",
    "# \"\"\"\n",
    "# xyk_yq_data"
   ]
  },
  {
   "cell_type": "code",
   "execution_count": 8,
   "id": "d9e4ecf0-88ea-4432-b78a-eb35b4da24e0",
   "metadata": {},
   "outputs": [
    {
     "name": "stdout",
     "output_type": "stream",
     "text": [
      "case_1: 2004年8月30日中国建设银行北京分行发放的贷记卡（人民币账户，卡片尾号：0001）。截至2010年10月，信用额度10,000，已变成呆账，余额500。 \n",
      "\n",
      "case_2: 2004年8月30日中国工商银行北京分行发放的贷记卡（人民币账户，卡片尾号：0002）。截至2016年7月，信用额度50,000，余额5,000（含未出单的大额专项分期余额4,000），当前有逾期。最近5年内有11个月处于逾期状态，其中5个月逾期超过90天。 \n",
      "\n",
      "case_3: 2010年4月1日中国民生银行信用卡中心发放的贷记卡（人民币账户，卡片尾号：0003），2015年12月销户。最近5年内有7个月处于逾期状态，其中3个月逾期超过90天。2014年3月，该机构声明：该客户委托XX公司偿还贷款，因开发公司不按时还款导致出现多次逾期。 \n",
      "\n"
     ]
    }
   ],
   "source": [
    "# \"\"\"预处理分割data\"\"\"\n",
    "# cases = split_cases_by_idx_from_paragraph(data=xyk_yq_data)\n",
    "# case_1, case_2, case_3 = cases[0], cases[1], cases[2]\n",
    "# print(f\"case_1: {case_1.replace(' ', '')} \\n\")\n",
    "# print(f\"case_2: {case_2.replace(' ', '')} \\n\")\n",
    "# print(f\"case_3: {case_3.replace(' ', '')} \\n\")"
   ]
  },
  {
   "cell_type": "markdown",
   "id": "d208d727-edcb-44d1-8aa4-36945d17afbf",
   "metadata": {},
   "source": [
    "!!! 更新"
   ]
  },
  {
   "cell_type": "code",
   "execution_count": 163,
   "id": "4bf9373a-0f31-46ea-ba13-9c46aad67a49",
   "metadata": {},
   "outputs": [
    {
     "data": {
      "text/plain": [
       "['2004年8月30日中国建设银行北京分行发放的贷记卡（人民币账户，卡片尾号：0001）。截至2010年10月，信用额度10,000，已变成呆账，余额500。',\n",
       " '2004年8月30日中国工商银行北京分行发放的贷记卡（人民币账户，卡片尾号：0002）。截至2016年7月，信用额度50,000，余额5,000（含未出单的大额专项分期余额4,000），当前有逾期。最近5年内有11个月处于逾期状态，其中5个月逾期超过90天。',\n",
       " '2010年4月1日中国民生银行信用卡中心发放的贷记卡（人民币账户，卡片尾号：0003），2015年12月销户。最近5年内有7个月处于逾期状态，其中3个月逾期超过90天。',\n",
       " '2014年3月，该机构声明：该客户委托XX公司偿还贷款，因开发公司不按时还款导致出现多次逾期。']"
      ]
     },
     "execution_count": 163,
     "metadata": {},
     "output_type": "execute_result"
    }
   ],
   "source": [
    "## 更新\n",
    "xyk_yq_data = [\n",
    "    \"2004年8月30日中国建设银行北京分行发放的贷记卡（人民币账户，卡片尾号：0001）。截至2010年10月，信用额度10,000，已变成呆账，余额500。\",\n",
    "    \"2004年8月30日中国工商银行北京分行发放的贷记卡（人民币账户，卡片尾号：0002）。截至2016年7月，信用额度50,000，余额5,000（含未出单的大额专项分期余额4,000），当前有逾期。最近5年内有11个月处于逾期状态，其中5个月逾期超过90天。\",\n",
    "    \"2010年4月1日中国民生银行信用卡中心发放的贷记卡（人民币账户，卡片尾号：0003），2015年12月销户。最近5年内有7个月处于逾期状态，其中3个月逾期超过90天。\",\n",
    "    \"2014年3月，该机构声明：该客户委托XX公司偿还贷款，因开发公司不按时还款导致出现多次逾期。\"\n",
    "    \n",
    "]\n",
    "\n",
    "case_1, case_2, case_3, case_4 = xyk_yq_data\n",
    "xyk_yq_data"
   ]
  },
  {
   "cell_type": "markdown",
   "id": "51a6a49c-d9d9-4a98-8b16-201656c8f8c5",
   "metadata": {},
   "source": [
    "#### == 预期提取效果"
   ]
  },
  {
   "cell_type": "markdown",
   "id": "1edbf658-3826-4e92-b7da-3abbf4dc31b9",
   "metadata": {},
   "source": [
    "整体（提取结果存放在字段 `info_extraction`）：\n",
    "```json\n",
    "{\n",
    "    'header-1-1-0':{\n",
    "        'header-name':'发生过逾期的贷记卡账户明细',\n",
    "        'content': [ocr返回结果]\n",
    "        'info_extraction':[case_0_info, case_1_info, case_2_info]\n",
    "    }\n",
    "}\n",
    "```\n",
    "`case_i_info` 关键字段及其中英对照："
   ]
  },
  {
   "cell_type": "code",
   "execution_count": 173,
   "id": "99521829-8fcf-43a0-b774-f49bbe945c89",
   "metadata": {
    "scrolled": true
   },
   "outputs": [
    {
     "data": {
      "text/plain": [
       "{'发卡日期': 'card_issuing_date',\n",
       " '发卡机构': 'card_issuer',\n",
       " '账户币种': 'account_currency',\n",
       " '卡片尾号': 'card_suffix',\n",
       " '销户日期': 'account_canceling_date',\n",
       " '信用额度截至日期': 'reference_date',\n",
       " '信用额度': 'credit_limit',\n",
       " '是否为呆账': 'whether_it_is_a_bad_debt',\n",
       " '总余额': 'total_balance',\n",
       " '未出单的大额专项分期余额': 'large_amount_of_unissued_special_installment_balance',\n",
       " '当前有无逾期': 'is_currently_overdue',\n",
       " '近5年处于逾期状态月数': 'number_of_months_overdue_in_the_last_5_years',\n",
       " '逾期超过90天月数': 'number_of_months_overdue_for_more_than_90_days'}"
      ]
     },
     "execution_count": 173,
     "metadata": {},
     "output_type": "execute_result"
    }
   ],
   "source": [
    "'''人工提前定好schema内容'''\n",
    "xyk_yq_schema = ['发卡日期', '发卡机构','账户币种','卡片尾号','销户日期']\n",
    "xyk_yq_schema.extend(['信用额度截至日期','信用额度', '是否为呆账','总余额', '未出单的大额专项分期余额', '当前有无逾期'])\n",
    "xyk_yq_schema.extend(['近5年处于逾期状态月数','逾期超过90天月数'])  \n",
    "\n",
    "case_i_info = {k:key_2_English(k) for k in xyk_yq_schema}\n",
    "case_i_info"
   ]
  },
  {
   "cell_type": "code",
   "execution_count": 36,
   "id": "112c0698-b8cf-41d0-a033-402529d76619",
   "metadata": {},
   "outputs": [
    {
     "name": "stdout",
     "output_type": "stream",
     "text": [
      "credit_cards\n",
      "credit_card_account_details_with_overdue_records\n"
     ]
    }
   ],
   "source": [
    "print(key_2_English('信用卡'))\n",
    "print(key_2_English('发生过逾期的贷记卡账户明细如下'))"
   ]
  },
  {
   "cell_type": "code",
   "execution_count": 35,
   "id": "7a47dd5b-e1a5-4663-9e28-059a24adf8d1",
   "metadata": {},
   "outputs": [],
   "source": [
    "update_trans_dict(\"发生过逾期的贷记卡账户明细如下\", \"credit_card_account_details_with_overdue_records\")"
   ]
  },
  {
   "cell_type": "code",
   "execution_count": 95,
   "id": "a57bcb38-1c2f-4f94-b9e4-4a1c5e2635dd",
   "metadata": {},
   "outputs": [],
   "source": [
    "\"\"\"手动矫正翻译\"\"\"\n",
    "# update_trans_dict(\"销户日期\", \"account_canceling_date\")\n",
    "# update_trans_dict(\"卡片尾号\", \"card_suffix\")\n",
    "# update_trans_dict(\"信用额度截至日期\", \"reference_date\")\n",
    "# update_trans_dict(\"近5年处于逾期状态月数\", \"number_of_months_overdue_in_the_last_5_years\")\n",
    "# update_trans_dict(\"逾期超过90天月数\", \"number_of_months_overdue_for_more_than_90_days\")\n",
    "# update_trans_dict(\"发卡机构\", \"card_issuer\")\n",
    "# update_trans_dict(\"发卡日期\", \"card_issue_date\")"
   ]
  },
  {
   "cell_type": "markdown",
   "id": "4f692e42-1e05-4327-a344-89b94433a6b1",
   "metadata": {},
   "source": [
    "#### == 提取方案"
   ]
  },
  {
   "cell_type": "markdown",
   "id": "0b97bca6-e092-4106-8878-f57b8cb98a83",
   "metadata": {},
   "source": [
    "1. 文本预处理，手动分割段落\n",
    "1. 人工定义提取关键字段 `djkyq_schema`\n",
    "   - 待补充 （请业务人员给出建议）\n",
    "2. paddleNLP taskflow information extraction 用小模型进行字段信息抽取\n",
    "3. 后续人工用规则矫正\n",
    "    - 详见下文 `人工修正函数`\n",
    "    - !! 待补充（请测试/业务人员给出建议）\n",
    "    "
   ]
  },
  {
   "cell_type": "markdown",
   "id": "d5cc76da-b96b-4692-95d5-e85cd1aed933",
   "metadata": {},
   "source": [
    "#### == 案例执行结果"
   ]
  },
  {
   "cell_type": "markdown",
   "id": "e920691b-92e5-4d13-abc7-02343cb349c3",
   "metadata": {},
   "source": [
    "------------------------------ 模型抽取 ----------------------------------"
   ]
  },
  {
   "cell_type": "code",
   "execution_count": 174,
   "id": "19c549ad-90f0-4ea2-a0c8-d1298b227446",
   "metadata": {},
   "outputs": [],
   "source": [
    "xyk_yq_results = []\n",
    "for case in xyk_yq_data:\n",
    "    result = extract_info_from_taskflow(case=case, schema=xyk_yq_schema)\n",
    "    xyk_yq_results.append(result)"
   ]
  },
  {
   "cell_type": "code",
   "execution_count": 175,
   "id": "b5dc8d49-2b33-4961-a955-8c42880a201f",
   "metadata": {},
   "outputs": [
    {
     "name": "stdout",
     "output_type": "stream",
     "text": [
      "2004年8月30日中国建设银行北京分行发放的贷记卡（人民币账户，卡片尾号：0001）。截至2010年10月，信用额度10,000，已变成呆账，余额500。\n"
     ]
    },
    {
     "data": {
      "text/html": [
       "<div>\n",
       "<style scoped>\n",
       "    .dataframe tbody tr th:only-of-type {\n",
       "        vertical-align: middle;\n",
       "    }\n",
       "\n",
       "    .dataframe tbody tr th {\n",
       "        vertical-align: top;\n",
       "    }\n",
       "\n",
       "    .dataframe thead th {\n",
       "        text-align: right;\n",
       "    }\n",
       "</style>\n",
       "<table border=\"1\" class=\"dataframe\">\n",
       "  <thead>\n",
       "    <tr style=\"text-align: right;\">\n",
       "      <th></th>\n",
       "      <th>key</th>\n",
       "      <th>value</th>\n",
       "    </tr>\n",
       "  </thead>\n",
       "  <tbody>\n",
       "    <tr>\n",
       "      <th>0</th>\n",
       "      <td>发卡日期</td>\n",
       "      <td>2004年8月30日</td>\n",
       "    </tr>\n",
       "    <tr>\n",
       "      <th>1</th>\n",
       "      <td>发卡机构</td>\n",
       "      <td>中国建设银行北京分行</td>\n",
       "    </tr>\n",
       "    <tr>\n",
       "      <th>2</th>\n",
       "      <td>账户币种</td>\n",
       "      <td>人民币</td>\n",
       "    </tr>\n",
       "    <tr>\n",
       "      <th>3</th>\n",
       "      <td>卡片尾号</td>\n",
       "      <td>0001</td>\n",
       "    </tr>\n",
       "    <tr>\n",
       "      <th>4</th>\n",
       "      <td>销户日期</td>\n",
       "      <td>None</td>\n",
       "    </tr>\n",
       "    <tr>\n",
       "      <th>5</th>\n",
       "      <td>信用额度截至日期</td>\n",
       "      <td>2010年10月</td>\n",
       "    </tr>\n",
       "    <tr>\n",
       "      <th>6</th>\n",
       "      <td>信用额度</td>\n",
       "      <td>10,000</td>\n",
       "    </tr>\n",
       "    <tr>\n",
       "      <th>7</th>\n",
       "      <td>是否为呆账</td>\n",
       "      <td>None</td>\n",
       "    </tr>\n",
       "    <tr>\n",
       "      <th>8</th>\n",
       "      <td>总余额</td>\n",
       "      <td>500</td>\n",
       "    </tr>\n",
       "    <tr>\n",
       "      <th>9</th>\n",
       "      <td>未出单的大额专项分期余额</td>\n",
       "      <td>None</td>\n",
       "    </tr>\n",
       "    <tr>\n",
       "      <th>10</th>\n",
       "      <td>当前有无逾期</td>\n",
       "      <td>None</td>\n",
       "    </tr>\n",
       "    <tr>\n",
       "      <th>11</th>\n",
       "      <td>近5年处于逾期状态月数</td>\n",
       "      <td>None</td>\n",
       "    </tr>\n",
       "    <tr>\n",
       "      <th>12</th>\n",
       "      <td>逾期超过90天月数</td>\n",
       "      <td>None</td>\n",
       "    </tr>\n",
       "  </tbody>\n",
       "</table>\n",
       "</div>"
      ],
      "text/plain": [
       "             key       value\n",
       "0           发卡日期  2004年8月30日\n",
       "1           发卡机构  中国建设银行北京分行\n",
       "2           账户币种         人民币\n",
       "3           卡片尾号        0001\n",
       "4           销户日期        None\n",
       "5       信用额度截至日期    2010年10月\n",
       "6           信用额度      10,000\n",
       "7          是否为呆账        None\n",
       "8            总余额         500\n",
       "9   未出单的大额专项分期余额        None\n",
       "10        当前有无逾期        None\n",
       "11   近5年处于逾期状态月数        None\n",
       "12     逾期超过90天月数        None"
      ]
     },
     "metadata": {},
     "output_type": "display_data"
    }
   ],
   "source": [
    "i = 0\n",
    "print(xyk_yq_data[i])\n",
    "display(pd.DataFrame(list(xyk_yq_results[i].items()), columns=['key', 'value']))"
   ]
  },
  {
   "cell_type": "markdown",
   "id": "7d713d31-7cb0-408d-8ffb-d2353b8fe1a7",
   "metadata": {},
   "source": [
    "- 问题1：无法识别`是否变成呆账`"
   ]
  },
  {
   "cell_type": "code",
   "execution_count": 176,
   "id": "3ac91d67-dea5-4f19-ab30-d1430101b8a3",
   "metadata": {},
   "outputs": [
    {
     "name": "stdout",
     "output_type": "stream",
     "text": [
      "2004年8月30日中国工商银行北京分行发放的贷记卡（人民币账户，卡片尾号：0002）。截至2016年7月，信用额度50,000，余额5,000（含未出单的大额专项分期余额4,000），当前有逾期。最近5年内有11个月处于逾期状态，其中5个月逾期超过90天。\n"
     ]
    },
    {
     "data": {
      "text/html": [
       "<div>\n",
       "<style scoped>\n",
       "    .dataframe tbody tr th:only-of-type {\n",
       "        vertical-align: middle;\n",
       "    }\n",
       "\n",
       "    .dataframe tbody tr th {\n",
       "        vertical-align: top;\n",
       "    }\n",
       "\n",
       "    .dataframe thead th {\n",
       "        text-align: right;\n",
       "    }\n",
       "</style>\n",
       "<table border=\"1\" class=\"dataframe\">\n",
       "  <thead>\n",
       "    <tr style=\"text-align: right;\">\n",
       "      <th></th>\n",
       "      <th>key</th>\n",
       "      <th>value</th>\n",
       "    </tr>\n",
       "  </thead>\n",
       "  <tbody>\n",
       "    <tr>\n",
       "      <th>0</th>\n",
       "      <td>发卡日期</td>\n",
       "      <td>2004年8月30日</td>\n",
       "    </tr>\n",
       "    <tr>\n",
       "      <th>1</th>\n",
       "      <td>发卡机构</td>\n",
       "      <td>中国工商银行北京分行</td>\n",
       "    </tr>\n",
       "    <tr>\n",
       "      <th>2</th>\n",
       "      <td>账户币种</td>\n",
       "      <td>人民币</td>\n",
       "    </tr>\n",
       "    <tr>\n",
       "      <th>3</th>\n",
       "      <td>卡片尾号</td>\n",
       "      <td>0002</td>\n",
       "    </tr>\n",
       "    <tr>\n",
       "      <th>4</th>\n",
       "      <td>销户日期</td>\n",
       "      <td>None</td>\n",
       "    </tr>\n",
       "    <tr>\n",
       "      <th>5</th>\n",
       "      <td>信用额度截至日期</td>\n",
       "      <td>2016年7月</td>\n",
       "    </tr>\n",
       "    <tr>\n",
       "      <th>6</th>\n",
       "      <td>信用额度</td>\n",
       "      <td>50,000</td>\n",
       "    </tr>\n",
       "    <tr>\n",
       "      <th>7</th>\n",
       "      <td>是否为呆账</td>\n",
       "      <td>None</td>\n",
       "    </tr>\n",
       "    <tr>\n",
       "      <th>8</th>\n",
       "      <td>总余额</td>\n",
       "      <td>5,000</td>\n",
       "    </tr>\n",
       "    <tr>\n",
       "      <th>9</th>\n",
       "      <td>未出单的大额专项分期余额</td>\n",
       "      <td>4,000</td>\n",
       "    </tr>\n",
       "    <tr>\n",
       "      <th>10</th>\n",
       "      <td>当前有无逾期</td>\n",
       "      <td>None</td>\n",
       "    </tr>\n",
       "    <tr>\n",
       "      <th>11</th>\n",
       "      <td>近5年处于逾期状态月数</td>\n",
       "      <td>11个月</td>\n",
       "    </tr>\n",
       "    <tr>\n",
       "      <th>12</th>\n",
       "      <td>逾期超过90天月数</td>\n",
       "      <td>None</td>\n",
       "    </tr>\n",
       "  </tbody>\n",
       "</table>\n",
       "</div>"
      ],
      "text/plain": [
       "             key       value\n",
       "0           发卡日期  2004年8月30日\n",
       "1           发卡机构  中国工商银行北京分行\n",
       "2           账户币种         人民币\n",
       "3           卡片尾号        0002\n",
       "4           销户日期        None\n",
       "5       信用额度截至日期     2016年7月\n",
       "6           信用额度      50,000\n",
       "7          是否为呆账        None\n",
       "8            总余额       5,000\n",
       "9   未出单的大额专项分期余额       4,000\n",
       "10        当前有无逾期        None\n",
       "11   近5年处于逾期状态月数        11个月\n",
       "12     逾期超过90天月数        None"
      ]
     },
     "metadata": {},
     "output_type": "display_data"
    }
   ],
   "source": [
    "i = 1\n",
    "print(xyk_yq_data[i])\n",
    "display(pd.DataFrame(list(xyk_yq_results[i].items()), columns=['key', 'value']))"
   ]
  },
  {
   "cell_type": "markdown",
   "id": "4c1a3ca3-12db-4b6c-b80c-ed483ae65454",
   "metadata": {},
   "source": [
    "- 问题2：无法识别 `当前有无逾期`\n",
    "- 问题3：无法识别 `预期超过90天月数`"
   ]
  },
  {
   "cell_type": "code",
   "execution_count": null,
   "id": "9861634f-421f-4ff1-ab40-6e7a5e7363c5",
   "metadata": {},
   "outputs": [],
   "source": []
  },
  {
   "cell_type": "code",
   "execution_count": 24,
   "id": "7ea1e4ea-e2b7-4124-9b8f-28ce69b4a6e6",
   "metadata": {},
   "outputs": [],
   "source": [
    "# case_2_1 = \"2.1. 2004 年 8 月 30 日中国工商银行北京分行发放的贷记卡（人民币账户，卡片尾号：0002）。截至 2016 年 7 月，信用额度 50,000，余额 5,000（含未出单的大额专项分期余额 4,000），当前有逾期。最近 6 年内有 11 个月处于逾期状态，其中 5 个月逾期超过 80 天。\"\n",
    "# print(case_2_1)\n",
    "# result_2_1 = extract_info_from_taskflow(case=case_2_1, schema=xyk_yq_schema)\n",
    "# result_2_1"
   ]
  },
  {
   "cell_type": "markdown",
   "id": "162eb382-b9c0-4843-b0c3-d84e99992f63",
   "metadata": {},
   "source": [
    "- 忽略 -- 问题2：识别错误（数据内改 `5年` 为 `6年`，改 `90天` 为 `80天`）"
   ]
  },
  {
   "cell_type": "code",
   "execution_count": 177,
   "id": "224e3597-b72a-4ae7-aedf-4763f2e0e039",
   "metadata": {
    "scrolled": true
   },
   "outputs": [
    {
     "name": "stdout",
     "output_type": "stream",
     "text": [
      "2010年4月1日中国民生银行信用卡中心发放的贷记卡（人民币账户，卡片尾号：0003），2015年12月销户。最近5年内有7个月处于逾期状态，其中3个月逾期超过90天。\n"
     ]
    },
    {
     "data": {
      "text/html": [
       "<div>\n",
       "<style scoped>\n",
       "    .dataframe tbody tr th:only-of-type {\n",
       "        vertical-align: middle;\n",
       "    }\n",
       "\n",
       "    .dataframe tbody tr th {\n",
       "        vertical-align: top;\n",
       "    }\n",
       "\n",
       "    .dataframe thead th {\n",
       "        text-align: right;\n",
       "    }\n",
       "</style>\n",
       "<table border=\"1\" class=\"dataframe\">\n",
       "  <thead>\n",
       "    <tr style=\"text-align: right;\">\n",
       "      <th></th>\n",
       "      <th>key</th>\n",
       "      <th>value</th>\n",
       "    </tr>\n",
       "  </thead>\n",
       "  <tbody>\n",
       "    <tr>\n",
       "      <th>0</th>\n",
       "      <td>发卡日期</td>\n",
       "      <td>2010年4月1日</td>\n",
       "    </tr>\n",
       "    <tr>\n",
       "      <th>1</th>\n",
       "      <td>发卡机构</td>\n",
       "      <td>中国民生银行信用卡中心</td>\n",
       "    </tr>\n",
       "    <tr>\n",
       "      <th>2</th>\n",
       "      <td>账户币种</td>\n",
       "      <td>人民币</td>\n",
       "    </tr>\n",
       "    <tr>\n",
       "      <th>3</th>\n",
       "      <td>卡片尾号</td>\n",
       "      <td>0003</td>\n",
       "    </tr>\n",
       "    <tr>\n",
       "      <th>4</th>\n",
       "      <td>销户日期</td>\n",
       "      <td>2015年12月</td>\n",
       "    </tr>\n",
       "    <tr>\n",
       "      <th>5</th>\n",
       "      <td>信用额度截至日期</td>\n",
       "      <td>None</td>\n",
       "    </tr>\n",
       "    <tr>\n",
       "      <th>6</th>\n",
       "      <td>信用额度</td>\n",
       "      <td>None</td>\n",
       "    </tr>\n",
       "    <tr>\n",
       "      <th>7</th>\n",
       "      <td>是否为呆账</td>\n",
       "      <td>None</td>\n",
       "    </tr>\n",
       "    <tr>\n",
       "      <th>8</th>\n",
       "      <td>总余额</td>\n",
       "      <td>None</td>\n",
       "    </tr>\n",
       "    <tr>\n",
       "      <th>9</th>\n",
       "      <td>未出单的大额专项分期余额</td>\n",
       "      <td>None</td>\n",
       "    </tr>\n",
       "    <tr>\n",
       "      <th>10</th>\n",
       "      <td>当前有无逾期</td>\n",
       "      <td>None</td>\n",
       "    </tr>\n",
       "    <tr>\n",
       "      <th>11</th>\n",
       "      <td>近5年处于逾期状态月数</td>\n",
       "      <td>7个月</td>\n",
       "    </tr>\n",
       "    <tr>\n",
       "      <th>12</th>\n",
       "      <td>逾期超过90天月数</td>\n",
       "      <td>3个月</td>\n",
       "    </tr>\n",
       "  </tbody>\n",
       "</table>\n",
       "</div>"
      ],
      "text/plain": [
       "             key        value\n",
       "0           发卡日期    2010年4月1日\n",
       "1           发卡机构  中国民生银行信用卡中心\n",
       "2           账户币种          人民币\n",
       "3           卡片尾号         0003\n",
       "4           销户日期     2015年12月\n",
       "5       信用额度截至日期         None\n",
       "6           信用额度         None\n",
       "7          是否为呆账         None\n",
       "8            总余额         None\n",
       "9   未出单的大额专项分期余额         None\n",
       "10        当前有无逾期         None\n",
       "11   近5年处于逾期状态月数          7个月\n",
       "12     逾期超过90天月数          3个月"
      ]
     },
     "metadata": {},
     "output_type": "display_data"
    }
   ],
   "source": [
    "i = 2\n",
    "print(xyk_yq_data[i])\n",
    "display(pd.DataFrame(list(xyk_yq_results[i].items()), columns=['key', 'value']))"
   ]
  },
  {
   "cell_type": "code",
   "execution_count": 178,
   "id": "0d3abf3d-922d-4d12-b707-03f7e22d2b7a",
   "metadata": {},
   "outputs": [
    {
     "name": "stdout",
     "output_type": "stream",
     "text": [
      "2014年3月，该机构声明：该客户委托XX公司偿还贷款，因开发公司不按时还款导致出现多次逾期。\n"
     ]
    },
    {
     "data": {
      "text/html": [
       "<div>\n",
       "<style scoped>\n",
       "    .dataframe tbody tr th:only-of-type {\n",
       "        vertical-align: middle;\n",
       "    }\n",
       "\n",
       "    .dataframe tbody tr th {\n",
       "        vertical-align: top;\n",
       "    }\n",
       "\n",
       "    .dataframe thead th {\n",
       "        text-align: right;\n",
       "    }\n",
       "</style>\n",
       "<table border=\"1\" class=\"dataframe\">\n",
       "  <thead>\n",
       "    <tr style=\"text-align: right;\">\n",
       "      <th></th>\n",
       "      <th>key</th>\n",
       "      <th>value</th>\n",
       "    </tr>\n",
       "  </thead>\n",
       "  <tbody>\n",
       "    <tr>\n",
       "      <th>0</th>\n",
       "      <td>发卡日期</td>\n",
       "      <td>None</td>\n",
       "    </tr>\n",
       "    <tr>\n",
       "      <th>1</th>\n",
       "      <td>发卡机构</td>\n",
       "      <td>None</td>\n",
       "    </tr>\n",
       "    <tr>\n",
       "      <th>2</th>\n",
       "      <td>账户币种</td>\n",
       "      <td>None</td>\n",
       "    </tr>\n",
       "    <tr>\n",
       "      <th>3</th>\n",
       "      <td>卡片尾号</td>\n",
       "      <td>None</td>\n",
       "    </tr>\n",
       "    <tr>\n",
       "      <th>4</th>\n",
       "      <td>销户日期</td>\n",
       "      <td>None</td>\n",
       "    </tr>\n",
       "    <tr>\n",
       "      <th>5</th>\n",
       "      <td>信用额度截至日期</td>\n",
       "      <td>None</td>\n",
       "    </tr>\n",
       "    <tr>\n",
       "      <th>6</th>\n",
       "      <td>信用额度</td>\n",
       "      <td>None</td>\n",
       "    </tr>\n",
       "    <tr>\n",
       "      <th>7</th>\n",
       "      <td>是否为呆账</td>\n",
       "      <td>None</td>\n",
       "    </tr>\n",
       "    <tr>\n",
       "      <th>8</th>\n",
       "      <td>总余额</td>\n",
       "      <td>None</td>\n",
       "    </tr>\n",
       "    <tr>\n",
       "      <th>9</th>\n",
       "      <td>未出单的大额专项分期余额</td>\n",
       "      <td>None</td>\n",
       "    </tr>\n",
       "    <tr>\n",
       "      <th>10</th>\n",
       "      <td>当前有无逾期</td>\n",
       "      <td>None</td>\n",
       "    </tr>\n",
       "    <tr>\n",
       "      <th>11</th>\n",
       "      <td>近5年处于逾期状态月数</td>\n",
       "      <td>None</td>\n",
       "    </tr>\n",
       "    <tr>\n",
       "      <th>12</th>\n",
       "      <td>逾期超过90天月数</td>\n",
       "      <td>None</td>\n",
       "    </tr>\n",
       "  </tbody>\n",
       "</table>\n",
       "</div>"
      ],
      "text/plain": [
       "             key value\n",
       "0           发卡日期  None\n",
       "1           发卡机构  None\n",
       "2           账户币种  None\n",
       "3           卡片尾号  None\n",
       "4           销户日期  None\n",
       "5       信用额度截至日期  None\n",
       "6           信用额度  None\n",
       "7          是否为呆账  None\n",
       "8            总余额  None\n",
       "9   未出单的大额专项分期余额  None\n",
       "10        当前有无逾期  None\n",
       "11   近5年处于逾期状态月数  None\n",
       "12     逾期超过90天月数  None"
      ]
     },
     "metadata": {},
     "output_type": "display_data"
    }
   ],
   "source": [
    "i = 3\n",
    "print(xyk_yq_data[i])\n",
    "display(pd.DataFrame(list(xyk_yq_results[i].items()), columns=['key', 'value']))"
   ]
  },
  {
   "cell_type": "markdown",
   "id": "a65af2dc-1c55-491f-bab8-b2211a07df44",
   "metadata": {},
   "source": [
    "--------------------------------- 人工矫正 -------------------------------"
   ]
  },
  {
   "cell_type": "code",
   "execution_count": 26,
   "id": "b0604326-d66f-4179-be0e-16fdb9200e73",
   "metadata": {},
   "outputs": [],
   "source": [
    "# \"\"\" 定义人工修正函数 \"\"\"\n",
    "# def xyk_yq_result_fixing(case, result):\n",
    "#     '''\n",
    "#     修正逻辑：\n",
    "#         1. 若含有 `呆账`, \n",
    "#                 是否变成呆账: 是\n",
    "#         2. 若含有‘当前有逾期’：\n",
    "#                 当前有无逾期：是\n",
    "#         3. 逾期超过90天月数：\n",
    "#                 规则匹配：其中？？？逾期超过90天\n",
    "#     '''\n",
    "#     case = case.replace(\" \", \"\")  ## 删空格\n",
    "    \n",
    "#     if '呆账' in case:\n",
    "#         result[\"是否变成呆账\"] = '是'\n",
    "\n",
    "#     # if '近5年内' not in case:\n",
    "#     #     result[\"近5年处于逾期状态月数\"] = None\n",
    "#     # if '超过90天' not in case:\n",
    "#     #     result[\"逾期超过90天月数\"] = None\n",
    "\n",
    "#     if \"当前有逾期\" in case:\n",
    "#         result[\"当前有无逾期\"] = '是'\n",
    "\n",
    "#     yq90 = re.search(r'其中(.*?)逾期超过90天', case)\n",
    "#     if yq90:\n",
    "#         result[\"逾期超过90天月数\"] = yq90.group(1)\n",
    "        \n",
    "#     return result"
   ]
  },
  {
   "cell_type": "code",
   "execution_count": 179,
   "id": "a3e88793-39c2-4903-930b-a8f11e895591",
   "metadata": {},
   "outputs": [],
   "source": [
    "xyk_yq_results_fixed = []\n",
    "for case, result in zip(xyk_yq_data, xyk_yq_results):\n",
    "    result = text_result_fixing(case, result)\n",
    "    xyk_yq_results_fixed.append(result)"
   ]
  },
  {
   "cell_type": "markdown",
   "id": "8b59e676-dada-4c7b-9192-a510c56a6eeb",
   "metadata": {},
   "source": [
    "------------------------------ 最终效果展示 -----------------------------"
   ]
  },
  {
   "cell_type": "code",
   "execution_count": 181,
   "id": "b50d272e-8cf7-44bc-9b60-9265ff651f63",
   "metadata": {},
   "outputs": [
    {
     "name": "stdout",
     "output_type": "stream",
     "text": [
      "--------------\n",
      "2004年8月30日中国建设银行北京分行发放的贷记卡（人民币账户，卡片尾号：0001）。截至2010年10月，信用额度10,000，已变成呆账，余额500。\n"
     ]
    },
    {
     "data": {
      "text/html": [
       "<div>\n",
       "<style scoped>\n",
       "    .dataframe tbody tr th:only-of-type {\n",
       "        vertical-align: middle;\n",
       "    }\n",
       "\n",
       "    .dataframe tbody tr th {\n",
       "        vertical-align: top;\n",
       "    }\n",
       "\n",
       "    .dataframe thead th {\n",
       "        text-align: right;\n",
       "    }\n",
       "</style>\n",
       "<table border=\"1\" class=\"dataframe\">\n",
       "  <thead>\n",
       "    <tr style=\"text-align: right;\">\n",
       "      <th></th>\n",
       "      <th>key</th>\n",
       "      <th>value</th>\n",
       "    </tr>\n",
       "  </thead>\n",
       "  <tbody>\n",
       "    <tr>\n",
       "      <th>0</th>\n",
       "      <td>发卡日期</td>\n",
       "      <td>2004年8月30日</td>\n",
       "    </tr>\n",
       "    <tr>\n",
       "      <th>1</th>\n",
       "      <td>发卡机构</td>\n",
       "      <td>中国建设银行北京分行</td>\n",
       "    </tr>\n",
       "    <tr>\n",
       "      <th>2</th>\n",
       "      <td>账户币种</td>\n",
       "      <td>人民币</td>\n",
       "    </tr>\n",
       "    <tr>\n",
       "      <th>3</th>\n",
       "      <td>卡片尾号</td>\n",
       "      <td>0001</td>\n",
       "    </tr>\n",
       "    <tr>\n",
       "      <th>4</th>\n",
       "      <td>销户日期</td>\n",
       "      <td>None</td>\n",
       "    </tr>\n",
       "    <tr>\n",
       "      <th>5</th>\n",
       "      <td>信用额度截至日期</td>\n",
       "      <td>2010年10月</td>\n",
       "    </tr>\n",
       "    <tr>\n",
       "      <th>6</th>\n",
       "      <td>信用额度</td>\n",
       "      <td>10,000</td>\n",
       "    </tr>\n",
       "    <tr>\n",
       "      <th>7</th>\n",
       "      <td>是否为呆账</td>\n",
       "      <td>是</td>\n",
       "    </tr>\n",
       "    <tr>\n",
       "      <th>8</th>\n",
       "      <td>总余额</td>\n",
       "      <td>500</td>\n",
       "    </tr>\n",
       "    <tr>\n",
       "      <th>9</th>\n",
       "      <td>未出单的大额专项分期余额</td>\n",
       "      <td>None</td>\n",
       "    </tr>\n",
       "    <tr>\n",
       "      <th>10</th>\n",
       "      <td>当前有无逾期</td>\n",
       "      <td>None</td>\n",
       "    </tr>\n",
       "    <tr>\n",
       "      <th>11</th>\n",
       "      <td>近5年处于逾期状态月数</td>\n",
       "      <td>None</td>\n",
       "    </tr>\n",
       "    <tr>\n",
       "      <th>12</th>\n",
       "      <td>逾期超过90天月数</td>\n",
       "      <td>None</td>\n",
       "    </tr>\n",
       "  </tbody>\n",
       "</table>\n",
       "</div>"
      ],
      "text/plain": [
       "             key       value\n",
       "0           发卡日期  2004年8月30日\n",
       "1           发卡机构  中国建设银行北京分行\n",
       "2           账户币种         人民币\n",
       "3           卡片尾号        0001\n",
       "4           销户日期        None\n",
       "5       信用额度截至日期    2010年10月\n",
       "6           信用额度      10,000\n",
       "7          是否为呆账           是\n",
       "8            总余额         500\n",
       "9   未出单的大额专项分期余额        None\n",
       "10        当前有无逾期        None\n",
       "11   近5年处于逾期状态月数        None\n",
       "12     逾期超过90天月数        None"
      ]
     },
     "metadata": {},
     "output_type": "display_data"
    },
    {
     "name": "stdout",
     "output_type": "stream",
     "text": [
      "--------------\n",
      "2004年8月30日中国工商银行北京分行发放的贷记卡（人民币账户，卡片尾号：0002）。截至2016年7月，信用额度50,000，余额5,000（含未出单的大额专项分期余额4,000），当前有逾期。最近5年内有11个月处于逾期状态，其中5个月逾期超过90天。\n"
     ]
    },
    {
     "data": {
      "text/html": [
       "<div>\n",
       "<style scoped>\n",
       "    .dataframe tbody tr th:only-of-type {\n",
       "        vertical-align: middle;\n",
       "    }\n",
       "\n",
       "    .dataframe tbody tr th {\n",
       "        vertical-align: top;\n",
       "    }\n",
       "\n",
       "    .dataframe thead th {\n",
       "        text-align: right;\n",
       "    }\n",
       "</style>\n",
       "<table border=\"1\" class=\"dataframe\">\n",
       "  <thead>\n",
       "    <tr style=\"text-align: right;\">\n",
       "      <th></th>\n",
       "      <th>key</th>\n",
       "      <th>value</th>\n",
       "    </tr>\n",
       "  </thead>\n",
       "  <tbody>\n",
       "    <tr>\n",
       "      <th>0</th>\n",
       "      <td>发卡日期</td>\n",
       "      <td>2004年8月30日</td>\n",
       "    </tr>\n",
       "    <tr>\n",
       "      <th>1</th>\n",
       "      <td>发卡机构</td>\n",
       "      <td>中国工商银行北京分行</td>\n",
       "    </tr>\n",
       "    <tr>\n",
       "      <th>2</th>\n",
       "      <td>账户币种</td>\n",
       "      <td>人民币</td>\n",
       "    </tr>\n",
       "    <tr>\n",
       "      <th>3</th>\n",
       "      <td>卡片尾号</td>\n",
       "      <td>0002</td>\n",
       "    </tr>\n",
       "    <tr>\n",
       "      <th>4</th>\n",
       "      <td>销户日期</td>\n",
       "      <td>None</td>\n",
       "    </tr>\n",
       "    <tr>\n",
       "      <th>5</th>\n",
       "      <td>信用额度截至日期</td>\n",
       "      <td>2016年7月</td>\n",
       "    </tr>\n",
       "    <tr>\n",
       "      <th>6</th>\n",
       "      <td>信用额度</td>\n",
       "      <td>50,000</td>\n",
       "    </tr>\n",
       "    <tr>\n",
       "      <th>7</th>\n",
       "      <td>是否为呆账</td>\n",
       "      <td>None</td>\n",
       "    </tr>\n",
       "    <tr>\n",
       "      <th>8</th>\n",
       "      <td>总余额</td>\n",
       "      <td>5,000</td>\n",
       "    </tr>\n",
       "    <tr>\n",
       "      <th>9</th>\n",
       "      <td>未出单的大额专项分期余额</td>\n",
       "      <td>4,000</td>\n",
       "    </tr>\n",
       "    <tr>\n",
       "      <th>10</th>\n",
       "      <td>当前有无逾期</td>\n",
       "      <td>有</td>\n",
       "    </tr>\n",
       "    <tr>\n",
       "      <th>11</th>\n",
       "      <td>近5年处于逾期状态月数</td>\n",
       "      <td>11个月</td>\n",
       "    </tr>\n",
       "    <tr>\n",
       "      <th>12</th>\n",
       "      <td>逾期超过90天月数</td>\n",
       "      <td>5个月</td>\n",
       "    </tr>\n",
       "  </tbody>\n",
       "</table>\n",
       "</div>"
      ],
      "text/plain": [
       "             key       value\n",
       "0           发卡日期  2004年8月30日\n",
       "1           发卡机构  中国工商银行北京分行\n",
       "2           账户币种         人民币\n",
       "3           卡片尾号        0002\n",
       "4           销户日期        None\n",
       "5       信用额度截至日期     2016年7月\n",
       "6           信用额度      50,000\n",
       "7          是否为呆账        None\n",
       "8            总余额       5,000\n",
       "9   未出单的大额专项分期余额       4,000\n",
       "10        当前有无逾期           有\n",
       "11   近5年处于逾期状态月数        11个月\n",
       "12     逾期超过90天月数         5个月"
      ]
     },
     "metadata": {},
     "output_type": "display_data"
    },
    {
     "name": "stdout",
     "output_type": "stream",
     "text": [
      "--------------\n",
      "2010年4月1日中国民生银行信用卡中心发放的贷记卡（人民币账户，卡片尾号：0003），2015年12月销户。最近5年内有7个月处于逾期状态，其中3个月逾期超过90天。\n"
     ]
    },
    {
     "data": {
      "text/html": [
       "<div>\n",
       "<style scoped>\n",
       "    .dataframe tbody tr th:only-of-type {\n",
       "        vertical-align: middle;\n",
       "    }\n",
       "\n",
       "    .dataframe tbody tr th {\n",
       "        vertical-align: top;\n",
       "    }\n",
       "\n",
       "    .dataframe thead th {\n",
       "        text-align: right;\n",
       "    }\n",
       "</style>\n",
       "<table border=\"1\" class=\"dataframe\">\n",
       "  <thead>\n",
       "    <tr style=\"text-align: right;\">\n",
       "      <th></th>\n",
       "      <th>key</th>\n",
       "      <th>value</th>\n",
       "    </tr>\n",
       "  </thead>\n",
       "  <tbody>\n",
       "    <tr>\n",
       "      <th>0</th>\n",
       "      <td>发卡日期</td>\n",
       "      <td>2010年4月1日</td>\n",
       "    </tr>\n",
       "    <tr>\n",
       "      <th>1</th>\n",
       "      <td>发卡机构</td>\n",
       "      <td>中国民生银行信用卡中心</td>\n",
       "    </tr>\n",
       "    <tr>\n",
       "      <th>2</th>\n",
       "      <td>账户币种</td>\n",
       "      <td>人民币</td>\n",
       "    </tr>\n",
       "    <tr>\n",
       "      <th>3</th>\n",
       "      <td>卡片尾号</td>\n",
       "      <td>0003</td>\n",
       "    </tr>\n",
       "    <tr>\n",
       "      <th>4</th>\n",
       "      <td>销户日期</td>\n",
       "      <td>2015年12月</td>\n",
       "    </tr>\n",
       "    <tr>\n",
       "      <th>5</th>\n",
       "      <td>信用额度截至日期</td>\n",
       "      <td>None</td>\n",
       "    </tr>\n",
       "    <tr>\n",
       "      <th>6</th>\n",
       "      <td>信用额度</td>\n",
       "      <td>None</td>\n",
       "    </tr>\n",
       "    <tr>\n",
       "      <th>7</th>\n",
       "      <td>是否为呆账</td>\n",
       "      <td>None</td>\n",
       "    </tr>\n",
       "    <tr>\n",
       "      <th>8</th>\n",
       "      <td>总余额</td>\n",
       "      <td>None</td>\n",
       "    </tr>\n",
       "    <tr>\n",
       "      <th>9</th>\n",
       "      <td>未出单的大额专项分期余额</td>\n",
       "      <td>None</td>\n",
       "    </tr>\n",
       "    <tr>\n",
       "      <th>10</th>\n",
       "      <td>当前有无逾期</td>\n",
       "      <td>None</td>\n",
       "    </tr>\n",
       "    <tr>\n",
       "      <th>11</th>\n",
       "      <td>近5年处于逾期状态月数</td>\n",
       "      <td>7个月</td>\n",
       "    </tr>\n",
       "    <tr>\n",
       "      <th>12</th>\n",
       "      <td>逾期超过90天月数</td>\n",
       "      <td>3个月</td>\n",
       "    </tr>\n",
       "  </tbody>\n",
       "</table>\n",
       "</div>"
      ],
      "text/plain": [
       "             key        value\n",
       "0           发卡日期    2010年4月1日\n",
       "1           发卡机构  中国民生银行信用卡中心\n",
       "2           账户币种          人民币\n",
       "3           卡片尾号         0003\n",
       "4           销户日期     2015年12月\n",
       "5       信用额度截至日期         None\n",
       "6           信用额度         None\n",
       "7          是否为呆账         None\n",
       "8            总余额         None\n",
       "9   未出单的大额专项分期余额         None\n",
       "10        当前有无逾期         None\n",
       "11   近5年处于逾期状态月数          7个月\n",
       "12     逾期超过90天月数          3个月"
      ]
     },
     "metadata": {},
     "output_type": "display_data"
    },
    {
     "name": "stdout",
     "output_type": "stream",
     "text": [
      "--------------\n",
      "2014年3月，该机构声明：该客户委托XX公司偿还贷款，因开发公司不按时还款导致出现多次逾期。\n"
     ]
    },
    {
     "data": {
      "text/html": [
       "<div>\n",
       "<style scoped>\n",
       "    .dataframe tbody tr th:only-of-type {\n",
       "        vertical-align: middle;\n",
       "    }\n",
       "\n",
       "    .dataframe tbody tr th {\n",
       "        vertical-align: top;\n",
       "    }\n",
       "\n",
       "    .dataframe thead th {\n",
       "        text-align: right;\n",
       "    }\n",
       "</style>\n",
       "<table border=\"1\" class=\"dataframe\">\n",
       "  <thead>\n",
       "    <tr style=\"text-align: right;\">\n",
       "      <th></th>\n",
       "      <th>key</th>\n",
       "      <th>value</th>\n",
       "    </tr>\n",
       "  </thead>\n",
       "  <tbody>\n",
       "    <tr>\n",
       "      <th>0</th>\n",
       "      <td>发卡日期</td>\n",
       "      <td>None</td>\n",
       "    </tr>\n",
       "    <tr>\n",
       "      <th>1</th>\n",
       "      <td>发卡机构</td>\n",
       "      <td>None</td>\n",
       "    </tr>\n",
       "    <tr>\n",
       "      <th>2</th>\n",
       "      <td>账户币种</td>\n",
       "      <td>None</td>\n",
       "    </tr>\n",
       "    <tr>\n",
       "      <th>3</th>\n",
       "      <td>卡片尾号</td>\n",
       "      <td>None</td>\n",
       "    </tr>\n",
       "    <tr>\n",
       "      <th>4</th>\n",
       "      <td>销户日期</td>\n",
       "      <td>None</td>\n",
       "    </tr>\n",
       "    <tr>\n",
       "      <th>5</th>\n",
       "      <td>信用额度截至日期</td>\n",
       "      <td>None</td>\n",
       "    </tr>\n",
       "    <tr>\n",
       "      <th>6</th>\n",
       "      <td>信用额度</td>\n",
       "      <td>None</td>\n",
       "    </tr>\n",
       "    <tr>\n",
       "      <th>7</th>\n",
       "      <td>是否为呆账</td>\n",
       "      <td>None</td>\n",
       "    </tr>\n",
       "    <tr>\n",
       "      <th>8</th>\n",
       "      <td>总余额</td>\n",
       "      <td>None</td>\n",
       "    </tr>\n",
       "    <tr>\n",
       "      <th>9</th>\n",
       "      <td>未出单的大额专项分期余额</td>\n",
       "      <td>None</td>\n",
       "    </tr>\n",
       "    <tr>\n",
       "      <th>10</th>\n",
       "      <td>当前有无逾期</td>\n",
       "      <td>None</td>\n",
       "    </tr>\n",
       "    <tr>\n",
       "      <th>11</th>\n",
       "      <td>近5年处于逾期状态月数</td>\n",
       "      <td>None</td>\n",
       "    </tr>\n",
       "    <tr>\n",
       "      <th>12</th>\n",
       "      <td>逾期超过90天月数</td>\n",
       "      <td>None</td>\n",
       "    </tr>\n",
       "  </tbody>\n",
       "</table>\n",
       "</div>"
      ],
      "text/plain": [
       "             key value\n",
       "0           发卡日期  None\n",
       "1           发卡机构  None\n",
       "2           账户币种  None\n",
       "3           卡片尾号  None\n",
       "4           销户日期  None\n",
       "5       信用额度截至日期  None\n",
       "6           信用额度  None\n",
       "7          是否为呆账  None\n",
       "8            总余额  None\n",
       "9   未出单的大额专项分期余额  None\n",
       "10        当前有无逾期  None\n",
       "11   近5年处于逾期状态月数  None\n",
       "12     逾期超过90天月数  None"
      ]
     },
     "metadata": {},
     "output_type": "display_data"
    }
   ],
   "source": [
    "for case, result in zip(xyk_yq_data, xyk_yq_results_fixed):\n",
    "    print(\"--------------\")\n",
    "    print(case)\n",
    "    display(pd.DataFrame(list(result.items()), columns=['key', 'value']))"
   ]
  },
  {
   "cell_type": "code",
   "execution_count": 183,
   "id": "af45f0cf-cc47-41de-b3f3-ca5ca63a1814",
   "metadata": {},
   "outputs": [
    {
     "data": {
      "text/plain": [
       "[{'card_issuing_date': '2004年8月30日',\n",
       "  'card_issuer': '中国建设银行北京分行',\n",
       "  'account_currency': '人民币',\n",
       "  'card_suffix': '0001',\n",
       "  'account_canceling_date': None,\n",
       "  'reference_date': '2010年10月',\n",
       "  'credit_limit': '10,000',\n",
       "  'whether_it_is_a_bad_debt': '是',\n",
       "  'total_balance': '500',\n",
       "  'large_amount_of_unissued_special_installment_balance': None,\n",
       "  'is_currently_overdue': None,\n",
       "  'number_of_months_overdue_in_the_last_5_years': None,\n",
       "  'number_of_months_overdue_for_more_than_90_days': None},\n",
       " {'card_issuing_date': '2004年8月30日',\n",
       "  'card_issuer': '中国工商银行北京分行',\n",
       "  'account_currency': '人民币',\n",
       "  'card_suffix': '0002',\n",
       "  'account_canceling_date': None,\n",
       "  'reference_date': '2016年7月',\n",
       "  'credit_limit': '50,000',\n",
       "  'whether_it_is_a_bad_debt': None,\n",
       "  'total_balance': '5,000',\n",
       "  'large_amount_of_unissued_special_installment_balance': '4,000',\n",
       "  'is_currently_overdue': '有',\n",
       "  'number_of_months_overdue_in_the_last_5_years': '11个月',\n",
       "  'number_of_months_overdue_for_more_than_90_days': '5个月'},\n",
       " {'card_issuing_date': '2010年4月1日',\n",
       "  'card_issuer': '中国民生银行信用卡中心',\n",
       "  'account_currency': '人民币',\n",
       "  'card_suffix': '0003',\n",
       "  'account_canceling_date': '2015年12月',\n",
       "  'reference_date': None,\n",
       "  'credit_limit': None,\n",
       "  'whether_it_is_a_bad_debt': None,\n",
       "  'total_balance': None,\n",
       "  'large_amount_of_unissued_special_installment_balance': None,\n",
       "  'is_currently_overdue': None,\n",
       "  'number_of_months_overdue_in_the_last_5_years': '7个月',\n",
       "  'number_of_months_overdue_for_more_than_90_days': '3个月'},\n",
       " {'card_issuing_date': None,\n",
       "  'card_issuer': None,\n",
       "  'account_currency': None,\n",
       "  'card_suffix': None,\n",
       "  'account_canceling_date': None,\n",
       "  'reference_date': None,\n",
       "  'credit_limit': None,\n",
       "  'whether_it_is_a_bad_debt': None,\n",
       "  'total_balance': None,\n",
       "  'large_amount_of_unissued_special_installment_balance': None,\n",
       "  'is_currently_overdue': None,\n",
       "  'number_of_months_overdue_in_the_last_5_years': None,\n",
       "  'number_of_months_overdue_for_more_than_90_days': None}]"
      ]
     },
     "execution_count": 183,
     "metadata": {},
     "output_type": "execute_result"
    }
   ],
   "source": [
    "xyk_yq_results_en = []\n",
    "for r in xyk_yq_results:\n",
    "    r = {key_2_English(k):v for k,v in r.items()}\n",
    "    xyk_yq_results_en.append(r)\n",
    "\n",
    "xyk_yq_results_en"
   ]
  },
  {
   "cell_type": "markdown",
   "id": "b48adbdb-2346-4f65-beea-930a15bab0a6",
   "metadata": {},
   "source": [
    "#### == 备注"
   ]
  },
  {
   "cell_type": "markdown",
   "id": "49e9ec33-098a-472e-9bc4-548f9a385f50",
   "metadata": {},
   "source": [
    "1. 已忽略最后一行 `2014 年 3 月，该机构声明：该客户委托 XX 公司偿还贷款，因开发公司不按时还款导致出现多次逾期。`\n",
    "   - （处理逻辑是啥，会有别的类似内容吗）\n",
    "3. !!! `确定关键字段` 和 `手工矫正` 部分需要专业人员进行补充改正\n",
    "4. 英文翻译需业务人员矫正\n",
    "5. 操作细节需根据ocr返回结果调整"
   ]
  },
  {
   "cell_type": "markdown",
   "id": "33ea7388-8c9d-449d-8833-ce02cad150b7",
   "metadata": {},
   "source": [
    "### 透支超过 60 天的准贷记卡账户明细如下：\n",
    "略 -- 具体思路同 `信用卡 -- 逾期贷记卡`"
   ]
  },
  {
   "cell_type": "markdown",
   "id": "6114d06a-00a6-485c-8d18-507cc12cb9b1",
   "metadata": {},
   "source": [
    "#### -- 定义关键字段"
   ]
  },
  {
   "cell_type": "markdown",
   "id": "c435292c-56d3-4e3e-815b-cb92f3111245",
   "metadata": {},
   "source": [
    "- 结果矫正逻辑需人工总结\n",
    "- 关键字段需人工提前确定："
   ]
  },
  {
   "cell_type": "code",
   "execution_count": 184,
   "id": "2961c076-f009-4f6d-848b-8776f4154918",
   "metadata": {},
   "outputs": [
    {
     "data": {
      "text/plain": [
       "{'发卡日期': 'card_issuing_date',\n",
       " '发卡机构': 'card_issuer',\n",
       " '账户币种': 'account_currency',\n",
       " '卡片尾号': 'card_suffix',\n",
       " '销户日期': 'account_canceling_date',\n",
       " '信用额度截至日期': 'reference_date',\n",
       " '信用额度': 'credit_limit',\n",
       " '透支余额': 'overdraft_balance',\n",
       " '当前透支是否超过60天': 'whether_currently_overdrawn_for_more_than_60_days',\n",
       " '近5年透支超过60天月数': 'number_of_months_overdrawn_over_60_days_in_last_5_years',\n",
       " '透支超过90天月数': 'number_of_months_overdrawn_over_90_days'}"
      ]
     },
     "execution_count": 184,
     "metadata": {},
     "output_type": "execute_result"
    }
   ],
   "source": [
    "xyk_tzc60_schema = ['发卡日期', '发卡机构','账户币种','卡片尾号', '销户日期']\n",
    "xyk_tzc60_schema.extend(['信用额度截至日期','信用额度', '透支余额', '当前透支是否超过60天'])\n",
    "xyk_tzc60_schema.extend(['近5年透支超过60天月数','透支超过90天月数']) \n",
    "\n",
    "{k:key_2_English(k) for k in xyk_tzc60_schema}"
   ]
  },
  {
   "cell_type": "code",
   "execution_count": 94,
   "id": "b7ac5aae-3c49-40c8-b159-1f58fcce6748",
   "metadata": {},
   "outputs": [],
   "source": [
    "update_trans_dict(\"透支超过60天的准贷记卡账户明细如下\" ,\"overdrawn_quasi_credit_card_accounts_exceeding_60_days\")"
   ]
  },
  {
   "cell_type": "code",
   "execution_count": 40,
   "id": "8d288368-bb05-4d9e-99b9-d30dbda091e1",
   "metadata": {},
   "outputs": [],
   "source": [
    "# update_trans_dict(\"近5年透支超过60天月数\",\"number_of_months_overdrawn_over_60_days_in_last_5_years\")\n",
    "# update_trans_dict(\"透支超过90天月数\", \"number_of_months_overdrawn_over_90_days\")"
   ]
  },
  {
   "cell_type": "markdown",
   "id": "7406588b-ada4-45bd-a7fb-d2acb1ec8061",
   "metadata": {},
   "source": [
    "#### -- 数据"
   ]
  },
  {
   "cell_type": "code",
   "execution_count": 185,
   "id": "3c4c49f1-8580-49f8-8d94-e065ff8e1984",
   "metadata": {},
   "outputs": [
    {
     "data": {
      "text/plain": [
       "['2005年6月30日中国银行北京分行发放的准贷记卡（人民币账户，卡片尾号：0999）。截至2016年7月，信用额度10,000，透支余额5,000，当前透支超过60天。最近5年内有6个月透支超过60天，其中3个月透支超过90天。',\n",
       " '2006年3月10日上海浦东发展银行北京分行发放的准贷记卡（人民币账户，卡片尾号：0022），2015年12月销户。最近5年内有20个月透支超过60天，其中16个月透支超过90天。']"
      ]
     },
     "execution_count": 185,
     "metadata": {},
     "output_type": "execute_result"
    }
   ],
   "source": [
    "xyk_tzc60_data = [\n",
    "    \"2005年6月30日中国银行北京分行发放的准贷记卡（人民币账户，卡片尾号：0999）。截至2016年7月，信用额度10,000，透支余额5,000，当前透支超过60天。最近5年内有6个月透支超过60天，其中3个月透支超过90天。\",\n",
    "    \"2006年3月10日上海浦东发展银行北京分行发放的准贷记卡（人民币账户，卡片尾号：0022），2015年12月销户。最近5年内有20个月透支超过60天，其中16个月透支超过90天。\"\n",
    "]\n",
    "\n",
    "xyk_tzc60_data"
   ]
  },
  {
   "cell_type": "markdown",
   "id": "c14a1c6e-33ed-4334-b7cd-4f10196a4f59",
   "metadata": {},
   "source": [
    "#### -- uie base"
   ]
  },
  {
   "cell_type": "code",
   "execution_count": 186,
   "id": "9e5e3962-a2d9-4453-bc4b-a4498bba6d03",
   "metadata": {},
   "outputs": [],
   "source": [
    "results = []\n",
    "for case in xyk_tzc60_data:\n",
    "    result = extract_info_from_taskflow(case=case, schema=xyk_tzc60_schema)\n",
    "    results.append(result)"
   ]
  },
  {
   "cell_type": "code",
   "execution_count": 55,
   "id": "0223cbba-4e46-46af-bdca-f4bb80411f70",
   "metadata": {
    "scrolled": true
   },
   "outputs": [
    {
     "name": "stdout",
     "output_type": "stream",
     "text": [
      "2005年6月30日中国银行北京分行发放的准贷记卡（人民币账户，卡片尾号：0999）。截至2016年7月，信用额度10,000，透支余额5,000，当前透支超过60天。最近5年内有6个月透支超过60天，其中3个月透支超过90天。\n"
     ]
    },
    {
     "data": {
      "text/html": [
       "<div>\n",
       "<style scoped>\n",
       "    .dataframe tbody tr th:only-of-type {\n",
       "        vertical-align: middle;\n",
       "    }\n",
       "\n",
       "    .dataframe tbody tr th {\n",
       "        vertical-align: top;\n",
       "    }\n",
       "\n",
       "    .dataframe thead th {\n",
       "        text-align: right;\n",
       "    }\n",
       "</style>\n",
       "<table border=\"1\" class=\"dataframe\">\n",
       "  <thead>\n",
       "    <tr style=\"text-align: right;\">\n",
       "      <th></th>\n",
       "      <th>key</th>\n",
       "      <th>value</th>\n",
       "    </tr>\n",
       "  </thead>\n",
       "  <tbody>\n",
       "    <tr>\n",
       "      <th>0</th>\n",
       "      <td>发卡日期</td>\n",
       "      <td>2005年6月30日</td>\n",
       "    </tr>\n",
       "    <tr>\n",
       "      <th>1</th>\n",
       "      <td>发卡机构</td>\n",
       "      <td>中国银行北京分行</td>\n",
       "    </tr>\n",
       "    <tr>\n",
       "      <th>2</th>\n",
       "      <td>账户币种</td>\n",
       "      <td>人民币</td>\n",
       "    </tr>\n",
       "    <tr>\n",
       "      <th>3</th>\n",
       "      <td>卡片尾号</td>\n",
       "      <td>0999</td>\n",
       "    </tr>\n",
       "    <tr>\n",
       "      <th>4</th>\n",
       "      <td>销户日期</td>\n",
       "      <td>None</td>\n",
       "    </tr>\n",
       "    <tr>\n",
       "      <th>5</th>\n",
       "      <td>信用额度截至日期</td>\n",
       "      <td>2016年7月</td>\n",
       "    </tr>\n",
       "    <tr>\n",
       "      <th>6</th>\n",
       "      <td>信用额度</td>\n",
       "      <td>10,000</td>\n",
       "    </tr>\n",
       "    <tr>\n",
       "      <th>7</th>\n",
       "      <td>透支余额</td>\n",
       "      <td>5,000</td>\n",
       "    </tr>\n",
       "    <tr>\n",
       "      <th>8</th>\n",
       "      <td>当前透支是否超过60天</td>\n",
       "      <td>None</td>\n",
       "    </tr>\n",
       "    <tr>\n",
       "      <th>9</th>\n",
       "      <td>近5年透支超过60天月数</td>\n",
       "      <td>6个月</td>\n",
       "    </tr>\n",
       "    <tr>\n",
       "      <th>10</th>\n",
       "      <td>透支超过90天月数</td>\n",
       "      <td>3个月</td>\n",
       "    </tr>\n",
       "  </tbody>\n",
       "</table>\n",
       "</div>"
      ],
      "text/plain": [
       "             key       value\n",
       "0           发卡日期  2005年6月30日\n",
       "1           发卡机构    中国银行北京分行\n",
       "2           账户币种         人民币\n",
       "3           卡片尾号        0999\n",
       "4           销户日期        None\n",
       "5       信用额度截至日期     2016年7月\n",
       "6           信用额度      10,000\n",
       "7           透支余额       5,000\n",
       "8    当前透支是否超过60天        None\n",
       "9   近5年透支超过60天月数         6个月\n",
       "10     透支超过90天月数         3个月"
      ]
     },
     "metadata": {},
     "output_type": "display_data"
    }
   ],
   "source": [
    "i = 0\n",
    "print(xyk_tzc60_data[i])\n",
    "display(pd.DataFrame(list(results[i].items()), columns=['key', 'value']))"
   ]
  },
  {
   "cell_type": "markdown",
   "id": "ade146e0-a690-42f8-9978-c857de4c8ca6",
   "metadata": {},
   "source": [
    "- 问题1：无法判断 “当前透支是否超过60天”"
   ]
  },
  {
   "cell_type": "code",
   "execution_count": 54,
   "id": "e9f20764-d876-45ad-8863-0eb57459606d",
   "metadata": {},
   "outputs": [
    {
     "name": "stdout",
     "output_type": "stream",
     "text": [
      "2006年3月10日上海浦东发展银行北京分行发放的准贷记卡（人民币账户，卡片尾号：0022），2015年12月销户。最近5年内有20个月透支超过60天，其中16个月透支超过90天。\n"
     ]
    },
    {
     "data": {
      "text/html": [
       "<div>\n",
       "<style scoped>\n",
       "    .dataframe tbody tr th:only-of-type {\n",
       "        vertical-align: middle;\n",
       "    }\n",
       "\n",
       "    .dataframe tbody tr th {\n",
       "        vertical-align: top;\n",
       "    }\n",
       "\n",
       "    .dataframe thead th {\n",
       "        text-align: right;\n",
       "    }\n",
       "</style>\n",
       "<table border=\"1\" class=\"dataframe\">\n",
       "  <thead>\n",
       "    <tr style=\"text-align: right;\">\n",
       "      <th></th>\n",
       "      <th>key</th>\n",
       "      <th>value</th>\n",
       "    </tr>\n",
       "  </thead>\n",
       "  <tbody>\n",
       "    <tr>\n",
       "      <th>0</th>\n",
       "      <td>发卡日期</td>\n",
       "      <td>2006年3月10日</td>\n",
       "    </tr>\n",
       "    <tr>\n",
       "      <th>1</th>\n",
       "      <td>发卡机构</td>\n",
       "      <td>上海浦东发展银行北京分行</td>\n",
       "    </tr>\n",
       "    <tr>\n",
       "      <th>2</th>\n",
       "      <td>账户币种</td>\n",
       "      <td>人民币</td>\n",
       "    </tr>\n",
       "    <tr>\n",
       "      <th>3</th>\n",
       "      <td>卡片尾号</td>\n",
       "      <td>0022</td>\n",
       "    </tr>\n",
       "    <tr>\n",
       "      <th>4</th>\n",
       "      <td>销户日期</td>\n",
       "      <td>2015年12月</td>\n",
       "    </tr>\n",
       "    <tr>\n",
       "      <th>5</th>\n",
       "      <td>信用额度截至日期</td>\n",
       "      <td>None</td>\n",
       "    </tr>\n",
       "    <tr>\n",
       "      <th>6</th>\n",
       "      <td>信用额度</td>\n",
       "      <td>None</td>\n",
       "    </tr>\n",
       "    <tr>\n",
       "      <th>7</th>\n",
       "      <td>透支余额</td>\n",
       "      <td>None</td>\n",
       "    </tr>\n",
       "    <tr>\n",
       "      <th>8</th>\n",
       "      <td>当前透支是否超过60天</td>\n",
       "      <td>None</td>\n",
       "    </tr>\n",
       "    <tr>\n",
       "      <th>9</th>\n",
       "      <td>近5年透支超过60天月数</td>\n",
       "      <td>20个月</td>\n",
       "    </tr>\n",
       "    <tr>\n",
       "      <th>10</th>\n",
       "      <td>透支超过90天月数</td>\n",
       "      <td>16个月</td>\n",
       "    </tr>\n",
       "  </tbody>\n",
       "</table>\n",
       "</div>"
      ],
      "text/plain": [
       "             key         value\n",
       "0           发卡日期    2006年3月10日\n",
       "1           发卡机构  上海浦东发展银行北京分行\n",
       "2           账户币种           人民币\n",
       "3           卡片尾号          0022\n",
       "4           销户日期      2015年12月\n",
       "5       信用额度截至日期          None\n",
       "6           信用额度          None\n",
       "7           透支余额          None\n",
       "8    当前透支是否超过60天          None\n",
       "9   近5年透支超过60天月数          20个月\n",
       "10     透支超过90天月数          16个月"
      ]
     },
     "metadata": {},
     "output_type": "display_data"
    }
   ],
   "source": [
    "i = 1\n",
    "print(xyk_tzc60_data[i])\n",
    "display(pd.DataFrame(list(results[i].items()), columns=['key', 'value']))"
   ]
  },
  {
   "cell_type": "markdown",
   "id": "413beea9-6e04-4897-a037-b27ecd078d60",
   "metadata": {},
   "source": [
    "#### -- 修正"
   ]
  },
  {
   "cell_type": "code",
   "execution_count": 56,
   "id": "cff99ae0-0b1d-46fa-a823-155c6802dfc1",
   "metadata": {},
   "outputs": [],
   "source": [
    "# def xyk_yqc60_result_fixing(case, result):\n",
    "#     \"\"\"\n",
    "#     矫正逻辑：\n",
    "#         1. 如果“当前透支超过60天”存在:\n",
    "#                 `当前透支是否超过60天\t`：`是`\n",
    "#     \"\"\"\n",
    "#     case = case.replace(\" \", \"\")  ## 删空格\n",
    "    \n",
    "#     if '当前透支超过60天' in case:\n",
    "#         result[\"当前透支是否超过60天\"] = '是'\n",
    "\n",
    "#     return result"
   ]
  },
  {
   "cell_type": "code",
   "execution_count": 188,
   "id": "73a35125-c6b8-4297-86a3-5fac3571eaf5",
   "metadata": {},
   "outputs": [],
   "source": [
    "results_fixed = []\n",
    "for case, result in zip(xyk_tzc60_data, results):\n",
    "    result = text_result_fixing(case, result)\n",
    "    results_fixed.append(result)"
   ]
  },
  {
   "cell_type": "code",
   "execution_count": 189,
   "id": "db2c93e1-3a44-4f19-8c8d-01140050eac4",
   "metadata": {},
   "outputs": [
    {
     "name": "stdout",
     "output_type": "stream",
     "text": [
      "2005年6月30日中国银行北京分行发放的准贷记卡（人民币账户，卡片尾号：0999）。截至2016年7月，信用额度10,000，透支余额5,000，当前透支超过60天。最近5年内有6个月透支超过60天，其中3个月透支超过90天。\n"
     ]
    },
    {
     "data": {
      "text/html": [
       "<div>\n",
       "<style scoped>\n",
       "    .dataframe tbody tr th:only-of-type {\n",
       "        vertical-align: middle;\n",
       "    }\n",
       "\n",
       "    .dataframe tbody tr th {\n",
       "        vertical-align: top;\n",
       "    }\n",
       "\n",
       "    .dataframe thead th {\n",
       "        text-align: right;\n",
       "    }\n",
       "</style>\n",
       "<table border=\"1\" class=\"dataframe\">\n",
       "  <thead>\n",
       "    <tr style=\"text-align: right;\">\n",
       "      <th></th>\n",
       "      <th>key</th>\n",
       "      <th>value</th>\n",
       "    </tr>\n",
       "  </thead>\n",
       "  <tbody>\n",
       "    <tr>\n",
       "      <th>0</th>\n",
       "      <td>发卡日期</td>\n",
       "      <td>2005年6月30日</td>\n",
       "    </tr>\n",
       "    <tr>\n",
       "      <th>1</th>\n",
       "      <td>发卡机构</td>\n",
       "      <td>中国银行北京分行</td>\n",
       "    </tr>\n",
       "    <tr>\n",
       "      <th>2</th>\n",
       "      <td>账户币种</td>\n",
       "      <td>人民币</td>\n",
       "    </tr>\n",
       "    <tr>\n",
       "      <th>3</th>\n",
       "      <td>卡片尾号</td>\n",
       "      <td>0999</td>\n",
       "    </tr>\n",
       "    <tr>\n",
       "      <th>4</th>\n",
       "      <td>销户日期</td>\n",
       "      <td>None</td>\n",
       "    </tr>\n",
       "    <tr>\n",
       "      <th>5</th>\n",
       "      <td>信用额度截至日期</td>\n",
       "      <td>2016年7月</td>\n",
       "    </tr>\n",
       "    <tr>\n",
       "      <th>6</th>\n",
       "      <td>信用额度</td>\n",
       "      <td>10,000</td>\n",
       "    </tr>\n",
       "    <tr>\n",
       "      <th>7</th>\n",
       "      <td>透支余额</td>\n",
       "      <td>5,000</td>\n",
       "    </tr>\n",
       "    <tr>\n",
       "      <th>8</th>\n",
       "      <td>当前透支是否超过60天</td>\n",
       "      <td>是</td>\n",
       "    </tr>\n",
       "    <tr>\n",
       "      <th>9</th>\n",
       "      <td>近5年透支超过60天月数</td>\n",
       "      <td>6个月</td>\n",
       "    </tr>\n",
       "    <tr>\n",
       "      <th>10</th>\n",
       "      <td>透支超过90天月数</td>\n",
       "      <td>3个月</td>\n",
       "    </tr>\n",
       "  </tbody>\n",
       "</table>\n",
       "</div>"
      ],
      "text/plain": [
       "             key       value\n",
       "0           发卡日期  2005年6月30日\n",
       "1           发卡机构    中国银行北京分行\n",
       "2           账户币种         人民币\n",
       "3           卡片尾号        0999\n",
       "4           销户日期        None\n",
       "5       信用额度截至日期     2016年7月\n",
       "6           信用额度      10,000\n",
       "7           透支余额       5,000\n",
       "8    当前透支是否超过60天           是\n",
       "9   近5年透支超过60天月数         6个月\n",
       "10     透支超过90天月数         3个月"
      ]
     },
     "metadata": {},
     "output_type": "display_data"
    },
    {
     "name": "stdout",
     "output_type": "stream",
     "text": [
      "2006年3月10日上海浦东发展银行北京分行发放的准贷记卡（人民币账户，卡片尾号：0022），2015年12月销户。最近5年内有20个月透支超过60天，其中16个月透支超过90天。\n"
     ]
    },
    {
     "data": {
      "text/html": [
       "<div>\n",
       "<style scoped>\n",
       "    .dataframe tbody tr th:only-of-type {\n",
       "        vertical-align: middle;\n",
       "    }\n",
       "\n",
       "    .dataframe tbody tr th {\n",
       "        vertical-align: top;\n",
       "    }\n",
       "\n",
       "    .dataframe thead th {\n",
       "        text-align: right;\n",
       "    }\n",
       "</style>\n",
       "<table border=\"1\" class=\"dataframe\">\n",
       "  <thead>\n",
       "    <tr style=\"text-align: right;\">\n",
       "      <th></th>\n",
       "      <th>key</th>\n",
       "      <th>value</th>\n",
       "    </tr>\n",
       "  </thead>\n",
       "  <tbody>\n",
       "    <tr>\n",
       "      <th>0</th>\n",
       "      <td>发卡日期</td>\n",
       "      <td>2006年3月10日</td>\n",
       "    </tr>\n",
       "    <tr>\n",
       "      <th>1</th>\n",
       "      <td>发卡机构</td>\n",
       "      <td>上海浦东发展银行北京分行</td>\n",
       "    </tr>\n",
       "    <tr>\n",
       "      <th>2</th>\n",
       "      <td>账户币种</td>\n",
       "      <td>人民币</td>\n",
       "    </tr>\n",
       "    <tr>\n",
       "      <th>3</th>\n",
       "      <td>卡片尾号</td>\n",
       "      <td>0022</td>\n",
       "    </tr>\n",
       "    <tr>\n",
       "      <th>4</th>\n",
       "      <td>销户日期</td>\n",
       "      <td>2015年12月</td>\n",
       "    </tr>\n",
       "    <tr>\n",
       "      <th>5</th>\n",
       "      <td>信用额度截至日期</td>\n",
       "      <td>None</td>\n",
       "    </tr>\n",
       "    <tr>\n",
       "      <th>6</th>\n",
       "      <td>信用额度</td>\n",
       "      <td>None</td>\n",
       "    </tr>\n",
       "    <tr>\n",
       "      <th>7</th>\n",
       "      <td>透支余额</td>\n",
       "      <td>None</td>\n",
       "    </tr>\n",
       "    <tr>\n",
       "      <th>8</th>\n",
       "      <td>当前透支是否超过60天</td>\n",
       "      <td>None</td>\n",
       "    </tr>\n",
       "    <tr>\n",
       "      <th>9</th>\n",
       "      <td>近5年透支超过60天月数</td>\n",
       "      <td>20个月</td>\n",
       "    </tr>\n",
       "    <tr>\n",
       "      <th>10</th>\n",
       "      <td>透支超过90天月数</td>\n",
       "      <td>16个月</td>\n",
       "    </tr>\n",
       "  </tbody>\n",
       "</table>\n",
       "</div>"
      ],
      "text/plain": [
       "             key         value\n",
       "0           发卡日期    2006年3月10日\n",
       "1           发卡机构  上海浦东发展银行北京分行\n",
       "2           账户币种           人民币\n",
       "3           卡片尾号          0022\n",
       "4           销户日期      2015年12月\n",
       "5       信用额度截至日期          None\n",
       "6           信用额度          None\n",
       "7           透支余额          None\n",
       "8    当前透支是否超过60天          None\n",
       "9   近5年透支超过60天月数          20个月\n",
       "10     透支超过90天月数          16个月"
      ]
     },
     "metadata": {},
     "output_type": "display_data"
    }
   ],
   "source": [
    "for case, result in zip(xyk_tzc60_data, results):\n",
    "    print(case)\n",
    "    display(pd.DataFrame(list(result.items()), columns=['key', 'value']))"
   ]
  },
  {
   "cell_type": "markdown",
   "id": "ac9596c9-d490-4bb9-ae4f-20422fa99f56",
   "metadata": {},
   "source": [
    "#### -- key_2_en"
   ]
  },
  {
   "cell_type": "code",
   "execution_count": 190,
   "id": "46524dc1-426f-46c1-8aee-1dda666d3e5c",
   "metadata": {},
   "outputs": [
    {
     "data": {
      "text/plain": [
       "[{'card_issuing_date': '2005年6月30日',\n",
       "  'card_issuer': '中国银行北京分行',\n",
       "  'account_currency': '人民币',\n",
       "  'card_suffix': '0999',\n",
       "  'account_canceling_date': None,\n",
       "  'reference_date': '2016年7月',\n",
       "  'credit_limit': '10,000',\n",
       "  'overdraft_balance': '5,000',\n",
       "  'whether_currently_overdrawn_for_more_than_60_days': '是',\n",
       "  'number_of_months_overdrawn_over_60_days_in_last_5_years': '6个月',\n",
       "  'number_of_months_overdrawn_over_90_days': '3个月'},\n",
       " {'card_issuing_date': '2006年3月10日',\n",
       "  'card_issuer': '上海浦东发展银行北京分行',\n",
       "  'account_currency': '人民币',\n",
       "  'card_suffix': '0022',\n",
       "  'account_canceling_date': '2015年12月',\n",
       "  'reference_date': None,\n",
       "  'credit_limit': None,\n",
       "  'overdraft_balance': None,\n",
       "  'whether_currently_overdrawn_for_more_than_60_days': None,\n",
       "  'number_of_months_overdrawn_over_60_days_in_last_5_years': '20个月',\n",
       "  'number_of_months_overdrawn_over_90_days': '16个月'}]"
      ]
     },
     "execution_count": 190,
     "metadata": {},
     "output_type": "execute_result"
    }
   ],
   "source": [
    "results_en = []\n",
    "\n",
    "for result in results_fixed:\n",
    "    result_en = {key_2_English(k):v for k,v in result.items()}\n",
    "    results_en.append(result_en)\n",
    "\n",
    "results_en"
   ]
  },
  {
   "cell_type": "markdown",
   "id": "c6503d8b-0fae-4d6f-8a20-f889ee57549d",
   "metadata": {},
   "source": [
    "### 从未逾期过的贷记卡及透支未超过 60 天的准贷记卡账户明细如下：\n",
    "略 -- 具体思路同 `信用卡 -- 逾期贷记卡`"
   ]
  },
  {
   "cell_type": "markdown",
   "id": "7ef61cfd-4165-42b0-ba4c-471e5af43330",
   "metadata": {},
   "source": [
    "#### -- 定义关键字段"
   ]
  },
  {
   "cell_type": "code",
   "execution_count": 95,
   "id": "63e03041-0321-42ca-9731-ddfd9628cefd",
   "metadata": {},
   "outputs": [],
   "source": [
    "en = 'non_overdue_credit_cards_and_quasi_credit_card_accounts_with_overdrafts_less_than_60_day'\n",
    "ch = '从未逾期过的贷记卡及透支未超过60天的准贷记卡账户明细如下'\n",
    "\n",
    "update_trans_dict(ch, en)"
   ]
  },
  {
   "cell_type": "markdown",
   "id": "9af1a916-60ab-4593-b48b-cd1e5c5d0bcc",
   "metadata": {},
   "source": [
    "- 结果矫正逻辑需人工总结\n",
    "- 关键字段需人工提前确定："
   ]
  },
  {
   "cell_type": "code",
   "execution_count": 191,
   "id": "e0f76276-8674-4009-8e28-7861f7de0ba4",
   "metadata": {},
   "outputs": [
    {
     "data": {
      "text/plain": [
       "{'发卡日期': 'card_issuing_date',\n",
       " '发卡机构': 'card_issuer',\n",
       " '账户币种': 'account_currency',\n",
       " '卡片尾号': 'card_suffix',\n",
       " '销户日期': 'account_canceling_date',\n",
       " '信用额度截至日期': 'reference_date',\n",
       " '是否激活': 'is_active',\n",
       " '信用额度': 'credit_limit',\n",
       " '已使用额度': 'credits_used',\n",
       " '总余额': 'total_balance',\n",
       " '未出单的大额专项分期余额': 'large_amount_of_unissued_special_installment_balance'}"
      ]
     },
     "execution_count": 191,
     "metadata": {},
     "output_type": "execute_result"
    }
   ],
   "source": [
    "xyk_wyqwtz_schema = ['发卡日期', '发卡机构','账户币种','卡片尾号', '销户日期']\n",
    "xyk_wyqwtz_schema.extend(['信用额度截至日期', '是否激活', '信用额度', '已使用额度', '总余额', '未出单的大额专项分期余额'])\n",
    "\n",
    "{k:key_2_English(k) for k in xyk_wyqwtz_schema}"
   ]
  },
  {
   "cell_type": "code",
   "execution_count": 93,
   "id": "7c3addd4-42af-4a1e-a754-85ffdf94aeb7",
   "metadata": {},
   "outputs": [
    {
     "data": {
      "text/plain": [
       "['发卡日期',\n",
       " '发卡机构',\n",
       " '账户币种',\n",
       " '卡片尾号',\n",
       " '销户日期',\n",
       " '信用额度截至日期',\n",
       " '是否激活',\n",
       " '信用额度',\n",
       " '已使用额度',\n",
       " '总余额',\n",
       " '未出单的大额专项分期余额']"
      ]
     },
     "execution_count": 93,
     "metadata": {},
     "output_type": "execute_result"
    }
   ],
   "source": [
    "xyk_wyqwtz_schema"
   ]
  },
  {
   "cell_type": "markdown",
   "id": "0aa9e0d4-3013-4ec3-92fe-73fab70de3f3",
   "metadata": {},
   "source": [
    "#### -- 数据"
   ]
  },
  {
   "cell_type": "code",
   "execution_count": 192,
   "id": "d0a91b86-86a5-434d-9b02-b2cb9264bbec",
   "metadata": {},
   "outputs": [
    {
     "data": {
      "text/plain": [
       "['2005年6月30日中国光大银行北京分行发放的贷记卡（美元账户，卡片尾号：0222）。截至2016年7月，信用额度6,800，余额5,000（含未出单的大额专项分期余额4,000）。',\n",
       " '2005年7月30日中国光大银行南京分行发放的贷记卡（美元账户）。截至2016年5月，信用额度6,800，已使用额度5,000。',\n",
       " '2006年7月1日招商银行发放的准贷记卡（人民币账户，卡片尾号：1111），2009年12月销户。',\n",
       " '2007年6月30日中国光大银行北京分行发放的贷记卡（人民币账户，卡片尾号：2122）。截至2016年7月尚未激活。']"
      ]
     },
     "execution_count": 192,
     "metadata": {},
     "output_type": "execute_result"
    }
   ],
   "source": [
    "xyk_wyqwtz_data = [\n",
    "    \"2005年6月30日中国光大银行北京分行发放的贷记卡（美元账户，卡片尾号：0222）。截至2016年7月，信用额度6,800，余额5,000（含未出单的大额专项分期余额4,000）。\",\n",
    "    \"2005年7月30日中国光大银行南京分行发放的贷记卡（美元账户）。截至2016年5月，信用额度6,800，已使用额度5,000。\",\n",
    "    \"2006年7月1日招商银行发放的准贷记卡（人民币账户，卡片尾号：1111），2009年12月销户。\",\n",
    "    \"2007年6月30日中国光大银行北京分行发放的贷记卡（人民币账户，卡片尾号：2122）。截至2016年7月尚未激活。\"\n",
    "]\n",
    "\n",
    "xyk_wyqwtz_data"
   ]
  },
  {
   "cell_type": "markdown",
   "id": "2e96a2c8-3fb2-4a75-a319-8c88dea516a9",
   "metadata": {},
   "source": [
    "#### -- uie-base"
   ]
  },
  {
   "cell_type": "code",
   "execution_count": 193,
   "id": "5a8c00c9-0d34-4cdb-8960-d2c2619c3e8a",
   "metadata": {},
   "outputs": [],
   "source": [
    "results = []\n",
    "for case in xyk_wyqwtz_data:\n",
    "    result = extract_info_from_taskflow(case=case, schema=xyk_wyqwtz_schema)\n",
    "    results.append(result)"
   ]
  },
  {
   "cell_type": "code",
   "execution_count": 80,
   "id": "e019e8dc-580f-4e28-b69b-6cfa0a71d7ae",
   "metadata": {},
   "outputs": [
    {
     "name": "stdout",
     "output_type": "stream",
     "text": [
      "2005年6月30日中国光大银行北京分行发放的贷记卡（美元账户，卡片尾号：0222）。截至2016年7月，信用额度6,800，余额5,000（含未出单的大额专项分期余额4,000）。\n"
     ]
    },
    {
     "data": {
      "text/html": [
       "<div>\n",
       "<style scoped>\n",
       "    .dataframe tbody tr th:only-of-type {\n",
       "        vertical-align: middle;\n",
       "    }\n",
       "\n",
       "    .dataframe tbody tr th {\n",
       "        vertical-align: top;\n",
       "    }\n",
       "\n",
       "    .dataframe thead th {\n",
       "        text-align: right;\n",
       "    }\n",
       "</style>\n",
       "<table border=\"1\" class=\"dataframe\">\n",
       "  <thead>\n",
       "    <tr style=\"text-align: right;\">\n",
       "      <th></th>\n",
       "      <th>key</th>\n",
       "      <th>value</th>\n",
       "    </tr>\n",
       "  </thead>\n",
       "  <tbody>\n",
       "    <tr>\n",
       "      <th>0</th>\n",
       "      <td>发卡日期</td>\n",
       "      <td>2005年6月30日</td>\n",
       "    </tr>\n",
       "    <tr>\n",
       "      <th>1</th>\n",
       "      <td>发卡机构</td>\n",
       "      <td>中国光大银行北京分行</td>\n",
       "    </tr>\n",
       "    <tr>\n",
       "      <th>2</th>\n",
       "      <td>账户币种</td>\n",
       "      <td>美元</td>\n",
       "    </tr>\n",
       "    <tr>\n",
       "      <th>3</th>\n",
       "      <td>卡片尾号</td>\n",
       "      <td>0222</td>\n",
       "    </tr>\n",
       "    <tr>\n",
       "      <th>4</th>\n",
       "      <td>销户日期</td>\n",
       "      <td>None</td>\n",
       "    </tr>\n",
       "    <tr>\n",
       "      <th>5</th>\n",
       "      <td>信用额度截至日期</td>\n",
       "      <td>2016年7月</td>\n",
       "    </tr>\n",
       "    <tr>\n",
       "      <th>6</th>\n",
       "      <td>是否激活</td>\n",
       "      <td>None</td>\n",
       "    </tr>\n",
       "    <tr>\n",
       "      <th>7</th>\n",
       "      <td>信用额度</td>\n",
       "      <td>6,800</td>\n",
       "    </tr>\n",
       "    <tr>\n",
       "      <th>8</th>\n",
       "      <td>已使用额度</td>\n",
       "      <td>6,800</td>\n",
       "    </tr>\n",
       "    <tr>\n",
       "      <th>9</th>\n",
       "      <td>总余额</td>\n",
       "      <td>5,000</td>\n",
       "    </tr>\n",
       "    <tr>\n",
       "      <th>10</th>\n",
       "      <td>未出单的大额专项分期余额</td>\n",
       "      <td>4,000</td>\n",
       "    </tr>\n",
       "  </tbody>\n",
       "</table>\n",
       "</div>"
      ],
      "text/plain": [
       "             key       value\n",
       "0           发卡日期  2005年6月30日\n",
       "1           发卡机构  中国光大银行北京分行\n",
       "2           账户币种          美元\n",
       "3           卡片尾号        0222\n",
       "4           销户日期        None\n",
       "5       信用额度截至日期     2016年7月\n",
       "6           是否激活        None\n",
       "7           信用额度       6,800\n",
       "8          已使用额度       6,800\n",
       "9            总余额       5,000\n",
       "10  未出单的大额专项分期余额       4,000"
      ]
     },
     "metadata": {},
     "output_type": "display_data"
    }
   ],
   "source": [
    "i = 0\n",
    "print(xyk_wyqwtz_data[i])\n",
    "display(pd.DataFrame(list(results[i].items()), columns=['key', 'value']))"
   ]
  },
  {
   "cell_type": "markdown",
   "id": "65fdc592-a377-4ba0-b78e-a1d3c02d326a",
   "metadata": {},
   "source": [
    "- 问题1：`已使用额度`不存在，但识别成`信用额度`"
   ]
  },
  {
   "cell_type": "code",
   "execution_count": 82,
   "id": "81419052-8431-4352-aa3a-80c030f9a3cf",
   "metadata": {},
   "outputs": [
    {
     "name": "stdout",
     "output_type": "stream",
     "text": [
      "2005年7月30日中国光大银行南京分行发放的贷记卡（美元账户）。截至2016年5月，信用额度6,800，已使用额度5,000。\n"
     ]
    },
    {
     "data": {
      "text/html": [
       "<div>\n",
       "<style scoped>\n",
       "    .dataframe tbody tr th:only-of-type {\n",
       "        vertical-align: middle;\n",
       "    }\n",
       "\n",
       "    .dataframe tbody tr th {\n",
       "        vertical-align: top;\n",
       "    }\n",
       "\n",
       "    .dataframe thead th {\n",
       "        text-align: right;\n",
       "    }\n",
       "</style>\n",
       "<table border=\"1\" class=\"dataframe\">\n",
       "  <thead>\n",
       "    <tr style=\"text-align: right;\">\n",
       "      <th></th>\n",
       "      <th>key</th>\n",
       "      <th>value</th>\n",
       "    </tr>\n",
       "  </thead>\n",
       "  <tbody>\n",
       "    <tr>\n",
       "      <th>0</th>\n",
       "      <td>发卡日期</td>\n",
       "      <td>2005年7月30日</td>\n",
       "    </tr>\n",
       "    <tr>\n",
       "      <th>1</th>\n",
       "      <td>发卡机构</td>\n",
       "      <td>中国光大银行南京分行</td>\n",
       "    </tr>\n",
       "    <tr>\n",
       "      <th>2</th>\n",
       "      <td>账户币种</td>\n",
       "      <td>美元</td>\n",
       "    </tr>\n",
       "    <tr>\n",
       "      <th>3</th>\n",
       "      <td>卡片尾号</td>\n",
       "      <td>None</td>\n",
       "    </tr>\n",
       "    <tr>\n",
       "      <th>4</th>\n",
       "      <td>销户日期</td>\n",
       "      <td>None</td>\n",
       "    </tr>\n",
       "    <tr>\n",
       "      <th>5</th>\n",
       "      <td>信用额度截至日期</td>\n",
       "      <td>2016年5月</td>\n",
       "    </tr>\n",
       "    <tr>\n",
       "      <th>6</th>\n",
       "      <td>是否激活</td>\n",
       "      <td>None</td>\n",
       "    </tr>\n",
       "    <tr>\n",
       "      <th>7</th>\n",
       "      <td>信用额度</td>\n",
       "      <td>6,800</td>\n",
       "    </tr>\n",
       "    <tr>\n",
       "      <th>8</th>\n",
       "      <td>已使用额度</td>\n",
       "      <td>5,000</td>\n",
       "    </tr>\n",
       "    <tr>\n",
       "      <th>9</th>\n",
       "      <td>总余额</td>\n",
       "      <td>None</td>\n",
       "    </tr>\n",
       "    <tr>\n",
       "      <th>10</th>\n",
       "      <td>未出单的大额专项分期余额</td>\n",
       "      <td>None</td>\n",
       "    </tr>\n",
       "  </tbody>\n",
       "</table>\n",
       "</div>"
      ],
      "text/plain": [
       "             key       value\n",
       "0           发卡日期  2005年7月30日\n",
       "1           发卡机构  中国光大银行南京分行\n",
       "2           账户币种          美元\n",
       "3           卡片尾号        None\n",
       "4           销户日期        None\n",
       "5       信用额度截至日期     2016年5月\n",
       "6           是否激活        None\n",
       "7           信用额度       6,800\n",
       "8          已使用额度       5,000\n",
       "9            总余额        None\n",
       "10  未出单的大额专项分期余额        None"
      ]
     },
     "metadata": {},
     "output_type": "display_data"
    }
   ],
   "source": [
    "i = 1\n",
    "print(xyk_wyqwtz_data[i])\n",
    "display(pd.DataFrame(list(results[i].items()), columns=['key', 'value']))"
   ]
  },
  {
   "cell_type": "code",
   "execution_count": 83,
   "id": "14e2e9e5-7411-430c-a2bd-36d6d6195c33",
   "metadata": {},
   "outputs": [
    {
     "name": "stdout",
     "output_type": "stream",
     "text": [
      "2006年7月1日招商银行发放的准贷记卡（人民币账户，卡片尾号：1111），2009年12月销户。\n"
     ]
    },
    {
     "data": {
      "text/html": [
       "<div>\n",
       "<style scoped>\n",
       "    .dataframe tbody tr th:only-of-type {\n",
       "        vertical-align: middle;\n",
       "    }\n",
       "\n",
       "    .dataframe tbody tr th {\n",
       "        vertical-align: top;\n",
       "    }\n",
       "\n",
       "    .dataframe thead th {\n",
       "        text-align: right;\n",
       "    }\n",
       "</style>\n",
       "<table border=\"1\" class=\"dataframe\">\n",
       "  <thead>\n",
       "    <tr style=\"text-align: right;\">\n",
       "      <th></th>\n",
       "      <th>key</th>\n",
       "      <th>value</th>\n",
       "    </tr>\n",
       "  </thead>\n",
       "  <tbody>\n",
       "    <tr>\n",
       "      <th>0</th>\n",
       "      <td>发卡日期</td>\n",
       "      <td>2006年7月1日</td>\n",
       "    </tr>\n",
       "    <tr>\n",
       "      <th>1</th>\n",
       "      <td>发卡机构</td>\n",
       "      <td>招商银行</td>\n",
       "    </tr>\n",
       "    <tr>\n",
       "      <th>2</th>\n",
       "      <td>账户币种</td>\n",
       "      <td>人民币</td>\n",
       "    </tr>\n",
       "    <tr>\n",
       "      <th>3</th>\n",
       "      <td>卡片尾号</td>\n",
       "      <td>1111</td>\n",
       "    </tr>\n",
       "    <tr>\n",
       "      <th>4</th>\n",
       "      <td>销户日期</td>\n",
       "      <td>2009年12月</td>\n",
       "    </tr>\n",
       "    <tr>\n",
       "      <th>5</th>\n",
       "      <td>信用额度截至日期</td>\n",
       "      <td>None</td>\n",
       "    </tr>\n",
       "    <tr>\n",
       "      <th>6</th>\n",
       "      <td>是否激活</td>\n",
       "      <td>None</td>\n",
       "    </tr>\n",
       "    <tr>\n",
       "      <th>7</th>\n",
       "      <td>信用额度</td>\n",
       "      <td>None</td>\n",
       "    </tr>\n",
       "    <tr>\n",
       "      <th>8</th>\n",
       "      <td>已使用额度</td>\n",
       "      <td>None</td>\n",
       "    </tr>\n",
       "    <tr>\n",
       "      <th>9</th>\n",
       "      <td>总余额</td>\n",
       "      <td>None</td>\n",
       "    </tr>\n",
       "    <tr>\n",
       "      <th>10</th>\n",
       "      <td>未出单的大额专项分期余额</td>\n",
       "      <td>None</td>\n",
       "    </tr>\n",
       "  </tbody>\n",
       "</table>\n",
       "</div>"
      ],
      "text/plain": [
       "             key      value\n",
       "0           发卡日期  2006年7月1日\n",
       "1           发卡机构       招商银行\n",
       "2           账户币种        人民币\n",
       "3           卡片尾号       1111\n",
       "4           销户日期   2009年12月\n",
       "5       信用额度截至日期       None\n",
       "6           是否激活       None\n",
       "7           信用额度       None\n",
       "8          已使用额度       None\n",
       "9            总余额       None\n",
       "10  未出单的大额专项分期余额       None"
      ]
     },
     "metadata": {},
     "output_type": "display_data"
    }
   ],
   "source": [
    "i = 2\n",
    "print(xyk_wyqwtz_data[i])\n",
    "display(pd.DataFrame(list(results[i].items()), columns=['key', 'value']))"
   ]
  },
  {
   "cell_type": "code",
   "execution_count": 84,
   "id": "d34c3d30-0439-46bd-987a-52fbf7cc9fde",
   "metadata": {},
   "outputs": [
    {
     "name": "stdout",
     "output_type": "stream",
     "text": [
      "2007年6月30日中国光大银行北京分行发放的贷记卡（人民币账户，卡片尾号：2122）。截至2016年7月尚未激活。\n"
     ]
    },
    {
     "data": {
      "text/html": [
       "<div>\n",
       "<style scoped>\n",
       "    .dataframe tbody tr th:only-of-type {\n",
       "        vertical-align: middle;\n",
       "    }\n",
       "\n",
       "    .dataframe tbody tr th {\n",
       "        vertical-align: top;\n",
       "    }\n",
       "\n",
       "    .dataframe thead th {\n",
       "        text-align: right;\n",
       "    }\n",
       "</style>\n",
       "<table border=\"1\" class=\"dataframe\">\n",
       "  <thead>\n",
       "    <tr style=\"text-align: right;\">\n",
       "      <th></th>\n",
       "      <th>key</th>\n",
       "      <th>value</th>\n",
       "    </tr>\n",
       "  </thead>\n",
       "  <tbody>\n",
       "    <tr>\n",
       "      <th>0</th>\n",
       "      <td>发卡日期</td>\n",
       "      <td>2007年6月30日</td>\n",
       "    </tr>\n",
       "    <tr>\n",
       "      <th>1</th>\n",
       "      <td>发卡机构</td>\n",
       "      <td>中国光大银行北京分行</td>\n",
       "    </tr>\n",
       "    <tr>\n",
       "      <th>2</th>\n",
       "      <td>账户币种</td>\n",
       "      <td>人民币</td>\n",
       "    </tr>\n",
       "    <tr>\n",
       "      <th>3</th>\n",
       "      <td>卡片尾号</td>\n",
       "      <td>2122</td>\n",
       "    </tr>\n",
       "    <tr>\n",
       "      <th>4</th>\n",
       "      <td>销户日期</td>\n",
       "      <td>None</td>\n",
       "    </tr>\n",
       "    <tr>\n",
       "      <th>5</th>\n",
       "      <td>信用额度截至日期</td>\n",
       "      <td>2016年7月</td>\n",
       "    </tr>\n",
       "    <tr>\n",
       "      <th>6</th>\n",
       "      <td>是否激活</td>\n",
       "      <td>None</td>\n",
       "    </tr>\n",
       "    <tr>\n",
       "      <th>7</th>\n",
       "      <td>信用额度</td>\n",
       "      <td>None</td>\n",
       "    </tr>\n",
       "    <tr>\n",
       "      <th>8</th>\n",
       "      <td>已使用额度</td>\n",
       "      <td>None</td>\n",
       "    </tr>\n",
       "    <tr>\n",
       "      <th>9</th>\n",
       "      <td>总余额</td>\n",
       "      <td>None</td>\n",
       "    </tr>\n",
       "    <tr>\n",
       "      <th>10</th>\n",
       "      <td>未出单的大额专项分期余额</td>\n",
       "      <td>None</td>\n",
       "    </tr>\n",
       "  </tbody>\n",
       "</table>\n",
       "</div>"
      ],
      "text/plain": [
       "             key       value\n",
       "0           发卡日期  2007年6月30日\n",
       "1           发卡机构  中国光大银行北京分行\n",
       "2           账户币种         人民币\n",
       "3           卡片尾号        2122\n",
       "4           销户日期        None\n",
       "5       信用额度截至日期     2016年7月\n",
       "6           是否激活        None\n",
       "7           信用额度        None\n",
       "8          已使用额度        None\n",
       "9            总余额        None\n",
       "10  未出单的大额专项分期余额        None"
      ]
     },
     "metadata": {},
     "output_type": "display_data"
    }
   ],
   "source": [
    "i = 3\n",
    "print(xyk_wyqwtz_data[i])\n",
    "display(pd.DataFrame(list(results[i].items()), columns=['key', 'value']))"
   ]
  },
  {
   "cell_type": "markdown",
   "id": "18b1d9df-2416-4ca2-b978-2d626e5ba2c7",
   "metadata": {},
   "source": [
    "- 问题2：`尚未激活`无法识别"
   ]
  },
  {
   "cell_type": "markdown",
   "id": "65c885f4-79e1-4039-a233-fa32d325d171",
   "metadata": {},
   "source": [
    "#### -- 修正"
   ]
  },
  {
   "cell_type": "code",
   "execution_count": 89,
   "id": "1fb6e1b8-4404-4341-a8a2-ff9f57bafb9e",
   "metadata": {},
   "outputs": [],
   "source": [
    "# def xyk_wyqwtz_result_fixing(case, result):\n",
    "#     \"\"\"\n",
    "#     修正逻辑：\n",
    "#         1. 若原文不含有`已使用额度`:\n",
    "#                 字段`已使用额度`改为None\n",
    "#         2. 若原文含有 `尚未激活`：\n",
    "#                 字段 `是否激活`改为是\n",
    "#     \"\"\"\n",
    "#     case = case.replace(\" \", \"\")  ## 删空格\n",
    "    \n",
    "#     if '已使用额度' not in case:\n",
    "#         result[\"已使用额度\"] = None\n",
    "\n",
    "#     if '尚未激活' in case:\n",
    "#         result[\"是否激活\"] = '否'\n",
    "\n",
    "#     return result"
   ]
  },
  {
   "cell_type": "code",
   "execution_count": 195,
   "id": "cbe4383c-0e6b-4c28-b47c-d2369cc56a41",
   "metadata": {},
   "outputs": [],
   "source": [
    "results_fixed = []\n",
    "for case, result in zip(xyk_wyqwtz_data, results):\n",
    "    result = text_result_fixing(case, result)\n",
    "    results_fixed.append(result)"
   ]
  },
  {
   "cell_type": "code",
   "execution_count": 196,
   "id": "80db6f1e-1594-40bc-82a3-b9be51ffc7c3",
   "metadata": {},
   "outputs": [
    {
     "name": "stdout",
     "output_type": "stream",
     "text": [
      "2005年6月30日中国光大银行北京分行发放的贷记卡（美元账户，卡片尾号：0222）。截至2016年7月，信用额度6,800，余额5,000（含未出单的大额专项分期余额4,000）。\n"
     ]
    },
    {
     "data": {
      "text/html": [
       "<div>\n",
       "<style scoped>\n",
       "    .dataframe tbody tr th:only-of-type {\n",
       "        vertical-align: middle;\n",
       "    }\n",
       "\n",
       "    .dataframe tbody tr th {\n",
       "        vertical-align: top;\n",
       "    }\n",
       "\n",
       "    .dataframe thead th {\n",
       "        text-align: right;\n",
       "    }\n",
       "</style>\n",
       "<table border=\"1\" class=\"dataframe\">\n",
       "  <thead>\n",
       "    <tr style=\"text-align: right;\">\n",
       "      <th></th>\n",
       "      <th>key</th>\n",
       "      <th>value</th>\n",
       "    </tr>\n",
       "  </thead>\n",
       "  <tbody>\n",
       "    <tr>\n",
       "      <th>0</th>\n",
       "      <td>发卡日期</td>\n",
       "      <td>2005年6月30日</td>\n",
       "    </tr>\n",
       "    <tr>\n",
       "      <th>1</th>\n",
       "      <td>发卡机构</td>\n",
       "      <td>中国光大银行北京分行</td>\n",
       "    </tr>\n",
       "    <tr>\n",
       "      <th>2</th>\n",
       "      <td>账户币种</td>\n",
       "      <td>美元</td>\n",
       "    </tr>\n",
       "    <tr>\n",
       "      <th>3</th>\n",
       "      <td>卡片尾号</td>\n",
       "      <td>0222</td>\n",
       "    </tr>\n",
       "    <tr>\n",
       "      <th>4</th>\n",
       "      <td>销户日期</td>\n",
       "      <td>None</td>\n",
       "    </tr>\n",
       "    <tr>\n",
       "      <th>5</th>\n",
       "      <td>信用额度截至日期</td>\n",
       "      <td>2016年7月</td>\n",
       "    </tr>\n",
       "    <tr>\n",
       "      <th>6</th>\n",
       "      <td>是否激活</td>\n",
       "      <td>None</td>\n",
       "    </tr>\n",
       "    <tr>\n",
       "      <th>7</th>\n",
       "      <td>信用额度</td>\n",
       "      <td>6,800</td>\n",
       "    </tr>\n",
       "    <tr>\n",
       "      <th>8</th>\n",
       "      <td>已使用额度</td>\n",
       "      <td>None</td>\n",
       "    </tr>\n",
       "    <tr>\n",
       "      <th>9</th>\n",
       "      <td>总余额</td>\n",
       "      <td>5,000</td>\n",
       "    </tr>\n",
       "    <tr>\n",
       "      <th>10</th>\n",
       "      <td>未出单的大额专项分期余额</td>\n",
       "      <td>4,000</td>\n",
       "    </tr>\n",
       "  </tbody>\n",
       "</table>\n",
       "</div>"
      ],
      "text/plain": [
       "             key       value\n",
       "0           发卡日期  2005年6月30日\n",
       "1           发卡机构  中国光大银行北京分行\n",
       "2           账户币种          美元\n",
       "3           卡片尾号        0222\n",
       "4           销户日期        None\n",
       "5       信用额度截至日期     2016年7月\n",
       "6           是否激活        None\n",
       "7           信用额度       6,800\n",
       "8          已使用额度        None\n",
       "9            总余额       5,000\n",
       "10  未出单的大额专项分期余额       4,000"
      ]
     },
     "metadata": {},
     "output_type": "display_data"
    },
    {
     "name": "stdout",
     "output_type": "stream",
     "text": [
      "2005年7月30日中国光大银行南京分行发放的贷记卡（美元账户）。截至2016年5月，信用额度6,800，已使用额度5,000。\n"
     ]
    },
    {
     "data": {
      "text/html": [
       "<div>\n",
       "<style scoped>\n",
       "    .dataframe tbody tr th:only-of-type {\n",
       "        vertical-align: middle;\n",
       "    }\n",
       "\n",
       "    .dataframe tbody tr th {\n",
       "        vertical-align: top;\n",
       "    }\n",
       "\n",
       "    .dataframe thead th {\n",
       "        text-align: right;\n",
       "    }\n",
       "</style>\n",
       "<table border=\"1\" class=\"dataframe\">\n",
       "  <thead>\n",
       "    <tr style=\"text-align: right;\">\n",
       "      <th></th>\n",
       "      <th>key</th>\n",
       "      <th>value</th>\n",
       "    </tr>\n",
       "  </thead>\n",
       "  <tbody>\n",
       "    <tr>\n",
       "      <th>0</th>\n",
       "      <td>发卡日期</td>\n",
       "      <td>2005年7月30日</td>\n",
       "    </tr>\n",
       "    <tr>\n",
       "      <th>1</th>\n",
       "      <td>发卡机构</td>\n",
       "      <td>中国光大银行南京分行</td>\n",
       "    </tr>\n",
       "    <tr>\n",
       "      <th>2</th>\n",
       "      <td>账户币种</td>\n",
       "      <td>美元</td>\n",
       "    </tr>\n",
       "    <tr>\n",
       "      <th>3</th>\n",
       "      <td>卡片尾号</td>\n",
       "      <td>None</td>\n",
       "    </tr>\n",
       "    <tr>\n",
       "      <th>4</th>\n",
       "      <td>销户日期</td>\n",
       "      <td>None</td>\n",
       "    </tr>\n",
       "    <tr>\n",
       "      <th>5</th>\n",
       "      <td>信用额度截至日期</td>\n",
       "      <td>2016年5月</td>\n",
       "    </tr>\n",
       "    <tr>\n",
       "      <th>6</th>\n",
       "      <td>是否激活</td>\n",
       "      <td>None</td>\n",
       "    </tr>\n",
       "    <tr>\n",
       "      <th>7</th>\n",
       "      <td>信用额度</td>\n",
       "      <td>6,800</td>\n",
       "    </tr>\n",
       "    <tr>\n",
       "      <th>8</th>\n",
       "      <td>已使用额度</td>\n",
       "      <td>5,000</td>\n",
       "    </tr>\n",
       "    <tr>\n",
       "      <th>9</th>\n",
       "      <td>总余额</td>\n",
       "      <td>None</td>\n",
       "    </tr>\n",
       "    <tr>\n",
       "      <th>10</th>\n",
       "      <td>未出单的大额专项分期余额</td>\n",
       "      <td>None</td>\n",
       "    </tr>\n",
       "  </tbody>\n",
       "</table>\n",
       "</div>"
      ],
      "text/plain": [
       "             key       value\n",
       "0           发卡日期  2005年7月30日\n",
       "1           发卡机构  中国光大银行南京分行\n",
       "2           账户币种          美元\n",
       "3           卡片尾号        None\n",
       "4           销户日期        None\n",
       "5       信用额度截至日期     2016年5月\n",
       "6           是否激活        None\n",
       "7           信用额度       6,800\n",
       "8          已使用额度       5,000\n",
       "9            总余额        None\n",
       "10  未出单的大额专项分期余额        None"
      ]
     },
     "metadata": {},
     "output_type": "display_data"
    },
    {
     "name": "stdout",
     "output_type": "stream",
     "text": [
      "2006年7月1日招商银行发放的准贷记卡（人民币账户，卡片尾号：1111），2009年12月销户。\n"
     ]
    },
    {
     "data": {
      "text/html": [
       "<div>\n",
       "<style scoped>\n",
       "    .dataframe tbody tr th:only-of-type {\n",
       "        vertical-align: middle;\n",
       "    }\n",
       "\n",
       "    .dataframe tbody tr th {\n",
       "        vertical-align: top;\n",
       "    }\n",
       "\n",
       "    .dataframe thead th {\n",
       "        text-align: right;\n",
       "    }\n",
       "</style>\n",
       "<table border=\"1\" class=\"dataframe\">\n",
       "  <thead>\n",
       "    <tr style=\"text-align: right;\">\n",
       "      <th></th>\n",
       "      <th>key</th>\n",
       "      <th>value</th>\n",
       "    </tr>\n",
       "  </thead>\n",
       "  <tbody>\n",
       "    <tr>\n",
       "      <th>0</th>\n",
       "      <td>发卡日期</td>\n",
       "      <td>2006年7月1日</td>\n",
       "    </tr>\n",
       "    <tr>\n",
       "      <th>1</th>\n",
       "      <td>发卡机构</td>\n",
       "      <td>招商银行</td>\n",
       "    </tr>\n",
       "    <tr>\n",
       "      <th>2</th>\n",
       "      <td>账户币种</td>\n",
       "      <td>人民币</td>\n",
       "    </tr>\n",
       "    <tr>\n",
       "      <th>3</th>\n",
       "      <td>卡片尾号</td>\n",
       "      <td>1111</td>\n",
       "    </tr>\n",
       "    <tr>\n",
       "      <th>4</th>\n",
       "      <td>销户日期</td>\n",
       "      <td>2009年12月</td>\n",
       "    </tr>\n",
       "    <tr>\n",
       "      <th>5</th>\n",
       "      <td>信用额度截至日期</td>\n",
       "      <td>None</td>\n",
       "    </tr>\n",
       "    <tr>\n",
       "      <th>6</th>\n",
       "      <td>是否激活</td>\n",
       "      <td>None</td>\n",
       "    </tr>\n",
       "    <tr>\n",
       "      <th>7</th>\n",
       "      <td>信用额度</td>\n",
       "      <td>None</td>\n",
       "    </tr>\n",
       "    <tr>\n",
       "      <th>8</th>\n",
       "      <td>已使用额度</td>\n",
       "      <td>None</td>\n",
       "    </tr>\n",
       "    <tr>\n",
       "      <th>9</th>\n",
       "      <td>总余额</td>\n",
       "      <td>None</td>\n",
       "    </tr>\n",
       "    <tr>\n",
       "      <th>10</th>\n",
       "      <td>未出单的大额专项分期余额</td>\n",
       "      <td>None</td>\n",
       "    </tr>\n",
       "  </tbody>\n",
       "</table>\n",
       "</div>"
      ],
      "text/plain": [
       "             key      value\n",
       "0           发卡日期  2006年7月1日\n",
       "1           发卡机构       招商银行\n",
       "2           账户币种        人民币\n",
       "3           卡片尾号       1111\n",
       "4           销户日期   2009年12月\n",
       "5       信用额度截至日期       None\n",
       "6           是否激活       None\n",
       "7           信用额度       None\n",
       "8          已使用额度       None\n",
       "9            总余额       None\n",
       "10  未出单的大额专项分期余额       None"
      ]
     },
     "metadata": {},
     "output_type": "display_data"
    },
    {
     "name": "stdout",
     "output_type": "stream",
     "text": [
      "2007年6月30日中国光大银行北京分行发放的贷记卡（人民币账户，卡片尾号：2122）。截至2016年7月尚未激活。\n"
     ]
    },
    {
     "data": {
      "text/html": [
       "<div>\n",
       "<style scoped>\n",
       "    .dataframe tbody tr th:only-of-type {\n",
       "        vertical-align: middle;\n",
       "    }\n",
       "\n",
       "    .dataframe tbody tr th {\n",
       "        vertical-align: top;\n",
       "    }\n",
       "\n",
       "    .dataframe thead th {\n",
       "        text-align: right;\n",
       "    }\n",
       "</style>\n",
       "<table border=\"1\" class=\"dataframe\">\n",
       "  <thead>\n",
       "    <tr style=\"text-align: right;\">\n",
       "      <th></th>\n",
       "      <th>key</th>\n",
       "      <th>value</th>\n",
       "    </tr>\n",
       "  </thead>\n",
       "  <tbody>\n",
       "    <tr>\n",
       "      <th>0</th>\n",
       "      <td>发卡日期</td>\n",
       "      <td>2007年6月30日</td>\n",
       "    </tr>\n",
       "    <tr>\n",
       "      <th>1</th>\n",
       "      <td>发卡机构</td>\n",
       "      <td>中国光大银行北京分行</td>\n",
       "    </tr>\n",
       "    <tr>\n",
       "      <th>2</th>\n",
       "      <td>账户币种</td>\n",
       "      <td>人民币</td>\n",
       "    </tr>\n",
       "    <tr>\n",
       "      <th>3</th>\n",
       "      <td>卡片尾号</td>\n",
       "      <td>2122</td>\n",
       "    </tr>\n",
       "    <tr>\n",
       "      <th>4</th>\n",
       "      <td>销户日期</td>\n",
       "      <td>None</td>\n",
       "    </tr>\n",
       "    <tr>\n",
       "      <th>5</th>\n",
       "      <td>信用额度截至日期</td>\n",
       "      <td>2016年7月</td>\n",
       "    </tr>\n",
       "    <tr>\n",
       "      <th>6</th>\n",
       "      <td>是否激活</td>\n",
       "      <td>否</td>\n",
       "    </tr>\n",
       "    <tr>\n",
       "      <th>7</th>\n",
       "      <td>信用额度</td>\n",
       "      <td>None</td>\n",
       "    </tr>\n",
       "    <tr>\n",
       "      <th>8</th>\n",
       "      <td>已使用额度</td>\n",
       "      <td>None</td>\n",
       "    </tr>\n",
       "    <tr>\n",
       "      <th>9</th>\n",
       "      <td>总余额</td>\n",
       "      <td>None</td>\n",
       "    </tr>\n",
       "    <tr>\n",
       "      <th>10</th>\n",
       "      <td>未出单的大额专项分期余额</td>\n",
       "      <td>None</td>\n",
       "    </tr>\n",
       "  </tbody>\n",
       "</table>\n",
       "</div>"
      ],
      "text/plain": [
       "             key       value\n",
       "0           发卡日期  2007年6月30日\n",
       "1           发卡机构  中国光大银行北京分行\n",
       "2           账户币种         人民币\n",
       "3           卡片尾号        2122\n",
       "4           销户日期        None\n",
       "5       信用额度截至日期     2016年7月\n",
       "6           是否激活           否\n",
       "7           信用额度        None\n",
       "8          已使用额度        None\n",
       "9            总余额        None\n",
       "10  未出单的大额专项分期余额        None"
      ]
     },
     "metadata": {},
     "output_type": "display_data"
    }
   ],
   "source": [
    "for case, result in zip(xyk_wyqwtz_data, results):\n",
    "    print(case)\n",
    "    display(pd.DataFrame(list(result.items()), columns=['key', 'value']))"
   ]
  },
  {
   "cell_type": "markdown",
   "id": "8c564cc2-e62d-491b-aa00-463404d8681d",
   "metadata": {},
   "source": [
    "#### -- key_2_en"
   ]
  },
  {
   "cell_type": "code",
   "execution_count": 197,
   "id": "44977544-8a4e-4707-ac9f-f45e4e93903c",
   "metadata": {},
   "outputs": [
    {
     "data": {
      "text/plain": [
       "[{'card_issuing_date': '2005年6月30日',\n",
       "  'card_issuer': '中国光大银行北京分行',\n",
       "  'account_currency': '美元',\n",
       "  'card_suffix': '0222',\n",
       "  'account_canceling_date': None,\n",
       "  'reference_date': '2016年7月',\n",
       "  'is_active': None,\n",
       "  'credit_limit': '6,800',\n",
       "  'credits_used': None,\n",
       "  'total_balance': '5,000',\n",
       "  'large_amount_of_unissued_special_installment_balance': '4,000'},\n",
       " {'card_issuing_date': '2005年7月30日',\n",
       "  'card_issuer': '中国光大银行南京分行',\n",
       "  'account_currency': '美元',\n",
       "  'card_suffix': None,\n",
       "  'account_canceling_date': None,\n",
       "  'reference_date': '2016年5月',\n",
       "  'is_active': None,\n",
       "  'credit_limit': '6,800',\n",
       "  'credits_used': '5,000',\n",
       "  'total_balance': None,\n",
       "  'large_amount_of_unissued_special_installment_balance': None},\n",
       " {'card_issuing_date': '2006年7月1日',\n",
       "  'card_issuer': '招商银行',\n",
       "  'account_currency': '人民币',\n",
       "  'card_suffix': '1111',\n",
       "  'account_canceling_date': '2009年12月',\n",
       "  'reference_date': None,\n",
       "  'is_active': None,\n",
       "  'credit_limit': None,\n",
       "  'credits_used': None,\n",
       "  'total_balance': None,\n",
       "  'large_amount_of_unissued_special_installment_balance': None},\n",
       " {'card_issuing_date': '2007年6月30日',\n",
       "  'card_issuer': '中国光大银行北京分行',\n",
       "  'account_currency': '人民币',\n",
       "  'card_suffix': '2122',\n",
       "  'account_canceling_date': None,\n",
       "  'reference_date': '2016年7月',\n",
       "  'is_active': '否',\n",
       "  'credit_limit': None,\n",
       "  'credits_used': None,\n",
       "  'total_balance': None,\n",
       "  'large_amount_of_unissued_special_installment_balance': None}]"
      ]
     },
     "execution_count": 197,
     "metadata": {},
     "output_type": "execute_result"
    }
   ],
   "source": [
    "results_en = []\n",
    "\n",
    "for result in results_fixed:\n",
    "    result_en = {key_2_English(k):v for k,v in result.items()}\n",
    "    results_en.append(result_en)\n",
    "\n",
    "results_en"
   ]
  },
  {
   "cell_type": "markdown",
   "id": "69da3f66-e386-4ac3-b885-df899537863d",
   "metadata": {},
   "source": [
    "## 贷款"
   ]
  },
  {
   "cell_type": "markdown",
   "id": "e5e3af40-c54a-4aba-a5b9-66305ea28f35",
   "metadata": {},
   "source": [
    "### 发生过逾期的账户明细如下：\n",
    "略 -- 具体思路同 `信用卡 -- 逾期贷记卡`"
   ]
  },
  {
   "cell_type": "markdown",
   "id": "84416bbb-5fc1-4429-b203-429b6e331817",
   "metadata": {},
   "source": [
    "#### -- 定义字段"
   ]
  },
  {
   "cell_type": "markdown",
   "id": "1d7b462c-5b86-45e2-af16-71eee0291717",
   "metadata": {},
   "source": [
    "- 结果矫正逻辑需人工总结\n",
    "- 关键字段需人工提前确定："
   ]
  },
  {
   "cell_type": "code",
   "execution_count": 83,
   "id": "dc6dc5c1-253f-43a5-abe9-ec2a537d9626",
   "metadata": {},
   "outputs": [
    {
     "name": "stdout",
     "output_type": "stream",
     "text": [
      "credit_records loans account_details_with_overdue_occurrences\n"
     ]
    }
   ],
   "source": [
    "print(key_2_English(\"信贷记录\"), key_2_English(\"贷款\"), key_2_English(\"发生过逾期的账户明细如下\"))"
   ]
  },
  {
   "cell_type": "code",
   "execution_count": 16,
   "id": "ab764142-ba9f-44e1-bfec-675e0c5c49ae",
   "metadata": {
    "scrolled": true
   },
   "outputs": [
    {
     "data": {
      "text/plain": [
       "{'贷款发放日期': 'loan_release_date',\n",
       " '贷款发放机构': 'loan_issuer',\n",
       " '贷款发放数额': 'loan_disbursement_amount',\n",
       " '贷款币种': 'loan_currency',\n",
       " '贷款种类': 'loan_type',\n",
       " '是否为其他机构转入': 'whether_to_transfer_to_another_institution',\n",
       " '贷款到期日期': 'loan_maturity_date',\n",
       " '余额截至日期': 'balance_reference_date',\n",
       " '余额数目': 'remaining_balance',\n",
       " '当前有无逾期': 'is_currently_overdue',\n",
       " '近5年处于逾期状态月数': 'number_of_months_overdue_in_the_last_5_years',\n",
       " '逾期超过90天月数': 'number_of_months_overdue_for_more_than_90_days'}"
      ]
     },
     "execution_count": 16,
     "metadata": {},
     "output_type": "execute_result"
    }
   ],
   "source": [
    "dk_yq_schema = ['贷款发放日期', '贷款发放机构', '贷款发放数额', '贷款币种','贷款种类', '是否为其他机构转入', '贷款到期日期']\n",
    "dk_yq_schema.extend(['余额截至日期', '余额数目', '当前有无逾期'])\n",
    "dk_yq_schema.extend(['近5年处于逾期状态月数','逾期超过90天月数'])\n",
    "\n",
    "{k:key_2_English(k) for k in dk_yq_schema}"
   ]
  },
  {
   "cell_type": "markdown",
   "id": "b11f5ec3-3365-4a06-9f15-6a8a236aed0f",
   "metadata": {},
   "source": [
    "#### -- data"
   ]
  },
  {
   "cell_type": "code",
   "execution_count": 5,
   "id": "27b853cc-6833-430d-9614-751c8c0de0ff",
   "metadata": {},
   "outputs": [
    {
     "data": {
      "text/plain": [
       "['2008年8月30日中国农业银行北京发放的600,000元（美元折人民币）住房贷款（其他机构转入），2028年8月30日到期。截至2016年7月，余额为572,750，当前有逾期。最近5年内有1个月处于逾期状态，没有发生过90天以上逾期。',\n",
       " '2008年9月30日中国农业银行北京分行发放的100,000元（人民币）汽车贷款，2018年8月30日到期。截至2016年7月，余额为72,750，当前无逾期。最近5年内有2个月处于逾期状态，没有发生过90天以上逾期。']"
      ]
     },
     "execution_count": 5,
     "metadata": {},
     "output_type": "execute_result"
    }
   ],
   "source": [
    "dk_yq_data = [\n",
    "    \"2008年8月30日中国农业银行北京发放的600,000元（美元折人民币）住房贷款（其他机构转入），2028年8月30日到期。截至2016年7月，余额为572,750，当前有逾期。最近5年内有1个月处于逾期状态，没有发生过90天以上逾期。\",\n",
    "    \"2008年9月30日中国农业银行北京分行发放的100,000元（人民币）汽车贷款，2018年8月30日到期。截至2016年7月，余额为72,750，当前无逾期。最近5年内有2个月处于逾期状态，没有发生过90天以上逾期。\"\n",
    "]\n",
    "\n",
    "dk_yq_data"
   ]
  },
  {
   "cell_type": "markdown",
   "id": "39396541-fc9f-49e4-a52d-0a6d656baadd",
   "metadata": {},
   "source": [
    "#### -- uie base"
   ]
  },
  {
   "cell_type": "code",
   "execution_count": 45,
   "id": "9acbcb5e-a87f-4109-a4d9-378cf9016563",
   "metadata": {},
   "outputs": [],
   "source": [
    "results = []\n",
    "for case in dk_yq_data:\n",
    "    result = extract_info_from_taskflow(case=case, schema=dk_yq_schema)\n",
    "    results.append(result)"
   ]
  },
  {
   "cell_type": "code",
   "execution_count": 46,
   "id": "1fa3cf4f-381e-43e5-aa12-f482d72a88be",
   "metadata": {},
   "outputs": [
    {
     "name": "stdout",
     "output_type": "stream",
     "text": [
      "2008年8月30日中国农业银行北京发放的600,000元（美元折人民币）住房贷款（其他机构转入），2028年8月30日到期。截至2016年7月，余额为572,750，当前有逾期。最近5年内有1个月处于逾期状态，没有发生过90天以上逾期。\n"
     ]
    },
    {
     "data": {
      "text/html": [
       "<div>\n",
       "<style scoped>\n",
       "    .dataframe tbody tr th:only-of-type {\n",
       "        vertical-align: middle;\n",
       "    }\n",
       "\n",
       "    .dataframe tbody tr th {\n",
       "        vertical-align: top;\n",
       "    }\n",
       "\n",
       "    .dataframe thead th {\n",
       "        text-align: right;\n",
       "    }\n",
       "</style>\n",
       "<table border=\"1\" class=\"dataframe\">\n",
       "  <thead>\n",
       "    <tr style=\"text-align: right;\">\n",
       "      <th></th>\n",
       "      <th>key</th>\n",
       "      <th>value</th>\n",
       "    </tr>\n",
       "  </thead>\n",
       "  <tbody>\n",
       "    <tr>\n",
       "      <th>0</th>\n",
       "      <td>贷款发放日期</td>\n",
       "      <td>2008年8月30日</td>\n",
       "    </tr>\n",
       "    <tr>\n",
       "      <th>1</th>\n",
       "      <td>贷款发放机构</td>\n",
       "      <td>中国农业银行</td>\n",
       "    </tr>\n",
       "    <tr>\n",
       "      <th>2</th>\n",
       "      <td>贷款发放数额</td>\n",
       "      <td>600,000元</td>\n",
       "    </tr>\n",
       "    <tr>\n",
       "      <th>3</th>\n",
       "      <td>贷款币种</td>\n",
       "      <td>None</td>\n",
       "    </tr>\n",
       "    <tr>\n",
       "      <th>4</th>\n",
       "      <td>贷款种类</td>\n",
       "      <td>住房贷款</td>\n",
       "    </tr>\n",
       "    <tr>\n",
       "      <th>5</th>\n",
       "      <td>是否为其他机构转入</td>\n",
       "      <td>None</td>\n",
       "    </tr>\n",
       "    <tr>\n",
       "      <th>6</th>\n",
       "      <td>贷款到期日期</td>\n",
       "      <td>2028年8月30日</td>\n",
       "    </tr>\n",
       "    <tr>\n",
       "      <th>7</th>\n",
       "      <td>余额截至日期</td>\n",
       "      <td>2016年7月</td>\n",
       "    </tr>\n",
       "    <tr>\n",
       "      <th>8</th>\n",
       "      <td>余额数目</td>\n",
       "      <td>572,750</td>\n",
       "    </tr>\n",
       "    <tr>\n",
       "      <th>9</th>\n",
       "      <td>当前有无逾期</td>\n",
       "      <td>None</td>\n",
       "    </tr>\n",
       "    <tr>\n",
       "      <th>10</th>\n",
       "      <td>近5年处于逾期状态月数</td>\n",
       "      <td>1个月</td>\n",
       "    </tr>\n",
       "    <tr>\n",
       "      <th>11</th>\n",
       "      <td>逾期超过90天月数</td>\n",
       "      <td>None</td>\n",
       "    </tr>\n",
       "  </tbody>\n",
       "</table>\n",
       "</div>"
      ],
      "text/plain": [
       "            key       value\n",
       "0        贷款发放日期  2008年8月30日\n",
       "1        贷款发放机构      中国农业银行\n",
       "2        贷款发放数额    600,000元\n",
       "3          贷款币种        None\n",
       "4          贷款种类        住房贷款\n",
       "5     是否为其他机构转入        None\n",
       "6        贷款到期日期  2028年8月30日\n",
       "7        余额截至日期     2016年7月\n",
       "8          余额数目     572,750\n",
       "9        当前有无逾期        None\n",
       "10  近5年处于逾期状态月数         1个月\n",
       "11    逾期超过90天月数        None"
      ]
     },
     "metadata": {},
     "output_type": "display_data"
    }
   ],
   "source": [
    "i = 0\n",
    "print(dk_yq_data[i])\n",
    "display(pd.DataFrame(list(results[i].items()), columns=['key', 'value']))"
   ]
  },
  {
   "cell_type": "markdown",
   "id": "c674b29b-4cd8-47c2-96ba-56a0040511d6",
   "metadata": {},
   "source": [
    "- ！贷款币种\n",
    "- ！是否为其他机构转入\n",
    "- ！当前有无逾期"
   ]
  },
  {
   "cell_type": "code",
   "execution_count": 47,
   "id": "72d2ff58-b0cc-4705-8e19-6c80b32ed629",
   "metadata": {},
   "outputs": [
    {
     "name": "stdout",
     "output_type": "stream",
     "text": [
      "2008年9月30日中国农业银行北京分行发放的100,000元（人民币）汽车贷款，2018年8月30日到期。截至2016年7月，余额为72,750，当前无逾期。最近5年内有2个月处于逾期状态，没有发生过90天以上逾期。\n"
     ]
    },
    {
     "data": {
      "text/html": [
       "<div>\n",
       "<style scoped>\n",
       "    .dataframe tbody tr th:only-of-type {\n",
       "        vertical-align: middle;\n",
       "    }\n",
       "\n",
       "    .dataframe tbody tr th {\n",
       "        vertical-align: top;\n",
       "    }\n",
       "\n",
       "    .dataframe thead th {\n",
       "        text-align: right;\n",
       "    }\n",
       "</style>\n",
       "<table border=\"1\" class=\"dataframe\">\n",
       "  <thead>\n",
       "    <tr style=\"text-align: right;\">\n",
       "      <th></th>\n",
       "      <th>key</th>\n",
       "      <th>value</th>\n",
       "    </tr>\n",
       "  </thead>\n",
       "  <tbody>\n",
       "    <tr>\n",
       "      <th>0</th>\n",
       "      <td>贷款发放日期</td>\n",
       "      <td>2008年9月30日</td>\n",
       "    </tr>\n",
       "    <tr>\n",
       "      <th>1</th>\n",
       "      <td>贷款发放机构</td>\n",
       "      <td>中国农业银行北京分行</td>\n",
       "    </tr>\n",
       "    <tr>\n",
       "      <th>2</th>\n",
       "      <td>贷款发放数额</td>\n",
       "      <td>100,000元</td>\n",
       "    </tr>\n",
       "    <tr>\n",
       "      <th>3</th>\n",
       "      <td>贷款币种</td>\n",
       "      <td>None</td>\n",
       "    </tr>\n",
       "    <tr>\n",
       "      <th>4</th>\n",
       "      <td>贷款种类</td>\n",
       "      <td>None</td>\n",
       "    </tr>\n",
       "    <tr>\n",
       "      <th>5</th>\n",
       "      <td>是否为其他机构转入</td>\n",
       "      <td>None</td>\n",
       "    </tr>\n",
       "    <tr>\n",
       "      <th>6</th>\n",
       "      <td>贷款到期日期</td>\n",
       "      <td>2018年8月30日</td>\n",
       "    </tr>\n",
       "    <tr>\n",
       "      <th>7</th>\n",
       "      <td>余额截至日期</td>\n",
       "      <td>2016年7月</td>\n",
       "    </tr>\n",
       "    <tr>\n",
       "      <th>8</th>\n",
       "      <td>余额数目</td>\n",
       "      <td>72,750</td>\n",
       "    </tr>\n",
       "    <tr>\n",
       "      <th>9</th>\n",
       "      <td>当前有无逾期</td>\n",
       "      <td>None</td>\n",
       "    </tr>\n",
       "    <tr>\n",
       "      <th>10</th>\n",
       "      <td>近5年处于逾期状态月数</td>\n",
       "      <td>2个月</td>\n",
       "    </tr>\n",
       "    <tr>\n",
       "      <th>11</th>\n",
       "      <td>逾期超过90天月数</td>\n",
       "      <td>None</td>\n",
       "    </tr>\n",
       "  </tbody>\n",
       "</table>\n",
       "</div>"
      ],
      "text/plain": [
       "            key       value\n",
       "0        贷款发放日期  2008年9月30日\n",
       "1        贷款发放机构  中国农业银行北京分行\n",
       "2        贷款发放数额    100,000元\n",
       "3          贷款币种        None\n",
       "4          贷款种类        None\n",
       "5     是否为其他机构转入        None\n",
       "6        贷款到期日期  2018年8月30日\n",
       "7        余额截至日期     2016年7月\n",
       "8          余额数目      72,750\n",
       "9        当前有无逾期        None\n",
       "10  近5年处于逾期状态月数         2个月\n",
       "11    逾期超过90天月数        None"
      ]
     },
     "metadata": {},
     "output_type": "display_data"
    }
   ],
   "source": [
    "i = 1\n",
    "print(dk_yq_data[i])\n",
    "display(pd.DataFrame(list(results[i].items()), columns=['key', 'value']))"
   ]
  },
  {
   "cell_type": "code",
   "execution_count": null,
   "id": "98bf05b5-273c-49c9-9263-6602963178b3",
   "metadata": {},
   "outputs": [],
   "source": [
    "- 当前有无逾期\n",
    "- 贷款种类"
   ]
  },
  {
   "cell_type": "code",
   "execution_count": 50,
   "id": "90da79aa-7284-4079-ac55-074c6cfe7850",
   "metadata": {},
   "outputs": [
    {
     "data": {
      "text/plain": [
       "{'贷款发放日期': '2008年9月30日',\n",
       " '贷款发放机构': '中国农业银行北京分行',\n",
       " '贷款发放数额': '100,000元',\n",
       " '贷款币种': None,\n",
       " '贷款种类': None,\n",
       " '是否为其他机构转入': None,\n",
       " '贷款到期日期': '2008年9月30日',\n",
       " '余额截至日期': '2008年9月30日',\n",
       " '余额数目': '100,000元',\n",
       " '当前有无逾期': None,\n",
       " '近5年处于逾期状态月数': '2个月',\n",
       " '逾期超过90天月数': '14个月'}"
      ]
     },
     "execution_count": 50,
     "metadata": {},
     "output_type": "execute_result"
    }
   ],
   "source": [
    "case = \"2008年9月30日中国农业银行北京分行发放的100,000元（人民币）汽车贷款。当前无逾期。最近5年内有2个月处于逾期状态，其中14个月逾期超过90天。\"\n",
    "extract_info_from_taskflow(case=case, schema=dk_yq_schema)"
   ]
  },
  {
   "cell_type": "markdown",
   "id": "2a49793a-c384-4cb3-809c-29cdf72fe306",
   "metadata": {},
   "source": [
    "- ！截至\n",
    "- ！到期"
   ]
  },
  {
   "cell_type": "markdown",
   "id": "502eb712-b016-4458-b1b1-50f9c78d17cf",
   "metadata": {},
   "source": [
    "#### -- 修正"
   ]
  },
  {
   "cell_type": "code",
   "execution_count": 76,
   "id": "c7967f57-6e5c-4c1c-ae0a-28678653797e",
   "metadata": {},
   "outputs": [],
   "source": []
  },
  {
   "cell_type": "code",
   "execution_count": 77,
   "id": "2d472446-3da8-4767-b385-e4b18b30b702",
   "metadata": {},
   "outputs": [],
   "source": [
    "results_fixed = []\n",
    "for case, result in zip(dk_yq_data, results):\n",
    "    result = text_result_fixing(case, result)\n",
    "    results_fixed.append(result)"
   ]
  },
  {
   "cell_type": "code",
   "execution_count": 79,
   "id": "0572a36e-2dbd-4ce3-94ae-7354120226fb",
   "metadata": {},
   "outputs": [
    {
     "name": "stdout",
     "output_type": "stream",
     "text": [
      "2008年8月30日中国农业银行北京发放的600,000元（美元折人民币）住房贷款（其他机构转入），2028年8月30日到期。截至2016年7月，余额为572,750，当前有逾期。最近5年内有1个月处于逾期状态，没有发生过90天以上逾期。\n"
     ]
    },
    {
     "data": {
      "text/html": [
       "<div>\n",
       "<style scoped>\n",
       "    .dataframe tbody tr th:only-of-type {\n",
       "        vertical-align: middle;\n",
       "    }\n",
       "\n",
       "    .dataframe tbody tr th {\n",
       "        vertical-align: top;\n",
       "    }\n",
       "\n",
       "    .dataframe thead th {\n",
       "        text-align: right;\n",
       "    }\n",
       "</style>\n",
       "<table border=\"1\" class=\"dataframe\">\n",
       "  <thead>\n",
       "    <tr style=\"text-align: right;\">\n",
       "      <th></th>\n",
       "      <th>key</th>\n",
       "      <th>value</th>\n",
       "    </tr>\n",
       "  </thead>\n",
       "  <tbody>\n",
       "    <tr>\n",
       "      <th>0</th>\n",
       "      <td>贷款发放日期</td>\n",
       "      <td>2008年8月30日</td>\n",
       "    </tr>\n",
       "    <tr>\n",
       "      <th>1</th>\n",
       "      <td>贷款发放机构</td>\n",
       "      <td>中国农业银行</td>\n",
       "    </tr>\n",
       "    <tr>\n",
       "      <th>2</th>\n",
       "      <td>贷款发放数额</td>\n",
       "      <td>600,000元</td>\n",
       "    </tr>\n",
       "    <tr>\n",
       "      <th>3</th>\n",
       "      <td>贷款币种</td>\n",
       "      <td>美元折人民币</td>\n",
       "    </tr>\n",
       "    <tr>\n",
       "      <th>4</th>\n",
       "      <td>贷款种类</td>\n",
       "      <td>住房贷款</td>\n",
       "    </tr>\n",
       "    <tr>\n",
       "      <th>5</th>\n",
       "      <td>是否为其他机构转入</td>\n",
       "      <td>是</td>\n",
       "    </tr>\n",
       "    <tr>\n",
       "      <th>6</th>\n",
       "      <td>贷款到期日期</td>\n",
       "      <td>2028年8月30日</td>\n",
       "    </tr>\n",
       "    <tr>\n",
       "      <th>7</th>\n",
       "      <td>余额截至日期</td>\n",
       "      <td>2016年7月</td>\n",
       "    </tr>\n",
       "    <tr>\n",
       "      <th>8</th>\n",
       "      <td>余额数目</td>\n",
       "      <td>572,750</td>\n",
       "    </tr>\n",
       "    <tr>\n",
       "      <th>9</th>\n",
       "      <td>当前有无逾期</td>\n",
       "      <td>有</td>\n",
       "    </tr>\n",
       "    <tr>\n",
       "      <th>10</th>\n",
       "      <td>近5年处于逾期状态月数</td>\n",
       "      <td>1个月</td>\n",
       "    </tr>\n",
       "    <tr>\n",
       "      <th>11</th>\n",
       "      <td>逾期超过90天月数</td>\n",
       "      <td>None</td>\n",
       "    </tr>\n",
       "  </tbody>\n",
       "</table>\n",
       "</div>"
      ],
      "text/plain": [
       "            key       value\n",
       "0        贷款发放日期  2008年8月30日\n",
       "1        贷款发放机构      中国农业银行\n",
       "2        贷款发放数额    600,000元\n",
       "3          贷款币种      美元折人民币\n",
       "4          贷款种类        住房贷款\n",
       "5     是否为其他机构转入           是\n",
       "6        贷款到期日期  2028年8月30日\n",
       "7        余额截至日期     2016年7月\n",
       "8          余额数目     572,750\n",
       "9        当前有无逾期           有\n",
       "10  近5年处于逾期状态月数         1个月\n",
       "11    逾期超过90天月数        None"
      ]
     },
     "metadata": {},
     "output_type": "display_data"
    },
    {
     "name": "stdout",
     "output_type": "stream",
     "text": [
      "2008年9月30日中国农业银行北京分行发放的100,000元（人民币）汽车贷款，2018年8月30日到期。截至2016年7月，余额为72,750，当前无逾期。最近5年内有2个月处于逾期状态，没有发生过90天以上逾期。\n"
     ]
    },
    {
     "data": {
      "text/html": [
       "<div>\n",
       "<style scoped>\n",
       "    .dataframe tbody tr th:only-of-type {\n",
       "        vertical-align: middle;\n",
       "    }\n",
       "\n",
       "    .dataframe tbody tr th {\n",
       "        vertical-align: top;\n",
       "    }\n",
       "\n",
       "    .dataframe thead th {\n",
       "        text-align: right;\n",
       "    }\n",
       "</style>\n",
       "<table border=\"1\" class=\"dataframe\">\n",
       "  <thead>\n",
       "    <tr style=\"text-align: right;\">\n",
       "      <th></th>\n",
       "      <th>key</th>\n",
       "      <th>value</th>\n",
       "    </tr>\n",
       "  </thead>\n",
       "  <tbody>\n",
       "    <tr>\n",
       "      <th>0</th>\n",
       "      <td>贷款发放日期</td>\n",
       "      <td>2008年9月30日</td>\n",
       "    </tr>\n",
       "    <tr>\n",
       "      <th>1</th>\n",
       "      <td>贷款发放机构</td>\n",
       "      <td>中国农业银行北京分行</td>\n",
       "    </tr>\n",
       "    <tr>\n",
       "      <th>2</th>\n",
       "      <td>贷款发放数额</td>\n",
       "      <td>100,000元</td>\n",
       "    </tr>\n",
       "    <tr>\n",
       "      <th>3</th>\n",
       "      <td>贷款币种</td>\n",
       "      <td>人民币</td>\n",
       "    </tr>\n",
       "    <tr>\n",
       "      <th>4</th>\n",
       "      <td>贷款种类</td>\n",
       "      <td>汽车贷款</td>\n",
       "    </tr>\n",
       "    <tr>\n",
       "      <th>5</th>\n",
       "      <td>是否为其他机构转入</td>\n",
       "      <td>None</td>\n",
       "    </tr>\n",
       "    <tr>\n",
       "      <th>6</th>\n",
       "      <td>贷款到期日期</td>\n",
       "      <td>2018年8月30日</td>\n",
       "    </tr>\n",
       "    <tr>\n",
       "      <th>7</th>\n",
       "      <td>余额截至日期</td>\n",
       "      <td>2016年7月</td>\n",
       "    </tr>\n",
       "    <tr>\n",
       "      <th>8</th>\n",
       "      <td>余额数目</td>\n",
       "      <td>72,750</td>\n",
       "    </tr>\n",
       "    <tr>\n",
       "      <th>9</th>\n",
       "      <td>当前有无逾期</td>\n",
       "      <td>无</td>\n",
       "    </tr>\n",
       "    <tr>\n",
       "      <th>10</th>\n",
       "      <td>近5年处于逾期状态月数</td>\n",
       "      <td>2个月</td>\n",
       "    </tr>\n",
       "    <tr>\n",
       "      <th>11</th>\n",
       "      <td>逾期超过90天月数</td>\n",
       "      <td>None</td>\n",
       "    </tr>\n",
       "  </tbody>\n",
       "</table>\n",
       "</div>"
      ],
      "text/plain": [
       "            key       value\n",
       "0        贷款发放日期  2008年9月30日\n",
       "1        贷款发放机构  中国农业银行北京分行\n",
       "2        贷款发放数额    100,000元\n",
       "3          贷款币种         人民币\n",
       "4          贷款种类        汽车贷款\n",
       "5     是否为其他机构转入        None\n",
       "6        贷款到期日期  2018年8月30日\n",
       "7        余额截至日期     2016年7月\n",
       "8          余额数目      72,750\n",
       "9        当前有无逾期           无\n",
       "10  近5年处于逾期状态月数         2个月\n",
       "11    逾期超过90天月数        None"
      ]
     },
     "metadata": {},
     "output_type": "display_data"
    }
   ],
   "source": [
    "for case, result in zip(dk_yq_data, results_fixed):\n",
    "    print(case)\n",
    "    display(pd.DataFrame(list(result.items()), columns=['key', 'value']))"
   ]
  },
  {
   "cell_type": "markdown",
   "id": "77230d04-c1e9-4107-8d67-a19b1ac9ee7c",
   "metadata": {},
   "source": [
    "#### -- key 2 en"
   ]
  },
  {
   "cell_type": "code",
   "execution_count": 80,
   "id": "43b138a7-84db-414f-b7d6-e3d0fe42a467",
   "metadata": {},
   "outputs": [
    {
     "data": {
      "text/plain": [
       "[{'loan_release_date': '2008年8月30日',\n",
       "  'loan_issuer': '中国农业银行',\n",
       "  'loan_disbursement_amount': '600,000元',\n",
       "  'loan_currency': '美元折人民币',\n",
       "  'loan_type': '住房贷款',\n",
       "  'whether_to_transfer_to_another_institution': '是',\n",
       "  'loan_maturity_date': '2028年8月30日',\n",
       "  'balance_reference_date': '2016年7月',\n",
       "  'remaining_balance': '572,750',\n",
       "  'is_currently_overdue': '有',\n",
       "  'number_of_months_overdue_in_the_last_5_years': '1个月',\n",
       "  'number_of_months_overdue_for_more_than_90_days': None},\n",
       " {'loan_release_date': '2008年9月30日',\n",
       "  'loan_issuer': '中国农业银行北京分行',\n",
       "  'loan_disbursement_amount': '100,000元',\n",
       "  'loan_currency': '人民币',\n",
       "  'loan_type': '汽车贷款',\n",
       "  'whether_to_transfer_to_another_institution': None,\n",
       "  'loan_maturity_date': '2018年8月30日',\n",
       "  'balance_reference_date': '2016年7月',\n",
       "  'remaining_balance': '72,750',\n",
       "  'is_currently_overdue': '无',\n",
       "  'number_of_months_overdue_in_the_last_5_years': '2个月',\n",
       "  'number_of_months_overdue_for_more_than_90_days': None}]"
      ]
     },
     "execution_count": 80,
     "metadata": {},
     "output_type": "execute_result"
    }
   ],
   "source": [
    "results_en = []\n",
    "\n",
    "for result in results_fixed:\n",
    "    result_en = {key_2_English(k):v for k,v in result.items()}\n",
    "    results_en.append(result_en)\n",
    "\n",
    "results_en"
   ]
  },
  {
   "cell_type": "code",
   "execution_count": null,
   "id": "e6464327-d35e-407d-8361-84999f0c31ca",
   "metadata": {},
   "outputs": [],
   "source": []
  },
  {
   "cell_type": "code",
   "execution_count": null,
   "id": "3dd0a10d-c38d-4f0d-a5c6-deb99734f6bb",
   "metadata": {},
   "outputs": [],
   "source": []
  },
  {
   "cell_type": "markdown",
   "id": "146a3959-c9a7-4ab6-b9c5-5ab4da3f6afb",
   "metadata": {},
   "source": [
    "### 从未逾期过的账户明细如下：\n",
    "略 -- 具体思路同 `信用卡 -- 逾期贷记卡`"
   ]
  },
  {
   "cell_type": "markdown",
   "id": "71dcad88-9738-4941-9316-cc7811a22006",
   "metadata": {},
   "source": [
    "#### -- keys"
   ]
  },
  {
   "cell_type": "markdown",
   "id": "387d1ff5-01f6-4aed-84df-1904c70e6882",
   "metadata": {},
   "source": [
    "- 结果矫正逻辑需人工总结\n",
    "- 关键字段需人工提前确定："
   ]
  },
  {
   "cell_type": "code",
   "execution_count": 126,
   "id": "cfb7d677-b066-41ef-a1a7-17d841f28cca",
   "metadata": {},
   "outputs": [
    {
     "data": {
      "text/plain": [
       "'account_details_with_no_overdue_occurrences'"
      ]
     },
     "execution_count": 126,
     "metadata": {},
     "output_type": "execute_result"
    }
   ],
   "source": [
    "key_2_English(\"从未逾期过的账户明细如下\")"
   ]
  },
  {
   "cell_type": "code",
   "execution_count": 15,
   "id": "fb43e99d-d2d5-44ec-8355-d1646407062d",
   "metadata": {},
   "outputs": [
    {
     "data": {
      "text/plain": [
       "{'贷款发放日期': 'loan_release_date',\n",
       " '贷款发放机构': 'loan_issuer',\n",
       " '贷款发放数额': 'loan_disbursement_amount',\n",
       " '贷款币种': 'loan_currency',\n",
       " '贷款种类': 'loan_type',\n",
       " '结清日期': 'date_of_settlement',\n",
       " '贷款到期日期': 'loan_maturity_date',\n",
       " '余额截至日期': 'balance_reference_date',\n",
       " '余额数目': 'remaining_balance'}"
      ]
     },
     "execution_count": 15,
     "metadata": {},
     "output_type": "execute_result"
    }
   ],
   "source": [
    "dk_wyq_schema = ['贷款发放日期', '贷款发放机构', '贷款发放数额', '贷款币种','贷款种类', '结清日期', '贷款到期日期']\n",
    "dk_wyq_schema.extend(['余额截至日期', '余额数目'])\n",
    "\n",
    "{k:key_2_English(k) for k in dk_wyq_schema}"
   ]
  },
  {
   "cell_type": "code",
   "execution_count": 16,
   "id": "c5669f8f-88e6-4299-bbb2-d3bf81f6b747",
   "metadata": {},
   "outputs": [
    {
     "data": {
      "text/plain": [
       "['贷款发放日期',\n",
       " '贷款发放机构',\n",
       " '贷款发放数额',\n",
       " '贷款币种',\n",
       " '贷款种类',\n",
       " '结清日期',\n",
       " '贷款到期日期',\n",
       " '余额截至日期',\n",
       " '余额数目']"
      ]
     },
     "execution_count": 16,
     "metadata": {},
     "output_type": "execute_result"
    }
   ],
   "source": [
    "dk_wyq_schema"
   ]
  },
  {
   "cell_type": "markdown",
   "id": "52aaf41c-73fc-4c3b-971b-9987357d8715",
   "metadata": {},
   "source": [
    "#### -- data"
   ]
  },
  {
   "cell_type": "code",
   "execution_count": 101,
   "id": "bc9f7f6d-10ae-489e-9610-6a25f78a33a5",
   "metadata": {},
   "outputs": [],
   "source": [
    "# raw = \"\"\"\n",
    "# 3. 2010 年 5 月 8 日北京银行金融街支行发放的 200,000 元（人民币）住房贷款，2029 年 5 月 8 日到期。截至 2016 年 7 月，余\n",
    "# 额 50,000。\n",
    "# 4. 2012 年 5 月 8 日中信银行知春路支行发放的 100,000 元（人民币）个人经营性贷款，2019 年 5 月 8 日到期。截至 2016 年 7\n",
    "# 月，余额 50,000。\n",
    "# 5. 2013 年 4 月 15 日福特汽车金融公司发放的 100,000 元（人民币）汽车贷款，2013 年 4 月 15 日到期。截至 2016 年 7 月，余\n",
    "# 额 50,000。\n",
    "# 6. 2011 年 9 月 10 日招商银行金融街支行发放的 300,000 元（人民币）住房贷款，2015 年 12 月已结清。\n",
    "# \"\"\""
   ]
  },
  {
   "cell_type": "code",
   "execution_count": 102,
   "id": "3632c68c-df74-494d-b7c1-e5a9bb5d38c3",
   "metadata": {},
   "outputs": [
    {
     "data": {
      "text/plain": [
       "['2010年5月8日北京银行金融街支行发放的200,000元（人民币）住房贷款，2029年5月8日到期。截至2016年7月，余额50,000。',\n",
       " '2012年5月8日中信银行知春路支行发放的100,000元（人民币）个人经营性贷款，2019年5月8日到期。截至2016年7月，余额50,000。',\n",
       " '2013年4月15日福特汽车金融公司发放的100,000元（人民币）汽车贷款，2013年4月15日到期。截至2016年7月，余额50,000。',\n",
       " '2011年9月10日招商银行金融街支行发放的300,000元（人民币）住房贷款，2015年12月已结清。']"
      ]
     },
     "execution_count": 102,
     "metadata": {},
     "output_type": "execute_result"
    }
   ],
   "source": [
    "# cases = split_cases_by_idx_from_paragraph(raw)\n",
    "# cases"
   ]
  },
  {
   "cell_type": "code",
   "execution_count": 130,
   "id": "fb360c75-86ca-47a1-bbc4-48bb2343a89f",
   "metadata": {},
   "outputs": [
    {
     "data": {
      "text/plain": [
       "['2010年5月8日北京银行金融街支行发放的200,000元（人民币）住房贷款，2029年5月8日到期。截至2016年7月，余额50,000。',\n",
       " '2012年5月8日中信银行知春路支行发放的100,000元（人民币）个人经营性贷款，2019年5月8日到期。截至2016年7月，余额50,000。',\n",
       " '2013年4月15日福特汽车金融公司发放的100,000元（人民币）汽车贷款，2013年4月15日到期。截至2016年7月，余额50,000。',\n",
       " '2011年9月10日招商银行金融街支行发放的300,000元（人民币）住房贷款，2015年12月已结清。']"
      ]
     },
     "execution_count": 130,
     "metadata": {},
     "output_type": "execute_result"
    }
   ],
   "source": [
    "dk_wyq_data = ['2010年5月8日北京银行金融街支行发放的200,000元（人民币）住房贷款，2029年5月8日到期。截至2016年7月，余额50,000。',\n",
    " '2012年5月8日中信银行知春路支行发放的100,000元（人民币）个人经营性贷款，2019年5月8日到期。截至2016年7月，余额50,000。',\n",
    " '2013年4月15日福特汽车金融公司发放的100,000元（人民币）汽车贷款，2013年4月15日到期。截至2016年7月，余额50,000。',\n",
    " '2011年9月10日招商银行金融街支行发放的300,000元（人民币）住房贷款，2015年12月已结清。']\n",
    "\n",
    "dk_wyq_data"
   ]
  },
  {
   "cell_type": "markdown",
   "id": "de220506-ed96-42be-b7ae-20cc93f0a267",
   "metadata": {},
   "source": [
    "#### -- uie base"
   ]
  },
  {
   "cell_type": "code",
   "execution_count": 114,
   "id": "45916ab3-2925-4d26-b745-cea442f47165",
   "metadata": {},
   "outputs": [],
   "source": [
    "dk_wyq_results = []\n",
    "for case in dk_wyq_data:\n",
    "    result = extract_info_from_taskflow(case=case, schema=dk_wyq_schema)\n",
    "    dk_wyq_results.append(result)"
   ]
  },
  {
   "cell_type": "code",
   "execution_count": 115,
   "id": "56354562-be04-49b5-82d1-a6cfd344858f",
   "metadata": {},
   "outputs": [
    {
     "name": "stdout",
     "output_type": "stream",
     "text": [
      "2010年5月8日北京银行金融街支行发放的200,000元（人民币）住房贷款，2029年5月8日到期。截至2016年7月，余额50,000。\n"
     ]
    },
    {
     "data": {
      "text/html": [
       "<div>\n",
       "<style scoped>\n",
       "    .dataframe tbody tr th:only-of-type {\n",
       "        vertical-align: middle;\n",
       "    }\n",
       "\n",
       "    .dataframe tbody tr th {\n",
       "        vertical-align: top;\n",
       "    }\n",
       "\n",
       "    .dataframe thead th {\n",
       "        text-align: right;\n",
       "    }\n",
       "</style>\n",
       "<table border=\"1\" class=\"dataframe\">\n",
       "  <thead>\n",
       "    <tr style=\"text-align: right;\">\n",
       "      <th></th>\n",
       "      <th>key</th>\n",
       "      <th>value</th>\n",
       "    </tr>\n",
       "  </thead>\n",
       "  <tbody>\n",
       "    <tr>\n",
       "      <th>0</th>\n",
       "      <td>贷款发放日期</td>\n",
       "      <td>2010年5月8日</td>\n",
       "    </tr>\n",
       "    <tr>\n",
       "      <th>1</th>\n",
       "      <td>贷款发放机构</td>\n",
       "      <td>北京银行金融街支行</td>\n",
       "    </tr>\n",
       "    <tr>\n",
       "      <th>2</th>\n",
       "      <td>贷款发放数额</td>\n",
       "      <td>200,000元</td>\n",
       "    </tr>\n",
       "    <tr>\n",
       "      <th>3</th>\n",
       "      <td>贷款币种</td>\n",
       "      <td>None</td>\n",
       "    </tr>\n",
       "    <tr>\n",
       "      <th>4</th>\n",
       "      <td>贷款种类</td>\n",
       "      <td>None</td>\n",
       "    </tr>\n",
       "    <tr>\n",
       "      <th>5</th>\n",
       "      <td>结清日期</td>\n",
       "      <td>2029年5月8日</td>\n",
       "    </tr>\n",
       "    <tr>\n",
       "      <th>6</th>\n",
       "      <td>贷款到期日期</td>\n",
       "      <td>2029年5月8日</td>\n",
       "    </tr>\n",
       "    <tr>\n",
       "      <th>7</th>\n",
       "      <td>余额截至日期</td>\n",
       "      <td>2016年7月</td>\n",
       "    </tr>\n",
       "    <tr>\n",
       "      <th>8</th>\n",
       "      <td>余额数目</td>\n",
       "      <td>50,000</td>\n",
       "    </tr>\n",
       "  </tbody>\n",
       "</table>\n",
       "</div>"
      ],
      "text/plain": [
       "      key      value\n",
       "0  贷款发放日期  2010年5月8日\n",
       "1  贷款发放机构  北京银行金融街支行\n",
       "2  贷款发放数额   200,000元\n",
       "3    贷款币种       None\n",
       "4    贷款种类       None\n",
       "5    结清日期  2029年5月8日\n",
       "6  贷款到期日期  2029年5月8日\n",
       "7  余额截至日期    2016年7月\n",
       "8    余额数目     50,000"
      ]
     },
     "metadata": {},
     "output_type": "display_data"
    }
   ],
   "source": [
    "i = 0\n",
    "print(dk_wyq_data[i])\n",
    "display(pd.DataFrame(list(dk_wyq_results[i].items()), columns=['key', 'value']))"
   ]
  },
  {
   "cell_type": "markdown",
   "id": "92db8db8-f24f-4c27-a3bd-8237320d49d7",
   "metadata": {},
   "source": [
    "- ！贷款币种\n",
    "- ！贷款种类\n",
    "- ！结清日期"
   ]
  },
  {
   "cell_type": "code",
   "execution_count": 116,
   "id": "42b3da95-7886-4fcc-9d12-350ee8bb5492",
   "metadata": {},
   "outputs": [
    {
     "name": "stdout",
     "output_type": "stream",
     "text": [
      "2012年5月8日中信银行知春路支行发放的100,000元（人民币）个人经营性贷款，2019年5月8日到期。截至2016年7月，余额50,000。\n"
     ]
    },
    {
     "data": {
      "text/html": [
       "<div>\n",
       "<style scoped>\n",
       "    .dataframe tbody tr th:only-of-type {\n",
       "        vertical-align: middle;\n",
       "    }\n",
       "\n",
       "    .dataframe tbody tr th {\n",
       "        vertical-align: top;\n",
       "    }\n",
       "\n",
       "    .dataframe thead th {\n",
       "        text-align: right;\n",
       "    }\n",
       "</style>\n",
       "<table border=\"1\" class=\"dataframe\">\n",
       "  <thead>\n",
       "    <tr style=\"text-align: right;\">\n",
       "      <th></th>\n",
       "      <th>key</th>\n",
       "      <th>value</th>\n",
       "    </tr>\n",
       "  </thead>\n",
       "  <tbody>\n",
       "    <tr>\n",
       "      <th>0</th>\n",
       "      <td>贷款发放日期</td>\n",
       "      <td>2012年5月8日</td>\n",
       "    </tr>\n",
       "    <tr>\n",
       "      <th>1</th>\n",
       "      <td>贷款发放机构</td>\n",
       "      <td>中信银行知春路支行</td>\n",
       "    </tr>\n",
       "    <tr>\n",
       "      <th>2</th>\n",
       "      <td>贷款发放数额</td>\n",
       "      <td>100,000元</td>\n",
       "    </tr>\n",
       "    <tr>\n",
       "      <th>3</th>\n",
       "      <td>贷款币种</td>\n",
       "      <td>None</td>\n",
       "    </tr>\n",
       "    <tr>\n",
       "      <th>4</th>\n",
       "      <td>贷款种类</td>\n",
       "      <td>None</td>\n",
       "    </tr>\n",
       "    <tr>\n",
       "      <th>5</th>\n",
       "      <td>结清日期</td>\n",
       "      <td>2019年5月8日</td>\n",
       "    </tr>\n",
       "    <tr>\n",
       "      <th>6</th>\n",
       "      <td>贷款到期日期</td>\n",
       "      <td>2019年5月8日</td>\n",
       "    </tr>\n",
       "    <tr>\n",
       "      <th>7</th>\n",
       "      <td>余额截至日期</td>\n",
       "      <td>2016年7月</td>\n",
       "    </tr>\n",
       "    <tr>\n",
       "      <th>8</th>\n",
       "      <td>余额数目</td>\n",
       "      <td>50,000</td>\n",
       "    </tr>\n",
       "  </tbody>\n",
       "</table>\n",
       "</div>"
      ],
      "text/plain": [
       "      key      value\n",
       "0  贷款发放日期  2012年5月8日\n",
       "1  贷款发放机构  中信银行知春路支行\n",
       "2  贷款发放数额   100,000元\n",
       "3    贷款币种       None\n",
       "4    贷款种类       None\n",
       "5    结清日期  2019年5月8日\n",
       "6  贷款到期日期  2019年5月8日\n",
       "7  余额截至日期    2016年7月\n",
       "8    余额数目     50,000"
      ]
     },
     "metadata": {},
     "output_type": "display_data"
    }
   ],
   "source": [
    "i = 1\n",
    "print(dk_wyq_data[i])\n",
    "display(pd.DataFrame(list(dk_wyq_results[i].items()), columns=['key', 'value']))"
   ]
  },
  {
   "cell_type": "markdown",
   "id": "98a39a83-f79d-41a0-a35c-4b3db17b3f93",
   "metadata": {},
   "source": [
    "- 贷款币种，贷款种类，结清日期"
   ]
  },
  {
   "cell_type": "code",
   "execution_count": 117,
   "id": "75e0d35e-c469-4524-9737-187be2c544b2",
   "metadata": {},
   "outputs": [
    {
     "name": "stdout",
     "output_type": "stream",
     "text": [
      "2013年4月15日福特汽车金融公司发放的100,000元（人民币）汽车贷款，2013年4月15日到期。截至2016年7月，余额50,000。\n"
     ]
    },
    {
     "data": {
      "text/html": [
       "<div>\n",
       "<style scoped>\n",
       "    .dataframe tbody tr th:only-of-type {\n",
       "        vertical-align: middle;\n",
       "    }\n",
       "\n",
       "    .dataframe tbody tr th {\n",
       "        vertical-align: top;\n",
       "    }\n",
       "\n",
       "    .dataframe thead th {\n",
       "        text-align: right;\n",
       "    }\n",
       "</style>\n",
       "<table border=\"1\" class=\"dataframe\">\n",
       "  <thead>\n",
       "    <tr style=\"text-align: right;\">\n",
       "      <th></th>\n",
       "      <th>key</th>\n",
       "      <th>value</th>\n",
       "    </tr>\n",
       "  </thead>\n",
       "  <tbody>\n",
       "    <tr>\n",
       "      <th>0</th>\n",
       "      <td>贷款发放日期</td>\n",
       "      <td>2013年4月15日</td>\n",
       "    </tr>\n",
       "    <tr>\n",
       "      <th>1</th>\n",
       "      <td>贷款发放机构</td>\n",
       "      <td>福特汽车金融公司</td>\n",
       "    </tr>\n",
       "    <tr>\n",
       "      <th>2</th>\n",
       "      <td>贷款发放数额</td>\n",
       "      <td>100,000元</td>\n",
       "    </tr>\n",
       "    <tr>\n",
       "      <th>3</th>\n",
       "      <td>贷款币种</td>\n",
       "      <td>None</td>\n",
       "    </tr>\n",
       "    <tr>\n",
       "      <th>4</th>\n",
       "      <td>贷款种类</td>\n",
       "      <td>None</td>\n",
       "    </tr>\n",
       "    <tr>\n",
       "      <th>5</th>\n",
       "      <td>结清日期</td>\n",
       "      <td>2013年4月15日</td>\n",
       "    </tr>\n",
       "    <tr>\n",
       "      <th>6</th>\n",
       "      <td>贷款到期日期</td>\n",
       "      <td>2013年4月15日</td>\n",
       "    </tr>\n",
       "    <tr>\n",
       "      <th>7</th>\n",
       "      <td>余额截至日期</td>\n",
       "      <td>2016年7月</td>\n",
       "    </tr>\n",
       "    <tr>\n",
       "      <th>8</th>\n",
       "      <td>余额数目</td>\n",
       "      <td>50,000</td>\n",
       "    </tr>\n",
       "  </tbody>\n",
       "</table>\n",
       "</div>"
      ],
      "text/plain": [
       "      key       value\n",
       "0  贷款发放日期  2013年4月15日\n",
       "1  贷款发放机构    福特汽车金融公司\n",
       "2  贷款发放数额    100,000元\n",
       "3    贷款币种        None\n",
       "4    贷款种类        None\n",
       "5    结清日期  2013年4月15日\n",
       "6  贷款到期日期  2013年4月15日\n",
       "7  余额截至日期     2016年7月\n",
       "8    余额数目      50,000"
      ]
     },
     "metadata": {},
     "output_type": "display_data"
    }
   ],
   "source": [
    "i = 2\n",
    "print(dk_wyq_data[i])\n",
    "display(pd.DataFrame(list(dk_wyq_results[i].items()), columns=['key', 'value']))"
   ]
  },
  {
   "cell_type": "markdown",
   "id": "49b83316-c20e-4ea4-8f96-54d63159ae12",
   "metadata": {},
   "source": [
    "- 贷款币种，贷款种类，结清日期"
   ]
  },
  {
   "cell_type": "code",
   "execution_count": 118,
   "id": "d2fe2ebe-1ccf-489d-b440-96af02d2816b",
   "metadata": {},
   "outputs": [
    {
     "name": "stdout",
     "output_type": "stream",
     "text": [
      "2011年9月10日招商银行金融街支行发放的300,000元（人民币）住房贷款，2015年12月已结清。\n"
     ]
    },
    {
     "data": {
      "text/html": [
       "<div>\n",
       "<style scoped>\n",
       "    .dataframe tbody tr th:only-of-type {\n",
       "        vertical-align: middle;\n",
       "    }\n",
       "\n",
       "    .dataframe tbody tr th {\n",
       "        vertical-align: top;\n",
       "    }\n",
       "\n",
       "    .dataframe thead th {\n",
       "        text-align: right;\n",
       "    }\n",
       "</style>\n",
       "<table border=\"1\" class=\"dataframe\">\n",
       "  <thead>\n",
       "    <tr style=\"text-align: right;\">\n",
       "      <th></th>\n",
       "      <th>key</th>\n",
       "      <th>value</th>\n",
       "    </tr>\n",
       "  </thead>\n",
       "  <tbody>\n",
       "    <tr>\n",
       "      <th>0</th>\n",
       "      <td>贷款发放日期</td>\n",
       "      <td>2011年9月10日</td>\n",
       "    </tr>\n",
       "    <tr>\n",
       "      <th>1</th>\n",
       "      <td>贷款发放机构</td>\n",
       "      <td>招商银行金融街支行</td>\n",
       "    </tr>\n",
       "    <tr>\n",
       "      <th>2</th>\n",
       "      <td>贷款发放数额</td>\n",
       "      <td>300,000元</td>\n",
       "    </tr>\n",
       "    <tr>\n",
       "      <th>3</th>\n",
       "      <td>贷款币种</td>\n",
       "      <td>None</td>\n",
       "    </tr>\n",
       "    <tr>\n",
       "      <th>4</th>\n",
       "      <td>贷款种类</td>\n",
       "      <td>None</td>\n",
       "    </tr>\n",
       "    <tr>\n",
       "      <th>5</th>\n",
       "      <td>结清日期</td>\n",
       "      <td>2015年12月</td>\n",
       "    </tr>\n",
       "    <tr>\n",
       "      <th>6</th>\n",
       "      <td>贷款到期日期</td>\n",
       "      <td>2011年9月10日</td>\n",
       "    </tr>\n",
       "    <tr>\n",
       "      <th>7</th>\n",
       "      <td>余额截至日期</td>\n",
       "      <td>2015年12月</td>\n",
       "    </tr>\n",
       "    <tr>\n",
       "      <th>8</th>\n",
       "      <td>余额数目</td>\n",
       "      <td>300,000元</td>\n",
       "    </tr>\n",
       "  </tbody>\n",
       "</table>\n",
       "</div>"
      ],
      "text/plain": [
       "      key       value\n",
       "0  贷款发放日期  2011年9月10日\n",
       "1  贷款发放机构   招商银行金融街支行\n",
       "2  贷款发放数额    300,000元\n",
       "3    贷款币种        None\n",
       "4    贷款种类        None\n",
       "5    结清日期    2015年12月\n",
       "6  贷款到期日期  2011年9月10日\n",
       "7  余额截至日期    2015年12月\n",
       "8    余额数目    300,000元"
      ]
     },
     "metadata": {},
     "output_type": "display_data"
    }
   ],
   "source": [
    "i = 3\n",
    "print(dk_wyq_data[i])\n",
    "display(pd.DataFrame(list(dk_wyq_results[i].items()), columns=['key', 'value']))"
   ]
  },
  {
   "cell_type": "markdown",
   "id": "7c93411e-4ebe-4f72-9b78-7f770ae09fd7",
   "metadata": {},
   "source": [
    "- ！贷款到期日期\n",
    "- ！余额截至日期\n",
    "- ！余额数目\n",
    "- 贷款币种 + 贷款种类 + 结清日期"
   ]
  },
  {
   "cell_type": "markdown",
   "id": "d31936b4-b8f2-4517-8181-f8bb3bc4a075",
   "metadata": {},
   "source": [
    "\n",
    "#### -- fix"
   ]
  },
  {
   "cell_type": "code",
   "execution_count": 120,
   "id": "fee02723-2b05-4450-8cd4-67d3b808b7f5",
   "metadata": {},
   "outputs": [],
   "source": []
  },
  {
   "cell_type": "code",
   "execution_count": 121,
   "id": "814f71f7-7687-43d8-90a6-540753899db6",
   "metadata": {},
   "outputs": [],
   "source": [
    "dk_wyq_results_fixed = []\n",
    "for case, result in zip(dk_wyq_data, dk_wyq_results):\n",
    "    result = text_result_fixing(case, result)\n",
    "    dk_wyq_results_fixed.append(result)"
   ]
  },
  {
   "cell_type": "code",
   "execution_count": 123,
   "id": "bcc6cc38-4fff-419f-bbbd-e646277ba41c",
   "metadata": {},
   "outputs": [
    {
     "name": "stdout",
     "output_type": "stream",
     "text": [
      "2010年5月8日北京银行金融街支行发放的200,000元（人民币）住房贷款，2029年5月8日到期。截至2016年7月，余额50,000。\n"
     ]
    },
    {
     "data": {
      "text/html": [
       "<div>\n",
       "<style scoped>\n",
       "    .dataframe tbody tr th:only-of-type {\n",
       "        vertical-align: middle;\n",
       "    }\n",
       "\n",
       "    .dataframe tbody tr th {\n",
       "        vertical-align: top;\n",
       "    }\n",
       "\n",
       "    .dataframe thead th {\n",
       "        text-align: right;\n",
       "    }\n",
       "</style>\n",
       "<table border=\"1\" class=\"dataframe\">\n",
       "  <thead>\n",
       "    <tr style=\"text-align: right;\">\n",
       "      <th></th>\n",
       "      <th>key</th>\n",
       "      <th>value</th>\n",
       "    </tr>\n",
       "  </thead>\n",
       "  <tbody>\n",
       "    <tr>\n",
       "      <th>0</th>\n",
       "      <td>贷款发放日期</td>\n",
       "      <td>2010年5月8日</td>\n",
       "    </tr>\n",
       "    <tr>\n",
       "      <th>1</th>\n",
       "      <td>贷款发放机构</td>\n",
       "      <td>北京银行金融街支行</td>\n",
       "    </tr>\n",
       "    <tr>\n",
       "      <th>2</th>\n",
       "      <td>贷款发放数额</td>\n",
       "      <td>200,000元</td>\n",
       "    </tr>\n",
       "    <tr>\n",
       "      <th>3</th>\n",
       "      <td>贷款币种</td>\n",
       "      <td>人民币</td>\n",
       "    </tr>\n",
       "    <tr>\n",
       "      <th>4</th>\n",
       "      <td>贷款种类</td>\n",
       "      <td>住房贷款</td>\n",
       "    </tr>\n",
       "    <tr>\n",
       "      <th>5</th>\n",
       "      <td>结清日期</td>\n",
       "      <td>None</td>\n",
       "    </tr>\n",
       "    <tr>\n",
       "      <th>6</th>\n",
       "      <td>贷款到期日期</td>\n",
       "      <td>2029年5月8日</td>\n",
       "    </tr>\n",
       "    <tr>\n",
       "      <th>7</th>\n",
       "      <td>余额截至日期</td>\n",
       "      <td>2016年7月</td>\n",
       "    </tr>\n",
       "    <tr>\n",
       "      <th>8</th>\n",
       "      <td>余额数目</td>\n",
       "      <td>50,000</td>\n",
       "    </tr>\n",
       "  </tbody>\n",
       "</table>\n",
       "</div>"
      ],
      "text/plain": [
       "      key      value\n",
       "0  贷款发放日期  2010年5月8日\n",
       "1  贷款发放机构  北京银行金融街支行\n",
       "2  贷款发放数额   200,000元\n",
       "3    贷款币种        人民币\n",
       "4    贷款种类       住房贷款\n",
       "5    结清日期       None\n",
       "6  贷款到期日期  2029年5月8日\n",
       "7  余额截至日期    2016年7月\n",
       "8    余额数目     50,000"
      ]
     },
     "metadata": {},
     "output_type": "display_data"
    },
    {
     "name": "stdout",
     "output_type": "stream",
     "text": [
      "2012年5月8日中信银行知春路支行发放的100,000元（人民币）个人经营性贷款，2019年5月8日到期。截至2016年7月，余额50,000。\n"
     ]
    },
    {
     "data": {
      "text/html": [
       "<div>\n",
       "<style scoped>\n",
       "    .dataframe tbody tr th:only-of-type {\n",
       "        vertical-align: middle;\n",
       "    }\n",
       "\n",
       "    .dataframe tbody tr th {\n",
       "        vertical-align: top;\n",
       "    }\n",
       "\n",
       "    .dataframe thead th {\n",
       "        text-align: right;\n",
       "    }\n",
       "</style>\n",
       "<table border=\"1\" class=\"dataframe\">\n",
       "  <thead>\n",
       "    <tr style=\"text-align: right;\">\n",
       "      <th></th>\n",
       "      <th>key</th>\n",
       "      <th>value</th>\n",
       "    </tr>\n",
       "  </thead>\n",
       "  <tbody>\n",
       "    <tr>\n",
       "      <th>0</th>\n",
       "      <td>贷款发放日期</td>\n",
       "      <td>2012年5月8日</td>\n",
       "    </tr>\n",
       "    <tr>\n",
       "      <th>1</th>\n",
       "      <td>贷款发放机构</td>\n",
       "      <td>中信银行知春路支行</td>\n",
       "    </tr>\n",
       "    <tr>\n",
       "      <th>2</th>\n",
       "      <td>贷款发放数额</td>\n",
       "      <td>100,000元</td>\n",
       "    </tr>\n",
       "    <tr>\n",
       "      <th>3</th>\n",
       "      <td>贷款币种</td>\n",
       "      <td>人民币</td>\n",
       "    </tr>\n",
       "    <tr>\n",
       "      <th>4</th>\n",
       "      <td>贷款种类</td>\n",
       "      <td>个人经营性贷款</td>\n",
       "    </tr>\n",
       "    <tr>\n",
       "      <th>5</th>\n",
       "      <td>结清日期</td>\n",
       "      <td>None</td>\n",
       "    </tr>\n",
       "    <tr>\n",
       "      <th>6</th>\n",
       "      <td>贷款到期日期</td>\n",
       "      <td>2019年5月8日</td>\n",
       "    </tr>\n",
       "    <tr>\n",
       "      <th>7</th>\n",
       "      <td>余额截至日期</td>\n",
       "      <td>2016年7月</td>\n",
       "    </tr>\n",
       "    <tr>\n",
       "      <th>8</th>\n",
       "      <td>余额数目</td>\n",
       "      <td>50,000</td>\n",
       "    </tr>\n",
       "  </tbody>\n",
       "</table>\n",
       "</div>"
      ],
      "text/plain": [
       "      key      value\n",
       "0  贷款发放日期  2012年5月8日\n",
       "1  贷款发放机构  中信银行知春路支行\n",
       "2  贷款发放数额   100,000元\n",
       "3    贷款币种        人民币\n",
       "4    贷款种类    个人经营性贷款\n",
       "5    结清日期       None\n",
       "6  贷款到期日期  2019年5月8日\n",
       "7  余额截至日期    2016年7月\n",
       "8    余额数目     50,000"
      ]
     },
     "metadata": {},
     "output_type": "display_data"
    },
    {
     "name": "stdout",
     "output_type": "stream",
     "text": [
      "2013年4月15日福特汽车金融公司发放的100,000元（人民币）汽车贷款，2013年4月15日到期。截至2016年7月，余额50,000。\n"
     ]
    },
    {
     "data": {
      "text/html": [
       "<div>\n",
       "<style scoped>\n",
       "    .dataframe tbody tr th:only-of-type {\n",
       "        vertical-align: middle;\n",
       "    }\n",
       "\n",
       "    .dataframe tbody tr th {\n",
       "        vertical-align: top;\n",
       "    }\n",
       "\n",
       "    .dataframe thead th {\n",
       "        text-align: right;\n",
       "    }\n",
       "</style>\n",
       "<table border=\"1\" class=\"dataframe\">\n",
       "  <thead>\n",
       "    <tr style=\"text-align: right;\">\n",
       "      <th></th>\n",
       "      <th>key</th>\n",
       "      <th>value</th>\n",
       "    </tr>\n",
       "  </thead>\n",
       "  <tbody>\n",
       "    <tr>\n",
       "      <th>0</th>\n",
       "      <td>贷款发放日期</td>\n",
       "      <td>2013年4月15日</td>\n",
       "    </tr>\n",
       "    <tr>\n",
       "      <th>1</th>\n",
       "      <td>贷款发放机构</td>\n",
       "      <td>福特汽车金融公司</td>\n",
       "    </tr>\n",
       "    <tr>\n",
       "      <th>2</th>\n",
       "      <td>贷款发放数额</td>\n",
       "      <td>100,000元</td>\n",
       "    </tr>\n",
       "    <tr>\n",
       "      <th>3</th>\n",
       "      <td>贷款币种</td>\n",
       "      <td>人民币</td>\n",
       "    </tr>\n",
       "    <tr>\n",
       "      <th>4</th>\n",
       "      <td>贷款种类</td>\n",
       "      <td>汽车贷款</td>\n",
       "    </tr>\n",
       "    <tr>\n",
       "      <th>5</th>\n",
       "      <td>结清日期</td>\n",
       "      <td>None</td>\n",
       "    </tr>\n",
       "    <tr>\n",
       "      <th>6</th>\n",
       "      <td>贷款到期日期</td>\n",
       "      <td>2013年4月15日</td>\n",
       "    </tr>\n",
       "    <tr>\n",
       "      <th>7</th>\n",
       "      <td>余额截至日期</td>\n",
       "      <td>2016年7月</td>\n",
       "    </tr>\n",
       "    <tr>\n",
       "      <th>8</th>\n",
       "      <td>余额数目</td>\n",
       "      <td>50,000</td>\n",
       "    </tr>\n",
       "  </tbody>\n",
       "</table>\n",
       "</div>"
      ],
      "text/plain": [
       "      key       value\n",
       "0  贷款发放日期  2013年4月15日\n",
       "1  贷款发放机构    福特汽车金融公司\n",
       "2  贷款发放数额    100,000元\n",
       "3    贷款币种         人民币\n",
       "4    贷款种类        汽车贷款\n",
       "5    结清日期        None\n",
       "6  贷款到期日期  2013年4月15日\n",
       "7  余额截至日期     2016年7月\n",
       "8    余额数目      50,000"
      ]
     },
     "metadata": {},
     "output_type": "display_data"
    },
    {
     "name": "stdout",
     "output_type": "stream",
     "text": [
      "2011年9月10日招商银行金融街支行发放的300,000元（人民币）住房贷款，2015年12月已结清。\n"
     ]
    },
    {
     "data": {
      "text/html": [
       "<div>\n",
       "<style scoped>\n",
       "    .dataframe tbody tr th:only-of-type {\n",
       "        vertical-align: middle;\n",
       "    }\n",
       "\n",
       "    .dataframe tbody tr th {\n",
       "        vertical-align: top;\n",
       "    }\n",
       "\n",
       "    .dataframe thead th {\n",
       "        text-align: right;\n",
       "    }\n",
       "</style>\n",
       "<table border=\"1\" class=\"dataframe\">\n",
       "  <thead>\n",
       "    <tr style=\"text-align: right;\">\n",
       "      <th></th>\n",
       "      <th>key</th>\n",
       "      <th>value</th>\n",
       "    </tr>\n",
       "  </thead>\n",
       "  <tbody>\n",
       "    <tr>\n",
       "      <th>0</th>\n",
       "      <td>贷款发放日期</td>\n",
       "      <td>2011年9月10日</td>\n",
       "    </tr>\n",
       "    <tr>\n",
       "      <th>1</th>\n",
       "      <td>贷款发放机构</td>\n",
       "      <td>招商银行金融街支行</td>\n",
       "    </tr>\n",
       "    <tr>\n",
       "      <th>2</th>\n",
       "      <td>贷款发放数额</td>\n",
       "      <td>300,000元</td>\n",
       "    </tr>\n",
       "    <tr>\n",
       "      <th>3</th>\n",
       "      <td>贷款币种</td>\n",
       "      <td>人民币</td>\n",
       "    </tr>\n",
       "    <tr>\n",
       "      <th>4</th>\n",
       "      <td>贷款种类</td>\n",
       "      <td>住房贷款</td>\n",
       "    </tr>\n",
       "    <tr>\n",
       "      <th>5</th>\n",
       "      <td>结清日期</td>\n",
       "      <td>2015年12月</td>\n",
       "    </tr>\n",
       "    <tr>\n",
       "      <th>6</th>\n",
       "      <td>贷款到期日期</td>\n",
       "      <td>None</td>\n",
       "    </tr>\n",
       "    <tr>\n",
       "      <th>7</th>\n",
       "      <td>余额截至日期</td>\n",
       "      <td>None</td>\n",
       "    </tr>\n",
       "    <tr>\n",
       "      <th>8</th>\n",
       "      <td>余额数目</td>\n",
       "      <td>None</td>\n",
       "    </tr>\n",
       "  </tbody>\n",
       "</table>\n",
       "</div>"
      ],
      "text/plain": [
       "      key       value\n",
       "0  贷款发放日期  2011年9月10日\n",
       "1  贷款发放机构   招商银行金融街支行\n",
       "2  贷款发放数额    300,000元\n",
       "3    贷款币种         人民币\n",
       "4    贷款种类        住房贷款\n",
       "5    结清日期    2015年12月\n",
       "6  贷款到期日期        None\n",
       "7  余额截至日期        None\n",
       "8    余额数目        None"
      ]
     },
     "metadata": {},
     "output_type": "display_data"
    }
   ],
   "source": [
    "for case, result in zip(dk_wyq_data, dk_wyq_results_fixed):\n",
    "    print(case)\n",
    "    display(pd.DataFrame(list(result.items()), columns=['key', 'value']))"
   ]
  },
  {
   "cell_type": "markdown",
   "id": "607be7e3-0c24-484c-84d2-b080d637e496",
   "metadata": {},
   "source": [
    "#### -- en"
   ]
  },
  {
   "cell_type": "code",
   "execution_count": 124,
   "id": "d9a6ab83-5b2f-4afa-828e-b3ebe353420b",
   "metadata": {},
   "outputs": [
    {
     "data": {
      "text/plain": [
       "[{'loan_release_date': '2010年5月8日',\n",
       "  'loan_issuer': '北京银行金融街支行',\n",
       "  'loan_disbursement_amount': '200,000元',\n",
       "  'loan_currency': '人民币',\n",
       "  'loan_type': '住房贷款',\n",
       "  'date_of_settlement': None,\n",
       "  'loan_maturity_date': '2029年5月8日',\n",
       "  'balance_reference_date': '2016年7月',\n",
       "  'remaining_balance': '50,000'},\n",
       " {'loan_release_date': '2012年5月8日',\n",
       "  'loan_issuer': '中信银行知春路支行',\n",
       "  'loan_disbursement_amount': '100,000元',\n",
       "  'loan_currency': '人民币',\n",
       "  'loan_type': '个人经营性贷款',\n",
       "  'date_of_settlement': None,\n",
       "  'loan_maturity_date': '2019年5月8日',\n",
       "  'balance_reference_date': '2016年7月',\n",
       "  'remaining_balance': '50,000'},\n",
       " {'loan_release_date': '2013年4月15日',\n",
       "  'loan_issuer': '福特汽车金融公司',\n",
       "  'loan_disbursement_amount': '100,000元',\n",
       "  'loan_currency': '人民币',\n",
       "  'loan_type': '汽车贷款',\n",
       "  'date_of_settlement': None,\n",
       "  'loan_maturity_date': '2013年4月15日',\n",
       "  'balance_reference_date': '2016年7月',\n",
       "  'remaining_balance': '50,000'},\n",
       " {'loan_release_date': '2011年9月10日',\n",
       "  'loan_issuer': '招商银行金融街支行',\n",
       "  'loan_disbursement_amount': '300,000元',\n",
       "  'loan_currency': '人民币',\n",
       "  'loan_type': '住房贷款',\n",
       "  'date_of_settlement': '2015年12月',\n",
       "  'loan_maturity_date': None,\n",
       "  'balance_reference_date': None,\n",
       "  'remaining_balance': None}]"
      ]
     },
     "execution_count": 124,
     "metadata": {},
     "output_type": "execute_result"
    }
   ],
   "source": [
    "dk_wyq_results_en = []\n",
    "\n",
    "for result in dk_wyq_results_fixed:\n",
    "    result_en = {key_2_English(k):v for k,v in result.items()}\n",
    "    dk_wyq_results_en.append(result_en)\n",
    "\n",
    "dk_wyq_results_en"
   ]
  },
  {
   "cell_type": "code",
   "execution_count": null,
   "id": "ed97e2e3-84f4-4558-a520-ab476b96ba16",
   "metadata": {},
   "outputs": [],
   "source": []
  },
  {
   "cell_type": "code",
   "execution_count": null,
   "id": "a912b437-77e4-48a0-ba21-d25aaadc45ee",
   "metadata": {},
   "outputs": [],
   "source": []
  },
  {
   "cell_type": "markdown",
   "id": "a67786ad-4424-4441-a1dc-e2db6c3e1719",
   "metadata": {},
   "source": [
    "## 其他业务"
   ]
  },
  {
   "cell_type": "markdown",
   "id": "f0e83008-36d2-46a6-9977-561acbec1213",
   "metadata": {},
   "source": [
    "### 发生过逾期的账户明细如下：\n",
    "简写 -- 具体思路同 `信用卡 -- 逾期贷记卡`"
   ]
  },
  {
   "cell_type": "markdown",
   "id": "b1cd7d1f-373f-4aa6-88fe-a09c19671906",
   "metadata": {},
   "source": [
    "#### -- 定义关键字段"
   ]
  },
  {
   "cell_type": "code",
   "execution_count": 80,
   "id": "283851b0-c933-41a2-9972-4bd0aadb932f",
   "metadata": {},
   "outputs": [],
   "source": [
    "update_trans_dict(\"业务到期日期\", \"business_end_date\")"
   ]
  },
  {
   "cell_type": "code",
   "execution_count": 81,
   "id": "894d8d10-0cd7-46e4-b89d-ebe743a2c56a",
   "metadata": {},
   "outputs": [
    {
     "data": {
      "text/plain": [
       "{'业务种类': 'business_type',\n",
       " '业务开始日期': 'start_date_of_business',\n",
       " '业务办理单位': 'business_handling_unit',\n",
       " '业务办理金额': 'business_transaction_amount',\n",
       " '业务货币种类': 'business_currency_type',\n",
       " '业务到期日期': 'business_end_date',\n",
       " '截至日期': 'reference_date',\n",
       " '是否为呆账': 'whether_it_is_a_bad_debt',\n",
       " '是否变成司法追偿': 'whether_it_becomes_a_judicial_recourse',\n",
       " '最近还款日期': 'last_repayment_date',\n",
       " '余额数目': 'remaining_balance',\n",
       " '当前有无逾期': 'is_currently_overdue',\n",
       " '近5年处于逾期状态月数': 'number_of_months_overdue_in_the_last_5_years',\n",
       " '逾期超过90天月数': 'number_of_months_overdue_for_more_than_90_days'}"
      ]
     },
     "execution_count": 81,
     "metadata": {},
     "output_type": "execute_result"
    }
   ],
   "source": [
    "qtyw_fsgyq_schema = [\"业务种类\", \"业务开始日期\", \"业务办理单位\", \"业务办理金额\", \"业务货币种类\", \"业务到期日期\"]\n",
    "qtyw_fsgyq_schema.extend([\"截至日期\",\"是否为呆账\", \"是否变成司法追偿\", \"最近还款日期\", \"余额数目\"])\n",
    "qtyw_fsgyq_schema.extend(['当前有无逾期', '近5年处于逾期状态月数','逾期超过90天月数'])\n",
    "\n",
    "{k:key_2_English(k) for k in qtyw_fsgyq_schema}"
   ]
  },
  {
   "cell_type": "markdown",
   "id": "c6868042-c9dc-446e-b0df-23ca85cce62c",
   "metadata": {},
   "source": [
    "#### -- 预处理数据"
   ]
  },
  {
   "cell_type": "code",
   "execution_count": 127,
   "id": "4f9086cf-1f56-4dca-82d0-f04263f33ede",
   "metadata": {},
   "outputs": [
    {
     "data": {
      "text/plain": [
       "'\\n\\n1. 2005年10月20日建元资本（中国）融资租赁有限公司办理的500,000元（人民币）融资租赁业务，2020年10月20日到期。\\n截至2011年11月，已变成呆账，最近一次还款日期为2010年11月25日，余额150,000。\\n2. 2005年9月22日建元资本（中国）融资租赁有限公司办理的500,000元（人民币）融资租赁业务，2020年9月22日到期。\\n截至2016年7月，余额400,000，当前无逾期。最近5年内有3个月处于逾期状态，没有发生过90天以上逾期。\\n3. 2006年10月20日中信证券公司办理的500,000元（人民币）约定购回式证券交易，2007年10月19日到期。截至2008年1\\n月，已变成司法追偿，最近一次还款日期为2007年10月15日，余额150,000。\\n4. 2009年9月22日海通证券公司办理的500,000元（人民币）约定购回式证券交易，2010年9月21日到期。截至2016年7\\n月，余额500,000，当前有逾期。最近5年内有1个月处于逾期状态，没有发生过90天以上逾期。\\n\\n'"
      ]
     },
     "execution_count": 127,
     "metadata": {},
     "output_type": "execute_result"
    }
   ],
   "source": [
    "# ## 预期ocr识别结果\n",
    "# qtyw_fsgyq_data = \"\"\"\n",
    "# \\n1. 2005年10月20日建元资本（中国）融资租赁有限公司办理的500,000元（人民币）融资租赁业务，2020年10月20日到期。\\n截至2011年11月，已变成呆账，最近一次还款日期为2010年11月25日，余额150,000。\\n2. 2005年9月22日建元资本（中国）融资租赁有限公司办理的500,000元（人民币）融资租赁业务，2020年9月22日到期。\\n截至2016年7月，余额400,000，当前无逾期。最近5年内有3个月处于逾期状态，没有发生过90天以上逾期。\\n3. 2006年10月20日中信证券公司办理的500,000元（人民币）约定购回式证券交易，2007年10月19日到期。截至2008年1\\n月，已变成司法追偿，最近一次还款日期为2007年10月15日，余额150,000。\\n4. 2009年9月22日海通证券公司办理的500,000元（人民币）约定购回式证券交易，2010年9月21日到期。截至2016年7\\n月，余额500,000，当前有逾期。最近5年内有1个月处于逾期状态，没有发生过90天以上逾期。\\n\n",
    "# \"\"\"\n",
    "# qtyw_fsgyq_data"
   ]
  },
  {
   "cell_type": "code",
   "execution_count": 128,
   "id": "3abe286d-7836-4ea1-bebc-7e5c5dff9f2d",
   "metadata": {},
   "outputs": [
    {
     "data": {
      "text/plain": [
       "['2005年10月20日建元资本（中国）融资租赁有限公司办理的500,000元（人民币）融资租赁业务，2020年10月20日到期。截至2011年11月，已变成呆账，最近一次还款日期为2010年11月25日，余额150,000。',\n",
       " '2005年9月22日建元资本（中国）融资租赁有限公司办理的500,000元（人民币）融资租赁业务，2020年9月22日到期。截至2016年7月，余额400,000，当前无逾期。最近5年内有3个月处于逾期状态，没有发生过90天以上逾期。',\n",
       " '2006年10月20日中信证券公司办理的500,000元（人民币）约定购回式证券交易，2007年10月19日到期。截至2008年1月，已变成司法追偿，最近一次还款日期为2007年10月15日，余额150,000。',\n",
       " '2009年9月22日海通证券公司办理的500,000元（人民币）约定购回式证券交易，2010年9月21日到期。截至2016年7月，余额500,000，当前有逾期。最近5年内有1个月处于逾期状态，没有发生过90天以上逾期。']"
      ]
     },
     "execution_count": 128,
     "metadata": {},
     "output_type": "execute_result"
    }
   ],
   "source": [
    "# ## 按条目分段\n",
    "# qtyw_fsgyq_cases = split_cases_by_idx_from_paragraph(qtyw_fsgyq_data)\n",
    "# qtyw_fsgyq_cases"
   ]
  },
  {
   "cell_type": "code",
   "execution_count": 61,
   "id": "e1f9460a-0a62-468f-9dcc-a8c3d092e7c1",
   "metadata": {},
   "outputs": [
    {
     "data": {
      "text/plain": [
       "['2005年10月20日建元资本（中国）融资租赁有限公司办理的500,000元（人民币）融资租赁业务，2020年10月20日到期。截至2011年11月，已变成呆账，最近一次还款日期为2010年11月25日，余额150,000。',\n",
       " '2005年9月22日建元资本（中国）融资租赁有限公司办理的500,000元（人民币）融资租赁业务，2020年9月22日到期。截至2016年7月，余额400,000，当前无逾期。最近5年内有3个月处于逾期状态，没有发生过90天以上逾期。',\n",
       " '2006年10月20日中信证券公司办理的500,000元（人民币）约定购回式证券交易，2007年10月19日到期。截至2008年1月，已变成司法追偿，最近一次还款日期为2007年10月15日，余额150,000。',\n",
       " '2009年9月22日海通证券公司办理的500,000元（人民币）约定购回式证券交易，2010年9月21日到期。截至2016年7月，余额500,000，当前有逾期。最近5年内有1个月处于逾期状态，没有发生过90天以上逾期。']"
      ]
     },
     "execution_count": 61,
     "metadata": {},
     "output_type": "execute_result"
    }
   ],
   "source": [
    "qtyw_fsgyq_data = ['2005年10月20日建元资本（中国）融资租赁有限公司办理的500,000元（人民币）融资租赁业务，2020年10月20日到期。截至2011年11月，已变成呆账，最近一次还款日期为2010年11月25日，余额150,000。',\n",
    " '2005年9月22日建元资本（中国）融资租赁有限公司办理的500,000元（人民币）融资租赁业务，2020年9月22日到期。截至2016年7月，余额400,000，当前无逾期。最近5年内有3个月处于逾期状态，没有发生过90天以上逾期。',\n",
    " '2006年10月20日中信证券公司办理的500,000元（人民币）约定购回式证券交易，2007年10月19日到期。截至2008年1月，已变成司法追偿，最近一次还款日期为2007年10月15日，余额150,000。',\n",
    " '2009年9月22日海通证券公司办理的500,000元（人民币）约定购回式证券交易，2010年9月21日到期。截至2016年7月，余额500,000，当前有逾期。最近5年内有1个月处于逾期状态，没有发生过90天以上逾期。']\n",
    "\n",
    "qtyw_fsgyq_data"
   ]
  },
  {
   "cell_type": "markdown",
   "id": "6ba0b1ac-62c8-4416-bd5a-f718c3adbead",
   "metadata": {},
   "source": [
    "#### -- 信息抽取结果"
   ]
  },
  {
   "cell_type": "code",
   "execution_count": 139,
   "id": "91cc013f-6597-4246-b96f-1c3c2332cb6f",
   "metadata": {},
   "outputs": [],
   "source": []
  },
  {
   "cell_type": "code",
   "execution_count": 135,
   "id": "0686963d-2526-436f-96d7-f7f0acc39ec8",
   "metadata": {},
   "outputs": [],
   "source": [
    "# \"\"\" 人工矫正抽取结果 \"\"\"\n",
    "# def qtyw_fsgyq_result_fixing(case, result):\n",
    "#     '''\n",
    "#     矫正逻辑：\n",
    "#         1. 若不含有“最近一次还款日期”：\n",
    "#                 最近还款日期：None\n",
    "#         2. 若含有 “当前有逾期”：\n",
    "#                 当前有无逾期：有\n",
    "#            若含有 “当前无逾期”：\n",
    "#                 当前有无逾期：无\n",
    "#         3. 若含有 “已变成呆账”：\n",
    "#                 是否为呆账: 是\n",
    "#         4. 业务种类: \n",
    "#                 第一个`，`之前 -- 再 -- 最后一个`）`之后\n",
    "#         5. 若含有“已变成司法追偿”：\n",
    "#                 是否变成司法追偿：是\n",
    "#         6. 货币种类：\n",
    "#                 `办理的` 与 `，` 之间 -- 再 -- `（`与`）`之间\n",
    "#         7. 业务办理金额：\n",
    "#                 `办理的`后 + 去除`,` + 数字匹配\n",
    "#     '''\n",
    "#     case = case.replace(\" \", \"\")  ## 删空格\n",
    "    \n",
    "#     if not '最近一次还款日期' in case:\n",
    "#         result[\"最近还款日期\"] = None\n",
    "\n",
    "#     if '当前有逾期' in case:\n",
    "#         result[\"当前有无逾期\"] = \"有\"\n",
    "#     if '当前无逾期' in case:\n",
    "#         result[\"当前有无逾期\"] = \"无\"\n",
    "\n",
    "#     if \"已变成呆账\" in case:\n",
    "#         result[\"是否为呆账\"] = \"是\"\n",
    "    \n",
    "#     ywzl_part = case.split(\"，\")\n",
    "#     if ywzl_part:\n",
    "#         ywzl_part = ywzl_part[0].split(\"）\")\n",
    "#         if ywzl_part:\n",
    "#             ywzl = ywzl_part[-1]\n",
    "#             result[\"业务种类\"] = ywzl\n",
    "\n",
    "#     if \"已变成司法追偿\" in case:\n",
    "#         result[\"是否变成司法追偿\"] = '是'\n",
    "\n",
    "#     hbzl = re.search(r'办理的(.*?)，', case)\n",
    "#     if hbzl:\n",
    "#         hbzl = re.search(r'\\（(.*?)\\）', hbzl.group(1))\n",
    "#         if hbzl:\n",
    "#             result[\"货币种类\"] = hbzl.group(1)\n",
    "\n",
    "#     ywblje = case.split(\"办理的\")\n",
    "#     if ywblje:\n",
    "#         ywblje = ywblje[1].replace(\",\",\"\")\n",
    "#         ywblje = re.search(r'\\d+', ywblje)\n",
    "#         if ywblje:\n",
    "#             result[\"业务办理金额\"] = ywblje.group(0)\n",
    "            \n",
    "#     return result\n",
    "    "
   ]
  },
  {
   "cell_type": "code",
   "execution_count": 82,
   "id": "35b693f0-3979-43cb-800e-6829817cf23e",
   "metadata": {},
   "outputs": [
    {
     "name": "stdout",
     "output_type": "stream",
     "text": [
      "-----------\n",
      "2005年10月20日建元资本（中国）融资租赁有限公司办理的500,000元（人民币）融资租赁业务，2020年10月20日到期。截至2011年11月，已变成呆账，最近一次还款日期为2010年11月25日，余额150,000。\n"
     ]
    },
    {
     "data": {
      "text/html": [
       "<div>\n",
       "<style scoped>\n",
       "    .dataframe tbody tr th:only-of-type {\n",
       "        vertical-align: middle;\n",
       "    }\n",
       "\n",
       "    .dataframe tbody tr th {\n",
       "        vertical-align: top;\n",
       "    }\n",
       "\n",
       "    .dataframe thead th {\n",
       "        text-align: right;\n",
       "    }\n",
       "</style>\n",
       "<table border=\"1\" class=\"dataframe\">\n",
       "  <thead>\n",
       "    <tr style=\"text-align: right;\">\n",
       "      <th></th>\n",
       "      <th>key</th>\n",
       "      <th>value</th>\n",
       "    </tr>\n",
       "  </thead>\n",
       "  <tbody>\n",
       "    <tr>\n",
       "      <th>0</th>\n",
       "      <td>业务种类</td>\n",
       "      <td>融资租赁业务</td>\n",
       "    </tr>\n",
       "    <tr>\n",
       "      <th>1</th>\n",
       "      <td>业务开始日期</td>\n",
       "      <td>2005年10月20日</td>\n",
       "    </tr>\n",
       "    <tr>\n",
       "      <th>2</th>\n",
       "      <td>业务办理单位</td>\n",
       "      <td>建元资本（中国）融资租赁有限公司</td>\n",
       "    </tr>\n",
       "    <tr>\n",
       "      <th>3</th>\n",
       "      <td>业务办理金额</td>\n",
       "      <td>500000</td>\n",
       "    </tr>\n",
       "    <tr>\n",
       "      <th>4</th>\n",
       "      <td>业务货币种类</td>\n",
       "      <td>人民币</td>\n",
       "    </tr>\n",
       "    <tr>\n",
       "      <th>5</th>\n",
       "      <td>业务到期日期</td>\n",
       "      <td>2020年10月20日</td>\n",
       "    </tr>\n",
       "    <tr>\n",
       "      <th>6</th>\n",
       "      <td>截至日期</td>\n",
       "      <td>2011年11月</td>\n",
       "    </tr>\n",
       "    <tr>\n",
       "      <th>7</th>\n",
       "      <td>是否为呆账</td>\n",
       "      <td>是</td>\n",
       "    </tr>\n",
       "    <tr>\n",
       "      <th>8</th>\n",
       "      <td>是否变成司法追偿</td>\n",
       "      <td>None</td>\n",
       "    </tr>\n",
       "    <tr>\n",
       "      <th>9</th>\n",
       "      <td>最近还款日期</td>\n",
       "      <td>2010年11月25日</td>\n",
       "    </tr>\n",
       "    <tr>\n",
       "      <th>10</th>\n",
       "      <td>余额数目</td>\n",
       "      <td>150,000</td>\n",
       "    </tr>\n",
       "    <tr>\n",
       "      <th>11</th>\n",
       "      <td>当前有无逾期</td>\n",
       "      <td>None</td>\n",
       "    </tr>\n",
       "    <tr>\n",
       "      <th>12</th>\n",
       "      <td>近5年处于逾期状态月数</td>\n",
       "      <td>None</td>\n",
       "    </tr>\n",
       "    <tr>\n",
       "      <th>13</th>\n",
       "      <td>逾期超过90天月数</td>\n",
       "      <td>None</td>\n",
       "    </tr>\n",
       "  </tbody>\n",
       "</table>\n",
       "</div>"
      ],
      "text/plain": [
       "            key             value\n",
       "0          业务种类            融资租赁业务\n",
       "1        业务开始日期       2005年10月20日\n",
       "2        业务办理单位  建元资本（中国）融资租赁有限公司\n",
       "3        业务办理金额            500000\n",
       "4        业务货币种类               人民币\n",
       "5        业务到期日期       2020年10月20日\n",
       "6          截至日期          2011年11月\n",
       "7         是否为呆账                 是\n",
       "8      是否变成司法追偿              None\n",
       "9        最近还款日期       2010年11月25日\n",
       "10         余额数目           150,000\n",
       "11       当前有无逾期              None\n",
       "12  近5年处于逾期状态月数              None\n",
       "13    逾期超过90天月数              None"
      ]
     },
     "metadata": {},
     "output_type": "display_data"
    },
    {
     "name": "stdout",
     "output_type": "stream",
     "text": [
      "-----------\n",
      "2005年9月22日建元资本（中国）融资租赁有限公司办理的500,000元（人民币）融资租赁业务，2020年9月22日到期。截至2016年7月，余额400,000，当前无逾期。最近5年内有3个月处于逾期状态，没有发生过90天以上逾期。\n"
     ]
    },
    {
     "data": {
      "text/html": [
       "<div>\n",
       "<style scoped>\n",
       "    .dataframe tbody tr th:only-of-type {\n",
       "        vertical-align: middle;\n",
       "    }\n",
       "\n",
       "    .dataframe tbody tr th {\n",
       "        vertical-align: top;\n",
       "    }\n",
       "\n",
       "    .dataframe thead th {\n",
       "        text-align: right;\n",
       "    }\n",
       "</style>\n",
       "<table border=\"1\" class=\"dataframe\">\n",
       "  <thead>\n",
       "    <tr style=\"text-align: right;\">\n",
       "      <th></th>\n",
       "      <th>key</th>\n",
       "      <th>value</th>\n",
       "    </tr>\n",
       "  </thead>\n",
       "  <tbody>\n",
       "    <tr>\n",
       "      <th>0</th>\n",
       "      <td>业务种类</td>\n",
       "      <td>融资租赁业务</td>\n",
       "    </tr>\n",
       "    <tr>\n",
       "      <th>1</th>\n",
       "      <td>业务开始日期</td>\n",
       "      <td>2005年9月22日</td>\n",
       "    </tr>\n",
       "    <tr>\n",
       "      <th>2</th>\n",
       "      <td>业务办理单位</td>\n",
       "      <td>建元资本（中国）融资租赁有限公司</td>\n",
       "    </tr>\n",
       "    <tr>\n",
       "      <th>3</th>\n",
       "      <td>业务办理金额</td>\n",
       "      <td>500000</td>\n",
       "    </tr>\n",
       "    <tr>\n",
       "      <th>4</th>\n",
       "      <td>业务货币种类</td>\n",
       "      <td>人民币</td>\n",
       "    </tr>\n",
       "    <tr>\n",
       "      <th>5</th>\n",
       "      <td>业务到期日期</td>\n",
       "      <td>2020年9月22日</td>\n",
       "    </tr>\n",
       "    <tr>\n",
       "      <th>6</th>\n",
       "      <td>截至日期</td>\n",
       "      <td>2016年7月</td>\n",
       "    </tr>\n",
       "    <tr>\n",
       "      <th>7</th>\n",
       "      <td>是否为呆账</td>\n",
       "      <td>None</td>\n",
       "    </tr>\n",
       "    <tr>\n",
       "      <th>8</th>\n",
       "      <td>是否变成司法追偿</td>\n",
       "      <td>None</td>\n",
       "    </tr>\n",
       "    <tr>\n",
       "      <th>9</th>\n",
       "      <td>最近还款日期</td>\n",
       "      <td>None</td>\n",
       "    </tr>\n",
       "    <tr>\n",
       "      <th>10</th>\n",
       "      <td>余额数目</td>\n",
       "      <td>400,000</td>\n",
       "    </tr>\n",
       "    <tr>\n",
       "      <th>11</th>\n",
       "      <td>当前有无逾期</td>\n",
       "      <td>无</td>\n",
       "    </tr>\n",
       "    <tr>\n",
       "      <th>12</th>\n",
       "      <td>近5年处于逾期状态月数</td>\n",
       "      <td>3个月</td>\n",
       "    </tr>\n",
       "    <tr>\n",
       "      <th>13</th>\n",
       "      <td>逾期超过90天月数</td>\n",
       "      <td>None</td>\n",
       "    </tr>\n",
       "  </tbody>\n",
       "</table>\n",
       "</div>"
      ],
      "text/plain": [
       "            key             value\n",
       "0          业务种类            融资租赁业务\n",
       "1        业务开始日期        2005年9月22日\n",
       "2        业务办理单位  建元资本（中国）融资租赁有限公司\n",
       "3        业务办理金额            500000\n",
       "4        业务货币种类               人民币\n",
       "5        业务到期日期        2020年9月22日\n",
       "6          截至日期           2016年7月\n",
       "7         是否为呆账              None\n",
       "8      是否变成司法追偿              None\n",
       "9        最近还款日期              None\n",
       "10         余额数目           400,000\n",
       "11       当前有无逾期                 无\n",
       "12  近5年处于逾期状态月数               3个月\n",
       "13    逾期超过90天月数              None"
      ]
     },
     "metadata": {},
     "output_type": "display_data"
    },
    {
     "name": "stdout",
     "output_type": "stream",
     "text": [
      "-----------\n",
      "2006年10月20日中信证券公司办理的500,000元（人民币）约定购回式证券交易，2007年10月19日到期。截至2008年1月，已变成司法追偿，最近一次还款日期为2007年10月15日，余额150,000。\n"
     ]
    },
    {
     "data": {
      "text/html": [
       "<div>\n",
       "<style scoped>\n",
       "    .dataframe tbody tr th:only-of-type {\n",
       "        vertical-align: middle;\n",
       "    }\n",
       "\n",
       "    .dataframe tbody tr th {\n",
       "        vertical-align: top;\n",
       "    }\n",
       "\n",
       "    .dataframe thead th {\n",
       "        text-align: right;\n",
       "    }\n",
       "</style>\n",
       "<table border=\"1\" class=\"dataframe\">\n",
       "  <thead>\n",
       "    <tr style=\"text-align: right;\">\n",
       "      <th></th>\n",
       "      <th>key</th>\n",
       "      <th>value</th>\n",
       "    </tr>\n",
       "  </thead>\n",
       "  <tbody>\n",
       "    <tr>\n",
       "      <th>0</th>\n",
       "      <td>业务种类</td>\n",
       "      <td>约定购回式证券交易</td>\n",
       "    </tr>\n",
       "    <tr>\n",
       "      <th>1</th>\n",
       "      <td>业务开始日期</td>\n",
       "      <td>2006年10月20日</td>\n",
       "    </tr>\n",
       "    <tr>\n",
       "      <th>2</th>\n",
       "      <td>业务办理单位</td>\n",
       "      <td>中信证券公司</td>\n",
       "    </tr>\n",
       "    <tr>\n",
       "      <th>3</th>\n",
       "      <td>业务办理金额</td>\n",
       "      <td>500000</td>\n",
       "    </tr>\n",
       "    <tr>\n",
       "      <th>4</th>\n",
       "      <td>业务货币种类</td>\n",
       "      <td>人民币</td>\n",
       "    </tr>\n",
       "    <tr>\n",
       "      <th>5</th>\n",
       "      <td>业务到期日期</td>\n",
       "      <td>2007年10月19日</td>\n",
       "    </tr>\n",
       "    <tr>\n",
       "      <th>6</th>\n",
       "      <td>截至日期</td>\n",
       "      <td>2008年1月</td>\n",
       "    </tr>\n",
       "    <tr>\n",
       "      <th>7</th>\n",
       "      <td>是否为呆账</td>\n",
       "      <td>None</td>\n",
       "    </tr>\n",
       "    <tr>\n",
       "      <th>8</th>\n",
       "      <td>是否变成司法追偿</td>\n",
       "      <td>是</td>\n",
       "    </tr>\n",
       "    <tr>\n",
       "      <th>9</th>\n",
       "      <td>最近还款日期</td>\n",
       "      <td>2007年10月15日</td>\n",
       "    </tr>\n",
       "    <tr>\n",
       "      <th>10</th>\n",
       "      <td>余额数目</td>\n",
       "      <td>150,000</td>\n",
       "    </tr>\n",
       "    <tr>\n",
       "      <th>11</th>\n",
       "      <td>当前有无逾期</td>\n",
       "      <td>None</td>\n",
       "    </tr>\n",
       "    <tr>\n",
       "      <th>12</th>\n",
       "      <td>近5年处于逾期状态月数</td>\n",
       "      <td>None</td>\n",
       "    </tr>\n",
       "    <tr>\n",
       "      <th>13</th>\n",
       "      <td>逾期超过90天月数</td>\n",
       "      <td>None</td>\n",
       "    </tr>\n",
       "  </tbody>\n",
       "</table>\n",
       "</div>"
      ],
      "text/plain": [
       "            key        value\n",
       "0          业务种类    约定购回式证券交易\n",
       "1        业务开始日期  2006年10月20日\n",
       "2        业务办理单位       中信证券公司\n",
       "3        业务办理金额       500000\n",
       "4        业务货币种类          人民币\n",
       "5        业务到期日期  2007年10月19日\n",
       "6          截至日期      2008年1月\n",
       "7         是否为呆账         None\n",
       "8      是否变成司法追偿            是\n",
       "9        最近还款日期  2007年10月15日\n",
       "10         余额数目      150,000\n",
       "11       当前有无逾期         None\n",
       "12  近5年处于逾期状态月数         None\n",
       "13    逾期超过90天月数         None"
      ]
     },
     "metadata": {},
     "output_type": "display_data"
    },
    {
     "name": "stdout",
     "output_type": "stream",
     "text": [
      "-----------\n",
      "2009年9月22日海通证券公司办理的500,000元（人民币）约定购回式证券交易，2010年9月21日到期。截至2016年7月，余额500,000，当前有逾期。最近5年内有1个月处于逾期状态，没有发生过90天以上逾期。\n"
     ]
    },
    {
     "data": {
      "text/html": [
       "<div>\n",
       "<style scoped>\n",
       "    .dataframe tbody tr th:only-of-type {\n",
       "        vertical-align: middle;\n",
       "    }\n",
       "\n",
       "    .dataframe tbody tr th {\n",
       "        vertical-align: top;\n",
       "    }\n",
       "\n",
       "    .dataframe thead th {\n",
       "        text-align: right;\n",
       "    }\n",
       "</style>\n",
       "<table border=\"1\" class=\"dataframe\">\n",
       "  <thead>\n",
       "    <tr style=\"text-align: right;\">\n",
       "      <th></th>\n",
       "      <th>key</th>\n",
       "      <th>value</th>\n",
       "    </tr>\n",
       "  </thead>\n",
       "  <tbody>\n",
       "    <tr>\n",
       "      <th>0</th>\n",
       "      <td>业务种类</td>\n",
       "      <td>约定购回式证券交易</td>\n",
       "    </tr>\n",
       "    <tr>\n",
       "      <th>1</th>\n",
       "      <td>业务开始日期</td>\n",
       "      <td>2009年9月22日</td>\n",
       "    </tr>\n",
       "    <tr>\n",
       "      <th>2</th>\n",
       "      <td>业务办理单位</td>\n",
       "      <td>海通证券公司</td>\n",
       "    </tr>\n",
       "    <tr>\n",
       "      <th>3</th>\n",
       "      <td>业务办理金额</td>\n",
       "      <td>500000</td>\n",
       "    </tr>\n",
       "    <tr>\n",
       "      <th>4</th>\n",
       "      <td>业务货币种类</td>\n",
       "      <td>人民币</td>\n",
       "    </tr>\n",
       "    <tr>\n",
       "      <th>5</th>\n",
       "      <td>业务到期日期</td>\n",
       "      <td>2010年9月21日</td>\n",
       "    </tr>\n",
       "    <tr>\n",
       "      <th>6</th>\n",
       "      <td>截至日期</td>\n",
       "      <td>2016年7月</td>\n",
       "    </tr>\n",
       "    <tr>\n",
       "      <th>7</th>\n",
       "      <td>是否为呆账</td>\n",
       "      <td>None</td>\n",
       "    </tr>\n",
       "    <tr>\n",
       "      <th>8</th>\n",
       "      <td>是否变成司法追偿</td>\n",
       "      <td>None</td>\n",
       "    </tr>\n",
       "    <tr>\n",
       "      <th>9</th>\n",
       "      <td>最近还款日期</td>\n",
       "      <td>None</td>\n",
       "    </tr>\n",
       "    <tr>\n",
       "      <th>10</th>\n",
       "      <td>余额数目</td>\n",
       "      <td>500,000</td>\n",
       "    </tr>\n",
       "    <tr>\n",
       "      <th>11</th>\n",
       "      <td>当前有无逾期</td>\n",
       "      <td>有</td>\n",
       "    </tr>\n",
       "    <tr>\n",
       "      <th>12</th>\n",
       "      <td>近5年处于逾期状态月数</td>\n",
       "      <td>1个月</td>\n",
       "    </tr>\n",
       "    <tr>\n",
       "      <th>13</th>\n",
       "      <td>逾期超过90天月数</td>\n",
       "      <td>None</td>\n",
       "    </tr>\n",
       "  </tbody>\n",
       "</table>\n",
       "</div>"
      ],
      "text/plain": [
       "            key       value\n",
       "0          业务种类   约定购回式证券交易\n",
       "1        业务开始日期  2009年9月22日\n",
       "2        业务办理单位      海通证券公司\n",
       "3        业务办理金额      500000\n",
       "4        业务货币种类         人民币\n",
       "5        业务到期日期  2010年9月21日\n",
       "6          截至日期     2016年7月\n",
       "7         是否为呆账        None\n",
       "8      是否变成司法追偿        None\n",
       "9        最近还款日期        None\n",
       "10         余额数目     500,000\n",
       "11       当前有无逾期           有\n",
       "12  近5年处于逾期状态月数         1个月\n",
       "13    逾期超过90天月数        None"
      ]
     },
     "metadata": {},
     "output_type": "display_data"
    }
   ],
   "source": [
    "qtyw_fsgyq_results = []\n",
    "qtyw_fsgyq_results_fixed = []\n",
    "qtyw_fsgyq_results_fixed_en = []\n",
    "for case in qtyw_fsgyq_data:\n",
    "    ## 结果展示\n",
    "    print(\"-----------\")\n",
    "    print(case)\n",
    "    ## 模型提取\n",
    "    result = extract_info_from_taskflow(case=case, schema=qtyw_fsgyq_schema)\n",
    "    qtyw_fsgyq_results.append(result)\n",
    "    ## 结果矫正\n",
    "    result = text_result_fixing(case, result)\n",
    "    qtyw_fsgyq_results_fixed.append(result)\n",
    "    display(pd.DataFrame(list(result.items()), columns=['key', 'value']))\n",
    "    ## key值转英文\n",
    "    result = {key_2_English(k):v for k,v in result.items()}\n",
    "    qtyw_fsgyq_results_fixed_en.append(result)\n",
    "    "
   ]
  },
  {
   "cell_type": "markdown",
   "id": "340cf382-d485-41c4-b57a-42464b7c88ed",
   "metadata": {},
   "source": [
    "#### -- en"
   ]
  },
  {
   "cell_type": "code",
   "execution_count": 84,
   "id": "a76e2cd1-cff5-45a7-b8e9-89b4955021e6",
   "metadata": {},
   "outputs": [
    {
     "data": {
      "text/plain": [
       "[{'business_type': '融资租赁业务',\n",
       "  'start_date_of_business': '2005年10月20日',\n",
       "  'business_handling_unit': '建元资本（中国）融资租赁有限公司',\n",
       "  'business_transaction_amount': '500000',\n",
       "  'business_currency_type': '人民币',\n",
       "  'business_end_date': '2020年10月20日',\n",
       "  'reference_date': '2011年11月',\n",
       "  'whether_it_is_a_bad_debt': '是',\n",
       "  'whether_it_becomes_a_judicial_recourse': None,\n",
       "  'last_repayment_date': '2010年11月25日',\n",
       "  'remaining_balance': '150,000',\n",
       "  'is_currently_overdue': None,\n",
       "  'number_of_months_overdue_in_the_last_5_years': None,\n",
       "  'number_of_months_overdue_for_more_than_90_days': None},\n",
       " {'business_type': '融资租赁业务',\n",
       "  'start_date_of_business': '2005年9月22日',\n",
       "  'business_handling_unit': '建元资本（中国）融资租赁有限公司',\n",
       "  'business_transaction_amount': '500000',\n",
       "  'business_currency_type': '人民币',\n",
       "  'business_end_date': '2020年9月22日',\n",
       "  'reference_date': '2016年7月',\n",
       "  'whether_it_is_a_bad_debt': None,\n",
       "  'whether_it_becomes_a_judicial_recourse': None,\n",
       "  'last_repayment_date': None,\n",
       "  'remaining_balance': '400,000',\n",
       "  'is_currently_overdue': '无',\n",
       "  'number_of_months_overdue_in_the_last_5_years': '3个月',\n",
       "  'number_of_months_overdue_for_more_than_90_days': None},\n",
       " {'business_type': '约定购回式证券交易',\n",
       "  'start_date_of_business': '2006年10月20日',\n",
       "  'business_handling_unit': '中信证券公司',\n",
       "  'business_transaction_amount': '500000',\n",
       "  'business_currency_type': '人民币',\n",
       "  'business_end_date': '2007年10月19日',\n",
       "  'reference_date': '2008年1月',\n",
       "  'whether_it_is_a_bad_debt': None,\n",
       "  'whether_it_becomes_a_judicial_recourse': '是',\n",
       "  'last_repayment_date': '2007年10月15日',\n",
       "  'remaining_balance': '150,000',\n",
       "  'is_currently_overdue': None,\n",
       "  'number_of_months_overdue_in_the_last_5_years': None,\n",
       "  'number_of_months_overdue_for_more_than_90_days': None},\n",
       " {'business_type': '约定购回式证券交易',\n",
       "  'start_date_of_business': '2009年9月22日',\n",
       "  'business_handling_unit': '海通证券公司',\n",
       "  'business_transaction_amount': '500000',\n",
       "  'business_currency_type': '人民币',\n",
       "  'business_end_date': '2010年9月21日',\n",
       "  'reference_date': '2016年7月',\n",
       "  'whether_it_is_a_bad_debt': None,\n",
       "  'whether_it_becomes_a_judicial_recourse': None,\n",
       "  'last_repayment_date': None,\n",
       "  'remaining_balance': '500,000',\n",
       "  'is_currently_overdue': '有',\n",
       "  'number_of_months_overdue_in_the_last_5_years': '1个月',\n",
       "  'number_of_months_overdue_for_more_than_90_days': None}]"
      ]
     },
     "execution_count": 84,
     "metadata": {},
     "output_type": "execute_result"
    }
   ],
   "source": [
    "qtyw_fsgyq_results_fixed_en"
   ]
  },
  {
   "cell_type": "markdown",
   "id": "f306822e-7cf2-4b19-b0a5-77368bed235d",
   "metadata": {},
   "source": [
    "#### -- 备注"
   ]
  },
  {
   "cell_type": "markdown",
   "id": "d4a68ef0-8e4f-46b0-a13e-70b2ab2cdaad",
   "metadata": {},
   "source": [
    "- !! 矫正规则需业务人员完善补充"
   ]
  },
  {
   "cell_type": "markdown",
   "id": "209030e7-de61-49ee-adb3-a36a9262b371",
   "metadata": {},
   "source": [
    "### 从未逾期过的账户明细如下：\n",
    "略 -- 具体思路同 `信用卡 -- 逾期贷记卡`"
   ]
  },
  {
   "cell_type": "markdown",
   "id": "7d9899fb-4c0b-4b16-8e30-1f1f6db34ce6",
   "metadata": {},
   "source": [
    "- 结果矫正逻辑需人工总结\n",
    "- 关键字段需人工提前确定："
   ]
  },
  {
   "cell_type": "markdown",
   "id": "6fd328f7-3cc2-4795-8ee0-248d49b6b298",
   "metadata": {},
   "source": [
    "#### -- key"
   ]
  },
  {
   "cell_type": "code",
   "execution_count": 51,
   "id": "4b94ee43-59df-4bcd-856d-b3fceada73ca",
   "metadata": {},
   "outputs": [
    {
     "data": {
      "text/plain": [
       "{'业务种类': 'business_type',\n",
       " '业务办理日期': 'business_handling_date',\n",
       " '业务办理单位': 'business_handling_unit',\n",
       " '业务办理金额': 'business_transaction_amount',\n",
       " '业务货币种类': 'business_currency_type',\n",
       " '业务到期日期': 'business_expiration_date',\n",
       " '结清日期': 'date_of_settlement',\n",
       " '截至日期': 'reference_date',\n",
       " '余额数目': 'remaining_balance'}"
      ]
     },
     "execution_count": 51,
     "metadata": {},
     "output_type": "execute_result"
    }
   ],
   "source": [
    "qtyw_wyq_schema = [\"业务种类\", \"业务办理日期\", \"业务办理单位\", \"业务办理金额\", \"业务货币种类\", \"业务到期日期\", \"结清日期\"]\n",
    "qtyw_wyq_schema.extend([\"截至日期\", \"余额数目\"])\n",
    "\n",
    "{k:key_2_English(k) for k in qtyw_wyq_schema}"
   ]
  },
  {
   "cell_type": "code",
   "execution_count": 27,
   "id": "d58ac8e6-1062-47bf-8e5e-80428df3c7f4",
   "metadata": {},
   "outputs": [
    {
     "data": {
      "text/plain": [
       "['业务种类',\n",
       " '业务开始日期',\n",
       " '业务办理单位',\n",
       " '业务办理金额',\n",
       " '业务货币种类',\n",
       " '业务结束日期',\n",
       " '结清日期',\n",
       " '截至日期',\n",
       " '余额数目']"
      ]
     },
     "execution_count": 27,
     "metadata": {},
     "output_type": "execute_result"
    }
   ],
   "source": [
    "qtyw_wyq_schema"
   ]
  },
  {
   "cell_type": "markdown",
   "id": "db413095-069d-4a5d-b29a-0cebbe57d3bb",
   "metadata": {},
   "source": [
    "#### -- data"
   ]
  },
  {
   "cell_type": "code",
   "execution_count": 141,
   "id": "c73eafd7-4d8a-4074-becb-e9c19882dd27",
   "metadata": {},
   "outputs": [],
   "source": [
    "# raw = \"\"\"\n",
    "# 5. 2014 年 9 月 29 日建元资本（中国）融资租赁有限公司办理的 10,000 元（人民币）融资租赁业务，2019 年 12 月 28 日到期。\n",
    "# 截至 2016 年 6 月，余额 2,000。\n",
    "# 6. 2015 年 1 月 12 日建元资本（中国）融资租赁有限公司办理的 50,000 元（人民币）融资租赁业务， 2016 年 7 月已结清。\n",
    "# 第 3 页/共 5 页\n",
    "# 7. 2015 年 6 月 29 日中信证券公司办理的 80,000 元（人民币）股票质押式回购交易，2018 年 6 月 28 日到期。截至 2016 年 7\n",
    "# 月，余额 80,000。\n",
    "# 8. 2015 年 7 月 12 日国泰君安证券公司办理的 50,000 元（人民币）约定购回式证券交易， 2016 年 7 月已结清。\n",
    "# \"\"\""
   ]
  },
  {
   "cell_type": "code",
   "execution_count": 142,
   "id": "9b74b594-37e4-4a6f-9f67-a84b7486ac94",
   "metadata": {},
   "outputs": [
    {
     "data": {
      "text/plain": [
       "['2014年9月29日建元资本（中国）融资租赁有限公司办理的10,000元（人民币）融资租赁业务，2019年12月28日到期。截至2016年6月，余额2,000。',\n",
       " '2015年1月12日建元资本（中国）融资租赁有限公司办理的50,000元（人民币）融资租赁业务，2016年7月已结清。第3页/共5页',\n",
       " '2015年6月29日中信证券公司办理的80,000元（人民币）股票质押式回购交易，2018年6月28日到期。截至2016年7月，余额80,000。',\n",
       " '2015年7月12日国泰君安证券公司办理的50,000元（人民币）约定购回式证券交易，2016年7月已结清。']"
      ]
     },
     "execution_count": 142,
     "metadata": {},
     "output_type": "execute_result"
    }
   ],
   "source": [
    "# cases = split_cases_by_idx_from_paragraph(raw)\n",
    "# cases"
   ]
  },
  {
   "cell_type": "code",
   "execution_count": 20,
   "id": "d7249ba4-8401-489d-94bf-1bb6bc207b6c",
   "metadata": {},
   "outputs": [
    {
     "data": {
      "text/plain": [
       "['2014年9月29日建元资本（中国）融资租赁有限公司办理的10,000元（人民币）融资租赁业务，2019年12月28日到期。截至2016年6月，余额2,000。',\n",
       " '2015年1月12日建元资本（中国）融资租赁有限公司办理的50,000元（人民币）融资租赁业务，2016年7月已结清。第3页/共5页',\n",
       " '2015年6月29日中信证券公司办理的80,000元（人民币）股票质押式回购交易，2018年6月28日到期。截至2016年7月，余额80,000。',\n",
       " '2015年7月12日国泰君安证券公司办理的50,000元（人民币）约定购回式证券交易，2016年7月已结清。']"
      ]
     },
     "execution_count": 20,
     "metadata": {},
     "output_type": "execute_result"
    }
   ],
   "source": [
    "qtyw_wyq_data = ['2014年9月29日建元资本（中国）融资租赁有限公司办理的10,000元（人民币）融资租赁业务，2019年12月28日到期。截至2016年6月，余额2,000。',\n",
    " '2015年1月12日建元资本（中国）融资租赁有限公司办理的50,000元（人民币）融资租赁业务，2016年7月已结清。',\n",
    " '2015年6月29日中信证券公司办理的80,000元（人民币）股票质押式回购交易，2018年6月28日到期。截至2016年7月，余额80,000。',\n",
    " '2015年7月12日国泰君安证券公司办理的50,000元（人民币）约定购回式证券交易，2016年7月已结清。']\n",
    "\n",
    "qtyw_wyq_data"
   ]
  },
  {
   "cell_type": "markdown",
   "id": "d563a7aa-3c02-4d79-ac46-5269b4a509da",
   "metadata": {},
   "source": [
    "#### -- uie-base"
   ]
  },
  {
   "cell_type": "code",
   "execution_count": 52,
   "id": "b419c5a5-d84c-46f6-aafb-b0d0093527c7",
   "metadata": {},
   "outputs": [],
   "source": [
    "qtyw_wyq_results = []\n",
    "for case in qtyw_wyq_data:\n",
    "    result = extract_info_from_taskflow(case=case, schema=qtyw_wyq_schema)\n",
    "    qtyw_wyq_results.append(result)"
   ]
  },
  {
   "cell_type": "code",
   "execution_count": 53,
   "id": "c052b210-e5cc-4855-9c5c-05cf237a4eee",
   "metadata": {},
   "outputs": [
    {
     "name": "stdout",
     "output_type": "stream",
     "text": [
      "2014年9月29日建元资本（中国）融资租赁有限公司办理的10,000元（人民币）融资租赁业务，2019年12月28日到期。截至2016年6月，余额2,000。\n"
     ]
    },
    {
     "data": {
      "text/html": [
       "<div>\n",
       "<style scoped>\n",
       "    .dataframe tbody tr th:only-of-type {\n",
       "        vertical-align: middle;\n",
       "    }\n",
       "\n",
       "    .dataframe tbody tr th {\n",
       "        vertical-align: top;\n",
       "    }\n",
       "\n",
       "    .dataframe thead th {\n",
       "        text-align: right;\n",
       "    }\n",
       "</style>\n",
       "<table border=\"1\" class=\"dataframe\">\n",
       "  <thead>\n",
       "    <tr style=\"text-align: right;\">\n",
       "      <th></th>\n",
       "      <th>key</th>\n",
       "      <th>value</th>\n",
       "    </tr>\n",
       "  </thead>\n",
       "  <tbody>\n",
       "    <tr>\n",
       "      <th>0</th>\n",
       "      <td>业务种类</td>\n",
       "      <td>融资租赁业务</td>\n",
       "    </tr>\n",
       "    <tr>\n",
       "      <th>1</th>\n",
       "      <td>业务办理日期</td>\n",
       "      <td>2014年9月29日</td>\n",
       "    </tr>\n",
       "    <tr>\n",
       "      <th>2</th>\n",
       "      <td>业务办理单位</td>\n",
       "      <td>建元资本（中国）融资租赁有限公司</td>\n",
       "    </tr>\n",
       "    <tr>\n",
       "      <th>3</th>\n",
       "      <td>业务办理金额</td>\n",
       "      <td>10,000元</td>\n",
       "    </tr>\n",
       "    <tr>\n",
       "      <th>4</th>\n",
       "      <td>业务货币种类</td>\n",
       "      <td>None</td>\n",
       "    </tr>\n",
       "    <tr>\n",
       "      <th>5</th>\n",
       "      <td>业务到期日期</td>\n",
       "      <td>2019年12月28日</td>\n",
       "    </tr>\n",
       "    <tr>\n",
       "      <th>6</th>\n",
       "      <td>结清日期</td>\n",
       "      <td>2016年6月</td>\n",
       "    </tr>\n",
       "    <tr>\n",
       "      <th>7</th>\n",
       "      <td>截至日期</td>\n",
       "      <td>2016年6月</td>\n",
       "    </tr>\n",
       "    <tr>\n",
       "      <th>8</th>\n",
       "      <td>余额数目</td>\n",
       "      <td>2,000</td>\n",
       "    </tr>\n",
       "  </tbody>\n",
       "</table>\n",
       "</div>"
      ],
      "text/plain": [
       "      key             value\n",
       "0    业务种类            融资租赁业务\n",
       "1  业务办理日期        2014年9月29日\n",
       "2  业务办理单位  建元资本（中国）融资租赁有限公司\n",
       "3  业务办理金额           10,000元\n",
       "4  业务货币种类              None\n",
       "5  业务到期日期       2019年12月28日\n",
       "6    结清日期           2016年6月\n",
       "7    截至日期           2016年6月\n",
       "8    余额数目             2,000"
      ]
     },
     "metadata": {},
     "output_type": "display_data"
    }
   ],
   "source": [
    "i = 0\n",
    "print(qtyw_wyq_data[i])\n",
    "display(pd.DataFrame(list(qtyw_wyq_results[i].items()), columns=['key', 'value']))"
   ]
  },
  {
   "cell_type": "markdown",
   "id": "90912a95-6843-4bd0-b741-b93a64f2f1a1",
   "metadata": {},
   "source": [
    "- ！结清日期\n",
    "- ！业务货币种类"
   ]
  },
  {
   "cell_type": "code",
   "execution_count": 54,
   "id": "ce4c736e-1947-41c3-9fc8-18d8e36a37db",
   "metadata": {},
   "outputs": [
    {
     "name": "stdout",
     "output_type": "stream",
     "text": [
      "2015年1月12日建元资本（中国）融资租赁有限公司办理的50,000元（人民币）融资租赁业务，2016年7月已结清。第3页/共5页\n"
     ]
    },
    {
     "data": {
      "text/html": [
       "<div>\n",
       "<style scoped>\n",
       "    .dataframe tbody tr th:only-of-type {\n",
       "        vertical-align: middle;\n",
       "    }\n",
       "\n",
       "    .dataframe tbody tr th {\n",
       "        vertical-align: top;\n",
       "    }\n",
       "\n",
       "    .dataframe thead th {\n",
       "        text-align: right;\n",
       "    }\n",
       "</style>\n",
       "<table border=\"1\" class=\"dataframe\">\n",
       "  <thead>\n",
       "    <tr style=\"text-align: right;\">\n",
       "      <th></th>\n",
       "      <th>key</th>\n",
       "      <th>value</th>\n",
       "    </tr>\n",
       "  </thead>\n",
       "  <tbody>\n",
       "    <tr>\n",
       "      <th>0</th>\n",
       "      <td>业务种类</td>\n",
       "      <td>None</td>\n",
       "    </tr>\n",
       "    <tr>\n",
       "      <th>1</th>\n",
       "      <td>业务办理日期</td>\n",
       "      <td>2015年1月12日</td>\n",
       "    </tr>\n",
       "    <tr>\n",
       "      <th>2</th>\n",
       "      <td>业务办理单位</td>\n",
       "      <td>建元资本（中国）融资租赁有限公司</td>\n",
       "    </tr>\n",
       "    <tr>\n",
       "      <th>3</th>\n",
       "      <td>业务办理金额</td>\n",
       "      <td>50,000元</td>\n",
       "    </tr>\n",
       "    <tr>\n",
       "      <th>4</th>\n",
       "      <td>业务货币种类</td>\n",
       "      <td>None</td>\n",
       "    </tr>\n",
       "    <tr>\n",
       "      <th>5</th>\n",
       "      <td>业务到期日期</td>\n",
       "      <td>2015年1月12日</td>\n",
       "    </tr>\n",
       "    <tr>\n",
       "      <th>6</th>\n",
       "      <td>结清日期</td>\n",
       "      <td>2016年7月</td>\n",
       "    </tr>\n",
       "    <tr>\n",
       "      <th>7</th>\n",
       "      <td>截至日期</td>\n",
       "      <td>2015年1月12日</td>\n",
       "    </tr>\n",
       "    <tr>\n",
       "      <th>8</th>\n",
       "      <td>余额数目</td>\n",
       "      <td>None</td>\n",
       "    </tr>\n",
       "  </tbody>\n",
       "</table>\n",
       "</div>"
      ],
      "text/plain": [
       "      key             value\n",
       "0    业务种类              None\n",
       "1  业务办理日期        2015年1月12日\n",
       "2  业务办理单位  建元资本（中国）融资租赁有限公司\n",
       "3  业务办理金额           50,000元\n",
       "4  业务货币种类              None\n",
       "5  业务到期日期        2015年1月12日\n",
       "6    结清日期           2016年7月\n",
       "7    截至日期        2015年1月12日\n",
       "8    余额数目              None"
      ]
     },
     "metadata": {},
     "output_type": "display_data"
    }
   ],
   "source": [
    "i = 1\n",
    "print(qtyw_wyq_data[i])\n",
    "display(pd.DataFrame(list(qtyw_wyq_results[i].items()), columns=['key', 'value']))"
   ]
  },
  {
   "cell_type": "markdown",
   "id": "1895d6cb-9b74-4576-83cf-505fbcf3a2fb",
   "metadata": {},
   "source": [
    "- ！业务种类\n",
    "- 货币种类"
   ]
  },
  {
   "cell_type": "code",
   "execution_count": 55,
   "id": "10ccb4d8-8cb3-4baa-a21a-916f056e0260",
   "metadata": {},
   "outputs": [
    {
     "name": "stdout",
     "output_type": "stream",
     "text": [
      "2015年6月29日中信证券公司办理的80,000元（人民币）股票质押式回购交易，2018年6月28日到期。截至2016年7月，余额80,000。\n"
     ]
    },
    {
     "data": {
      "text/html": [
       "<div>\n",
       "<style scoped>\n",
       "    .dataframe tbody tr th:only-of-type {\n",
       "        vertical-align: middle;\n",
       "    }\n",
       "\n",
       "    .dataframe tbody tr th {\n",
       "        vertical-align: top;\n",
       "    }\n",
       "\n",
       "    .dataframe thead th {\n",
       "        text-align: right;\n",
       "    }\n",
       "</style>\n",
       "<table border=\"1\" class=\"dataframe\">\n",
       "  <thead>\n",
       "    <tr style=\"text-align: right;\">\n",
       "      <th></th>\n",
       "      <th>key</th>\n",
       "      <th>value</th>\n",
       "    </tr>\n",
       "  </thead>\n",
       "  <tbody>\n",
       "    <tr>\n",
       "      <th>0</th>\n",
       "      <td>业务种类</td>\n",
       "      <td>None</td>\n",
       "    </tr>\n",
       "    <tr>\n",
       "      <th>1</th>\n",
       "      <td>业务办理日期</td>\n",
       "      <td>2015年6月29日</td>\n",
       "    </tr>\n",
       "    <tr>\n",
       "      <th>2</th>\n",
       "      <td>业务办理单位</td>\n",
       "      <td>中信证券公司</td>\n",
       "    </tr>\n",
       "    <tr>\n",
       "      <th>3</th>\n",
       "      <td>业务办理金额</td>\n",
       "      <td>None</td>\n",
       "    </tr>\n",
       "    <tr>\n",
       "      <th>4</th>\n",
       "      <td>业务货币种类</td>\n",
       "      <td>None</td>\n",
       "    </tr>\n",
       "    <tr>\n",
       "      <th>5</th>\n",
       "      <td>业务到期日期</td>\n",
       "      <td>2018年6月28日</td>\n",
       "    </tr>\n",
       "    <tr>\n",
       "      <th>6</th>\n",
       "      <td>结清日期</td>\n",
       "      <td>2018年6月28日</td>\n",
       "    </tr>\n",
       "    <tr>\n",
       "      <th>7</th>\n",
       "      <td>截至日期</td>\n",
       "      <td>2016年7月</td>\n",
       "    </tr>\n",
       "    <tr>\n",
       "      <th>8</th>\n",
       "      <td>余额数目</td>\n",
       "      <td>80,000</td>\n",
       "    </tr>\n",
       "  </tbody>\n",
       "</table>\n",
       "</div>"
      ],
      "text/plain": [
       "      key       value\n",
       "0    业务种类        None\n",
       "1  业务办理日期  2015年6月29日\n",
       "2  业务办理单位      中信证券公司\n",
       "3  业务办理金额        None\n",
       "4  业务货币种类        None\n",
       "5  业务到期日期  2018年6月28日\n",
       "6    结清日期  2018年6月28日\n",
       "7    截至日期     2016年7月\n",
       "8    余额数目      80,000"
      ]
     },
     "metadata": {},
     "output_type": "display_data"
    }
   ],
   "source": [
    "i = 2\n",
    "print(qtyw_wyq_data[i])\n",
    "display(pd.DataFrame(list(qtyw_wyq_results[i].items()), columns=['key', 'value']))"
   ]
  },
  {
   "cell_type": "markdown",
   "id": "d2821ce7-30f0-4e41-bf3a-e15e47367307",
   "metadata": {},
   "source": [
    "- 业务种类\n",
    "- ！业务办理金额"
   ]
  },
  {
   "cell_type": "code",
   "execution_count": 56,
   "id": "486b3e49-393f-4fa9-b644-66fe8a9f97e2",
   "metadata": {},
   "outputs": [
    {
     "name": "stdout",
     "output_type": "stream",
     "text": [
      "2015年7月12日国泰君安证券公司办理的50,000元（人民币）约定购回式证券交易，2016年7月已结清。\n"
     ]
    },
    {
     "data": {
      "text/html": [
       "<div>\n",
       "<style scoped>\n",
       "    .dataframe tbody tr th:only-of-type {\n",
       "        vertical-align: middle;\n",
       "    }\n",
       "\n",
       "    .dataframe tbody tr th {\n",
       "        vertical-align: top;\n",
       "    }\n",
       "\n",
       "    .dataframe thead th {\n",
       "        text-align: right;\n",
       "    }\n",
       "</style>\n",
       "<table border=\"1\" class=\"dataframe\">\n",
       "  <thead>\n",
       "    <tr style=\"text-align: right;\">\n",
       "      <th></th>\n",
       "      <th>key</th>\n",
       "      <th>value</th>\n",
       "    </tr>\n",
       "  </thead>\n",
       "  <tbody>\n",
       "    <tr>\n",
       "      <th>0</th>\n",
       "      <td>业务种类</td>\n",
       "      <td>None</td>\n",
       "    </tr>\n",
       "    <tr>\n",
       "      <th>1</th>\n",
       "      <td>业务办理日期</td>\n",
       "      <td>2015年7月12日</td>\n",
       "    </tr>\n",
       "    <tr>\n",
       "      <th>2</th>\n",
       "      <td>业务办理单位</td>\n",
       "      <td>国泰君安证券公司</td>\n",
       "    </tr>\n",
       "    <tr>\n",
       "      <th>3</th>\n",
       "      <td>业务办理金额</td>\n",
       "      <td>None</td>\n",
       "    </tr>\n",
       "    <tr>\n",
       "      <th>4</th>\n",
       "      <td>业务货币种类</td>\n",
       "      <td>None</td>\n",
       "    </tr>\n",
       "    <tr>\n",
       "      <th>5</th>\n",
       "      <td>业务到期日期</td>\n",
       "      <td>2015年7月12日</td>\n",
       "    </tr>\n",
       "    <tr>\n",
       "      <th>6</th>\n",
       "      <td>结清日期</td>\n",
       "      <td>2016年7月</td>\n",
       "    </tr>\n",
       "    <tr>\n",
       "      <th>7</th>\n",
       "      <td>截至日期</td>\n",
       "      <td>2015年7月12日</td>\n",
       "    </tr>\n",
       "    <tr>\n",
       "      <th>8</th>\n",
       "      <td>余额数目</td>\n",
       "      <td>None</td>\n",
       "    </tr>\n",
       "  </tbody>\n",
       "</table>\n",
       "</div>"
      ],
      "text/plain": [
       "      key       value\n",
       "0    业务种类        None\n",
       "1  业务办理日期  2015年7月12日\n",
       "2  业务办理单位    国泰君安证券公司\n",
       "3  业务办理金额        None\n",
       "4  业务货币种类        None\n",
       "5  业务到期日期  2015年7月12日\n",
       "6    结清日期     2016年7月\n",
       "7    截至日期  2015年7月12日\n",
       "8    余额数目        None"
      ]
     },
     "metadata": {},
     "output_type": "display_data"
    }
   ],
   "source": [
    "i = 3\n",
    "print(qtyw_wyq_data[i])\n",
    "display(pd.DataFrame(list(qtyw_wyq_results[i].items()), columns=['key', 'value']))"
   ]
  },
  {
   "cell_type": "markdown",
   "id": "ddad8788-5471-4641-936c-048f8b68fcee",
   "metadata": {},
   "source": [
    "- 业务种类\n",
    "- 业务办理金额\n",
    "- 业务货币种类\n",
    "- 业务到期日期\n",
    "- 截至日期"
   ]
  },
  {
   "cell_type": "markdown",
   "id": "1227db6c-82c1-4950-be64-26598645abb7",
   "metadata": {},
   "source": [
    "#### -- fix"
   ]
  },
  {
   "cell_type": "code",
   "execution_count": 65,
   "id": "988930ed-8e7a-4766-8afc-5f9d250216a1",
   "metadata": {},
   "outputs": [],
   "source": []
  },
  {
   "cell_type": "code",
   "execution_count": 66,
   "id": "b9dc39e7-2baa-46e3-93e3-e62c0440c3f3",
   "metadata": {},
   "outputs": [],
   "source": [
    "qtyw_wyq_results_fixed = []\n",
    "for case, result in zip(qtyw_wyq_data, qtyw_wyq_results):\n",
    "    result = text_result_fixing(case, result)\n",
    "    qtyw_wyq_results_fixed.append(result)"
   ]
  },
  {
   "cell_type": "code",
   "execution_count": 67,
   "id": "fe04149d-87d4-490b-89e1-47293be0e174",
   "metadata": {},
   "outputs": [
    {
     "name": "stdout",
     "output_type": "stream",
     "text": [
      "2014年9月29日建元资本（中国）融资租赁有限公司办理的10,000元（人民币）融资租赁业务，2019年12月28日到期。截至2016年6月，余额2,000。\n"
     ]
    },
    {
     "data": {
      "text/html": [
       "<div>\n",
       "<style scoped>\n",
       "    .dataframe tbody tr th:only-of-type {\n",
       "        vertical-align: middle;\n",
       "    }\n",
       "\n",
       "    .dataframe tbody tr th {\n",
       "        vertical-align: top;\n",
       "    }\n",
       "\n",
       "    .dataframe thead th {\n",
       "        text-align: right;\n",
       "    }\n",
       "</style>\n",
       "<table border=\"1\" class=\"dataframe\">\n",
       "  <thead>\n",
       "    <tr style=\"text-align: right;\">\n",
       "      <th></th>\n",
       "      <th>key</th>\n",
       "      <th>value</th>\n",
       "    </tr>\n",
       "  </thead>\n",
       "  <tbody>\n",
       "    <tr>\n",
       "      <th>0</th>\n",
       "      <td>业务种类</td>\n",
       "      <td>融资租赁业务</td>\n",
       "    </tr>\n",
       "    <tr>\n",
       "      <th>1</th>\n",
       "      <td>业务办理日期</td>\n",
       "      <td>2014年9月29日</td>\n",
       "    </tr>\n",
       "    <tr>\n",
       "      <th>2</th>\n",
       "      <td>业务办理单位</td>\n",
       "      <td>建元资本（中国）融资租赁有限公司</td>\n",
       "    </tr>\n",
       "    <tr>\n",
       "      <th>3</th>\n",
       "      <td>业务办理金额</td>\n",
       "      <td>10000</td>\n",
       "    </tr>\n",
       "    <tr>\n",
       "      <th>4</th>\n",
       "      <td>业务货币种类</td>\n",
       "      <td>人民币</td>\n",
       "    </tr>\n",
       "    <tr>\n",
       "      <th>5</th>\n",
       "      <td>业务到期日期</td>\n",
       "      <td>2019年12月28日</td>\n",
       "    </tr>\n",
       "    <tr>\n",
       "      <th>6</th>\n",
       "      <td>结清日期</td>\n",
       "      <td>None</td>\n",
       "    </tr>\n",
       "    <tr>\n",
       "      <th>7</th>\n",
       "      <td>截至日期</td>\n",
       "      <td>2016年6月</td>\n",
       "    </tr>\n",
       "    <tr>\n",
       "      <th>8</th>\n",
       "      <td>余额数目</td>\n",
       "      <td>2,000</td>\n",
       "    </tr>\n",
       "  </tbody>\n",
       "</table>\n",
       "</div>"
      ],
      "text/plain": [
       "      key             value\n",
       "0    业务种类            融资租赁业务\n",
       "1  业务办理日期        2014年9月29日\n",
       "2  业务办理单位  建元资本（中国）融资租赁有限公司\n",
       "3  业务办理金额             10000\n",
       "4  业务货币种类               人民币\n",
       "5  业务到期日期       2019年12月28日\n",
       "6    结清日期              None\n",
       "7    截至日期           2016年6月\n",
       "8    余额数目             2,000"
      ]
     },
     "metadata": {},
     "output_type": "display_data"
    },
    {
     "name": "stdout",
     "output_type": "stream",
     "text": [
      "2015年1月12日建元资本（中国）融资租赁有限公司办理的50,000元（人民币）融资租赁业务，2016年7月已结清。第3页/共5页\n"
     ]
    },
    {
     "data": {
      "text/html": [
       "<div>\n",
       "<style scoped>\n",
       "    .dataframe tbody tr th:only-of-type {\n",
       "        vertical-align: middle;\n",
       "    }\n",
       "\n",
       "    .dataframe tbody tr th {\n",
       "        vertical-align: top;\n",
       "    }\n",
       "\n",
       "    .dataframe thead th {\n",
       "        text-align: right;\n",
       "    }\n",
       "</style>\n",
       "<table border=\"1\" class=\"dataframe\">\n",
       "  <thead>\n",
       "    <tr style=\"text-align: right;\">\n",
       "      <th></th>\n",
       "      <th>key</th>\n",
       "      <th>value</th>\n",
       "    </tr>\n",
       "  </thead>\n",
       "  <tbody>\n",
       "    <tr>\n",
       "      <th>0</th>\n",
       "      <td>业务种类</td>\n",
       "      <td>融资租赁业务</td>\n",
       "    </tr>\n",
       "    <tr>\n",
       "      <th>1</th>\n",
       "      <td>业务办理日期</td>\n",
       "      <td>2015年1月12日</td>\n",
       "    </tr>\n",
       "    <tr>\n",
       "      <th>2</th>\n",
       "      <td>业务办理单位</td>\n",
       "      <td>建元资本（中国）融资租赁有限公司</td>\n",
       "    </tr>\n",
       "    <tr>\n",
       "      <th>3</th>\n",
       "      <td>业务办理金额</td>\n",
       "      <td>50000</td>\n",
       "    </tr>\n",
       "    <tr>\n",
       "      <th>4</th>\n",
       "      <td>业务货币种类</td>\n",
       "      <td>人民币</td>\n",
       "    </tr>\n",
       "    <tr>\n",
       "      <th>5</th>\n",
       "      <td>业务到期日期</td>\n",
       "      <td>None</td>\n",
       "    </tr>\n",
       "    <tr>\n",
       "      <th>6</th>\n",
       "      <td>结清日期</td>\n",
       "      <td>2016年7月</td>\n",
       "    </tr>\n",
       "    <tr>\n",
       "      <th>7</th>\n",
       "      <td>截至日期</td>\n",
       "      <td>None</td>\n",
       "    </tr>\n",
       "    <tr>\n",
       "      <th>8</th>\n",
       "      <td>余额数目</td>\n",
       "      <td>None</td>\n",
       "    </tr>\n",
       "  </tbody>\n",
       "</table>\n",
       "</div>"
      ],
      "text/plain": [
       "      key             value\n",
       "0    业务种类            融资租赁业务\n",
       "1  业务办理日期        2015年1月12日\n",
       "2  业务办理单位  建元资本（中国）融资租赁有限公司\n",
       "3  业务办理金额             50000\n",
       "4  业务货币种类               人民币\n",
       "5  业务到期日期              None\n",
       "6    结清日期           2016年7月\n",
       "7    截至日期              None\n",
       "8    余额数目              None"
      ]
     },
     "metadata": {},
     "output_type": "display_data"
    },
    {
     "name": "stdout",
     "output_type": "stream",
     "text": [
      "2015年6月29日中信证券公司办理的80,000元（人民币）股票质押式回购交易，2018年6月28日到期。截至2016年7月，余额80,000。\n"
     ]
    },
    {
     "data": {
      "text/html": [
       "<div>\n",
       "<style scoped>\n",
       "    .dataframe tbody tr th:only-of-type {\n",
       "        vertical-align: middle;\n",
       "    }\n",
       "\n",
       "    .dataframe tbody tr th {\n",
       "        vertical-align: top;\n",
       "    }\n",
       "\n",
       "    .dataframe thead th {\n",
       "        text-align: right;\n",
       "    }\n",
       "</style>\n",
       "<table border=\"1\" class=\"dataframe\">\n",
       "  <thead>\n",
       "    <tr style=\"text-align: right;\">\n",
       "      <th></th>\n",
       "      <th>key</th>\n",
       "      <th>value</th>\n",
       "    </tr>\n",
       "  </thead>\n",
       "  <tbody>\n",
       "    <tr>\n",
       "      <th>0</th>\n",
       "      <td>业务种类</td>\n",
       "      <td>股票质押式回购交易</td>\n",
       "    </tr>\n",
       "    <tr>\n",
       "      <th>1</th>\n",
       "      <td>业务办理日期</td>\n",
       "      <td>2015年6月29日</td>\n",
       "    </tr>\n",
       "    <tr>\n",
       "      <th>2</th>\n",
       "      <td>业务办理单位</td>\n",
       "      <td>中信证券公司</td>\n",
       "    </tr>\n",
       "    <tr>\n",
       "      <th>3</th>\n",
       "      <td>业务办理金额</td>\n",
       "      <td>80000</td>\n",
       "    </tr>\n",
       "    <tr>\n",
       "      <th>4</th>\n",
       "      <td>业务货币种类</td>\n",
       "      <td>人民币</td>\n",
       "    </tr>\n",
       "    <tr>\n",
       "      <th>5</th>\n",
       "      <td>业务到期日期</td>\n",
       "      <td>2018年6月28日</td>\n",
       "    </tr>\n",
       "    <tr>\n",
       "      <th>6</th>\n",
       "      <td>结清日期</td>\n",
       "      <td>None</td>\n",
       "    </tr>\n",
       "    <tr>\n",
       "      <th>7</th>\n",
       "      <td>截至日期</td>\n",
       "      <td>2016年7月</td>\n",
       "    </tr>\n",
       "    <tr>\n",
       "      <th>8</th>\n",
       "      <td>余额数目</td>\n",
       "      <td>80,000</td>\n",
       "    </tr>\n",
       "  </tbody>\n",
       "</table>\n",
       "</div>"
      ],
      "text/plain": [
       "      key       value\n",
       "0    业务种类   股票质押式回购交易\n",
       "1  业务办理日期  2015年6月29日\n",
       "2  业务办理单位      中信证券公司\n",
       "3  业务办理金额       80000\n",
       "4  业务货币种类         人民币\n",
       "5  业务到期日期  2018年6月28日\n",
       "6    结清日期        None\n",
       "7    截至日期     2016年7月\n",
       "8    余额数目      80,000"
      ]
     },
     "metadata": {},
     "output_type": "display_data"
    },
    {
     "name": "stdout",
     "output_type": "stream",
     "text": [
      "2015年7月12日国泰君安证券公司办理的50,000元（人民币）约定购回式证券交易，2016年7月已结清。\n"
     ]
    },
    {
     "data": {
      "text/html": [
       "<div>\n",
       "<style scoped>\n",
       "    .dataframe tbody tr th:only-of-type {\n",
       "        vertical-align: middle;\n",
       "    }\n",
       "\n",
       "    .dataframe tbody tr th {\n",
       "        vertical-align: top;\n",
       "    }\n",
       "\n",
       "    .dataframe thead th {\n",
       "        text-align: right;\n",
       "    }\n",
       "</style>\n",
       "<table border=\"1\" class=\"dataframe\">\n",
       "  <thead>\n",
       "    <tr style=\"text-align: right;\">\n",
       "      <th></th>\n",
       "      <th>key</th>\n",
       "      <th>value</th>\n",
       "    </tr>\n",
       "  </thead>\n",
       "  <tbody>\n",
       "    <tr>\n",
       "      <th>0</th>\n",
       "      <td>业务种类</td>\n",
       "      <td>约定购回式证券交易</td>\n",
       "    </tr>\n",
       "    <tr>\n",
       "      <th>1</th>\n",
       "      <td>业务办理日期</td>\n",
       "      <td>2015年7月12日</td>\n",
       "    </tr>\n",
       "    <tr>\n",
       "      <th>2</th>\n",
       "      <td>业务办理单位</td>\n",
       "      <td>国泰君安证券公司</td>\n",
       "    </tr>\n",
       "    <tr>\n",
       "      <th>3</th>\n",
       "      <td>业务办理金额</td>\n",
       "      <td>50000</td>\n",
       "    </tr>\n",
       "    <tr>\n",
       "      <th>4</th>\n",
       "      <td>业务货币种类</td>\n",
       "      <td>人民币</td>\n",
       "    </tr>\n",
       "    <tr>\n",
       "      <th>5</th>\n",
       "      <td>业务到期日期</td>\n",
       "      <td>None</td>\n",
       "    </tr>\n",
       "    <tr>\n",
       "      <th>6</th>\n",
       "      <td>结清日期</td>\n",
       "      <td>2016年7月</td>\n",
       "    </tr>\n",
       "    <tr>\n",
       "      <th>7</th>\n",
       "      <td>截至日期</td>\n",
       "      <td>None</td>\n",
       "    </tr>\n",
       "    <tr>\n",
       "      <th>8</th>\n",
       "      <td>余额数目</td>\n",
       "      <td>None</td>\n",
       "    </tr>\n",
       "  </tbody>\n",
       "</table>\n",
       "</div>"
      ],
      "text/plain": [
       "      key       value\n",
       "0    业务种类   约定购回式证券交易\n",
       "1  业务办理日期  2015年7月12日\n",
       "2  业务办理单位    国泰君安证券公司\n",
       "3  业务办理金额       50000\n",
       "4  业务货币种类         人民币\n",
       "5  业务到期日期        None\n",
       "6    结清日期     2016年7月\n",
       "7    截至日期        None\n",
       "8    余额数目        None"
      ]
     },
     "metadata": {},
     "output_type": "display_data"
    }
   ],
   "source": [
    "for case, result in zip(qtyw_wyq_data, qtyw_wyq_results_fixed):\n",
    "    print(case)\n",
    "    display(pd.DataFrame(list(result.items()), columns=['key', 'value']))"
   ]
  },
  {
   "cell_type": "markdown",
   "id": "5f5dd209-fdd1-4d35-bbe9-620290a85e4f",
   "metadata": {},
   "source": [
    "#### -- en"
   ]
  },
  {
   "cell_type": "code",
   "execution_count": 70,
   "id": "f8039fd6-c17f-4a11-ba01-9259b2717210",
   "metadata": {},
   "outputs": [
    {
     "data": {
      "text/plain": [
       "[{'business_type': '融资租赁业务',\n",
       "  'business_handling_date': '2014年9月29日',\n",
       "  'business_handling_unit': '建元资本（中国）融资租赁有限公司',\n",
       "  'business_transaction_amount': '10000',\n",
       "  'business_currency_type': '人民币',\n",
       "  'business_expiration_date': '2019年12月28日',\n",
       "  'date_of_settlement': None,\n",
       "  'reference_date': '2016年6月',\n",
       "  'remaining_balance': '2,000'},\n",
       " {'business_type': '融资租赁业务',\n",
       "  'business_handling_date': '2015年1月12日',\n",
       "  'business_handling_unit': '建元资本（中国）融资租赁有限公司',\n",
       "  'business_transaction_amount': '50000',\n",
       "  'business_currency_type': '人民币',\n",
       "  'business_expiration_date': None,\n",
       "  'date_of_settlement': '2016年7月',\n",
       "  'reference_date': None,\n",
       "  'remaining_balance': None},\n",
       " {'business_type': '股票质押式回购交易',\n",
       "  'business_handling_date': '2015年6月29日',\n",
       "  'business_handling_unit': '中信证券公司',\n",
       "  'business_transaction_amount': '80000',\n",
       "  'business_currency_type': '人民币',\n",
       "  'business_expiration_date': '2018年6月28日',\n",
       "  'date_of_settlement': None,\n",
       "  'reference_date': '2016年7月',\n",
       "  'remaining_balance': '80,000'},\n",
       " {'business_type': '约定购回式证券交易',\n",
       "  'business_handling_date': '2015年7月12日',\n",
       "  'business_handling_unit': '国泰君安证券公司',\n",
       "  'business_transaction_amount': '50000',\n",
       "  'business_currency_type': '人民币',\n",
       "  'business_expiration_date': None,\n",
       "  'date_of_settlement': '2016年7月',\n",
       "  'reference_date': None,\n",
       "  'remaining_balance': None}]"
      ]
     },
     "execution_count": 70,
     "metadata": {},
     "output_type": "execute_result"
    }
   ],
   "source": [
    "qtyw_wyq_results_en = []\n",
    "\n",
    "for result in qtyw_wyq_results_fixed:\n",
    "    result_en = {key_2_English(k):v for k,v in result.items()}\n",
    "    qtyw_wyq_results_en.append(result_en)\n",
    "\n",
    "qtyw_wyq_results_en"
   ]
  },
  {
   "cell_type": "code",
   "execution_count": null,
   "id": "0103407b-40ab-4230-9e0e-fa16cca57434",
   "metadata": {},
   "outputs": [],
   "source": []
  },
  {
   "cell_type": "code",
   "execution_count": null,
   "id": "f4875c9d-a777-495a-bf70-b0c450f39a87",
   "metadata": {},
   "outputs": [],
   "source": []
  },
  {
   "cell_type": "markdown",
   "id": "42c71f73-616b-4723-8281-0de48986c70d",
   "metadata": {},
   "source": [
    "## 相关还款责任信息\n",
    "略 -- 具体思路同 `信用卡 -- 逾期贷记卡`"
   ]
  },
  {
   "cell_type": "markdown",
   "id": "6f6ebc6a-838a-4c82-8f50-442f661f952f",
   "metadata": {},
   "source": [
    "- 结果矫正逻辑需人工总结\n",
    "- 关键字段需人工提前确定："
   ]
  },
  {
   "cell_type": "markdown",
   "id": "aa6ebc00-2243-4aca-bca0-a69293429ef8",
   "metadata": {},
   "source": [
    "#### -- key"
   ]
  },
  {
   "cell_type": "code",
   "execution_count": 139,
   "id": "8327fcbe-1d88-40a7-accd-1e8dfbb5d031",
   "metadata": {},
   "outputs": [
    {
     "data": {
      "text/plain": [
       "{'业务办理日期': 'business_handling_date',\n",
       " '办理方姓名': 'handler_name',\n",
       " '办理人证件类型': 'handler_id_type',\n",
       " '办理人证件号码': 'handler_id_number',\n",
       " '办理机构': 'handling_institution',\n",
       " '承担相关还款责任的业务': 'business_bearing_relevant_repayment_responsibilities',\n",
       " '责任人类型': 'responsible_person_type',\n",
       " '责任金额': 'amount_liable',\n",
       " '保证合同编号': 'guarantee_contract_no',\n",
       " '截至日期': 'reference_date',\n",
       " '余额数目': 'remaining_balance',\n",
       " '余额币种': 'balance_currency'}"
      ]
     },
     "execution_count": 139,
     "metadata": {},
     "output_type": "execute_result"
    }
   ],
   "source": [
    "xghkzrxx_schema = [\"业务办理日期\", \"办理方姓名\", \"办理人证件类型\", \"办理人证件号码\", \"办理机构\", \"承担相关还款责任的业务\", \"责任人类型\", \"责任金额\", \"保证合同编号\"]\n",
    "xghkzrxx_schema.extend([\"截至日期\", \"余额数目\", \"余额币种\"])\n",
    "\n",
    "{k:key_2_English(k) for k in xghkzrxx_schema}"
   ]
  },
  {
   "cell_type": "code",
   "execution_count": 140,
   "id": "56361467-b7d2-4bf9-89d1-c9aae170781f",
   "metadata": {},
   "outputs": [
    {
     "data": {
      "text/plain": [
       "['业务办理日期',\n",
       " '办理方姓名',\n",
       " '办理人证件类型',\n",
       " '办理人证件号码',\n",
       " '办理机构',\n",
       " '承担相关还款责任的业务',\n",
       " '责任人类型',\n",
       " '责任金额',\n",
       " '保证合同编号',\n",
       " '截至日期',\n",
       " '余额数目',\n",
       " '余额币种']"
      ]
     },
     "execution_count": 140,
     "metadata": {},
     "output_type": "execute_result"
    }
   ],
   "source": [
    "xghkzrxx_schema"
   ]
  },
  {
   "cell_type": "markdown",
   "id": "1dae4251-cc8f-4363-a591-d6518205df73",
   "metadata": {},
   "source": [
    "#### -- data"
   ]
  },
  {
   "cell_type": "code",
   "execution_count": 87,
   "id": "7a717575-5b34-48f2-8b9a-724aa8ce8322",
   "metadata": {},
   "outputs": [],
   "source": [
    "# raw = \"\"\"\n",
    "# 1.2009 年 3 月 2 日，为赵四（证件类型：身份证，证件号码：420105198503242420）在中国建设银行金融街支行办理的个人住\n",
    "# 房商业贷款承担相关还款责任，责任人类型为保证人，相关还款责任金额 50,000（保证合同编号：100022233）。截至 2016\n",
    "# 年 7 月 5 日，个人住房商业贷款余额 30,000。\n",
    "# 2.2010 年 5 月 20 日，为李三（证件类型：身份证，证件号码：420105197503202424）在中国农业银行信用卡中心办理的贷记卡\n",
    "# 承担相关还款责任，责任人类型为保证人，相关还款责任金额 50,000。截至 2016 年 7 月 20 日，贷记卡余额 20,000。\n",
    "# 3.2012 年 3 月 2 日，为赵四（证件类型：身份证，证件号码：420105198503242420）在建元资本（中国）融资租赁有限公司办\n",
    "# 理的约定购回式证券交易业务承担相关还款责任，责任人类型为其他，相关还款责任金额 50,000。截至 2016 年 7 月 5 日，\n",
    "# 约定购回式证券交易余额 30,000。\n",
    "# 4.2009 年 3 月 2 日，为北京某公司（证件类型：机构信用代码，证件号码：12011819008808）在建设银行北京分行办理的固定\n",
    "# 资产贷款承担相关还款责任，责任人类型为应收账款债务人，相关还款责任金额 200,000。截至 2015 年 5 月 25 日，固定资\n",
    "# 产贷款余额 30,000（人民币）。\n",
    "# \"\"\""
   ]
  },
  {
   "cell_type": "code",
   "execution_count": 89,
   "id": "4fa73335-7e49-4b15-a6c4-aa0e012c5d5f",
   "metadata": {},
   "outputs": [
    {
     "data": {
      "text/plain": [
       "['2009年3月2日，为赵四（证件类型：身份证，证件号码：420105198503242420）在中国建设银行金融街支行办理的个人住房商业贷款承担相关还款责任，责任人类型为保证人，相关还款责任金额50,000（保证合同编号：100022233）。截至2016年7月5日，个人住房商业贷款余额30,000。',\n",
       " '2010年5月20日，为李三（证件类型：身份证，证件号码：420105197503202424）在中国农业银行信用卡中心办理的贷记卡承担相关还款责任，责任人类型为保证人，相关还款责任金额50,000。截至2016年7月20日，贷记卡余额20,000。',\n",
       " '2012年3月2日，为赵四（证件类型：身份证，证件号码：420105198503242420）在建元资本（中国）融资租赁有限公司办理的约定购回式证券交易业务承担相关还款责任，责任人类型为其他，相关还款责任金额50,000。截至2016年7月5日，约定购回式证券交易余额30,000。',\n",
       " '2009年3月2日，为北京某公司（证件类型：机构信用代码，证件号码：12011819008808）在建设银行北京分行办理的固定资产贷款承担相关还款责任，责任人类型为应收账款债务人，相关还款责任金额200,000。截至2015年5月25日，固定资产贷款余额30,000（人民币）。']"
      ]
     },
     "execution_count": 89,
     "metadata": {},
     "output_type": "execute_result"
    }
   ],
   "source": [
    "# cases = split_cases_by_idx_from_paragraph(raw)\n",
    "# cases"
   ]
  },
  {
   "cell_type": "code",
   "execution_count": 92,
   "id": "c316afb5-c097-40de-92ce-f016a219569a",
   "metadata": {},
   "outputs": [
    {
     "data": {
      "text/plain": [
       "['2009年3月2日，为赵四（证件类型：身份证，证件号码：420105198503242420）在中国建设银行金融街支行办理的个人住房商业贷款承担相关还款责任，责任人类型为保证人，相关还款责任金额50,000（保证合同编号：100022233）。截至2016年7月5日，个人住房商业贷款余额30,000。',\n",
       " '2010年5月20日，为李三（证件类型：身份证，证件号码：420105197503202424）在中国农业银行信用卡中心办理的贷记卡承担相关还款责任，责任人类型为保证人，相关还款责任金额50,000。截至2016年7月20日，贷记卡余额20,000。',\n",
       " '2012年3月2日，为赵四（证件类型：身份证，证件号码：420105198503242420）在建元资本（中国）融资租赁有限公司办理的约定购回式证券交易业务承担相关还款责任，责任人类型为其他，相关还款责任金额50,000。截至2016年7月5日，约定购回式证券交易余额30,000。',\n",
       " '2009年3月2日，为北京某公司（证件类型：机构信用代码，证件号码：12011819008808）在建设银行北京分行办理的固定资产贷款承担相关还款责任，责任人类型为应收账款债务人，相关还款责任金额200,000。截至2015年5月25日，固定资产贷款余额30,000（人民币）。']"
      ]
     },
     "execution_count": 92,
     "metadata": {},
     "output_type": "execute_result"
    }
   ],
   "source": [
    "xghkzrxx_data = ['2009年3月2日，为赵四（证件类型：身份证，证件号码：420105198503242420）在中国建设银行金融街支行办理的个人住房商业贷款承担相关还款责任，责任人类型为保证人，相关还款责任金额50,000（保证合同编号：100022233）。截至2016年7月5日，个人住房商业贷款余额30,000。',\n",
    " '2010年5月20日，为李三（证件类型：身份证，证件号码：420105197503202424）在中国农业银行信用卡中心办理的贷记卡承担相关还款责任，责任人类型为保证人，相关还款责任金额50,000。截至2016年7月20日，贷记卡余额20,000。',\n",
    " '2012年3月2日，为赵四（证件类型：身份证，证件号码：420105198503242420）在建元资本（中国）融资租赁有限公司办理的约定购回式证券交易业务承担相关还款责任，责任人类型为其他，相关还款责任金额50,000。截至2016年7月5日，约定购回式证券交易余额30,000。',\n",
    " '2009年3月2日，为北京某公司（证件类型：机构信用代码，证件号码：12011819008808）在建设银行北京分行办理的固定资产贷款承担相关还款责任，责任人类型为应收账款债务人，相关还款责任金额200,000。截至2015年5月25日，固定资产贷款余额30,000（人民币）。']\n",
    "\n",
    "xghkzrxx_data"
   ]
  },
  {
   "cell_type": "markdown",
   "id": "86c2e322-72fa-4cb9-9205-4c71c3acefc9",
   "metadata": {},
   "source": [
    "#### -- uie-base"
   ]
  },
  {
   "cell_type": "code",
   "execution_count": 110,
   "id": "f0afa69a-3106-4f30-988b-2e3ba142a3a8",
   "metadata": {},
   "outputs": [],
   "source": [
    "xghkzrxx_results = []\n",
    "for case in xghkzrxx_data:\n",
    "    result = extract_info_from_taskflow(case=case, schema=xghkzrxx_schema)\n",
    "    xghkzrxx_results.append(result)"
   ]
  },
  {
   "cell_type": "code",
   "execution_count": 111,
   "id": "a1276607-41c1-4021-a947-dca5cf51abfd",
   "metadata": {},
   "outputs": [
    {
     "name": "stdout",
     "output_type": "stream",
     "text": [
      "2009年3月2日，为赵四（证件类型：身份证，证件号码：420105198503242420）在中国建设银行金融街支行办理的个人住房商业贷款承担相关还款责任，责任人类型为保证人，相关还款责任金额50,000（保证合同编号：100022233）。截至2016年7月5日，个人住房商业贷款余额30,000。\n"
     ]
    },
    {
     "data": {
      "text/html": [
       "<div>\n",
       "<style scoped>\n",
       "    .dataframe tbody tr th:only-of-type {\n",
       "        vertical-align: middle;\n",
       "    }\n",
       "\n",
       "    .dataframe tbody tr th {\n",
       "        vertical-align: top;\n",
       "    }\n",
       "\n",
       "    .dataframe thead th {\n",
       "        text-align: right;\n",
       "    }\n",
       "</style>\n",
       "<table border=\"1\" class=\"dataframe\">\n",
       "  <thead>\n",
       "    <tr style=\"text-align: right;\">\n",
       "      <th></th>\n",
       "      <th>key</th>\n",
       "      <th>value</th>\n",
       "    </tr>\n",
       "  </thead>\n",
       "  <tbody>\n",
       "    <tr>\n",
       "      <th>0</th>\n",
       "      <td>业务办理日期</td>\n",
       "      <td>2009年3月2日</td>\n",
       "    </tr>\n",
       "    <tr>\n",
       "      <th>1</th>\n",
       "      <td>办理方姓名</td>\n",
       "      <td>赵四</td>\n",
       "    </tr>\n",
       "    <tr>\n",
       "      <th>2</th>\n",
       "      <td>办理人证件类型</td>\n",
       "      <td>身份证</td>\n",
       "    </tr>\n",
       "    <tr>\n",
       "      <th>3</th>\n",
       "      <td>办理人证件号码</td>\n",
       "      <td>420105198503242420</td>\n",
       "    </tr>\n",
       "    <tr>\n",
       "      <th>4</th>\n",
       "      <td>办理机构</td>\n",
       "      <td>中国建设银行金融街支行</td>\n",
       "    </tr>\n",
       "    <tr>\n",
       "      <th>5</th>\n",
       "      <td>承担相关还款责任的业务</td>\n",
       "      <td>None</td>\n",
       "    </tr>\n",
       "    <tr>\n",
       "      <th>6</th>\n",
       "      <td>责任人类型</td>\n",
       "      <td>保证人</td>\n",
       "    </tr>\n",
       "    <tr>\n",
       "      <th>7</th>\n",
       "      <td>责任金额</td>\n",
       "      <td>50,000</td>\n",
       "    </tr>\n",
       "    <tr>\n",
       "      <th>8</th>\n",
       "      <td>保证合同编号</td>\n",
       "      <td>100022233</td>\n",
       "    </tr>\n",
       "    <tr>\n",
       "      <th>9</th>\n",
       "      <td>截至日期</td>\n",
       "      <td>2016年7月5日</td>\n",
       "    </tr>\n",
       "    <tr>\n",
       "      <th>10</th>\n",
       "      <td>余额数目</td>\n",
       "      <td>30,000</td>\n",
       "    </tr>\n",
       "    <tr>\n",
       "      <th>11</th>\n",
       "      <td>余额币种</td>\n",
       "      <td>None</td>\n",
       "    </tr>\n",
       "  </tbody>\n",
       "</table>\n",
       "</div>"
      ],
      "text/plain": [
       "            key               value\n",
       "0        业务办理日期           2009年3月2日\n",
       "1         办理方姓名                  赵四\n",
       "2       办理人证件类型                 身份证\n",
       "3       办理人证件号码  420105198503242420\n",
       "4          办理机构         中国建设银行金融街支行\n",
       "5   承担相关还款责任的业务                None\n",
       "6         责任人类型                 保证人\n",
       "7          责任金额              50,000\n",
       "8        保证合同编号           100022233\n",
       "9          截至日期           2016年7月5日\n",
       "10         余额数目              30,000\n",
       "11         余额币种                None"
      ]
     },
     "metadata": {},
     "output_type": "display_data"
    }
   ],
   "source": [
    "i = 0\n",
    "print(xghkzrxx_data[i])\n",
    "display(pd.DataFrame(list(xghkzrxx_results[i].items()), columns=['key', 'value']))"
   ]
  },
  {
   "cell_type": "markdown",
   "id": "159f9594-0782-41b1-b42d-33ab02887833",
   "metadata": {},
   "source": [
    "- ! 承担相关还款责任的业务"
   ]
  },
  {
   "cell_type": "code",
   "execution_count": 112,
   "id": "22d0dbcb-758e-4d55-98ea-6b88489e6658",
   "metadata": {},
   "outputs": [
    {
     "name": "stdout",
     "output_type": "stream",
     "text": [
      "2010年5月20日，为李三（证件类型：身份证，证件号码：420105197503202424）在中国农业银行信用卡中心办理的贷记卡承担相关还款责任，责任人类型为保证人，相关还款责任金额50,000。截至2016年7月20日，贷记卡余额20,000。\n"
     ]
    },
    {
     "data": {
      "text/html": [
       "<div>\n",
       "<style scoped>\n",
       "    .dataframe tbody tr th:only-of-type {\n",
       "        vertical-align: middle;\n",
       "    }\n",
       "\n",
       "    .dataframe tbody tr th {\n",
       "        vertical-align: top;\n",
       "    }\n",
       "\n",
       "    .dataframe thead th {\n",
       "        text-align: right;\n",
       "    }\n",
       "</style>\n",
       "<table border=\"1\" class=\"dataframe\">\n",
       "  <thead>\n",
       "    <tr style=\"text-align: right;\">\n",
       "      <th></th>\n",
       "      <th>key</th>\n",
       "      <th>value</th>\n",
       "    </tr>\n",
       "  </thead>\n",
       "  <tbody>\n",
       "    <tr>\n",
       "      <th>0</th>\n",
       "      <td>业务办理日期</td>\n",
       "      <td>2010年5月20日</td>\n",
       "    </tr>\n",
       "    <tr>\n",
       "      <th>1</th>\n",
       "      <td>办理方姓名</td>\n",
       "      <td>李三</td>\n",
       "    </tr>\n",
       "    <tr>\n",
       "      <th>2</th>\n",
       "      <td>办理人证件类型</td>\n",
       "      <td>身份证</td>\n",
       "    </tr>\n",
       "    <tr>\n",
       "      <th>3</th>\n",
       "      <td>办理人证件号码</td>\n",
       "      <td>420105197503202424</td>\n",
       "    </tr>\n",
       "    <tr>\n",
       "      <th>4</th>\n",
       "      <td>办理机构</td>\n",
       "      <td>中国农业银行信用卡中心</td>\n",
       "    </tr>\n",
       "    <tr>\n",
       "      <th>5</th>\n",
       "      <td>承担相关还款责任的业务</td>\n",
       "      <td>None</td>\n",
       "    </tr>\n",
       "    <tr>\n",
       "      <th>6</th>\n",
       "      <td>责任人类型</td>\n",
       "      <td>保证人</td>\n",
       "    </tr>\n",
       "    <tr>\n",
       "      <th>7</th>\n",
       "      <td>责任金额</td>\n",
       "      <td>50,000</td>\n",
       "    </tr>\n",
       "    <tr>\n",
       "      <th>8</th>\n",
       "      <td>保证合同编号</td>\n",
       "      <td>None</td>\n",
       "    </tr>\n",
       "    <tr>\n",
       "      <th>9</th>\n",
       "      <td>截至日期</td>\n",
       "      <td>2016年7月20日</td>\n",
       "    </tr>\n",
       "    <tr>\n",
       "      <th>10</th>\n",
       "      <td>余额数目</td>\n",
       "      <td>20,000</td>\n",
       "    </tr>\n",
       "    <tr>\n",
       "      <th>11</th>\n",
       "      <td>余额币种</td>\n",
       "      <td>None</td>\n",
       "    </tr>\n",
       "  </tbody>\n",
       "</table>\n",
       "</div>"
      ],
      "text/plain": [
       "            key               value\n",
       "0        业务办理日期          2010年5月20日\n",
       "1         办理方姓名                  李三\n",
       "2       办理人证件类型                 身份证\n",
       "3       办理人证件号码  420105197503202424\n",
       "4          办理机构         中国农业银行信用卡中心\n",
       "5   承担相关还款责任的业务                None\n",
       "6         责任人类型                 保证人\n",
       "7          责任金额              50,000\n",
       "8        保证合同编号                None\n",
       "9          截至日期          2016年7月20日\n",
       "10         余额数目              20,000\n",
       "11         余额币种                None"
      ]
     },
     "metadata": {},
     "output_type": "display_data"
    }
   ],
   "source": [
    "i = 1\n",
    "print(xghkzrxx_data[i])\n",
    "display(pd.DataFrame(list(xghkzrxx_results[i].items()), columns=['key', 'value']))"
   ]
  },
  {
   "cell_type": "markdown",
   "id": "f45da06b-e63a-4fa6-b863-64fcfb67ea10",
   "metadata": {},
   "source": [
    "- 承担相关还款责任的业务"
   ]
  },
  {
   "cell_type": "code",
   "execution_count": 113,
   "id": "d0ddbf1e-5d8b-48ab-87bf-666074217cf1",
   "metadata": {},
   "outputs": [
    {
     "name": "stdout",
     "output_type": "stream",
     "text": [
      "2012年3月2日，为赵四（证件类型：身份证，证件号码：420105198503242420）在建元资本（中国）融资租赁有限公司办理的约定购回式证券交易业务承担相关还款责任，责任人类型为其他，相关还款责任金额50,000。截至2016年7月5日，约定购回式证券交易余额30,000。\n"
     ]
    },
    {
     "data": {
      "text/html": [
       "<div>\n",
       "<style scoped>\n",
       "    .dataframe tbody tr th:only-of-type {\n",
       "        vertical-align: middle;\n",
       "    }\n",
       "\n",
       "    .dataframe tbody tr th {\n",
       "        vertical-align: top;\n",
       "    }\n",
       "\n",
       "    .dataframe thead th {\n",
       "        text-align: right;\n",
       "    }\n",
       "</style>\n",
       "<table border=\"1\" class=\"dataframe\">\n",
       "  <thead>\n",
       "    <tr style=\"text-align: right;\">\n",
       "      <th></th>\n",
       "      <th>key</th>\n",
       "      <th>value</th>\n",
       "    </tr>\n",
       "  </thead>\n",
       "  <tbody>\n",
       "    <tr>\n",
       "      <th>0</th>\n",
       "      <td>业务办理日期</td>\n",
       "      <td>2012年3月2日</td>\n",
       "    </tr>\n",
       "    <tr>\n",
       "      <th>1</th>\n",
       "      <td>办理方姓名</td>\n",
       "      <td>赵四</td>\n",
       "    </tr>\n",
       "    <tr>\n",
       "      <th>2</th>\n",
       "      <td>办理人证件类型</td>\n",
       "      <td>身份证</td>\n",
       "    </tr>\n",
       "    <tr>\n",
       "      <th>3</th>\n",
       "      <td>办理人证件号码</td>\n",
       "      <td>420105198503242420</td>\n",
       "    </tr>\n",
       "    <tr>\n",
       "      <th>4</th>\n",
       "      <td>办理机构</td>\n",
       "      <td>建元资本（中国）融资租赁有限公司</td>\n",
       "    </tr>\n",
       "    <tr>\n",
       "      <th>5</th>\n",
       "      <td>承担相关还款责任的业务</td>\n",
       "      <td>约定购回式证券交易业务</td>\n",
       "    </tr>\n",
       "    <tr>\n",
       "      <th>6</th>\n",
       "      <td>责任人类型</td>\n",
       "      <td>其他</td>\n",
       "    </tr>\n",
       "    <tr>\n",
       "      <th>7</th>\n",
       "      <td>责任金额</td>\n",
       "      <td>50,000</td>\n",
       "    </tr>\n",
       "    <tr>\n",
       "      <th>8</th>\n",
       "      <td>保证合同编号</td>\n",
       "      <td>None</td>\n",
       "    </tr>\n",
       "    <tr>\n",
       "      <th>9</th>\n",
       "      <td>截至日期</td>\n",
       "      <td>2016年7月5日</td>\n",
       "    </tr>\n",
       "    <tr>\n",
       "      <th>10</th>\n",
       "      <td>余额数目</td>\n",
       "      <td>None</td>\n",
       "    </tr>\n",
       "    <tr>\n",
       "      <th>11</th>\n",
       "      <td>余额币种</td>\n",
       "      <td>None</td>\n",
       "    </tr>\n",
       "  </tbody>\n",
       "</table>\n",
       "</div>"
      ],
      "text/plain": [
       "            key               value\n",
       "0        业务办理日期           2012年3月2日\n",
       "1         办理方姓名                  赵四\n",
       "2       办理人证件类型                 身份证\n",
       "3       办理人证件号码  420105198503242420\n",
       "4          办理机构    建元资本（中国）融资租赁有限公司\n",
       "5   承担相关还款责任的业务         约定购回式证券交易业务\n",
       "6         责任人类型                  其他\n",
       "7          责任金额              50,000\n",
       "8        保证合同编号                None\n",
       "9          截至日期           2016年7月5日\n",
       "10         余额数目                None\n",
       "11         余额币种                None"
      ]
     },
     "metadata": {},
     "output_type": "display_data"
    }
   ],
   "source": [
    "i = 2\n",
    "print(xghkzrxx_data[i])\n",
    "display(pd.DataFrame(list(xghkzrxx_results[i].items()), columns=['key', 'value']))"
   ]
  },
  {
   "cell_type": "markdown",
   "id": "70b831cb-c956-42dd-8f3f-58f1e47579cb",
   "metadata": {},
   "source": [
    "- ！余额数目\t\n",
    "- 承担相关还款责任的业务"
   ]
  },
  {
   "cell_type": "code",
   "execution_count": 114,
   "id": "6c80c1d5-5127-4024-8bb3-eca8c5b6b679",
   "metadata": {},
   "outputs": [
    {
     "name": "stdout",
     "output_type": "stream",
     "text": [
      "2009年3月2日，为北京某公司（证件类型：机构信用代码，证件号码：12011819008808）在建设银行北京分行办理的固定资产贷款承担相关还款责任，责任人类型为应收账款债务人，相关还款责任金额200,000。截至2015年5月25日，固定资产贷款余额30,000（人民币）。\n"
     ]
    },
    {
     "data": {
      "text/html": [
       "<div>\n",
       "<style scoped>\n",
       "    .dataframe tbody tr th:only-of-type {\n",
       "        vertical-align: middle;\n",
       "    }\n",
       "\n",
       "    .dataframe tbody tr th {\n",
       "        vertical-align: top;\n",
       "    }\n",
       "\n",
       "    .dataframe thead th {\n",
       "        text-align: right;\n",
       "    }\n",
       "</style>\n",
       "<table border=\"1\" class=\"dataframe\">\n",
       "  <thead>\n",
       "    <tr style=\"text-align: right;\">\n",
       "      <th></th>\n",
       "      <th>key</th>\n",
       "      <th>value</th>\n",
       "    </tr>\n",
       "  </thead>\n",
       "  <tbody>\n",
       "    <tr>\n",
       "      <th>0</th>\n",
       "      <td>业务办理日期</td>\n",
       "      <td>2009年3月2日</td>\n",
       "    </tr>\n",
       "    <tr>\n",
       "      <th>1</th>\n",
       "      <td>办理方姓名</td>\n",
       "      <td>北京某公司</td>\n",
       "    </tr>\n",
       "    <tr>\n",
       "      <th>2</th>\n",
       "      <td>办理人证件类型</td>\n",
       "      <td>机构信用代码</td>\n",
       "    </tr>\n",
       "    <tr>\n",
       "      <th>3</th>\n",
       "      <td>办理人证件号码</td>\n",
       "      <td>12011819008808</td>\n",
       "    </tr>\n",
       "    <tr>\n",
       "      <th>4</th>\n",
       "      <td>办理机构</td>\n",
       "      <td>建设银行北京分行</td>\n",
       "    </tr>\n",
       "    <tr>\n",
       "      <th>5</th>\n",
       "      <td>承担相关还款责任的业务</td>\n",
       "      <td>None</td>\n",
       "    </tr>\n",
       "    <tr>\n",
       "      <th>6</th>\n",
       "      <td>责任人类型</td>\n",
       "      <td>应收账款债务人</td>\n",
       "    </tr>\n",
       "    <tr>\n",
       "      <th>7</th>\n",
       "      <td>责任金额</td>\n",
       "      <td>200,000</td>\n",
       "    </tr>\n",
       "    <tr>\n",
       "      <th>8</th>\n",
       "      <td>保证合同编号</td>\n",
       "      <td>None</td>\n",
       "    </tr>\n",
       "    <tr>\n",
       "      <th>9</th>\n",
       "      <td>截至日期</td>\n",
       "      <td>2015年5月25日</td>\n",
       "    </tr>\n",
       "    <tr>\n",
       "      <th>10</th>\n",
       "      <td>余额数目</td>\n",
       "      <td>None</td>\n",
       "    </tr>\n",
       "    <tr>\n",
       "      <th>11</th>\n",
       "      <td>余额币种</td>\n",
       "      <td>None</td>\n",
       "    </tr>\n",
       "  </tbody>\n",
       "</table>\n",
       "</div>"
      ],
      "text/plain": [
       "            key           value\n",
       "0        业务办理日期       2009年3月2日\n",
       "1         办理方姓名           北京某公司\n",
       "2       办理人证件类型          机构信用代码\n",
       "3       办理人证件号码  12011819008808\n",
       "4          办理机构        建设银行北京分行\n",
       "5   承担相关还款责任的业务            None\n",
       "6         责任人类型         应收账款债务人\n",
       "7          责任金额         200,000\n",
       "8        保证合同编号            None\n",
       "9          截至日期      2015年5月25日\n",
       "10         余额数目            None\n",
       "11         余额币种            None"
      ]
     },
     "metadata": {},
     "output_type": "display_data"
    }
   ],
   "source": [
    "i = 3\n",
    "print(xghkzrxx_data[i])\n",
    "display(pd.DataFrame(list(xghkzrxx_results[i].items()), columns=['key', 'value']))"
   ]
  },
  {
   "cell_type": "markdown",
   "id": "ebe7f037-06da-46bb-8613-504fdcec4383",
   "metadata": {},
   "source": [
    "- 余额数目\n",
    "- ！余额币种"
   ]
  },
  {
   "cell_type": "markdown",
   "id": "547b0c83-02c8-4455-adf5-ffc2e8a7a9fe",
   "metadata": {},
   "source": [
    "#### -- fix"
   ]
  },
  {
   "cell_type": "code",
   "execution_count": 129,
   "id": "c9ca2e90-3d7d-4c89-834f-7a32acf46606",
   "metadata": {},
   "outputs": [],
   "source": []
  },
  {
   "cell_type": "code",
   "execution_count": 130,
   "id": "b5b8380e-e6c7-4f68-a4aa-5f52599cb238",
   "metadata": {},
   "outputs": [],
   "source": [
    "xghkzrxx_results_fixed = []\n",
    "for case, result in zip(xghkzrxx_data, xghkzrxx_results):\n",
    "    result = text_result_fixing(case, result)\n",
    "    xghkzrxx_results_fixed.append(result)"
   ]
  },
  {
   "cell_type": "code",
   "execution_count": 131,
   "id": "1cd7f6f7-6f7c-414c-8372-ad6069b3c5a9",
   "metadata": {},
   "outputs": [
    {
     "name": "stdout",
     "output_type": "stream",
     "text": [
      "2009年3月2日，为赵四（证件类型：身份证，证件号码：420105198503242420）在中国建设银行金融街支行办理的个人住房商业贷款承担相关还款责任，责任人类型为保证人，相关还款责任金额50,000（保证合同编号：100022233）。截至2016年7月5日，个人住房商业贷款余额30,000。\n"
     ]
    },
    {
     "data": {
      "text/html": [
       "<div>\n",
       "<style scoped>\n",
       "    .dataframe tbody tr th:only-of-type {\n",
       "        vertical-align: middle;\n",
       "    }\n",
       "\n",
       "    .dataframe tbody tr th {\n",
       "        vertical-align: top;\n",
       "    }\n",
       "\n",
       "    .dataframe thead th {\n",
       "        text-align: right;\n",
       "    }\n",
       "</style>\n",
       "<table border=\"1\" class=\"dataframe\">\n",
       "  <thead>\n",
       "    <tr style=\"text-align: right;\">\n",
       "      <th></th>\n",
       "      <th>key</th>\n",
       "      <th>value</th>\n",
       "    </tr>\n",
       "  </thead>\n",
       "  <tbody>\n",
       "    <tr>\n",
       "      <th>0</th>\n",
       "      <td>业务办理日期</td>\n",
       "      <td>2009年3月2日</td>\n",
       "    </tr>\n",
       "    <tr>\n",
       "      <th>1</th>\n",
       "      <td>办理方姓名</td>\n",
       "      <td>赵四</td>\n",
       "    </tr>\n",
       "    <tr>\n",
       "      <th>2</th>\n",
       "      <td>办理人证件类型</td>\n",
       "      <td>身份证</td>\n",
       "    </tr>\n",
       "    <tr>\n",
       "      <th>3</th>\n",
       "      <td>办理人证件号码</td>\n",
       "      <td>420105198503242420</td>\n",
       "    </tr>\n",
       "    <tr>\n",
       "      <th>4</th>\n",
       "      <td>办理机构</td>\n",
       "      <td>中国建设银行金融街支行</td>\n",
       "    </tr>\n",
       "    <tr>\n",
       "      <th>5</th>\n",
       "      <td>承担相关还款责任的业务</td>\n",
       "      <td>个人住房商业贷款</td>\n",
       "    </tr>\n",
       "    <tr>\n",
       "      <th>6</th>\n",
       "      <td>责任人类型</td>\n",
       "      <td>保证人</td>\n",
       "    </tr>\n",
       "    <tr>\n",
       "      <th>7</th>\n",
       "      <td>责任金额</td>\n",
       "      <td>50,000</td>\n",
       "    </tr>\n",
       "    <tr>\n",
       "      <th>8</th>\n",
       "      <td>保证合同编号</td>\n",
       "      <td>100022233</td>\n",
       "    </tr>\n",
       "    <tr>\n",
       "      <th>9</th>\n",
       "      <td>截至日期</td>\n",
       "      <td>2016年7月5日</td>\n",
       "    </tr>\n",
       "    <tr>\n",
       "      <th>10</th>\n",
       "      <td>余额数目</td>\n",
       "      <td>30,000</td>\n",
       "    </tr>\n",
       "    <tr>\n",
       "      <th>11</th>\n",
       "      <td>余额币种</td>\n",
       "      <td>None</td>\n",
       "    </tr>\n",
       "  </tbody>\n",
       "</table>\n",
       "</div>"
      ],
      "text/plain": [
       "            key               value\n",
       "0        业务办理日期           2009年3月2日\n",
       "1         办理方姓名                  赵四\n",
       "2       办理人证件类型                 身份证\n",
       "3       办理人证件号码  420105198503242420\n",
       "4          办理机构         中国建设银行金融街支行\n",
       "5   承担相关还款责任的业务            个人住房商业贷款\n",
       "6         责任人类型                 保证人\n",
       "7          责任金额              50,000\n",
       "8        保证合同编号           100022233\n",
       "9          截至日期           2016年7月5日\n",
       "10         余额数目              30,000\n",
       "11         余额币种                None"
      ]
     },
     "metadata": {},
     "output_type": "display_data"
    },
    {
     "name": "stdout",
     "output_type": "stream",
     "text": [
      "2010年5月20日，为李三（证件类型：身份证，证件号码：420105197503202424）在中国农业银行信用卡中心办理的贷记卡承担相关还款责任，责任人类型为保证人，相关还款责任金额50,000。截至2016年7月20日，贷记卡余额20,000。\n"
     ]
    },
    {
     "data": {
      "text/html": [
       "<div>\n",
       "<style scoped>\n",
       "    .dataframe tbody tr th:only-of-type {\n",
       "        vertical-align: middle;\n",
       "    }\n",
       "\n",
       "    .dataframe tbody tr th {\n",
       "        vertical-align: top;\n",
       "    }\n",
       "\n",
       "    .dataframe thead th {\n",
       "        text-align: right;\n",
       "    }\n",
       "</style>\n",
       "<table border=\"1\" class=\"dataframe\">\n",
       "  <thead>\n",
       "    <tr style=\"text-align: right;\">\n",
       "      <th></th>\n",
       "      <th>key</th>\n",
       "      <th>value</th>\n",
       "    </tr>\n",
       "  </thead>\n",
       "  <tbody>\n",
       "    <tr>\n",
       "      <th>0</th>\n",
       "      <td>业务办理日期</td>\n",
       "      <td>2010年5月20日</td>\n",
       "    </tr>\n",
       "    <tr>\n",
       "      <th>1</th>\n",
       "      <td>办理方姓名</td>\n",
       "      <td>李三</td>\n",
       "    </tr>\n",
       "    <tr>\n",
       "      <th>2</th>\n",
       "      <td>办理人证件类型</td>\n",
       "      <td>身份证</td>\n",
       "    </tr>\n",
       "    <tr>\n",
       "      <th>3</th>\n",
       "      <td>办理人证件号码</td>\n",
       "      <td>420105197503202424</td>\n",
       "    </tr>\n",
       "    <tr>\n",
       "      <th>4</th>\n",
       "      <td>办理机构</td>\n",
       "      <td>中国农业银行信用卡中心</td>\n",
       "    </tr>\n",
       "    <tr>\n",
       "      <th>5</th>\n",
       "      <td>承担相关还款责任的业务</td>\n",
       "      <td>贷记卡</td>\n",
       "    </tr>\n",
       "    <tr>\n",
       "      <th>6</th>\n",
       "      <td>责任人类型</td>\n",
       "      <td>保证人</td>\n",
       "    </tr>\n",
       "    <tr>\n",
       "      <th>7</th>\n",
       "      <td>责任金额</td>\n",
       "      <td>50,000</td>\n",
       "    </tr>\n",
       "    <tr>\n",
       "      <th>8</th>\n",
       "      <td>保证合同编号</td>\n",
       "      <td>None</td>\n",
       "    </tr>\n",
       "    <tr>\n",
       "      <th>9</th>\n",
       "      <td>截至日期</td>\n",
       "      <td>2016年7月20日</td>\n",
       "    </tr>\n",
       "    <tr>\n",
       "      <th>10</th>\n",
       "      <td>余额数目</td>\n",
       "      <td>20,000</td>\n",
       "    </tr>\n",
       "    <tr>\n",
       "      <th>11</th>\n",
       "      <td>余额币种</td>\n",
       "      <td>None</td>\n",
       "    </tr>\n",
       "  </tbody>\n",
       "</table>\n",
       "</div>"
      ],
      "text/plain": [
       "            key               value\n",
       "0        业务办理日期          2010年5月20日\n",
       "1         办理方姓名                  李三\n",
       "2       办理人证件类型                 身份证\n",
       "3       办理人证件号码  420105197503202424\n",
       "4          办理机构         中国农业银行信用卡中心\n",
       "5   承担相关还款责任的业务                 贷记卡\n",
       "6         责任人类型                 保证人\n",
       "7          责任金额              50,000\n",
       "8        保证合同编号                None\n",
       "9          截至日期          2016年7月20日\n",
       "10         余额数目              20,000\n",
       "11         余额币种                None"
      ]
     },
     "metadata": {},
     "output_type": "display_data"
    },
    {
     "name": "stdout",
     "output_type": "stream",
     "text": [
      "2012年3月2日，为赵四（证件类型：身份证，证件号码：420105198503242420）在建元资本（中国）融资租赁有限公司办理的约定购回式证券交易业务承担相关还款责任，责任人类型为其他，相关还款责任金额50,000。截至2016年7月5日，约定购回式证券交易余额30,000。\n"
     ]
    },
    {
     "data": {
      "text/html": [
       "<div>\n",
       "<style scoped>\n",
       "    .dataframe tbody tr th:only-of-type {\n",
       "        vertical-align: middle;\n",
       "    }\n",
       "\n",
       "    .dataframe tbody tr th {\n",
       "        vertical-align: top;\n",
       "    }\n",
       "\n",
       "    .dataframe thead th {\n",
       "        text-align: right;\n",
       "    }\n",
       "</style>\n",
       "<table border=\"1\" class=\"dataframe\">\n",
       "  <thead>\n",
       "    <tr style=\"text-align: right;\">\n",
       "      <th></th>\n",
       "      <th>key</th>\n",
       "      <th>value</th>\n",
       "    </tr>\n",
       "  </thead>\n",
       "  <tbody>\n",
       "    <tr>\n",
       "      <th>0</th>\n",
       "      <td>业务办理日期</td>\n",
       "      <td>2012年3月2日</td>\n",
       "    </tr>\n",
       "    <tr>\n",
       "      <th>1</th>\n",
       "      <td>办理方姓名</td>\n",
       "      <td>赵四</td>\n",
       "    </tr>\n",
       "    <tr>\n",
       "      <th>2</th>\n",
       "      <td>办理人证件类型</td>\n",
       "      <td>身份证</td>\n",
       "    </tr>\n",
       "    <tr>\n",
       "      <th>3</th>\n",
       "      <td>办理人证件号码</td>\n",
       "      <td>420105198503242420</td>\n",
       "    </tr>\n",
       "    <tr>\n",
       "      <th>4</th>\n",
       "      <td>办理机构</td>\n",
       "      <td>建元资本（中国）融资租赁有限公司</td>\n",
       "    </tr>\n",
       "    <tr>\n",
       "      <th>5</th>\n",
       "      <td>承担相关还款责任的业务</td>\n",
       "      <td>约定购回式证券交易业务</td>\n",
       "    </tr>\n",
       "    <tr>\n",
       "      <th>6</th>\n",
       "      <td>责任人类型</td>\n",
       "      <td>其他</td>\n",
       "    </tr>\n",
       "    <tr>\n",
       "      <th>7</th>\n",
       "      <td>责任金额</td>\n",
       "      <td>50,000</td>\n",
       "    </tr>\n",
       "    <tr>\n",
       "      <th>8</th>\n",
       "      <td>保证合同编号</td>\n",
       "      <td>None</td>\n",
       "    </tr>\n",
       "    <tr>\n",
       "      <th>9</th>\n",
       "      <td>截至日期</td>\n",
       "      <td>2016年7月5日</td>\n",
       "    </tr>\n",
       "    <tr>\n",
       "      <th>10</th>\n",
       "      <td>余额数目</td>\n",
       "      <td>30000</td>\n",
       "    </tr>\n",
       "    <tr>\n",
       "      <th>11</th>\n",
       "      <td>余额币种</td>\n",
       "      <td>None</td>\n",
       "    </tr>\n",
       "  </tbody>\n",
       "</table>\n",
       "</div>"
      ],
      "text/plain": [
       "            key               value\n",
       "0        业务办理日期           2012年3月2日\n",
       "1         办理方姓名                  赵四\n",
       "2       办理人证件类型                 身份证\n",
       "3       办理人证件号码  420105198503242420\n",
       "4          办理机构    建元资本（中国）融资租赁有限公司\n",
       "5   承担相关还款责任的业务         约定购回式证券交易业务\n",
       "6         责任人类型                  其他\n",
       "7          责任金额              50,000\n",
       "8        保证合同编号                None\n",
       "9          截至日期           2016年7月5日\n",
       "10         余额数目               30000\n",
       "11         余额币种                None"
      ]
     },
     "metadata": {},
     "output_type": "display_data"
    },
    {
     "name": "stdout",
     "output_type": "stream",
     "text": [
      "2009年3月2日，为北京某公司（证件类型：机构信用代码，证件号码：12011819008808）在建设银行北京分行办理的固定资产贷款承担相关还款责任，责任人类型为应收账款债务人，相关还款责任金额200,000。截至2015年5月25日，固定资产贷款余额30,000（人民币）。\n"
     ]
    },
    {
     "data": {
      "text/html": [
       "<div>\n",
       "<style scoped>\n",
       "    .dataframe tbody tr th:only-of-type {\n",
       "        vertical-align: middle;\n",
       "    }\n",
       "\n",
       "    .dataframe tbody tr th {\n",
       "        vertical-align: top;\n",
       "    }\n",
       "\n",
       "    .dataframe thead th {\n",
       "        text-align: right;\n",
       "    }\n",
       "</style>\n",
       "<table border=\"1\" class=\"dataframe\">\n",
       "  <thead>\n",
       "    <tr style=\"text-align: right;\">\n",
       "      <th></th>\n",
       "      <th>key</th>\n",
       "      <th>value</th>\n",
       "    </tr>\n",
       "  </thead>\n",
       "  <tbody>\n",
       "    <tr>\n",
       "      <th>0</th>\n",
       "      <td>业务办理日期</td>\n",
       "      <td>2009年3月2日</td>\n",
       "    </tr>\n",
       "    <tr>\n",
       "      <th>1</th>\n",
       "      <td>办理方姓名</td>\n",
       "      <td>北京某公司</td>\n",
       "    </tr>\n",
       "    <tr>\n",
       "      <th>2</th>\n",
       "      <td>办理人证件类型</td>\n",
       "      <td>机构信用代码</td>\n",
       "    </tr>\n",
       "    <tr>\n",
       "      <th>3</th>\n",
       "      <td>办理人证件号码</td>\n",
       "      <td>12011819008808</td>\n",
       "    </tr>\n",
       "    <tr>\n",
       "      <th>4</th>\n",
       "      <td>办理机构</td>\n",
       "      <td>建设银行北京分行</td>\n",
       "    </tr>\n",
       "    <tr>\n",
       "      <th>5</th>\n",
       "      <td>承担相关还款责任的业务</td>\n",
       "      <td>固定资产贷款</td>\n",
       "    </tr>\n",
       "    <tr>\n",
       "      <th>6</th>\n",
       "      <td>责任人类型</td>\n",
       "      <td>应收账款债务人</td>\n",
       "    </tr>\n",
       "    <tr>\n",
       "      <th>7</th>\n",
       "      <td>责任金额</td>\n",
       "      <td>200,000</td>\n",
       "    </tr>\n",
       "    <tr>\n",
       "      <th>8</th>\n",
       "      <td>保证合同编号</td>\n",
       "      <td>None</td>\n",
       "    </tr>\n",
       "    <tr>\n",
       "      <th>9</th>\n",
       "      <td>截至日期</td>\n",
       "      <td>2015年5月25日</td>\n",
       "    </tr>\n",
       "    <tr>\n",
       "      <th>10</th>\n",
       "      <td>余额数目</td>\n",
       "      <td>30000</td>\n",
       "    </tr>\n",
       "    <tr>\n",
       "      <th>11</th>\n",
       "      <td>余额币种</td>\n",
       "      <td>人民币</td>\n",
       "    </tr>\n",
       "  </tbody>\n",
       "</table>\n",
       "</div>"
      ],
      "text/plain": [
       "            key           value\n",
       "0        业务办理日期       2009年3月2日\n",
       "1         办理方姓名           北京某公司\n",
       "2       办理人证件类型          机构信用代码\n",
       "3       办理人证件号码  12011819008808\n",
       "4          办理机构        建设银行北京分行\n",
       "5   承担相关还款责任的业务          固定资产贷款\n",
       "6         责任人类型         应收账款债务人\n",
       "7          责任金额         200,000\n",
       "8        保证合同编号            None\n",
       "9          截至日期      2015年5月25日\n",
       "10         余额数目           30000\n",
       "11         余额币种             人民币"
      ]
     },
     "metadata": {},
     "output_type": "display_data"
    }
   ],
   "source": [
    "for case, result in zip(xghkzrxx_data, xghkzrxx_results_fixed):\n",
    "    print(case)\n",
    "    display(pd.DataFrame(list(result.items()), columns=['key', 'value']))"
   ]
  },
  {
   "cell_type": "markdown",
   "id": "2d9f15a0-73f6-45b7-8de5-8c0c3a46bffa",
   "metadata": {},
   "source": [
    "#### -- en"
   ]
  },
  {
   "cell_type": "code",
   "execution_count": 138,
   "id": "07abb967-8eb2-41e7-bb72-db2c3ac0cbda",
   "metadata": {},
   "outputs": [
    {
     "data": {
      "text/plain": [
       "[{'business_handling_date': '2009年3月2日',\n",
       "  'handler_name': '赵四',\n",
       "  'handler_id_type': '身份证',\n",
       "  'handler_id_number': '420105198503242420',\n",
       "  'handling_institution': '中国建设银行金融街支行',\n",
       "  'business_bearing_relevant_repayment_responsibilities': '个人住房商业贷款',\n",
       "  'responsible_person_type': '保证人',\n",
       "  'amount_liable': '50,000',\n",
       "  'guarantee_contract_no': '100022233',\n",
       "  'reference_date': '2016年7月5日',\n",
       "  'remaining_balance': '30,000',\n",
       "  'balance_currency': None},\n",
       " {'business_handling_date': '2010年5月20日',\n",
       "  'handler_name': '李三',\n",
       "  'handler_id_type': '身份证',\n",
       "  'handler_id_number': '420105197503202424',\n",
       "  'handling_institution': '中国农业银行信用卡中心',\n",
       "  'business_bearing_relevant_repayment_responsibilities': '贷记卡',\n",
       "  'responsible_person_type': '保证人',\n",
       "  'amount_liable': '50,000',\n",
       "  'guarantee_contract_no': None,\n",
       "  'reference_date': '2016年7月20日',\n",
       "  'remaining_balance': '20,000',\n",
       "  'balance_currency': None},\n",
       " {'business_handling_date': '2012年3月2日',\n",
       "  'handler_name': '赵四',\n",
       "  'handler_id_type': '身份证',\n",
       "  'handler_id_number': '420105198503242420',\n",
       "  'handling_institution': '建元资本（中国）融资租赁有限公司',\n",
       "  'business_bearing_relevant_repayment_responsibilities': '约定购回式证券交易业务',\n",
       "  'responsible_person_type': '其他',\n",
       "  'amount_liable': '50,000',\n",
       "  'guarantee_contract_no': None,\n",
       "  'reference_date': '2016年7月5日',\n",
       "  'remaining_balance': '30000',\n",
       "  'balance_currency': None},\n",
       " {'business_handling_date': '2009年3月2日',\n",
       "  'handler_name': '北京某公司',\n",
       "  'handler_id_type': '机构信用代码',\n",
       "  'handler_id_number': '12011819008808',\n",
       "  'handling_institution': '建设银行北京分行',\n",
       "  'business_bearing_relevant_repayment_responsibilities': '固定资产贷款',\n",
       "  'responsible_person_type': '应收账款债务人',\n",
       "  'amount_liable': '200,000',\n",
       "  'guarantee_contract_no': None,\n",
       "  'reference_date': '2015年5月25日',\n",
       "  'remaining_balance': '30000',\n",
       "  'balance_currency': '人民币'}]"
      ]
     },
     "execution_count": 138,
     "metadata": {},
     "output_type": "execute_result"
    }
   ],
   "source": [
    "xghkzrxx_results_en = []\n",
    "\n",
    "for result in xghkzrxx_results_fixed:\n",
    "    result_en = {key_2_English(k):v for k,v in result.items()}\n",
    "    xghkzrxx_results_en.append(result_en)\n",
    "\n",
    "xghkzrxx_results_en"
   ]
  },
  {
   "cell_type": "code",
   "execution_count": null,
   "id": "b804af86-020e-4b52-abfa-c7771483a647",
   "metadata": {},
   "outputs": [],
   "source": []
  },
  {
   "cell_type": "code",
   "execution_count": null,
   "id": "6ecf841a-9f2c-4de5-9c43-a7f409b71f3a",
   "metadata": {},
   "outputs": [],
   "source": []
  },
  {
   "cell_type": "markdown",
   "id": "91a055fa-7015-4de1-8843-4ad28d9fd709",
   "metadata": {},
   "source": [
    "# 非信贷交易记录"
   ]
  },
  {
   "cell_type": "code",
   "execution_count": 77,
   "id": "8b3b27d7-0384-47f2-ab80-17f10eba22f3",
   "metadata": {},
   "outputs": [
    {
     "data": {
      "text/plain": [
       "3020"
      ]
     },
     "execution_count": 77,
     "metadata": {},
     "output_type": "execute_result"
    }
   ],
   "source": [
    "## 清一下内存\n",
    "import gc\n",
    "gc.collect()"
   ]
  },
  {
   "cell_type": "markdown",
   "id": "d71c7121-dc40-4fc5-84b3-174214ba0997",
   "metadata": {},
   "source": [
    "```json\n",
    "{\n",
    "        'header-2':{\n",
    "        'header-name':'非信贷交易记录',\n",
    "        'content':'这部分包含您最近 5 年内的非信贷交易记录。金额类数据均以人民币计算，精确到元。'\n",
    "        'section':{\n",
    "            'header-2-0':{...},\n",
    "            'header-2-1':{...},\n",
    "            ...\n",
    "        }\n",
    "    },\n",
    "}\n",
    "```"
   ]
  },
  {
   "cell_type": "markdown",
   "id": "b1a0a090-9fbb-4e92-9ee6-ee7dd36ea676",
   "metadata": {},
   "source": [
    "## 后付费记录"
   ]
  },
  {
   "cell_type": "markdown",
   "id": "fc3fa2f4-e29e-41bb-92a8-eaade76f6084",
   "metadata": {},
   "source": [
    "### == 内容样例"
   ]
  },
  {
   "cell_type": "markdown",
   "id": "eecdeab2-baeb-48f3-9952-562c261f56b0",
   "metadata": {},
   "source": [
    "![后付费记录](4_简版方案/后付费记录.png)"
   ]
  },
  {
   "cell_type": "code",
   "execution_count": 75,
   "id": "d92ad5e5-fde3-42c3-998f-d618b041a921",
   "metadata": {},
   "outputs": [
    {
     "data": {
      "text/plain": [
       "[['机构名称：中国电信北京分公司', '业务类型：固定电话后付费', '记账年月：2016年7月'],\n",
       " ['业务开通日期：2012年6月28日', '当前缴费状态：欠费', '当前欠费金额：550'],\n",
       " ['机构名称：中国移动北京分公司', '业务类型：移动电话后付费', '记账年月：2016年6月'],\n",
       " ['业务开通日期：2013年1月31日', '当前缴费状态：正常', '当前欠费金额：0'],\n",
       " ['机构名称：北京自来水公司', '业务类型：自来水费', '记账年月：2016年6月'],\n",
       " ['业务开通日期：2014年1月31日', '当前缴费状态：正常', '当前欠费金额：0']]"
      ]
     },
     "execution_count": 75,
     "metadata": {},
     "output_type": "execute_result"
    }
   ],
   "source": [
    "# ## 预期ocr结果\n",
    "# hffjl_data = []\n",
    "# hffjl_data.append(['机构名称：中国电信北京分公司', '业务类型：固定电话后付费', '记账年月：2016年7月'])\n",
    "# hffjl_data.append(['业务开通日期：2012年6月28日', '当前缴费状态：欠费', '当前欠费金额：550'])\n",
    "# hffjl_data.append(['机构名称：中国移动北京分公司', '业务类型：移动电话后付费', '记账年月：2016年6月'])\n",
    "# hffjl_data.append(['业务开通日期：2013年1月31日', '当前缴费状态：正常', '当前欠费金额：0'])\n",
    "# hffjl_data.append(['机构名称：北京自来水公司', '业务类型：自来水费', '记账年月：2016年6月'])\n",
    "# hffjl_data.append(['业务开通日期：2014年1月31日', '当前缴费状态：正常', '当前欠费金额：0'])\n",
    "# hffjl_data"
   ]
  },
  {
   "cell_type": "code",
   "execution_count": 76,
   "id": "3864a262-bff0-466e-b770-54fe82acd474",
   "metadata": {},
   "outputs": [
    {
     "data": {
      "text/plain": [
       "[['机构名称：中国电信北京分公司',\n",
       "  '业务类型：固定电话后付费',\n",
       "  '记账年月：2016年7月',\n",
       "  '业务开通日期：2012年6月28日',\n",
       "  '当前缴费状态：欠费',\n",
       "  '当前欠费金额：550'],\n",
       " ['机构名称：中国移动北京分公司',\n",
       "  '业务类型：移动电话后付费',\n",
       "  '记账年月：2016年6月',\n",
       "  '业务开通日期：2013年1月31日',\n",
       "  '当前缴费状态：正常',\n",
       "  '当前欠费金额：0'],\n",
       " ['机构名称：北京自来水公司',\n",
       "  '业务类型：自来水费',\n",
       "  '记账年月：2016年6月',\n",
       "  '业务开通日期：2014年1月31日',\n",
       "  '当前缴费状态：正常',\n",
       "  '当前欠费金额：0']]"
      ]
     },
     "execution_count": 76,
     "metadata": {},
     "output_type": "execute_result"
    }
   ],
   "source": [
    "# \"\"\" 预处按条目理分割data \"\"\"\n",
    "# def hffjl_split_cases(data):  ## 后付费记录\n",
    "#     cases = []\n",
    "#     n_line_split = 2  ## 固定2行一组\n",
    "#     for i in range(len(data)):\n",
    "#         if i % n_line_split == 0:\n",
    "#             cases.append(data[i])\n",
    "#         else:\n",
    "#             cases[-1].extend(data[i])\n",
    "#     return cases\n",
    "\n",
    "# hffjl_cases = hffjl_split_cases(data=hffjl_data)\n",
    "# hffjl_cases"
   ]
  },
  {
   "cell_type": "markdown",
   "id": "f4d3652b-a3e0-4121-a7e1-b4f3efef07a3",
   "metadata": {},
   "source": [
    "!!! 更新"
   ]
  },
  {
   "cell_type": "code",
   "execution_count": 98,
   "id": "371421dc-ba51-4d83-8576-3911c96ad53d",
   "metadata": {},
   "outputs": [
    {
     "data": {
      "text/plain": [
       "[['机构名称：中国电信北京分公司',\n",
       "  '业务类型：固定电话后付费',\n",
       "  '记账年月：2016年7月',\n",
       "  '业务开通日期：2012年6月28日',\n",
       "  '当前缴费状态：欠费',\n",
       "  '当前欠费金额：550'],\n",
       " ['机构名称：中国移动北京分公司',\n",
       "  '业务类型：移动电话后付费',\n",
       "  '记账年月：2016年6月',\n",
       "  '业务开通日期：2013年1月31日',\n",
       "  '当前缴费状态：正常',\n",
       "  '当前欠费金额：0'],\n",
       " ['机构名称：北京自来水公司',\n",
       "  '业务类型：自来水费',\n",
       "  '记账年月：2016年6月',\n",
       "  '业务开通日期：2014年1月31日',\n",
       "  '当前缴费状态：正常',\n",
       "  '当前欠费金额：0']]"
      ]
     },
     "execution_count": 98,
     "metadata": {},
     "output_type": "execute_result"
    }
   ],
   "source": [
    "## 预期ocr结果\n",
    "hffjl_data = []\n",
    "hffjl_data.append(['机构名称：中国电信北京分公司', '业务类型：固定电话后付费', '记账年月：2016年7月', '业务开通日期：2012年6月28日', '当前缴费状态：欠费', '当前欠费金额：550'])\n",
    "hffjl_data.append(['机构名称：中国移动北京分公司', '业务类型：移动电话后付费', '记账年月：2016年6月', '业务开通日期：2013年1月31日', '当前缴费状态：正常', '当前欠费金额：0'])\n",
    "hffjl_data.append(['机构名称：北京自来水公司', '业务类型：自来水费', '记账年月：2016年6月', '业务开通日期：2014年1月31日', '当前缴费状态：正常', '当前欠费金额：0'])\n",
    "hffjl_data"
   ]
  },
  {
   "cell_type": "markdown",
   "id": "2f1c621b-2c3e-420a-acdd-40ea6e370ccc",
   "metadata": {},
   "source": [
    "### == 预期提取效果"
   ]
  },
  {
   "cell_type": "markdown",
   "id": "10107543-ea34-4397-a5ec-0f02750f7056",
   "metadata": {},
   "source": [
    "整体（提取结果存放在字段 `info_extraction`）：\n",
    "```json\n",
    "{\n",
    "    'header-2-0':{\n",
    "        'header-name':'后付费记录',\n",
    "        'content':[ocr返回结果],\n",
    "        'info_extraction':[case_0_info, case_1_info, case_2_info],\n",
    "    }\n",
    "}\n",
    "```\n",
    "`case_i_info` 关键字段及其翻译如下："
   ]
  },
  {
   "cell_type": "code",
   "execution_count": 78,
   "id": "d94892b1-24c5-41db-a1bc-da0ea564d937",
   "metadata": {},
   "outputs": [
    {
     "data": {
      "text/plain": [
       "{'机构名称': 'organization_name',\n",
       " '业务类型': 'business_type',\n",
       " '记账年月': 'accounting_year_month',\n",
       " '业务开通日期': 'business_activation_date',\n",
       " '当前缴费状态': 'current_billing_status',\n",
       " '当前欠费金额': 'current_arrears'}"
      ]
     },
     "execution_count": 78,
     "metadata": {},
     "output_type": "execute_result"
    }
   ],
   "source": [
    "'''\n",
    "此处schema应由规则提取得到，\n",
    "而非人为规定\n",
    "'''\n",
    "hffjl_schema = [\"机构名称\", \"业务类型\", \"记账年月\"]\n",
    "hffjl_schema.extend([\"业务开通日期\", \"当前缴费状态\", \"当前欠费金额\"])\n",
    "\n",
    "case_i_info = {k:key_2_English(k) for k in hffjl_schema}\n",
    "case_i_info"
   ]
  },
  {
   "cell_type": "markdown",
   "id": "c8c602ec-dadd-41cc-8a24-2b3707ad480d",
   "metadata": {},
   "source": [
    "### == 提取方案"
   ]
  },
  {
   "cell_type": "markdown",
   "id": "343be36c-bbeb-4f18-b7bd-2afcca705c3e",
   "metadata": {},
   "source": [
    "- 手动规则提取\n",
    "    - 先识别出一个一个案例（e.g. 固定两行为一组）\n",
    "    - 键值对抽取：\" \"/\": \"/\":\"进行分割, 前面为key, 后面为value"
   ]
  },
  {
   "cell_type": "markdown",
   "id": "6f2333b2-adb8-4624-907e-d5405fbe3d8e",
   "metadata": {},
   "source": [
    "### == 案例执行结果"
   ]
  },
  {
   "cell_type": "code",
   "execution_count": 100,
   "id": "45d9bacc-76ba-4703-b7b2-f2ff501bfa19",
   "metadata": {},
   "outputs": [],
   "source": [
    "def hffjl_extract_info_from_caselist(cases):\n",
    "    results = []\n",
    "    for case in cases:\n",
    "        result = {}\n",
    "        for k_v in case:\n",
    "            if k_v =='':\n",
    "                continue\n",
    "            k_v = re.sub(r'[:：]', '|', k_v)  ## 冒号分割\n",
    "            k_v = re.split(r'\\|+', k_v)\n",
    "            k = re.sub(r'\\s+', '', k_v[0])  ## 去除空白\n",
    "            v = re.sub(r'\\s+', '', k_v[1])\n",
    "            result[k] = v\n",
    "        results.append(result)\n",
    "    return results\n",
    "\n",
    "hffjl_results = hffjl_extract_info_from_caselist(hffjl_data)"
   ]
  },
  {
   "cell_type": "code",
   "execution_count": 102,
   "id": "79fec61d-5f71-4966-acb6-3100a50a521a",
   "metadata": {},
   "outputs": [
    {
     "name": "stdout",
     "output_type": "stream",
     "text": [
      "--------------\n",
      "['机构名称：中国电信北京分公司', '业务类型：固定电话后付费', '记账年月：2016年7月', '业务开通日期：2012年6月28日', '当前缴费状态：欠费', '当前欠费金额：550']\n"
     ]
    },
    {
     "data": {
      "text/html": [
       "<div>\n",
       "<style scoped>\n",
       "    .dataframe tbody tr th:only-of-type {\n",
       "        vertical-align: middle;\n",
       "    }\n",
       "\n",
       "    .dataframe tbody tr th {\n",
       "        vertical-align: top;\n",
       "    }\n",
       "\n",
       "    .dataframe thead th {\n",
       "        text-align: right;\n",
       "    }\n",
       "</style>\n",
       "<table border=\"1\" class=\"dataframe\">\n",
       "  <thead>\n",
       "    <tr style=\"text-align: right;\">\n",
       "      <th></th>\n",
       "      <th>key</th>\n",
       "      <th>value</th>\n",
       "    </tr>\n",
       "  </thead>\n",
       "  <tbody>\n",
       "    <tr>\n",
       "      <th>0</th>\n",
       "      <td>organization_name</td>\n",
       "      <td>中国电信北京分公司</td>\n",
       "    </tr>\n",
       "    <tr>\n",
       "      <th>1</th>\n",
       "      <td>business_type</td>\n",
       "      <td>固定电话后付费</td>\n",
       "    </tr>\n",
       "    <tr>\n",
       "      <th>2</th>\n",
       "      <td>accounting_year_month</td>\n",
       "      <td>2016年7月</td>\n",
       "    </tr>\n",
       "    <tr>\n",
       "      <th>3</th>\n",
       "      <td>business_activation_date</td>\n",
       "      <td>2012年6月28日</td>\n",
       "    </tr>\n",
       "    <tr>\n",
       "      <th>4</th>\n",
       "      <td>current_billing_status</td>\n",
       "      <td>欠费</td>\n",
       "    </tr>\n",
       "    <tr>\n",
       "      <th>5</th>\n",
       "      <td>current_arrears</td>\n",
       "      <td>550</td>\n",
       "    </tr>\n",
       "  </tbody>\n",
       "</table>\n",
       "</div>"
      ],
      "text/plain": [
       "                        key       value\n",
       "0         organization_name   中国电信北京分公司\n",
       "1             business_type     固定电话后付费\n",
       "2     accounting_year_month     2016年7月\n",
       "3  business_activation_date  2012年6月28日\n",
       "4    current_billing_status          欠费\n",
       "5           current_arrears         550"
      ]
     },
     "metadata": {},
     "output_type": "display_data"
    },
    {
     "name": "stdout",
     "output_type": "stream",
     "text": [
      "--------------\n",
      "['机构名称：中国移动北京分公司', '业务类型：移动电话后付费', '记账年月：2016年6月', '业务开通日期：2013年1月31日', '当前缴费状态：正常', '当前欠费金额：0']\n"
     ]
    },
    {
     "data": {
      "text/html": [
       "<div>\n",
       "<style scoped>\n",
       "    .dataframe tbody tr th:only-of-type {\n",
       "        vertical-align: middle;\n",
       "    }\n",
       "\n",
       "    .dataframe tbody tr th {\n",
       "        vertical-align: top;\n",
       "    }\n",
       "\n",
       "    .dataframe thead th {\n",
       "        text-align: right;\n",
       "    }\n",
       "</style>\n",
       "<table border=\"1\" class=\"dataframe\">\n",
       "  <thead>\n",
       "    <tr style=\"text-align: right;\">\n",
       "      <th></th>\n",
       "      <th>key</th>\n",
       "      <th>value</th>\n",
       "    </tr>\n",
       "  </thead>\n",
       "  <tbody>\n",
       "    <tr>\n",
       "      <th>0</th>\n",
       "      <td>organization_name</td>\n",
       "      <td>中国移动北京分公司</td>\n",
       "    </tr>\n",
       "    <tr>\n",
       "      <th>1</th>\n",
       "      <td>business_type</td>\n",
       "      <td>移动电话后付费</td>\n",
       "    </tr>\n",
       "    <tr>\n",
       "      <th>2</th>\n",
       "      <td>accounting_year_month</td>\n",
       "      <td>2016年6月</td>\n",
       "    </tr>\n",
       "    <tr>\n",
       "      <th>3</th>\n",
       "      <td>business_activation_date</td>\n",
       "      <td>2013年1月31日</td>\n",
       "    </tr>\n",
       "    <tr>\n",
       "      <th>4</th>\n",
       "      <td>current_billing_status</td>\n",
       "      <td>正常</td>\n",
       "    </tr>\n",
       "    <tr>\n",
       "      <th>5</th>\n",
       "      <td>current_arrears</td>\n",
       "      <td>0</td>\n",
       "    </tr>\n",
       "  </tbody>\n",
       "</table>\n",
       "</div>"
      ],
      "text/plain": [
       "                        key       value\n",
       "0         organization_name   中国移动北京分公司\n",
       "1             business_type     移动电话后付费\n",
       "2     accounting_year_month     2016年6月\n",
       "3  business_activation_date  2013年1月31日\n",
       "4    current_billing_status          正常\n",
       "5           current_arrears           0"
      ]
     },
     "metadata": {},
     "output_type": "display_data"
    },
    {
     "name": "stdout",
     "output_type": "stream",
     "text": [
      "--------------\n",
      "['机构名称：北京自来水公司', '业务类型：自来水费', '记账年月：2016年6月', '业务开通日期：2014年1月31日', '当前缴费状态：正常', '当前欠费金额：0']\n"
     ]
    },
    {
     "data": {
      "text/html": [
       "<div>\n",
       "<style scoped>\n",
       "    .dataframe tbody tr th:only-of-type {\n",
       "        vertical-align: middle;\n",
       "    }\n",
       "\n",
       "    .dataframe tbody tr th {\n",
       "        vertical-align: top;\n",
       "    }\n",
       "\n",
       "    .dataframe thead th {\n",
       "        text-align: right;\n",
       "    }\n",
       "</style>\n",
       "<table border=\"1\" class=\"dataframe\">\n",
       "  <thead>\n",
       "    <tr style=\"text-align: right;\">\n",
       "      <th></th>\n",
       "      <th>key</th>\n",
       "      <th>value</th>\n",
       "    </tr>\n",
       "  </thead>\n",
       "  <tbody>\n",
       "    <tr>\n",
       "      <th>0</th>\n",
       "      <td>organization_name</td>\n",
       "      <td>北京自来水公司</td>\n",
       "    </tr>\n",
       "    <tr>\n",
       "      <th>1</th>\n",
       "      <td>business_type</td>\n",
       "      <td>自来水费</td>\n",
       "    </tr>\n",
       "    <tr>\n",
       "      <th>2</th>\n",
       "      <td>accounting_year_month</td>\n",
       "      <td>2016年6月</td>\n",
       "    </tr>\n",
       "    <tr>\n",
       "      <th>3</th>\n",
       "      <td>business_activation_date</td>\n",
       "      <td>2014年1月31日</td>\n",
       "    </tr>\n",
       "    <tr>\n",
       "      <th>4</th>\n",
       "      <td>current_billing_status</td>\n",
       "      <td>正常</td>\n",
       "    </tr>\n",
       "    <tr>\n",
       "      <th>5</th>\n",
       "      <td>current_arrears</td>\n",
       "      <td>0</td>\n",
       "    </tr>\n",
       "  </tbody>\n",
       "</table>\n",
       "</div>"
      ],
      "text/plain": [
       "                        key       value\n",
       "0         organization_name     北京自来水公司\n",
       "1             business_type        自来水费\n",
       "2     accounting_year_month     2016年6月\n",
       "3  business_activation_date  2014年1月31日\n",
       "4    current_billing_status          正常\n",
       "5           current_arrears           0"
      ]
     },
     "metadata": {},
     "output_type": "display_data"
    }
   ],
   "source": [
    "hffjl_results_en = []\n",
    "for i in range (len(hffjl_data)):\n",
    "    print(\"--------------\")\n",
    "    print(hffjl_data[i])\n",
    "    result = {key_2_English(k):v for k,v in hffjl_results[i].items()}\n",
    "    hffjl_results_en.append(result)\n",
    "    display(pd.DataFrame(list(result.items()), columns=['key', 'value']))"
   ]
  },
  {
   "cell_type": "code",
   "execution_count": 103,
   "id": "2738414f-a0c1-4ba3-a9cb-d7eb53ee7ef9",
   "metadata": {},
   "outputs": [
    {
     "data": {
      "text/plain": [
       "[{'organization_name': '中国电信北京分公司',\n",
       "  'business_type': '固定电话后付费',\n",
       "  'accounting_year_month': '2016年7月',\n",
       "  'business_activation_date': '2012年6月28日',\n",
       "  'current_billing_status': '欠费',\n",
       "  'current_arrears': '550'},\n",
       " {'organization_name': '中国移动北京分公司',\n",
       "  'business_type': '移动电话后付费',\n",
       "  'accounting_year_month': '2016年6月',\n",
       "  'business_activation_date': '2013年1月31日',\n",
       "  'current_billing_status': '正常',\n",
       "  'current_arrears': '0'},\n",
       " {'organization_name': '北京自来水公司',\n",
       "  'business_type': '自来水费',\n",
       "  'accounting_year_month': '2016年6月',\n",
       "  'business_activation_date': '2014年1月31日',\n",
       "  'current_billing_status': '正常',\n",
       "  'current_arrears': '0'}]"
      ]
     },
     "execution_count": 103,
     "metadata": {},
     "output_type": "execute_result"
    }
   ],
   "source": [
    "hffjl_results_en"
   ]
  },
  {
   "cell_type": "markdown",
   "id": "7b460174-efaa-47bb-a118-d07d016c28a5",
   "metadata": {},
   "source": [
    "### == 备注"
   ]
  },
  {
   "cell_type": "markdown",
   "id": "a54bd7ab-05b0-4938-a8fa-266d7aa9d4d3",
   "metadata": {},
   "source": [
    "- 具体操作需根据ocr返回结果格式调整"
   ]
  },
  {
   "cell_type": "markdown",
   "id": "40022a16-884d-4270-a586-d5959eff958e",
   "metadata": {},
   "source": [
    "# 公共记录"
   ]
  },
  {
   "cell_type": "markdown",
   "id": "9869d775-b5b3-4e63-b6a2-ae588476e944",
   "metadata": {},
   "source": [
    "## 欠税记录\n",
    "略 -- 方案同 `后付费记录`"
   ]
  },
  {
   "cell_type": "markdown",
   "id": "24e5e752-b4a7-4692-9ac7-7a914af43982",
   "metadata": {},
   "source": [
    "- 固定两行一组\n",
    "- 预期识别关键字段名称:"
   ]
  },
  {
   "cell_type": "code",
   "execution_count": 59,
   "id": "fc04a1be-238e-4d50-8985-da7b0f5cac81",
   "metadata": {},
   "outputs": [
    {
     "data": {
      "text/plain": [
       "{'主管税务机关': 'tax_authorities',\n",
       " '欠税统计日期': 'tax_arrears_statistics_date',\n",
       " '欠税总额': 'total_tax_arrears',\n",
       " '纳税人识别号': 'taxpayer_id'}"
      ]
     },
     "execution_count": 59,
     "metadata": {},
     "output_type": "execute_result"
    }
   ],
   "source": [
    "qsjl_schema = ['主管税务机关', '欠税统计日期', '欠税总额', '纳税人识别号']\n",
    "{k:key_2_English(k) for k in qsjl_schema}"
   ]
  },
  {
   "cell_type": "markdown",
   "id": "479f1898-c0ae-4603-b59e-316eb4b8ec28",
   "metadata": {},
   "source": [
    "## 民事判决记录\n",
    "略 -- 方案同 `后付费记录`"
   ]
  },
  {
   "cell_type": "markdown",
   "id": "614578c6-7da3-43ce-99b3-f64c44ab2ad5",
   "metadata": {},
   "source": [
    "- 固定5行一组\n",
    "- 预期识别关键字段名称："
   ]
  },
  {
   "cell_type": "code",
   "execution_count": 63,
   "id": "144d9f55-bb2c-412e-8ad3-6bdf9325e325",
   "metadata": {},
   "outputs": [
    {
     "data": {
      "text/plain": [
       "{'立案法院': 'filing_court',\n",
       " '案号': 'case_number',\n",
       " '案由': 'case_reason',\n",
       " '结案方式': 'case_closure_method',\n",
       " '立案日期': 'filing_date',\n",
       " '判决/调解结果': 'judgment_or_mediation_result',\n",
       " '诉讼标的': 'litigation_subject',\n",
       " '判决/调解生效日期': 'judgment_or_mediation_effective_date',\n",
       " '诉讼标的金额': 'litigation_amount'}"
      ]
     },
     "execution_count": 63,
     "metadata": {},
     "output_type": "execute_result"
    }
   ],
   "source": [
    "mspjjl_schema = ['立案法院', '案号', '案由', '结案方式', '立案日期', '判决/调解结果', '诉讼标的', '判决/调解生效日期', '诉讼标的金额']\n",
    "{k:key_2_English(k) for k in mspjjl_schema}"
   ]
  },
  {
   "cell_type": "markdown",
   "id": "88cb19c0-b9eb-431a-a914-e94a5a967d8d",
   "metadata": {},
   "source": [
    "## 强制执行记录\n",
    "略 -- 方案同 `后付费记录`"
   ]
  },
  {
   "cell_type": "markdown",
   "id": "72484b6f-bbfe-4d36-8111-1309e738f9bb",
   "metadata": {},
   "source": [
    "- 固定6行一组\n",
    "- 预期识别关键字段名称："
   ]
  },
  {
   "cell_type": "code",
   "execution_count": 66,
   "id": "7e6a76e3-21a3-41ce-a120-8b8dcfda98ec",
   "metadata": {},
   "outputs": [
    {
     "data": {
      "text/plain": [
       "{'执行法院': 'executing_court',\n",
       " '案号': 'case_number',\n",
       " '执行案由': 'reason_for_execution',\n",
       " '结案方式': 'case_closure_method',\n",
       " '立案日期': 'filing_date',\n",
       " '案件状态': 'case_status',\n",
       " '申请执行标的': 'claimed_execution_subject',\n",
       " '已执行标的': 'executed_subject',\n",
       " '申请执行标的金额': 'claimed_execution_amount',\n",
       " '已执行标的金额': 'executed_amount',\n",
       " '结案日期': 'closure_date'}"
      ]
     },
     "execution_count": 66,
     "metadata": {},
     "output_type": "execute_result"
    }
   ],
   "source": [
    "qzzxjl_schema = ['执行法院', '案号', '执行案由', '结案方式', '立案日期', '案件状态', '申请执行标的', '已执行标的', '申请执行标的金额', '已执行标的金额', '结案日期']\n",
    "\n",
    "{k:key_2_English(k) for k in qzzxjl_schema}"
   ]
  },
  {
   "cell_type": "markdown",
   "id": "4619ed8d-0e3a-4de8-b5b5-73a34daa192e",
   "metadata": {},
   "source": [
    "## 行政处罚记录\n",
    "略 -- 方案同 `后付费记录`"
   ]
  },
  {
   "cell_type": "markdown",
   "id": "39c1c7c3-385f-4fc5-a9f4-f0a7ad3a2312",
   "metadata": {},
   "source": [
    "- 固定4行一组\n",
    "- 预期识别关键字段名称："
   ]
  },
  {
   "cell_type": "code",
   "execution_count": 70,
   "id": "39b43774-1291-4231-83ae-723d652af511",
   "metadata": {},
   "outputs": [
    {
     "data": {
      "text/plain": [
       "{'处罚机构': 'penalty_authority',\n",
       " '文书编号': 'document_number',\n",
       " '处罚内容': 'penalty_details',\n",
       " '行政复议结果': 'administrative_review_result',\n",
       " '处罚金额': 'penalty_amount',\n",
       " '生效日期': 'effective_date',\n",
       " '截止日期': 'due_date'}"
      ]
     },
     "execution_count": 70,
     "metadata": {},
     "output_type": "execute_result"
    }
   ],
   "source": [
    "xzcfjl_schema = ['处罚机构', '文书编号', '处罚内容', '行政复议结果', '处罚金额', '生效日期', '截止日期']\n",
    "\n",
    "{k:key_2_English(k) for k in xzcfjl_schema}"
   ]
  },
  {
   "cell_type": "markdown",
   "id": "c553e2d7-4c8f-408c-9e16-ec8262ff8246",
   "metadata": {},
   "source": [
    "# 查询记录"
   ]
  },
  {
   "cell_type": "code",
   "execution_count": 93,
   "id": "ab2db79d-3557-482f-a571-24c0798c3396",
   "metadata": {},
   "outputs": [],
   "source": [
    "def cxjl_extract_info_from_table(table:list[list], need_translate=True):\n",
    "    '''\n",
    "    适用于 第一行为列名, 无行名 的表格\n",
    "    '''\n",
    "    col_names = table[0]\n",
    "    if need_translate:\n",
    "        col_names = key_list_2_English(col_names)\n",
    "\n",
    "    results = []\n",
    "    for r in range(1, len(table)):\n",
    "        result = {}\n",
    "        for c in range(len(col_names)):\n",
    "            result[col_names[c]] = table[r][c]\n",
    "        results.append(result)\n",
    "\n",
    "    return results"
   ]
  },
  {
   "cell_type": "markdown",
   "id": "474c6c5c-b55f-49e7-9469-5f62f0293c87",
   "metadata": {},
   "source": [
    "## 机构查询记录明细 "
   ]
  },
  {
   "cell_type": "markdown",
   "id": "fcc99ce0-09ee-401d-9368-3e355044243f",
   "metadata": {},
   "source": [
    "### == 内容样例"
   ]
  },
  {
   "attachments": {},
   "cell_type": "markdown",
   "id": "f79f6aba-0493-4855-a501-52d10e860df8",
   "metadata": {},
   "source": [
    "![机构查询记录](4_简版方案/机构查询记录.png)"
   ]
  },
  {
   "cell_type": "code",
   "execution_count": 96,
   "id": "786ebb1f-dec3-410f-a7ea-1caf72c7930f",
   "metadata": {},
   "outputs": [
    {
     "data": {
      "text/plain": [
       "[['编号', '查询日期', '查询机构', '查询原因'],\n",
       " ['1', '2016年7月15日', '中国工商银行', '贷后管理'],\n",
       " ['2', '2015年12月10日', '中国农业银行', '贷款审批'],\n",
       " ['3', '2015年2月12日', '中国农业银行', '担保资格审查'],\n",
       " ['4', '2015年2月10日', '建元资本', '融资审批'],\n",
       " ['5', '2015年2月1日', '平安财险', '保前审查']]"
      ]
     },
     "execution_count": 96,
     "metadata": {},
     "output_type": "execute_result"
    }
   ],
   "source": [
    "jgcsjl_data = [\n",
    "    ['编号', '查询日期', '查询机构', '查询原因'],\n",
    "    ['1', '2016年7月15日', '中国工商银行', '贷后管理'],\n",
    "    ['2', '2015年12月10日', '中国农业银行', '贷款审批'],\n",
    "    ['3', '2015年2月12日', '中国农业银行', '担保资格审查'],\n",
    "    ['4', '2015年2月10日', '建元资本', '融资审批'],\n",
    "    ['5', '2015年2月1日', '平安财险', '保前审查']\n",
    "]\n",
    "\n",
    "jgcsjl_data"
   ]
  },
  {
   "cell_type": "markdown",
   "id": "9b1b0a66-bd96-4591-8c85-b1bad42ddc11",
   "metadata": {},
   "source": [
    "### == 预期提取效果"
   ]
  },
  {
   "cell_type": "markdown",
   "id": "9eb07190-be6c-4578-a98a-133f3ecdc9df",
   "metadata": {},
   "source": [
    "整体（提取结果存放在字段 `info_extraction`）：\n",
    "```json\n",
    "{\n",
    "    'header-4-0':{\n",
    "        'header-name':'机构查询记录明细',\n",
    "        'content':[ocr返回结果],\n",
    "        'info_extraction':[case_0_info, case_1_info, ..., case_4_info],\n",
    "    }\n",
    "}\n",
    "```\n",
    "`case_i_info` 关键字段及其翻译如下："
   ]
  },
  {
   "cell_type": "code",
   "execution_count": 82,
   "id": "f2140994-5154-4828-a78f-80565f7bcb0e",
   "metadata": {},
   "outputs": [
    {
     "data": {
      "text/plain": [
       "{'编号': 'item_no',\n",
       " '查询日期': 'inquiry_date',\n",
       " '查询机构': 'inquiry_entity',\n",
       " '查询原因': 'inquiry_reason'}"
      ]
     },
     "execution_count": 82,
     "metadata": {},
     "output_type": "execute_result"
    }
   ],
   "source": [
    "'''\n",
    "此处schema应由规则提取得到，\n",
    "而非人为规定\n",
    "'''\n",
    "csjl_schema = ['编号', '查询日期', '查询机构', '查询原因']\n",
    "\n",
    "case_i_info = {k:key_2_English(k) for k in csjl_schema}\n",
    "case_i_info"
   ]
  },
  {
   "cell_type": "markdown",
   "id": "992a5f0d-5107-4cd6-9496-c8a9025c7f59",
   "metadata": {},
   "source": [
    "### == 提取方案"
   ]
  },
  {
   "cell_type": "markdown",
   "id": "77a1374a-86dd-4255-8b4a-947a1093c8e3",
   "metadata": {},
   "source": [
    "- 默认第一行为列名\n",
    "- 默认第二行开始每一行为一份数据"
   ]
  },
  {
   "cell_type": "markdown",
   "id": "f065aaea-1cdc-47d3-b85a-fff1b303945e",
   "metadata": {},
   "source": [
    "### == 案例执行效果"
   ]
  },
  {
   "cell_type": "code",
   "execution_count": 97,
   "id": "39927b78-a906-43b2-b619-eecaa789700b",
   "metadata": {},
   "outputs": [
    {
     "data": {
      "text/plain": [
       "[{'item_no': '1',\n",
       "  'inquiry_date': '2016年7月15日',\n",
       "  'inquiry_entity': '中国工商银行',\n",
       "  'inquiry_reason': '贷后管理'},\n",
       " {'item_no': '2',\n",
       "  'inquiry_date': '2015年12月10日',\n",
       "  'inquiry_entity': '中国农业银行',\n",
       "  'inquiry_reason': '贷款审批'},\n",
       " {'item_no': '3',\n",
       "  'inquiry_date': '2015年2月12日',\n",
       "  'inquiry_entity': '中国农业银行',\n",
       "  'inquiry_reason': '担保资格审查'},\n",
       " {'item_no': '4',\n",
       "  'inquiry_date': '2015年2月10日',\n",
       "  'inquiry_entity': '建元资本',\n",
       "  'inquiry_reason': '融资审批'},\n",
       " {'item_no': '5',\n",
       "  'inquiry_date': '2015年2月1日',\n",
       "  'inquiry_entity': '平安财险',\n",
       "  'inquiry_reason': '保前审查'}]"
      ]
     },
     "execution_count": 97,
     "metadata": {},
     "output_type": "execute_result"
    }
   ],
   "source": [
    "jgcsjl_info_extraction = cxjl_extract_info_from_table(jgcsjl_data)\n",
    "jgcsjl_info_extraction"
   ]
  },
  {
   "cell_type": "markdown",
   "id": "50ab72b3-9e1c-4e98-bb65-dcb22403892f",
   "metadata": {},
   "source": [
    "### == 备注"
   ]
  },
  {
   "cell_type": "markdown",
   "id": "a641d7c3-027b-4f1e-945e-9a12327a37cc",
   "metadata": {},
   "source": [
    "- 具体操作需根据ocr返回结果格式调整"
   ]
  },
  {
   "cell_type": "markdown",
   "id": "e2e2776c-f915-4c49-a973-a4fc3440f4a6",
   "metadata": {},
   "source": [
    "## 本人查询记录明细\n",
    "略 -- 方案同`机构查新记录明细`"
   ]
  },
  {
   "cell_type": "markdown",
   "id": "3fd07009-c4b4-48f4-9684-f29e9ff1e091",
   "metadata": {},
   "source": [
    "- 默认第一行为列名，无行名\n",
    "- 预期提取字段："
   ]
  },
  {
   "cell_type": "code",
   "execution_count": 101,
   "id": "118dec83-a3b2-42e6-8d27-50d5eba61c31",
   "metadata": {},
   "outputs": [
    {
     "data": {
      "text/plain": [
       "{'编号': 'item_no',\n",
       " '查询日期': 'inquiry_date',\n",
       " '查询机构': 'inquiry_entity',\n",
       " '查询原因': 'inquiry_reason'}"
      ]
     },
     "execution_count": 101,
     "metadata": {},
     "output_type": "execute_result"
    }
   ],
   "source": [
    "csjl_schema = ['编号', '查询日期', '查询机构', '查询原因']\n",
    "\n",
    "{k:key_2_English(k) for k in csjl_schema}"
   ]
  }
 ],
 "metadata": {
  "kernelspec": {
   "display_name": "Python 3 (ipykernel)",
   "language": "python",
   "name": "python3"
  },
  "language_info": {
   "codemirror_mode": {
    "name": "ipython",
    "version": 3
   },
   "file_extension": ".py",
   "mimetype": "text/x-python",
   "name": "python",
   "nbconvert_exporter": "python",
   "pygments_lexer": "ipython3",
   "version": "3.10.14"
  }
 },
 "nbformat": 4,
 "nbformat_minor": 5
}
