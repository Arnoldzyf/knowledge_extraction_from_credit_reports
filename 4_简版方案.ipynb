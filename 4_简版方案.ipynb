{
 "cells": [
  {
   "cell_type": "markdown",
   "id": "58852e07-11f7-4e14-afc0-fe51a2e03997",
   "metadata": {},
   "source": [
    "- 所有文件都会先经过ocr识别处理\n",
    "- ocr后的结果应该是一个大的json文件，该文件应：\n",
    "    - 嵌套式体现文档结构，表明哪些是标题及其标题等级\n",
    "    - 文档内容应区分表格内容（有开头结尾标记）和其他\n",
    "    - 内容跨页需要合并\n",
    "- 由于ocr接正在开发中，本方案依据理想化的ocr结果编写"
   ]
  },
  {
   "cell_type": "code",
   "execution_count": 47,
   "id": "dacd14ce-77ab-49f7-bcc7-8c7a64ebe900",
   "metadata": {},
   "outputs": [
    {
     "name": "stderr",
     "output_type": "stream",
     "text": [
      "E:\\miniconda3\\envs\\ZheShang\\lib\\site-packages\\tqdm\\auto.py:21: TqdmWarning: IProgress not found. Please update jupyter and ipywidgets. See https://ipywidgets.readthedocs.io/en/stable/user_install.html\n",
      "  from .autonotebook import tqdm as notebook_tqdm\n",
      "E:\\miniconda3\\envs\\ZheShang\\lib\\site-packages\\_distutils_hack\\__init__.py:32: UserWarning: Setuptools is replacing distutils. Support for replacing an already imported distutils is deprecated. In the future, this condition will fail. Register concerns at https://github.com/pypa/setuptools/issues/new?template=distutils-deprecation.yml\n",
      "  warnings.warn(\n"
     ]
    }
   ],
   "source": [
    "from paddlenlp import Taskflow\n",
    "import pandas as pd\n",
    "import json\n",
    "from IPython.display import display\n",
    "import re\n",
    "import os\n",
    "from translate import Translator"
   ]
  },
  {
   "cell_type": "markdown",
   "id": "fafbd4e3-78fa-44cf-acac-6975d376e10f",
   "metadata": {},
   "source": [
    "# Helping Functions"
   ]
  },
  {
   "cell_type": "markdown",
   "id": "767c2c5c-dd1b-4558-beed-594c12a0d2ce",
   "metadata": {},
   "source": [
    "## extract_info_from_taskflow"
   ]
  },
  {
   "cell_type": "code",
   "execution_count": 48,
   "id": "67b114b8-7f37-43cf-b239-eabf2081fcbf",
   "metadata": {},
   "outputs": [],
   "source": [
    "def extract_info_from_taskflow(task, case, schema):\n",
    "    '''\n",
    "    task: taskflow with pre-defined sechema\n",
    "    case: string, info for analysing\n",
    "    schema: key-words needs to be extracted\n",
    "    '''\n",
    "    info = task(case)  ## paddleNLP taskflow 模型抽取信息\n",
    "    result = {}  ## 存放抽取结果\n",
    "    for k in schema:\n",
    "        v = info[0].get(k)\n",
    "        if v:\n",
    "            v = v[0].get(\"text\")\n",
    "        result[k] = v\n",
    "    return result"
   ]
  },
  {
   "cell_type": "markdown",
   "id": "2e7c9a56-acfd-4c6e-adca-16eac1a12c43",
   "metadata": {},
   "source": [
    "## key translation"
   ]
  },
  {
   "cell_type": "code",
   "execution_count": 88,
   "id": "22ab485f-b924-4cb8-981e-7b3b63320800",
   "metadata": {},
   "outputs": [],
   "source": [
    "trans_dict_path = \"./data/key2en.json\"\n",
    "translator = Translator(from_lang=\"ZH\",to_lang=\"EN\")\n",
    "\n",
    "def key_2_English(key, translator=translator, \n",
    "                  trans_dict_path=trans_dict_path, \n",
    "                  force_translate=False, update_trans_dict_file=True):\n",
    "    '''\n",
    "    用translate包将key转换成英文\n",
    "    并维护一个中转英的dict\n",
    "    可以人为修改对应英文\n",
    "\n",
    "    key: 一个要翻译的字符串\n",
    "    translator: Translator(from_lang=\"ZH\",to_lang=\"EN\")\n",
    "    trans_dict_path: 存储中英字符对应翻译\n",
    "\n",
    "    force_translate: 强制重新翻译，也会更新表格\n",
    "    update_trans_dict_file：是否更新存储的dict\n",
    "    '''\n",
    "    ## 检查是否含有中文\n",
    "    contains_ZH = False\n",
    "    for char in key:\n",
    "        if '\\u4e00' <= char <= '\\u9fff':\n",
    "            contains_ZH = True\n",
    "            break\n",
    "    if not contains_ZH:\n",
    "        return key\n",
    "        \n",
    "    need_updating = False  ## flag for 是否需要更新字典\n",
    "\n",
    "    ## 载入已有dict, 或创立新dict\n",
    "    if not os.path.exists(trans_dict_path):\n",
    "        need_updating = True\n",
    "        trans_dict = {}\n",
    "    else:\n",
    "        with open(trans_dict_path, 'r') as file:\n",
    "            trans_dict = json.load(file)\n",
    "\n",
    "    key_en = trans_dict.get(key)\n",
    "    if force_translate:\n",
    "        key_en = None\n",
    "    if not key_en:\n",
    "        need_updating = True\n",
    "        key_en = translator.translate(key)\n",
    "\n",
    "        matches = re.findall(\">(.*?)<\", key_en)  ## 有时会有<bold>..<>修饰\n",
    "        if matches:\n",
    "            key_en = matches[0].strip(\":\")\n",
    "\n",
    "        ## 原有下划线为标题分级\n",
    "        key_en = re.sub(r'\\_', '\\_\\_', key_en)  \n",
    "        ## 转小写\n",
    "        ## 删除非英文字母非空格的字符\n",
    "        key_en = re.sub(r'[^a-zA-Z0-9\\_\\s]', '', key_en.lower())  \n",
    "        ## 下划线连接\n",
    "        key_en = '_'.join(key_en.split())\n",
    "        \n",
    "        ## 更新dict\n",
    "        trans_dict[key] = key_en\n",
    "        if update_trans_dict_file:\n",
    "            with open(trans_dict_path, 'w') as file:\n",
    "                json.dump(trans_dict, file)\n",
    "\n",
    "    return key_en\n",
    "\n",
    "def update_trans_dict(key, key_en, trans_dict_path=trans_dict_path):\n",
    "    '''\n",
    "    手动修改英文翻译\n",
    "    '''\n",
    "    need_updating = False\n",
    "\n",
    "    ## 载入已有dict, 或创立新dict\n",
    "    if not os.path.exists(trans_dict_path):\n",
    "        need_updating = True\n",
    "        trans_dict = {}\n",
    "    else:\n",
    "        with open(trans_dict_path, 'r') as file:\n",
    "            trans_dict = json.load(file)\n",
    "\n",
    "    ## 更新dict\n",
    "    trans_dict[key] = key_en\n",
    "    with open(trans_dict_path, 'w') as file:\n",
    "        json.dump(trans_dict, file)\n",
    "    "
   ]
  },
  {
   "cell_type": "markdown",
   "id": "822de40e-6c79-4814-9a4a-e76b8203ac30",
   "metadata": {},
   "source": [
    "# 个人信用报告"
   ]
  },
  {
   "cell_type": "markdown",
   "id": "7d7eaf70-2686-49bd-9d51-c98b186b6522",
   "metadata": {},
   "source": [
    "## == 内容样例"
   ]
  },
  {
   "cell_type": "markdown",
   "id": "6bacf710-47cd-477e-b654-73658a4142b6",
   "metadata": {},
   "source": [
    "![个人信用报告](4_简版方案/个人信用报告.png)"
   ]
  },
  {
   "cell_type": "code",
   "execution_count": 54,
   "id": "bda828f0-ff76-4316-8684-d0e078d01697",
   "metadata": {},
   "outputs": [
    {
     "data": {
      "text/plain": [
       "'\\n\\n报告编号：2016080303000014210351 报告时间：2016-08-03 09:30:15\\n姓名: 张三 证件类型: 身份证 证件号码: 110124197506232452 已婚\\n其他证件信息：护照G300234234/军人身份证 M09876893\\n\\n'"
      ]
     },
     "execution_count": 54,
     "metadata": {},
     "output_type": "execute_result"
    }
   ],
   "source": [
    "grxybg_data = \"\"\"\n",
    "\\n报告编号：2016080303000014210351 报告时间：2016-08-03 09:30:15\\n姓名: 张三 证件类型: 身份证 证件号码: 110124197506232452 已婚\\n其他证件信息：护照G300234234/军人身份证 M09876893\\n\n",
    "\"\"\"\n",
    "grxybg_data"
   ]
  },
  {
   "cell_type": "code",
   "execution_count": 55,
   "id": "a169300e-499e-4d4c-8214-b7f359483f28",
   "metadata": {},
   "outputs": [
    {
     "data": {
      "text/plain": [
       "'报告编号：2016080303000014210351 报告时间：2016-08-03 09:30:15  姓名: 张三 证件类型: 身份证 证件号码: 110124197506232452 已婚  其他证件信息：护照G300234234/军人身份证 M09876893'"
      ]
     },
     "execution_count": 55,
     "metadata": {},
     "output_type": "execute_result"
    }
   ],
   "source": [
    "def grxybg_text_preprocess(data):\n",
    "    data = data.strip().strip(\"\\n\").strip()\n",
    "    data = data.replace(\"\\n\", \"  \")\n",
    "    return data\n",
    "\n",
    "grxybg_data = grxybg_text_preprocess(data=grxybg_data)\n",
    "grxybg_data"
   ]
  },
  {
   "cell_type": "markdown",
   "id": "f9814c6c-0073-4291-a55c-ff6081f0985e",
   "metadata": {},
   "source": [
    "## == 预期提取效果"
   ]
  },
  {
   "cell_type": "markdown",
   "id": "86940699-f7d4-4827-943d-f3e8f5c8fd01",
   "metadata": {},
   "source": [
    "整体效果（提取结果存放在字段 `info_extraction`）：\n",
    "```json\n",
    "{\n",
    "    'header-0':{\n",
    "        'header-name':'个人信用报告',\n",
    "        'content':[ocr返回结果],\n",
    "        'info_extraction':[result]\n",
    "    }\n",
    "}\n",
    "```\n",
    "`result` 关键字段及其中英对照："
   ]
  },
  {
   "cell_type": "code",
   "execution_count": 76,
   "id": "d03b1812-949f-43e8-a227-f3387850ea20",
   "metadata": {},
   "outputs": [
    {
     "data": {
      "text/plain": [
       "{'报告编号': 'report_no',\n",
       " '报告时间': 'report_time',\n",
       " '姓名': 'name',\n",
       " '证件类型': 'certificate_type',\n",
       " '证件号码': 'id_number',\n",
       " '是否已婚': 'married_or_not',\n",
       " '其他证件信息': 'other_document_information'}"
      ]
     },
     "execution_count": 76,
     "metadata": {},
     "output_type": "execute_result"
    }
   ],
   "source": [
    "'''人工提前确定好所有关键字段'''\n",
    "grxybg_schema = []\n",
    "grxybg_schema.extend(['报告编号', '报告时间'])\n",
    "grxybg_schema.extend(['姓名', '证件类型', '证件号码', '是否已婚'])\n",
    "grxybg_schema.extend(['其他证件信息'])\n",
    "\n",
    "result = {k:key_2_English(k, force_translate=True) for k in grxybg_schema}\n",
    "result"
   ]
  },
  {
   "cell_type": "markdown",
   "id": "1fdf662d-ec90-46e2-ba1a-54362c48a4fd",
   "metadata": {},
   "source": [
    "## == 提取方案"
   ]
  },
  {
   "cell_type": "markdown",
   "id": "d01cf74a-3618-47ff-ae39-eee3ace96330",
   "metadata": {},
   "source": [
    "1. 预处理文本\n",
    "2. 人工定义所有要提取的关键字段\n",
    "3. paddleNLP taskflow information extraction 信息抽取\n",
    "4. 人工调整校验"
   ]
  },
  {
   "cell_type": "markdown",
   "id": "ebeca7ad-3c31-4ed3-b8e7-2857e7544ae9",
   "metadata": {},
   "source": [
    "## == 案例执行结果"
   ]
  },
  {
   "cell_type": "markdown",
   "id": "d9fefb83-01e7-43b0-8187-1e38015f21b0",
   "metadata": {},
   "source": [
    "------------------------------ 模型抽取 ----------------------------------"
   ]
  },
  {
   "cell_type": "code",
   "execution_count": 87,
   "id": "d945863e-1959-42c7-a0b6-eed0d7c4d427",
   "metadata": {},
   "outputs": [
    {
     "name": "stderr",
     "output_type": "stream",
     "text": [
      "\u001b[32m[2024-08-26 17:25:25,921] [    INFO]\u001b[0m - We are using <class 'paddlenlp.transformers.ernie.tokenizer.ErnieTokenizer'> to load 'C:\\Users\\0049004320\\.paddlenlp\\taskflow\\information_extraction\\uie-base'.\u001b[0m\n",
      "E:\\miniconda3\\envs\\ZheShang\\lib\\site-packages\\paddlenlp\\transformers\\tokenizer_utils_base.py:2478: FutureWarning: The `max_seq_len` argument is deprecated and will be removed in a future version, please use `max_length` instead.\n",
      "  warnings.warn(\n",
      "E:\\miniconda3\\envs\\ZheShang\\lib\\site-packages\\paddlenlp\\transformers\\tokenizer_utils_base.py:1878: FutureWarning: The `pad_to_max_length` argument is deprecated and will be removed in a future version, use `padding=True` or `padding='longest'` to pad to the longest sequence in the batch, or use `padding='max_length'` to pad to a max length. In this case, you can give a specific length with `max_length` (e.g. `max_length=45`) or leave max_length to None to pad to the maximal input size of the model (e.g. 512 for Bert).\n",
      "  warnings.warn(\n"
     ]
    },
    {
     "name": "stdout",
     "output_type": "stream",
     "text": [
      "报告编号：2016080303000014210351 报告时间：2016-08-03 09:30:15  姓名: 张三 证件类型: 身份证 证件号码: 110124197506232452 已婚  其他证件信息：护照G300234234/军人身份证 M09876893\n"
     ]
    },
    {
     "data": {
      "text/plain": [
       "{'报告编号': '2016080303000014210351',\n",
       " '报告时间': '2016-08-03 09:30:15',\n",
       " '姓名': '张三',\n",
       " '证件类型': '身份证',\n",
       " '证件号码': '110124197506232452',\n",
       " '是否已婚': '已婚',\n",
       " '其他证件信息': '护照G300234234'}"
      ]
     },
     "execution_count": 87,
     "metadata": {},
     "output_type": "execute_result"
    }
   ],
   "source": [
    "\"\"\" 加载信息抽取模型 \"\"\"\n",
    "## 默认uie_base\n",
    "grxybg_ie = Taskflow('information_extraction', schema=grxybg_schema)  # 贷记卡逾期\n",
    "\n",
    "grxybg_result = extract_info_from_taskflow(task=grxybg_ie, case=grxybg_data, schema=grxybg_schema)\n",
    "\n",
    "\n",
    "grxybg_result"
   ]
  },
  {
   "cell_type": "markdown",
   "id": "e386fb52-df1c-45be-9789-bb1f247ef37a",
   "metadata": {},
   "source": [
    "- `其他证件信息` 识别不完整"
   ]
  },
  {
   "cell_type": "markdown",
   "id": "433ed1be-ba7a-47b3-a049-9cdf79ee1491",
   "metadata": {},
   "source": [
    "--------------------------------- 人工矫正 -------------------------------"
   ]
  },
  {
   "cell_type": "code",
   "execution_count": 22,
   "id": "154ca50a-6d8d-40da-a777-e0082d20ca6f",
   "metadata": {},
   "outputs": [],
   "source": [
    "def grxybg_result_fixing(case, result):\n",
    "    '''\n",
    "    1. 其他证件信息\n",
    "        默认该项是最后一个item,直接定位到section最后\n",
    "    2. 待补充矫正\n",
    "    '''\n",
    "    ## 其他证件信息\n",
    "    item = \"其他证件信息\"\n",
    "    matches = list(re.finditer(item, case))\n",
    "    if len(matches) == 0:\n",
    "        item_info = None\n",
    "    else:\n",
    "        idx = matches[0].end()\n",
    "        item_info = case[idx:]\n",
    "        item_info = re.sub(r'[\\n:： ]', '', item_info)\n",
    "    result[item] = item_info\n",
    "\n",
    "    return result"
   ]
  },
  {
   "cell_type": "code",
   "execution_count": 88,
   "id": "2149ad1e-59e4-44ae-b35c-02fe9507a8ea",
   "metadata": {},
   "outputs": [
    {
     "name": "stdout",
     "output_type": "stream",
     "text": [
      "报告编号：2016080303000014210351 报告时间：2016-08-03 09:30:15  姓名: 张三 证件类型: 身份证 证件号码: 110124197506232452 已婚  其他证件信息：护照G300234234/军人身份证 M09876893\n"
     ]
    },
    {
     "data": {
      "text/plain": [
       "{'Report No.': '2016080303000014210351',\n",
       " 'Report  Time ': '2016-08-03 09:30:15',\n",
       " 'Name': '张三',\n",
       " 'Certificate Type': '身份证',\n",
       " 'ID Number': '110124197506232452',\n",
       " 'Married or not': '已婚',\n",
       " 'Other document information': '护照G300234234/军人身份证M09876893'}"
      ]
     },
     "execution_count": 88,
     "metadata": {},
     "output_type": "execute_result"
    }
   ],
   "source": [
    "## 人工矫正\n",
    "grxybg_result = grxybg_result_fixing(case=grxybg_data, result=grxybg_result)\n",
    "\n",
    "print(grxybg_data)\n",
    "## key用英文显示\n",
    "{key_2_English(k):v for k,v in grxybg_result.items()}\n"
   ]
  },
  {
   "cell_type": "markdown",
   "id": "15921daa-6b0b-49f2-976a-9b8f75d31999",
   "metadata": {},
   "source": [
    "## == 备注"
   ]
  },
  {
   "cell_type": "markdown",
   "id": "8072447d-09d3-45a6-b59f-729efa4763ab",
   "metadata": {},
   "source": [
    "- 提取关键字段信息需业务人员补充\n",
    "- !! 人工矫正逻辑需测试和业务人员进行矫正+补充"
   ]
  },
  {
   "cell_type": "markdown",
   "id": "f2f68a4f-beb7-45b3-b313-dfa795ff8f6b",
   "metadata": {},
   "source": [
    "# 信贷记录\n",
    "略"
   ]
  },
  {
   "cell_type": "markdown",
   "id": "ef060373-f7b4-4960-bf5c-8235f6ea81f2",
   "metadata": {},
   "source": [
    "## 信息概要"
   ]
  },
  {
   "cell_type": "markdown",
   "id": "a91a4c95-40fe-4259-a500-e0285e076088",
   "metadata": {},
   "source": [
    "#### == 内容样例"
   ]
  },
  {
   "cell_type": "markdown",
   "id": "534159fe-c228-4b73-8858-a0622ee6d375",
   "metadata": {},
   "source": [
    "![信息概要](./4_简版方案/信息概要.png)"
   ]
  },
  {
   "cell_type": "code",
   "execution_count": 1,
   "id": "febde466-f314-4ee5-bc26-5c4090a9146b",
   "metadata": {},
   "outputs": [],
   "source": [
    "xxgy_data = []\n",
    "xxgy_data.append([\n",
    "    ['', '资产处置信息', '垫款信息'], \n",
    "    ['账户数', '1', '3']])\n",
    "\n",
    "xxgy_data.append([\n",
    "    ['', '信用卡', '贷款', None, '其他业务'],\n",
    "    [None, None, '购房', '其他', None],\n",
    "    ['账户数', '8', '4', '5', '8'],\n",
    "    [None, None, None, None, None],\n",
    "    ['未结清/未销户账户数', '4', '2', '3', '7'],\n",
    "    ['发生过逾期的账户数', '4', '2', '2', '4'],\n",
    "    ['发生过90天以上逾期的账户数', '4', '1', '1', '1']])\n",
    "\n",
    "xxgy_data.append([\n",
    "    ['', '为个人', '为企业'], \n",
    "    ['相关还款责任账户数', '1', '3']])"
   ]
  },
  {
   "cell_type": "code",
   "execution_count": 65,
   "id": "d92c2095-ace0-4e2d-bc10-135d4ad4db6b",
   "metadata": {},
   "outputs": [
    {
     "data": {
      "text/plain": [
       "[['', '信用卡', '贷款', None, '其他业务'],\n",
       " [None, None, '购房', '其他', None],\n",
       " ['账户数', '8', '4', '5', '8'],\n",
       " [None, None, None, None, None],\n",
       " ['未结清/未销户账户数', '4', '2', '3', '7'],\n",
       " ['发生过逾期的账户数', '4', '2', '2', '4'],\n",
       " ['发生过90天以上逾期的账户数', '4', '1', '1', '1']]"
      ]
     },
     "execution_count": 65,
     "metadata": {},
     "output_type": "execute_result"
    }
   ],
   "source": [
    "xxgy_data[1]"
   ]
  },
  {
   "cell_type": "markdown",
   "id": "78563fba-7c8b-4dde-9cec-c078433b85c2",
   "metadata": {},
   "source": [
    "#### == 预期提取效果"
   ]
  },
  {
   "cell_type": "markdown",
   "id": "0163a3e4-e812-4326-8053-61a7843c53f1",
   "metadata": {},
   "source": [
    "整体上（提取结果存放在字段 `info_extraction`）：\n",
    "```json\n",
    "'header-1-0':{\n",
    "    'header-name':'信息概要',\n",
    "    'content':[ocr返回结果],\n",
    "    'info_extraction':[table_1_info, table_2_info, table_3_info]\n",
    "}\n",
    "```\n",
    "`table_i_info` 样式如下："
   ]
  },
  {
   "cell_type": "markdown",
   "id": "7d0ae4ee-8fe3-4f79-a525-10a81a0c3d2b",
   "metadata": {},
   "source": [
    "一行一行读，嵌套标题会被展开\n",
    "```json\n",
    "{\n",
    "    row_name_1:{\n",
    "        col_name_1:value, col_name_2:value, ...}\n",
    "    },\n",
    "    row_name_2:{\n",
    "        col_name_1:value, col_name_2:value, ...}\n",
    "    },\n",
    "    ...\n",
    "}\n",
    "```"
   ]
  },
  {
   "cell_type": "markdown",
   "id": "6f36f69a-f841-4aa7-8093-d78b1e430432",
   "metadata": {},
   "source": [
    "#### == 提取方案"
   ]
  },
  {
   "cell_type": "markdown",
   "id": "8f4e213d-2137-415a-b748-5e83731ffad6",
   "metadata": {},
   "source": [
    "1. 预处理\n",
    "    - 删空值行\n",
    "    - 默认第一列为行名\n",
    "    - 无数字的前i(<=2)行为列名\n",
    "2. 一行一行按规则提取"
   ]
  },
  {
   "cell_type": "markdown",
   "id": "9e2afff2-632a-4b18-9d4d-987357ce5fee",
   "metadata": {},
   "source": [
    "#### == 案例执行结果"
   ]
  },
  {
   "cell_type": "markdown",
   "id": "b2a329e9-70c8-4bea-8ae0-f31cce1d63cf",
   "metadata": {},
   "source": [
    "------------------------------ 表格拆解 --------------------------------"
   ]
  },
  {
   "cell_type": "code",
   "execution_count": 42,
   "id": "786629a8-72e9-4cf3-9946-905015a76aaa",
   "metadata": {},
   "outputs": [],
   "source": [
    "def drop_None_row(table:list[list]):\n",
    "    '''\n",
    "    drop a row if its all None\n",
    "    '''\n",
    "    return [row for row in table if any(e is not None for e in row)]\n",
    "\n",
    "def is_number(s:str):\n",
    "    ## 不包含空值和None\n",
    "    if s is None or s == '':\n",
    "        return False\n",
    "    ## 其他值判断是否为纯数字\n",
    "    try:\n",
    "        float(s)\n",
    "        return True\n",
    "    except ValueError:\n",
    "        return False\n",
    "        \n",
    "def get_col_name_rows(table:list[list]):\n",
    "    '''\n",
    "    find first n rows that have no numbers\n",
    "    '''\n",
    "    for i in range(len(table)):\n",
    "        row = table[i]\n",
    "        flag = not any(is_number(e) for e in row)  ## 是否为标题行\n",
    "        if flag == False:\n",
    "            break\n",
    "    return table[:i]\n",
    "\n",
    "def is_empty(s:str):\n",
    "    if s is None or s == '':\n",
    "        return True\n",
    "    else:\n",
    "        return False\n",
    "        \n",
    "def combine_col_names(col_name_rows:list[list]):\n",
    "    '''\n",
    "    返回：行名、列名、数据\n",
    "    \n",
    "    逻辑：\n",
    "        1. 默认合并单元格的信息在左上格\n",
    "        2. 从末列向前：\n",
    "            a. 空值向上传递，遇到非空值被覆盖，继续向上转b\n",
    "            b. 非空值向上传递，(遇到空值，找该空值左边第一个非空值合并)，继续向上重复\n",
    "    \n",
    "    表格转置后可用在合并行名上\n",
    "    '''\n",
    "    R = len(col_name_rows)\n",
    "    C = len(col_name_rows[0])\n",
    "\n",
    "    col_names = []\n",
    "    for c in range(C-1, -1, -1):\n",
    "        col_name = col_name_rows[R-1][c]\n",
    "        \n",
    "        empty = False  ## whether col_name is empty now\n",
    "        if is_empty(col_name):\n",
    "            empty = True\n",
    "            \n",
    "        for r in range(R-2, -1, -1):\n",
    "            up = col_name_rows[r][c]\n",
    "            \n",
    "            if empty:\n",
    "                if is_empty(up): ## 空值连续向上\n",
    "                    continue\n",
    "                else:\n",
    "                    col_name = up  ## 空值被覆盖\n",
    "                    empty = False\n",
    "            else:\n",
    "                if is_empty(up):\n",
    "                    ## 非空值向上遇到空值, 找空值左边第一个非空值作为母标题\n",
    "                    left = ''\n",
    "                    for c_temp in range(c-1, -1, -1):\n",
    "                        left = col_name_rows[r][c_temp]\n",
    "                        if not is_empty(left):\n",
    "                            col_name = left + \"_\" + col_name\n",
    "                            break\n",
    "                else:\n",
    "                    col_name = up + \"_\" + col_name\n",
    "\n",
    "        if not is_empty(col_name):  ## 存入非空列名\n",
    "            col_names.append(col_name)\n",
    "\n",
    "    return col_names[::-1]\n",
    "                \n",
    "                \n",
    "def xxgy_preprocess_table(table:list[list]):  ## 信息概要\n",
    "    '''\n",
    "    忽略首格[0][0]（默认为空）\n",
    "    默认行名在第一列\n",
    "    \n",
    "    可修改复用在标准表格上：\n",
    "        列名在左 + 行名在上 + 数字数据在中间\n",
    "    '''\n",
    "    ## 删全为None的行\n",
    "    table = drop_None_row(table)\n",
    "    R = len(table)\n",
    "    C = len(table[0])\n",
    "    # print(table)\n",
    "\n",
    "    ## 找'列名'的行:\n",
    "    col_name_rows = get_col_name_rows(table)\n",
    "    num_col_name_rows = len(col_name_rows)  ## 前几行是标题行\n",
    "    # print(num_col_name_rows)\n",
    "    \n",
    "    ## 提取列名\n",
    "    col_names = combine_col_names(col_name_rows)\n",
    "\n",
    "    ## 提取行名, 默认第一列\n",
    "    row_names = []\n",
    "    for r in range(num_col_name_rows, R):\n",
    "        row_names.append(table[r][0])\n",
    "\n",
    "    ## 提取数据:\n",
    "    ##     table里倒数 len(row_names)行, 和倒数 len(col_names)列\n",
    "    data = []\n",
    "    for r in range(R-len(row_names), R):\n",
    "        data_row = []\n",
    "        for c in range(C-len(col_names), C):\n",
    "            data_row.append(table[r][c])\n",
    "        data.append(data_row)\n",
    "\n",
    "    return row_names, col_names, data    "
   ]
  },
  {
   "cell_type": "code",
   "execution_count": 80,
   "id": "081873b5-5ca3-42df-b28d-152cfdc9662d",
   "metadata": {},
   "outputs": [
    {
     "data": {
      "text/plain": [
       "(['账户数'], ['资产处置信息', '垫款信息'], [['1', '3']])"
      ]
     },
     "execution_count": 80,
     "metadata": {},
     "output_type": "execute_result"
    }
   ],
   "source": [
    "table_1_result = xxgy_preprocess_table(xxgy_data[0])\n",
    "table_1_result"
   ]
  },
  {
   "cell_type": "code",
   "execution_count": 44,
   "id": "513bf2fe-e698-4d50-a290-fc9b1c421f69",
   "metadata": {},
   "outputs": [
    {
     "data": {
      "text/plain": [
       "(['账户数', '未结清/未销户账户数', '发生过逾期的账户数', '发生过90天以上逾期的账户数'],\n",
       " ['信用卡', '贷款_购房', '贷款_其他', '其他业务'],\n",
       " [['8', '4', '5', '8'],\n",
       "  ['4', '2', '3', '7'],\n",
       "  ['4', '2', '2', '4'],\n",
       "  ['4', '1', '1', '1']])"
      ]
     },
     "execution_count": 44,
     "metadata": {},
     "output_type": "execute_result"
    }
   ],
   "source": [
    "table_2_result = xxgy_preprocess_table(xxgy_data[1])\n",
    "table_2_result"
   ]
  },
  {
   "cell_type": "code",
   "execution_count": 45,
   "id": "ebb34c3d-6335-49b3-b977-4056cea8f596",
   "metadata": {},
   "outputs": [
    {
     "data": {
      "text/plain": [
       "(['相关还款责任账户数'], ['为个人', '为企业'], [['1', '3']])"
      ]
     },
     "execution_count": 45,
     "metadata": {},
     "output_type": "execute_result"
    }
   ],
   "source": [
    "table_3_result = xxgy_preprocess_table(xxgy_data[2])\n",
    "table_3_result"
   ]
  },
  {
   "cell_type": "markdown",
   "id": "a1c22dc4-eafd-4625-af14-6b681ee29637",
   "metadata": {},
   "source": [
    "------------------------------------ 最终呈献 -----------------------------------"
   ]
  },
  {
   "cell_type": "code",
   "execution_count": 53,
   "id": "41021168-bee0-4396-a1b8-203dbaa8b620",
   "metadata": {},
   "outputs": [],
   "source": [
    "def key_list_2_English(keys):\n",
    "    return [key_2_English(k) for k in keys]\n",
    "\n",
    "def xxgy_table_result_to_json(row_names, col_names, data):\n",
    "    table_dict = {}\n",
    "    for r in range(len(row_names)):\n",
    "        r_name = row_names[r]\n",
    "        table_dict[r_name] = {}\n",
    "        for c in range(len(col_names)):\n",
    "            c_name = col_names[c]\n",
    "            table_dict[r_name][c_name]=data[r][c]\n",
    "    return table_dict  "
   ]
  },
  {
   "cell_type": "code",
   "execution_count": 91,
   "id": "5fd04b1b-0db1-401e-bd86-df6e65e9e506",
   "metadata": {},
   "outputs": [
    {
     "data": {
      "text/html": [
       "<div>\n",
       "<style scoped>\n",
       "    .dataframe tbody tr th:only-of-type {\n",
       "        vertical-align: middle;\n",
       "    }\n",
       "\n",
       "    .dataframe tbody tr th {\n",
       "        vertical-align: top;\n",
       "    }\n",
       "\n",
       "    .dataframe thead th {\n",
       "        text-align: right;\n",
       "    }\n",
       "</style>\n",
       "<table border=\"1\" class=\"dataframe\">\n",
       "  <thead>\n",
       "    <tr style=\"text-align: right;\">\n",
       "      <th></th>\n",
       "      <th>0</th>\n",
       "      <th>1</th>\n",
       "      <th>2</th>\n",
       "    </tr>\n",
       "  </thead>\n",
       "  <tbody>\n",
       "    <tr>\n",
       "      <th>0</th>\n",
       "      <td></td>\n",
       "      <td>资产处置信息</td>\n",
       "      <td>垫款信息</td>\n",
       "    </tr>\n",
       "    <tr>\n",
       "      <th>1</th>\n",
       "      <td>账户数</td>\n",
       "      <td>1</td>\n",
       "      <td>3</td>\n",
       "    </tr>\n",
       "  </tbody>\n",
       "</table>\n",
       "</div>"
      ],
      "text/plain": [
       "     0       1     2\n",
       "0       资产处置信息  垫款信息\n",
       "1  账户数       1     3"
      ]
     },
     "metadata": {},
     "output_type": "display_data"
    },
    {
     "data": {
      "text/plain": [
       "{'number_of_accounts': {'asset_disposal_information': '1',\n",
       "  'advance_information': '3'}}"
      ]
     },
     "execution_count": 91,
     "metadata": {},
     "output_type": "execute_result"
    }
   ],
   "source": [
    "table_1_info = xxgy_table_result_to_json(row_names=key_list_2_English(table_1_result[0]),\n",
    "                                         col_names=key_list_2_English(table_1_result[1]),\n",
    "                                        data=key_list_2_English(table_1_result[2]))\n",
    "display(pd.DataFrame(xxgy_data[0]))\n",
    "table_1_info"
   ]
  },
  {
   "cell_type": "code",
   "execution_count": 92,
   "id": "f7465505-423f-473d-864b-5a9ad0513953",
   "metadata": {},
   "outputs": [
    {
     "data": {
      "text/html": [
       "<div>\n",
       "<style scoped>\n",
       "    .dataframe tbody tr th:only-of-type {\n",
       "        vertical-align: middle;\n",
       "    }\n",
       "\n",
       "    .dataframe tbody tr th {\n",
       "        vertical-align: top;\n",
       "    }\n",
       "\n",
       "    .dataframe thead th {\n",
       "        text-align: right;\n",
       "    }\n",
       "</style>\n",
       "<table border=\"1\" class=\"dataframe\">\n",
       "  <thead>\n",
       "    <tr style=\"text-align: right;\">\n",
       "      <th></th>\n",
       "      <th>0</th>\n",
       "      <th>1</th>\n",
       "      <th>2</th>\n",
       "      <th>3</th>\n",
       "      <th>4</th>\n",
       "    </tr>\n",
       "  </thead>\n",
       "  <tbody>\n",
       "    <tr>\n",
       "      <th>0</th>\n",
       "      <td></td>\n",
       "      <td>信用卡</td>\n",
       "      <td>贷款</td>\n",
       "      <td>None</td>\n",
       "      <td>其他业务</td>\n",
       "    </tr>\n",
       "    <tr>\n",
       "      <th>1</th>\n",
       "      <td>None</td>\n",
       "      <td>None</td>\n",
       "      <td>购房</td>\n",
       "      <td>其他</td>\n",
       "      <td>None</td>\n",
       "    </tr>\n",
       "    <tr>\n",
       "      <th>2</th>\n",
       "      <td>账户数</td>\n",
       "      <td>8</td>\n",
       "      <td>4</td>\n",
       "      <td>5</td>\n",
       "      <td>8</td>\n",
       "    </tr>\n",
       "    <tr>\n",
       "      <th>3</th>\n",
       "      <td>None</td>\n",
       "      <td>None</td>\n",
       "      <td>None</td>\n",
       "      <td>None</td>\n",
       "      <td>None</td>\n",
       "    </tr>\n",
       "    <tr>\n",
       "      <th>4</th>\n",
       "      <td>未结清/未销户账户数</td>\n",
       "      <td>4</td>\n",
       "      <td>2</td>\n",
       "      <td>3</td>\n",
       "      <td>7</td>\n",
       "    </tr>\n",
       "    <tr>\n",
       "      <th>5</th>\n",
       "      <td>发生过逾期的账户数</td>\n",
       "      <td>4</td>\n",
       "      <td>2</td>\n",
       "      <td>2</td>\n",
       "      <td>4</td>\n",
       "    </tr>\n",
       "    <tr>\n",
       "      <th>6</th>\n",
       "      <td>发生过90天以上逾期的账户数</td>\n",
       "      <td>4</td>\n",
       "      <td>1</td>\n",
       "      <td>1</td>\n",
       "      <td>1</td>\n",
       "    </tr>\n",
       "  </tbody>\n",
       "</table>\n",
       "</div>"
      ],
      "text/plain": [
       "                0     1     2     3     4\n",
       "0                   信用卡    贷款  None  其他业务\n",
       "1            None  None    购房    其他  None\n",
       "2             账户数     8     4     5     8\n",
       "3            None  None  None  None  None\n",
       "4      未结清/未销户账户数     4     2     3     7\n",
       "5       发生过逾期的账户数     4     2     2     4\n",
       "6  发生过90天以上逾期的账户数     4     1     1     1"
      ]
     },
     "metadata": {},
     "output_type": "display_data"
    },
    {
     "data": {
      "text/plain": [
       "{'number_of_accounts': {'credit_cards': '8',\n",
       "  'loan__buy_home': '4',\n",
       "  'loan__other': '5',\n",
       "  'other_business': '8'},\n",
       " 'number_of_openuncancelled_accounts': {'credit_cards': '4',\n",
       "  'loan__buy_home': '2',\n",
       "  'loan__other': '3',\n",
       "  'other_business': '7'},\n",
       " 'number_of_accounts_with_records_of_being_overdue': {'credit_cards': '4',\n",
       "  'loan__buy_home': '2',\n",
       "  'loan__other': '2',\n",
       "  'other_business': '4'},\n",
       " 'number_of_accounts_with_records_of_being_overdue_for_over_90_days': {'credit_cards': '4',\n",
       "  'loan__buy_home': '1',\n",
       "  'loan__other': '1',\n",
       "  'other_business': '1'}}"
      ]
     },
     "execution_count": 92,
     "metadata": {},
     "output_type": "execute_result"
    }
   ],
   "source": [
    "table_2_info = xxgy_table_result_to_json(row_names=key_list_2_English(table_2_result[0]),\n",
    "                                         col_names=key_list_2_English(table_2_result[1]),\n",
    "                                        data=key_list_2_English(table_2_result[2]))\n",
    "display(pd.DataFrame(xxgy_data[1]))\n",
    "table_2_info"
   ]
  },
  {
   "cell_type": "code",
   "execution_count": 93,
   "id": "cb8148fe-4d55-42fa-b893-03f4973a99eb",
   "metadata": {},
   "outputs": [
    {
     "data": {
      "text/html": [
       "<div>\n",
       "<style scoped>\n",
       "    .dataframe tbody tr th:only-of-type {\n",
       "        vertical-align: middle;\n",
       "    }\n",
       "\n",
       "    .dataframe tbody tr th {\n",
       "        vertical-align: top;\n",
       "    }\n",
       "\n",
       "    .dataframe thead th {\n",
       "        text-align: right;\n",
       "    }\n",
       "</style>\n",
       "<table border=\"1\" class=\"dataframe\">\n",
       "  <thead>\n",
       "    <tr style=\"text-align: right;\">\n",
       "      <th></th>\n",
       "      <th>0</th>\n",
       "      <th>1</th>\n",
       "      <th>2</th>\n",
       "    </tr>\n",
       "  </thead>\n",
       "  <tbody>\n",
       "    <tr>\n",
       "      <th>0</th>\n",
       "      <td></td>\n",
       "      <td>为个人</td>\n",
       "      <td>为企业</td>\n",
       "    </tr>\n",
       "    <tr>\n",
       "      <th>1</th>\n",
       "      <td>相关还款责任账户数</td>\n",
       "      <td>1</td>\n",
       "      <td>3</td>\n",
       "    </tr>\n",
       "  </tbody>\n",
       "</table>\n",
       "</div>"
      ],
      "text/plain": [
       "           0    1    2\n",
       "0             为个人  为企业\n",
       "1  相关还款责任账户数    1    3"
      ]
     },
     "metadata": {},
     "output_type": "display_data"
    },
    {
     "data": {
      "text/plain": [
       "{'number_of_related_repayment_liability_accounts': {'for_individuals': '1',\n",
       "  'for_business': '3'}}"
      ]
     },
     "execution_count": 93,
     "metadata": {},
     "output_type": "execute_result"
    }
   ],
   "source": [
    "table_3_info = xxgy_table_result_to_json(row_names=key_list_2_English(table_3_result[0]),\n",
    "                                         col_names=key_list_2_English(table_3_result[1]),\n",
    "                                        data=key_list_2_English(table_3_result[2]))\n",
    "display(pd.DataFrame(xxgy_data[2]))\n",
    "table_3_info"
   ]
  },
  {
   "cell_type": "markdown",
   "id": "7a42a4cc-308c-47f4-acc0-0dfa339f10bf",
   "metadata": {},
   "source": [
    "#### == 备注"
   ]
  },
  {
   "cell_type": "markdown",
   "id": "c74acc83-ce61-4096-adf5-f7491d2272fe",
   "metadata": {},
   "source": [
    "- !具体操作需根据ocr返回结果修改\n",
    "- 翻译矫正"
   ]
  },
  {
   "cell_type": "markdown",
   "id": "15a1e630-d8ef-4723-9e42-251b7296af52",
   "metadata": {},
   "source": [
    "### 资产处置信息\n",
    "略"
   ]
  },
  {
   "cell_type": "markdown",
   "id": "7f0f59a2-709a-46bd-9d4e-bd631df8c2fe",
   "metadata": {},
   "source": [
    "### 垫款信息 \n",
    "略"
   ]
  },
  {
   "cell_type": "markdown",
   "id": "b8f29a87-c245-40f2-912a-f00369da6600",
   "metadata": {},
   "source": [
    "## 信用卡"
   ]
  },
  {
   "cell_type": "markdown",
   "id": "eb2f4922-26fc-4c2c-965a-fdc8cfcb00d6",
   "metadata": {},
   "source": [
    "### 发生过逾期的贷记卡账户明细如下："
   ]
  },
  {
   "cell_type": "markdown",
   "id": "d82a95d1-d593-4396-b90a-549adf7c9edf",
   "metadata": {},
   "source": [
    "#### == 内容样例"
   ]
  },
  {
   "cell_type": "markdown",
   "id": "85ad98dc-626b-4f30-82fb-a57e58ab7df3",
   "metadata": {},
   "source": [
    "![发生过逾期的贷记卡账户明细](./4_简版方案/发生过逾期的贷记卡账户明细.png)"
   ]
  },
  {
   "cell_type": "code",
   "execution_count": 97,
   "id": "b6cdfc56-c4aa-4126-a28c-20059b730ac6",
   "metadata": {},
   "outputs": [
    {
     "name": "stdout",
     "output_type": "stream",
     "text": [
      "\n",
      "\n",
      "1. 2004 年 8 月 30 日中国建设银行北京分行发放的贷记卡（人民币账户，卡片尾号：0001）。截至 2010 年 10 月，信用额度\n",
      "10,000，已变成呆账，余额500。\n",
      "2. 2004年8月30日中国工商银行北京分行发放的贷记卡（人民币账户，卡片尾号：0002）。截至2016年7月，信用额度50,000，\n",
      "余额5,000（含未出单的大额专项分期余额4,000），当前有逾期。最近5年内有11个月处于逾期状态，其中5个月逾期超\n",
      "过90天。\n",
      "3. 2010年4月1日中国民生银行信用卡中心发放的贷记卡（人民币账户，卡片尾号：0003），2015年12月销户。最近5年内\n",
      "有7个月处于逾期状态，其中3个月逾期超过90天。\n",
      "2014年3月，该机构声明：该客户委托XX公司偿还贷款，因开发公司不按时还款导致出现多次逾期。\n",
      "\n",
      "\n"
     ]
    }
   ],
   "source": [
    "djkyq_data = \"\"\"\n",
    "\\n1. 2004 年 8 月 30 日中国建设银行北京分行发放的贷记卡（人民币账户，卡片尾号：0001）。截至 2010 年 10 月，信用额度\\n10,000，已变成呆账，余额500。\\n2. 2004年8月30日中国工商银行北京分行发放的贷记卡（人民币账户，卡片尾号：0002）。截至2016年7月，信用额度50,000，\\n余额5,000（含未出单的大额专项分期余额4,000），当前有逾期。最近5年内有11个月处于逾期状态，其中5个月逾期超\\n过90天。\\n3. 2010年4月1日中国民生银行信用卡中心发放的贷记卡（人民币账户，卡片尾号：0003），2015年12月销户。最近5年内\\n有7个月处于逾期状态，其中3个月逾期超过90天。\\n2014年3月，该机构声明：该客户委托XX公司偿还贷款，因开发公司不按时还款导致出现多次逾期。\\n\n",
    "\"\"\"\n",
    "print(djkyq_data)"
   ]
  },
  {
   "cell_type": "code",
   "execution_count": 98,
   "id": "d9e4ecf0-88ea-4432-b78a-eb35b4da24e0",
   "metadata": {},
   "outputs": [
    {
     "name": "stdout",
     "output_type": "stream",
     "text": [
      "case_1: 2004 年 8 月 30 日中国建设银行北京分行发放的贷记卡（人民币账户，卡片尾号：0001）。截至 2010 年 10 月，信用额度10,000，已变成呆账，余额500。 \n",
      "\n",
      "case_2: 2004年8月30日中国工商银行北京分行发放的贷记卡（人民币账户，卡片尾号：0002）。截至2016年7月，信用额度50,000，余额5,000（含未出单的大额专项分期余额4,000），当前有逾期。最近5年内有11个月处于逾期状态，其中5个月逾期超过90天。 \n",
      "\n",
      "case_3: 2010年4月1日中国民生银行信用卡中心发放的贷记卡（人民币账户，卡片尾号：0003），2015年12月销户。最近5年内有7个月处于逾期状态，其中3个月逾期超过90天。2014年3月，该机构声明：该客户委托XX公司偿还贷款，因开发公司不按时还款导致出现多次逾期。 \n",
      "\n"
     ]
    }
   ],
   "source": [
    "\"\"\"预处理分割data\"\"\"\n",
    "def djkyq_split_cases(data):  ## 贷记卡逾期\n",
    "    data = '\\n' + data.strip().strip(\"\\n\")\n",
    "\n",
    "    ## 分段标准: 一个或多个空白 + 一个或多个数字 + . + 空格\n",
    "    split_pattern = r'\\s+\\d+\\.\\ '\n",
    "    data_splited = re.split(split_pattern, data)\n",
    "\n",
    "    cases = []\n",
    "    for case in data_splited:\n",
    "        if case == '':\n",
    "            continue\n",
    "        ## 去头尾空格，去所有\\n\n",
    "        case = case.strip().replace(\"\\n\",\"\")\n",
    "        cases.append(case)\n",
    "    return cases\n",
    "\n",
    "cases = djkyq_split_cases(data=djkyq_data)\n",
    "case_1, case_2, case_3 = cases[0], cases[1], cases[2]\n",
    "print(f\"case_1: {case_1} \\n\")\n",
    "print(f\"case_2: {case_2} \\n\")\n",
    "print(f\"case_3: {case_3} \\n\")"
   ]
  },
  {
   "cell_type": "markdown",
   "id": "51a6a49c-d9d9-4a98-8b16-201656c8f8c5",
   "metadata": {},
   "source": [
    "#### == 预期提取效果"
   ]
  },
  {
   "cell_type": "markdown",
   "id": "1edbf658-3826-4e92-b7da-3abbf4dc31b9",
   "metadata": {},
   "source": [
    "整体（提取结果存放在字段 `info_extraction`）：\n",
    "```json\n",
    "{\n",
    "    'header-1-1-0':{\n",
    "        'header-name':'发生过逾期的贷记卡账户明细',\n",
    "        'content': [ocr返回结果]\n",
    "        'info_extraction':[case_0_info, case_1_info, case_2_info]\n",
    "    }\n",
    "}\n",
    "```\n",
    "`case_i_info` 关键字段及其中英对照："
   ]
  },
  {
   "cell_type": "code",
   "execution_count": 96,
   "id": "99521829-8fcf-43a0-b774-f49bbe945c89",
   "metadata": {
    "scrolled": true
   },
   "outputs": [
    {
     "data": {
      "text/plain": [
       "{'发卡日期': 'card_issue_date',\n",
       " '发卡机构': 'card_issuer',\n",
       " '账户币种': 'account_currency',\n",
       " '卡片尾号': 'card_suffix',\n",
       " '销户日期': 'account_canceling_date',\n",
       " '信用额度截至日期': 'reference_date',\n",
       " '信用额度': 'credit_limit',\n",
       " '是否变成呆账': 'whether_it_turns_into_bad_debts',\n",
       " '呆账余额': 'bad_debt_balance',\n",
       " '当前有无逾期': 'is_currently_overdue',\n",
       " '近5年处于逾期状态月数': 'number_of_months_overdue_in_the_last_5_years',\n",
       " '逾期超过90天月数': 'number_of_months_overdue_for_more_than_90_days'}"
      ]
     },
     "execution_count": 96,
     "metadata": {},
     "output_type": "execute_result"
    }
   ],
   "source": [
    "'''人工提前定好schema内容'''\n",
    "djkyq_schema = ['发卡日期', '发卡机构','账户币种','卡片尾号','销户日期']\n",
    "djkyq_schema.extend(['信用额度截至日期','信用额度','是否变成呆账','呆账余额','当前有无逾期'])\n",
    "djkyq_schema.extend(['近5年处于逾期状态月数','逾期超过90天月数'])  ## ?? '5年'定死、?? '90天'定死\n",
    "\n",
    "case_i_info = {k:key_2_English(k) for k in djkyq_schema}\n",
    "case_i_info"
   ]
  },
  {
   "cell_type": "code",
   "execution_count": 95,
   "id": "a57bcb38-1c2f-4f94-b9e4-4a1c5e2635dd",
   "metadata": {},
   "outputs": [],
   "source": [
    "\"\"\"手动矫正翻译\"\"\"\n",
    "# update_trans_dict(\"销户日期\", \"account_canceling_date\")\n",
    "# update_trans_dict(\"卡片尾号\", \"card_suffix\")\n",
    "# update_trans_dict(\"信用额度截至日期\", \"reference_date\")\n",
    "# update_trans_dict(\"近5年处于逾期状态月数\", \"number_of_months_overdue_in_the_last_5_years\")\n",
    "# update_trans_dict(\"逾期超过90天月数\", \"number_of_months_overdue_for_more_than_90_days\")\n",
    "# update_trans_dict(\"发卡机构\", \"card_issuer\")\n",
    "# update_trans_dict(\"发卡日期\", \"card_issue_date\")"
   ]
  },
  {
   "cell_type": "markdown",
   "id": "4f692e42-1e05-4327-a344-89b94433a6b1",
   "metadata": {},
   "source": [
    "#### == 提取方案"
   ]
  },
  {
   "cell_type": "markdown",
   "id": "0b97bca6-e092-4106-8878-f57b8cb98a83",
   "metadata": {},
   "source": [
    "1. 文本预处理，手动分割段落\n",
    "1. 人工定义提取关键字段 `djkyq_schema`\n",
    "   - 待补充 （请业务人员给出建议）\n",
    "2. paddleNLP taskflow information extraction 用小模型进行字段信息抽取\n",
    "3. 后续人工用规则矫正\n",
    "    - 详见下文 `人工修正函数`\n",
    "    - !! 待补充（请测试/业务人员给出建议）\n",
    "    "
   ]
  },
  {
   "cell_type": "markdown",
   "id": "d5cc76da-b96b-4692-95d5-e85cd1aed933",
   "metadata": {},
   "source": [
    "#### == 案例执行结果"
   ]
  },
  {
   "cell_type": "markdown",
   "id": "e920691b-92e5-4d13-abc7-02343cb349c3",
   "metadata": {},
   "source": [
    "------------------------------ 模型抽取 ----------------------------------"
   ]
  },
  {
   "cell_type": "code",
   "execution_count": 107,
   "id": "c7795598-05c8-4f49-919a-7e6095dc394b",
   "metadata": {},
   "outputs": [
    {
     "name": "stderr",
     "output_type": "stream",
     "text": [
      "\u001b[32m[2024-08-27 19:12:41,669] [    INFO]\u001b[0m - We are using <class 'paddlenlp.transformers.ernie.tokenizer.ErnieTokenizer'> to load 'C:\\Users\\0049004320\\.paddlenlp\\taskflow\\information_extraction\\uie-base'.\u001b[0m\n"
     ]
    }
   ],
   "source": [
    "\"\"\" 加载信息抽取模型 \"\"\"\n",
    "## 默认uie_base\n",
    "djkyq_ie = Taskflow('information_extraction', schema=djkyq_schema)  # 贷记卡逾期"
   ]
  },
  {
   "cell_type": "code",
   "execution_count": 105,
   "id": "b5dc8d49-2b33-4961-a955-8c42880a201f",
   "metadata": {},
   "outputs": [
    {
     "name": "stdout",
     "output_type": "stream",
     "text": [
      "2004 年 8 月 30 日中国建设银行北京分行发放的贷记卡（人民币账户，卡片尾号：0001）。截至 2010 年 10 月，信用额度10,000，已变成呆账，余额500。\n"
     ]
    },
    {
     "data": {
      "text/plain": [
       "{'发卡日期': '2004 年 8 月 30 日',\n",
       " '发卡机构': '中国建设银行北京分行',\n",
       " '账户币种': '人民币',\n",
       " '卡片尾号': '0001',\n",
       " '销户日期': None,\n",
       " '信用额度截至日期': '2010 年 10 月',\n",
       " '信用额度': '10,000',\n",
       " '是否变成呆账': None,\n",
       " '呆账余额': '500',\n",
       " '当前有无逾期': None,\n",
       " '近5年处于逾期状态月数': None,\n",
       " '逾期超过90天月数': None}"
      ]
     },
     "execution_count": 105,
     "metadata": {},
     "output_type": "execute_result"
    }
   ],
   "source": [
    "print(case_1)\n",
    "result_1 = extract_info_from_taskflow(task=djkyq_ie, case=case_1, schema=djkyq_schema)\n",
    "result_1"
   ]
  },
  {
   "cell_type": "markdown",
   "id": "7d713d31-7cb0-408d-8ffb-d2353b8fe1a7",
   "metadata": {},
   "source": [
    "- 无法识别`是否变成呆账`"
   ]
  },
  {
   "cell_type": "code",
   "execution_count": 101,
   "id": "3ac91d67-dea5-4f19-ab30-d1430101b8a3",
   "metadata": {},
   "outputs": [
    {
     "name": "stdout",
     "output_type": "stream",
     "text": [
      "2004年8月30日中国工商银行北京分行发放的贷记卡（人民币账户，卡片尾号：0002）。截至2016年7月，信用额度50,000，余额5,000（含未出单的大额专项分期余额4,000），当前有逾期。最近5年内有11个月处于逾期状态，其中5个月逾期超过90天。\n"
     ]
    },
    {
     "data": {
      "text/plain": [
       "{'发卡日期': '2004年8月30日',\n",
       " '发卡机构': '中国工商银行北京分行',\n",
       " '账户币种': '人民币',\n",
       " '卡片尾号': '0002',\n",
       " '销户日期': None,\n",
       " '信用额度截至日期': '2016年7月',\n",
       " '信用额度': '50,000',\n",
       " '是否变成呆账': None,\n",
       " '呆账余额': '5,000',\n",
       " '当前有无逾期': None,\n",
       " '近5年处于逾期状态月数': '11个月',\n",
       " '逾期超过90天月数': None}"
      ]
     },
     "execution_count": 101,
     "metadata": {},
     "output_type": "execute_result"
    }
   ],
   "source": [
    "print(case_2)\n",
    "result_2 = extract_info_from_taskflow(task=djkyq_ie, case=case_2, schema=djkyq_schema)\n",
    "result_2"
   ]
  },
  {
   "cell_type": "code",
   "execution_count": 106,
   "id": "7ea1e4ea-e2b7-4124-9b8f-28ce69b4a6e6",
   "metadata": {},
   "outputs": [
    {
     "name": "stdout",
     "output_type": "stream",
     "text": [
      "2.1. 2004 年 8 月 30 日中国工商银行北京分行发放的贷记卡（人民币账户，卡片尾号：0002）。截至 2016 年 7 月，信用额度 50,000，余额 5,000（含未出单的大额专项分期余额 4,000），当前有逾期。最近 6 年内有 11 个月处于逾期状态，其中 5 个月逾期超过 80 天。\n"
     ]
    },
    {
     "data": {
      "text/plain": [
       "{'发卡日期': '2004 年 8 月 30 日',\n",
       " '发卡机构': '中国工商银行北京分行',\n",
       " '账户币种': '人民币',\n",
       " '卡片尾号': '0002',\n",
       " '销户日期': None,\n",
       " '信用额度截至日期': '2016 年 7 月',\n",
       " '信用额度': '50,000',\n",
       " '是否变成呆账': None,\n",
       " '呆账余额': '5,000',\n",
       " '当前有无逾期': None,\n",
       " '近5年处于逾期状态月数': '11 个月',\n",
       " '逾期超过90天月数': '5 个月'}"
      ]
     },
     "execution_count": 106,
     "metadata": {},
     "output_type": "execute_result"
    }
   ],
   "source": [
    "case_2_1 = \"2.1. 2004 年 8 月 30 日中国工商银行北京分行发放的贷记卡（人民币账户，卡片尾号：0002）。截至 2016 年 7 月，信用额度 50,000，余额 5,000（含未出单的大额专项分期余额 4,000），当前有逾期。最近 6 年内有 11 个月处于逾期状态，其中 5 个月逾期超过 80 天。\"\n",
    "print(case_2_1)\n",
    "result_2_1 = extract_info_from_taskflow(task=djkyq_ie, case=case_2_1, schema=djkyq_schema)\n",
    "result_2_1"
   ]
  },
  {
   "cell_type": "markdown",
   "id": "162eb382-b9c0-4843-b0c3-d84e99992f63",
   "metadata": {},
   "source": [
    "- 识别错误（数据内改 `5年` 为 `6年`，改 `90天` 为 `80天`）"
   ]
  },
  {
   "cell_type": "code",
   "execution_count": 102,
   "id": "224e3597-b72a-4ae7-aedf-4763f2e0e039",
   "metadata": {
    "scrolled": true
   },
   "outputs": [
    {
     "name": "stdout",
     "output_type": "stream",
     "text": [
      "2010年4月1日中国民生银行信用卡中心发放的贷记卡（人民币账户，卡片尾号：0003），2015年12月销户。最近5年内有7个月处于逾期状态，其中3个月逾期超过90天。2014年3月，该机构声明：该客户委托XX公司偿还贷款，因开发公司不按时还款导致出现多次逾期。\n"
     ]
    },
    {
     "data": {
      "text/plain": [
       "{'发卡日期': '2010年4月1日',\n",
       " '发卡机构': '中国民生银行信用卡中心',\n",
       " '账户币种': '人民币',\n",
       " '卡片尾号': '0003',\n",
       " '销户日期': '2015年12月',\n",
       " '信用额度截至日期': None,\n",
       " '信用额度': None,\n",
       " '是否变成呆账': None,\n",
       " '呆账余额': None,\n",
       " '当前有无逾期': None,\n",
       " '近5年处于逾期状态月数': '7个月',\n",
       " '逾期超过90天月数': '3个月'}"
      ]
     },
     "execution_count": 102,
     "metadata": {},
     "output_type": "execute_result"
    }
   ],
   "source": [
    "print(case_3)\n",
    "result_3 = extract_info_from_taskflow(task=djkyq_ie, case=case_3, schema=djkyq_schema)\n",
    "result_3"
   ]
  },
  {
   "cell_type": "markdown",
   "id": "a65af2dc-1c55-491f-bab8-b2211a07df44",
   "metadata": {},
   "source": [
    "--------------------------------- 人工矫正 -------------------------------"
   ]
  },
  {
   "cell_type": "code",
   "execution_count": 103,
   "id": "b0604326-d66f-4179-be0e-16fdb9200e73",
   "metadata": {},
   "outputs": [],
   "source": [
    "\"\"\" 定义人工修正函数 \"\"\"\n",
    "def djkyq_result_fixing(case, result):\n",
    "    '''\n",
    "    修正逻辑：\n",
    "        1. 无法识别`'是否变成呆账'`:\n",
    "            若含有 `呆账`, 则改对应值为 `是`\n",
    "        2. 逾期状态识别不一定精确识别原文数字改动：\n",
    "            若不含有`近5年内`, 则改`'近5年处于逾期状态月数'`对应值为`None`\n",
    "            若不含有`超过90天`, 则改`'逾期超过90天月数'`对应值为`None`\n",
    "        3. ...\n",
    "    '''\n",
    "    case = case.replace(\" \", \"\")  ## 删空格\n",
    "    \n",
    "    if '呆账' in case:\n",
    "        result[\"是否变成呆账\"] = '是'\n",
    "\n",
    "    if '近5年内' not in case:\n",
    "        result[\"近5年处于逾期状态月数\"] = None\n",
    "    if '超过90天' not in case:\n",
    "        result[\"逾期超过90天月数\"] = None\n",
    "        \n",
    "    return result"
   ]
  },
  {
   "cell_type": "code",
   "execution_count": 108,
   "id": "a3e88793-39c2-4903-930b-a8f11e895591",
   "metadata": {},
   "outputs": [],
   "source": [
    "## 矫正\n",
    "result_1 = djkyq_result_fixing(case=case_1, result=result_1)\n",
    "\n",
    "result_2 = djkyq_result_fixing(case=case_2, result=result_2)\n",
    "\n",
    "result_2_1 = djkyq_result_fixing(case=case_2_1, result=result_2_1)\n",
    "\n",
    "result_3 = djkyq_result_fixing(case=case_3, result=result_3)"
   ]
  },
  {
   "cell_type": "markdown",
   "id": "8b59e676-dada-4c7b-9192-a510c56a6eeb",
   "metadata": {},
   "source": [
    "------------------------------ 最终效果展示 -----------------------------"
   ]
  },
  {
   "cell_type": "code",
   "execution_count": 109,
   "id": "b50d272e-8cf7-44bc-9b60-9265ff651f63",
   "metadata": {},
   "outputs": [
    {
     "name": "stdout",
     "output_type": "stream",
     "text": [
      "--------------\n",
      "2004 年 8 月 30 日中国建设银行北京分行发放的贷记卡（人民币账户，卡片尾号：0001）。截至 2010 年 10 月，信用额度10,000，已变成呆账，余额500。\n"
     ]
    },
    {
     "data": {
      "text/html": [
       "<div>\n",
       "<style scoped>\n",
       "    .dataframe tbody tr th:only-of-type {\n",
       "        vertical-align: middle;\n",
       "    }\n",
       "\n",
       "    .dataframe tbody tr th {\n",
       "        vertical-align: top;\n",
       "    }\n",
       "\n",
       "    .dataframe thead th {\n",
       "        text-align: right;\n",
       "    }\n",
       "</style>\n",
       "<table border=\"1\" class=\"dataframe\">\n",
       "  <thead>\n",
       "    <tr style=\"text-align: right;\">\n",
       "      <th></th>\n",
       "      <th>key</th>\n",
       "      <th>value</th>\n",
       "    </tr>\n",
       "  </thead>\n",
       "  <tbody>\n",
       "    <tr>\n",
       "      <th>0</th>\n",
       "      <td>card_issue_date</td>\n",
       "      <td>2004 年 8 月 30 日</td>\n",
       "    </tr>\n",
       "    <tr>\n",
       "      <th>1</th>\n",
       "      <td>card_issuer</td>\n",
       "      <td>中国建设银行北京分行</td>\n",
       "    </tr>\n",
       "    <tr>\n",
       "      <th>2</th>\n",
       "      <td>account_currency</td>\n",
       "      <td>人民币</td>\n",
       "    </tr>\n",
       "    <tr>\n",
       "      <th>3</th>\n",
       "      <td>card_suffix</td>\n",
       "      <td>0001</td>\n",
       "    </tr>\n",
       "    <tr>\n",
       "      <th>4</th>\n",
       "      <td>account_canceling_date</td>\n",
       "      <td>None</td>\n",
       "    </tr>\n",
       "    <tr>\n",
       "      <th>5</th>\n",
       "      <td>reference_date</td>\n",
       "      <td>2010 年 10 月</td>\n",
       "    </tr>\n",
       "    <tr>\n",
       "      <th>6</th>\n",
       "      <td>credit_limit</td>\n",
       "      <td>10,000</td>\n",
       "    </tr>\n",
       "    <tr>\n",
       "      <th>7</th>\n",
       "      <td>whether_it_turns_into_bad_debts</td>\n",
       "      <td>是</td>\n",
       "    </tr>\n",
       "    <tr>\n",
       "      <th>8</th>\n",
       "      <td>bad_debt_balance</td>\n",
       "      <td>500</td>\n",
       "    </tr>\n",
       "    <tr>\n",
       "      <th>9</th>\n",
       "      <td>is_currently_overdue</td>\n",
       "      <td>None</td>\n",
       "    </tr>\n",
       "    <tr>\n",
       "      <th>10</th>\n",
       "      <td>number_of_months_overdue_in_the_last_5_years</td>\n",
       "      <td>None</td>\n",
       "    </tr>\n",
       "    <tr>\n",
       "      <th>11</th>\n",
       "      <td>number_of_months_overdue_for_more_than_90_days</td>\n",
       "      <td>None</td>\n",
       "    </tr>\n",
       "  </tbody>\n",
       "</table>\n",
       "</div>"
      ],
      "text/plain": [
       "                                               key            value\n",
       "0                                  card_issue_date  2004 年 8 月 30 日\n",
       "1                                      card_issuer       中国建设银行北京分行\n",
       "2                                 account_currency              人民币\n",
       "3                                      card_suffix             0001\n",
       "4                           account_canceling_date             None\n",
       "5                                   reference_date      2010 年 10 月\n",
       "6                                     credit_limit           10,000\n",
       "7                  whether_it_turns_into_bad_debts                是\n",
       "8                                 bad_debt_balance              500\n",
       "9                             is_currently_overdue             None\n",
       "10    number_of_months_overdue_in_the_last_5_years             None\n",
       "11  number_of_months_overdue_for_more_than_90_days             None"
      ]
     },
     "metadata": {},
     "output_type": "display_data"
    },
    {
     "name": "stdout",
     "output_type": "stream",
     "text": [
      "--------------\n",
      "2004年8月30日中国工商银行北京分行发放的贷记卡（人民币账户，卡片尾号：0002）。截至2016年7月，信用额度50,000，余额5,000（含未出单的大额专项分期余额4,000），当前有逾期。最近5年内有11个月处于逾期状态，其中5个月逾期超过90天。\n"
     ]
    },
    {
     "data": {
      "text/html": [
       "<div>\n",
       "<style scoped>\n",
       "    .dataframe tbody tr th:only-of-type {\n",
       "        vertical-align: middle;\n",
       "    }\n",
       "\n",
       "    .dataframe tbody tr th {\n",
       "        vertical-align: top;\n",
       "    }\n",
       "\n",
       "    .dataframe thead th {\n",
       "        text-align: right;\n",
       "    }\n",
       "</style>\n",
       "<table border=\"1\" class=\"dataframe\">\n",
       "  <thead>\n",
       "    <tr style=\"text-align: right;\">\n",
       "      <th></th>\n",
       "      <th>key</th>\n",
       "      <th>value</th>\n",
       "    </tr>\n",
       "  </thead>\n",
       "  <tbody>\n",
       "    <tr>\n",
       "      <th>0</th>\n",
       "      <td>card_issue_date</td>\n",
       "      <td>2004年8月30日</td>\n",
       "    </tr>\n",
       "    <tr>\n",
       "      <th>1</th>\n",
       "      <td>card_issuer</td>\n",
       "      <td>中国工商银行北京分行</td>\n",
       "    </tr>\n",
       "    <tr>\n",
       "      <th>2</th>\n",
       "      <td>account_currency</td>\n",
       "      <td>人民币</td>\n",
       "    </tr>\n",
       "    <tr>\n",
       "      <th>3</th>\n",
       "      <td>card_suffix</td>\n",
       "      <td>0002</td>\n",
       "    </tr>\n",
       "    <tr>\n",
       "      <th>4</th>\n",
       "      <td>account_canceling_date</td>\n",
       "      <td>None</td>\n",
       "    </tr>\n",
       "    <tr>\n",
       "      <th>5</th>\n",
       "      <td>reference_date</td>\n",
       "      <td>2016年7月</td>\n",
       "    </tr>\n",
       "    <tr>\n",
       "      <th>6</th>\n",
       "      <td>credit_limit</td>\n",
       "      <td>50,000</td>\n",
       "    </tr>\n",
       "    <tr>\n",
       "      <th>7</th>\n",
       "      <td>whether_it_turns_into_bad_debts</td>\n",
       "      <td>None</td>\n",
       "    </tr>\n",
       "    <tr>\n",
       "      <th>8</th>\n",
       "      <td>bad_debt_balance</td>\n",
       "      <td>5,000</td>\n",
       "    </tr>\n",
       "    <tr>\n",
       "      <th>9</th>\n",
       "      <td>is_currently_overdue</td>\n",
       "      <td>None</td>\n",
       "    </tr>\n",
       "    <tr>\n",
       "      <th>10</th>\n",
       "      <td>number_of_months_overdue_in_the_last_5_years</td>\n",
       "      <td>11个月</td>\n",
       "    </tr>\n",
       "    <tr>\n",
       "      <th>11</th>\n",
       "      <td>number_of_months_overdue_for_more_than_90_days</td>\n",
       "      <td>None</td>\n",
       "    </tr>\n",
       "  </tbody>\n",
       "</table>\n",
       "</div>"
      ],
      "text/plain": [
       "                                               key       value\n",
       "0                                  card_issue_date  2004年8月30日\n",
       "1                                      card_issuer  中国工商银行北京分行\n",
       "2                                 account_currency         人民币\n",
       "3                                      card_suffix        0002\n",
       "4                           account_canceling_date        None\n",
       "5                                   reference_date     2016年7月\n",
       "6                                     credit_limit      50,000\n",
       "7                  whether_it_turns_into_bad_debts        None\n",
       "8                                 bad_debt_balance       5,000\n",
       "9                             is_currently_overdue        None\n",
       "10    number_of_months_overdue_in_the_last_5_years        11个月\n",
       "11  number_of_months_overdue_for_more_than_90_days        None"
      ]
     },
     "metadata": {},
     "output_type": "display_data"
    },
    {
     "name": "stdout",
     "output_type": "stream",
     "text": [
      "--------------\n",
      "2.1. 2004 年 8 月 30 日中国工商银行北京分行发放的贷记卡（人民币账户，卡片尾号：0002）。截至 2016 年 7 月，信用额度 50,000，余额 5,000（含未出单的大额专项分期余额 4,000），当前有逾期。最近 6 年内有 11 个月处于逾期状态，其中 5 个月逾期超过 80 天。\n"
     ]
    },
    {
     "data": {
      "text/html": [
       "<div>\n",
       "<style scoped>\n",
       "    .dataframe tbody tr th:only-of-type {\n",
       "        vertical-align: middle;\n",
       "    }\n",
       "\n",
       "    .dataframe tbody tr th {\n",
       "        vertical-align: top;\n",
       "    }\n",
       "\n",
       "    .dataframe thead th {\n",
       "        text-align: right;\n",
       "    }\n",
       "</style>\n",
       "<table border=\"1\" class=\"dataframe\">\n",
       "  <thead>\n",
       "    <tr style=\"text-align: right;\">\n",
       "      <th></th>\n",
       "      <th>key</th>\n",
       "      <th>value</th>\n",
       "    </tr>\n",
       "  </thead>\n",
       "  <tbody>\n",
       "    <tr>\n",
       "      <th>0</th>\n",
       "      <td>card_issue_date</td>\n",
       "      <td>2004 年 8 月 30 日</td>\n",
       "    </tr>\n",
       "    <tr>\n",
       "      <th>1</th>\n",
       "      <td>card_issuer</td>\n",
       "      <td>中国工商银行北京分行</td>\n",
       "    </tr>\n",
       "    <tr>\n",
       "      <th>2</th>\n",
       "      <td>account_currency</td>\n",
       "      <td>人民币</td>\n",
       "    </tr>\n",
       "    <tr>\n",
       "      <th>3</th>\n",
       "      <td>card_suffix</td>\n",
       "      <td>0002</td>\n",
       "    </tr>\n",
       "    <tr>\n",
       "      <th>4</th>\n",
       "      <td>account_canceling_date</td>\n",
       "      <td>None</td>\n",
       "    </tr>\n",
       "    <tr>\n",
       "      <th>5</th>\n",
       "      <td>reference_date</td>\n",
       "      <td>2016 年 7 月</td>\n",
       "    </tr>\n",
       "    <tr>\n",
       "      <th>6</th>\n",
       "      <td>credit_limit</td>\n",
       "      <td>50,000</td>\n",
       "    </tr>\n",
       "    <tr>\n",
       "      <th>7</th>\n",
       "      <td>whether_it_turns_into_bad_debts</td>\n",
       "      <td>None</td>\n",
       "    </tr>\n",
       "    <tr>\n",
       "      <th>8</th>\n",
       "      <td>bad_debt_balance</td>\n",
       "      <td>5,000</td>\n",
       "    </tr>\n",
       "    <tr>\n",
       "      <th>9</th>\n",
       "      <td>is_currently_overdue</td>\n",
       "      <td>None</td>\n",
       "    </tr>\n",
       "    <tr>\n",
       "      <th>10</th>\n",
       "      <td>number_of_months_overdue_in_the_last_5_years</td>\n",
       "      <td>None</td>\n",
       "    </tr>\n",
       "    <tr>\n",
       "      <th>11</th>\n",
       "      <td>number_of_months_overdue_for_more_than_90_days</td>\n",
       "      <td>None</td>\n",
       "    </tr>\n",
       "  </tbody>\n",
       "</table>\n",
       "</div>"
      ],
      "text/plain": [
       "                                               key            value\n",
       "0                                  card_issue_date  2004 年 8 月 30 日\n",
       "1                                      card_issuer       中国工商银行北京分行\n",
       "2                                 account_currency              人民币\n",
       "3                                      card_suffix             0002\n",
       "4                           account_canceling_date             None\n",
       "5                                   reference_date       2016 年 7 月\n",
       "6                                     credit_limit           50,000\n",
       "7                  whether_it_turns_into_bad_debts             None\n",
       "8                                 bad_debt_balance            5,000\n",
       "9                             is_currently_overdue             None\n",
       "10    number_of_months_overdue_in_the_last_5_years             None\n",
       "11  number_of_months_overdue_for_more_than_90_days             None"
      ]
     },
     "metadata": {},
     "output_type": "display_data"
    },
    {
     "name": "stdout",
     "output_type": "stream",
     "text": [
      "--------------\n",
      "2010年4月1日中国民生银行信用卡中心发放的贷记卡（人民币账户，卡片尾号：0003），2015年12月销户。最近5年内有7个月处于逾期状态，其中3个月逾期超过90天。2014年3月，该机构声明：该客户委托XX公司偿还贷款，因开发公司不按时还款导致出现多次逾期。\n"
     ]
    },
    {
     "data": {
      "text/html": [
       "<div>\n",
       "<style scoped>\n",
       "    .dataframe tbody tr th:only-of-type {\n",
       "        vertical-align: middle;\n",
       "    }\n",
       "\n",
       "    .dataframe tbody tr th {\n",
       "        vertical-align: top;\n",
       "    }\n",
       "\n",
       "    .dataframe thead th {\n",
       "        text-align: right;\n",
       "    }\n",
       "</style>\n",
       "<table border=\"1\" class=\"dataframe\">\n",
       "  <thead>\n",
       "    <tr style=\"text-align: right;\">\n",
       "      <th></th>\n",
       "      <th>key</th>\n",
       "      <th>value</th>\n",
       "    </tr>\n",
       "  </thead>\n",
       "  <tbody>\n",
       "    <tr>\n",
       "      <th>0</th>\n",
       "      <td>card_issue_date</td>\n",
       "      <td>2010年4月1日</td>\n",
       "    </tr>\n",
       "    <tr>\n",
       "      <th>1</th>\n",
       "      <td>card_issuer</td>\n",
       "      <td>中国民生银行信用卡中心</td>\n",
       "    </tr>\n",
       "    <tr>\n",
       "      <th>2</th>\n",
       "      <td>account_currency</td>\n",
       "      <td>人民币</td>\n",
       "    </tr>\n",
       "    <tr>\n",
       "      <th>3</th>\n",
       "      <td>card_suffix</td>\n",
       "      <td>0003</td>\n",
       "    </tr>\n",
       "    <tr>\n",
       "      <th>4</th>\n",
       "      <td>account_canceling_date</td>\n",
       "      <td>2015年12月</td>\n",
       "    </tr>\n",
       "    <tr>\n",
       "      <th>5</th>\n",
       "      <td>reference_date</td>\n",
       "      <td>None</td>\n",
       "    </tr>\n",
       "    <tr>\n",
       "      <th>6</th>\n",
       "      <td>credit_limit</td>\n",
       "      <td>None</td>\n",
       "    </tr>\n",
       "    <tr>\n",
       "      <th>7</th>\n",
       "      <td>whether_it_turns_into_bad_debts</td>\n",
       "      <td>None</td>\n",
       "    </tr>\n",
       "    <tr>\n",
       "      <th>8</th>\n",
       "      <td>bad_debt_balance</td>\n",
       "      <td>None</td>\n",
       "    </tr>\n",
       "    <tr>\n",
       "      <th>9</th>\n",
       "      <td>is_currently_overdue</td>\n",
       "      <td>None</td>\n",
       "    </tr>\n",
       "    <tr>\n",
       "      <th>10</th>\n",
       "      <td>number_of_months_overdue_in_the_last_5_years</td>\n",
       "      <td>7个月</td>\n",
       "    </tr>\n",
       "    <tr>\n",
       "      <th>11</th>\n",
       "      <td>number_of_months_overdue_for_more_than_90_days</td>\n",
       "      <td>3个月</td>\n",
       "    </tr>\n",
       "  </tbody>\n",
       "</table>\n",
       "</div>"
      ],
      "text/plain": [
       "                                               key        value\n",
       "0                                  card_issue_date    2010年4月1日\n",
       "1                                      card_issuer  中国民生银行信用卡中心\n",
       "2                                 account_currency          人民币\n",
       "3                                      card_suffix         0003\n",
       "4                           account_canceling_date     2015年12月\n",
       "5                                   reference_date         None\n",
       "6                                     credit_limit         None\n",
       "7                  whether_it_turns_into_bad_debts         None\n",
       "8                                 bad_debt_balance         None\n",
       "9                             is_currently_overdue         None\n",
       "10    number_of_months_overdue_in_the_last_5_years          7个月\n",
       "11  number_of_months_overdue_for_more_than_90_days          3个月"
      ]
     },
     "metadata": {},
     "output_type": "display_data"
    }
   ],
   "source": [
    "pd.set_option('display.max_columns', None)\n",
    "pd.set_option('display.max_rows', None)\n",
    "\n",
    "cases = [case_1, case_2, case_2_1, case_3]\n",
    "results = [result_1, result_2, result_2_1, result_3]\n",
    "for i in range(len(cases)):\n",
    "    print(\"--------------\")\n",
    "    print(cases[i])\n",
    "    result = {key_2_English(k):v for k,v in results[i].items()}\n",
    "    display(pd.DataFrame(list(result.items()), columns=['key', 'value']))"
   ]
  },
  {
   "cell_type": "markdown",
   "id": "b48adbdb-2346-4f65-beea-930a15bab0a6",
   "metadata": {},
   "source": [
    "#### == 备注"
   ]
  },
  {
   "cell_type": "markdown",
   "id": "49e9ec33-098a-472e-9bc4-548f9a385f50",
   "metadata": {},
   "source": [
    "1. 已忽略最后一行 `2014 年 3 月，该机构声明：该客户委托 XX 公司偿还贷款，因开发公司不按时还款导致出现多次逾期。`\n",
    "   - （处理逻辑是啥，会有别的类似内容吗）\n",
    "2. 已忽略 `case_2` 中 `（含未出单的大额专项分期余额 4,000）`\n",
    "   - （处理逻辑是啥，会有别的括号内容吗）\n",
    "3. !!! `确定关键字段` 和 `手工矫正` 部分需要专业人员进行补充改正\n",
    "4. 英文翻译需业务人员矫正\n",
    "5. 操作细节需根据ocr返回结果调整"
   ]
  },
  {
   "cell_type": "markdown",
   "id": "33ea7388-8c9d-449d-8833-ce02cad150b7",
   "metadata": {},
   "source": [
    "### 透支超过 60 天的准贷记卡账户明细如下：\n",
    "略"
   ]
  },
  {
   "cell_type": "markdown",
   "id": "c6503d8b-0fae-4d6f-8a20-f889ee57549d",
   "metadata": {},
   "source": [
    "### 从未逾期过的贷记卡及透支未超过 60 天的准贷记卡账户明细如下：\n",
    "略"
   ]
  },
  {
   "cell_type": "markdown",
   "id": "69da3f66-e386-4ac3-b885-df899537863d",
   "metadata": {},
   "source": [
    "## 贷款"
   ]
  },
  {
   "cell_type": "markdown",
   "id": "e5e3af40-c54a-4aba-a5b9-66305ea28f35",
   "metadata": {},
   "source": [
    "### 发生过逾期的账户明细如下：\n",
    "略"
   ]
  },
  {
   "cell_type": "markdown",
   "id": "a67786ad-4424-4441-a1dc-e2db6c3e1719",
   "metadata": {},
   "source": [
    "## 其他业务"
   ]
  },
  {
   "cell_type": "markdown",
   "id": "f0e83008-36d2-46a6-9977-561acbec1213",
   "metadata": {},
   "source": [
    "### 发生过逾期的账户明细如下：\n",
    "略"
   ]
  },
  {
   "cell_type": "markdown",
   "id": "42c71f73-616b-4723-8281-0de48986c70d",
   "metadata": {},
   "source": [
    "## 相关还款责任信息\n",
    "略"
   ]
  },
  {
   "cell_type": "markdown",
   "id": "91a055fa-7015-4de1-8843-4ad28d9fd709",
   "metadata": {},
   "source": [
    "# 非信贷交易记录"
   ]
  },
  {
   "cell_type": "markdown",
   "id": "d71c7121-dc40-4fc5-84b3-174214ba0997",
   "metadata": {},
   "source": [
    "```json\n",
    "{\n",
    "        'header-2':{\n",
    "        'header-name':'非信贷交易记录',\n",
    "        'content':'这部分包含您最近 5 年内的非信贷交易记录。金额类数据均以人民币计算，精确到元。'\n",
    "        'section':{\n",
    "            'header-2-0':{...},\n",
    "            'header-2-1':{...},\n",
    "            ...\n",
    "        }\n",
    "    },\n",
    "}\n",
    "```"
   ]
  },
  {
   "cell_type": "markdown",
   "id": "b1a0a090-9fbb-4e92-9ee6-ee7dd36ea676",
   "metadata": {},
   "source": [
    "## 后付费记录"
   ]
  },
  {
   "cell_type": "markdown",
   "id": "fc3fa2f4-e29e-41bb-92a8-eaade76f6084",
   "metadata": {},
   "source": [
    "### == 内容样例"
   ]
  },
  {
   "cell_type": "markdown",
   "id": "eecdeab2-baeb-48f3-9952-562c261f56b0",
   "metadata": {},
   "source": [
    "![后付费记录](4_简版方案/后付费记录.png)"
   ]
  },
  {
   "cell_type": "code",
   "execution_count": 121,
   "id": "d92ad5e5-fde3-42c3-998f-d618b041a921",
   "metadata": {},
   "outputs": [
    {
     "data": {
      "text/plain": [
       "[['机构名称：中国电信北京分公司', '业务类型：固定电话后付费', '记账年月：2016年7月'],\n",
       " ['业务开通日期：2012年6月28日', '当前缴费状态：欠费', '当前欠费金额：550'],\n",
       " ['机构名称：中国移动北京分公司', '业务类型：移动电话后付费', '记账年月：2016年6月'],\n",
       " ['业务开通日期：2013年1月31日', '当前缴费状态：正常', '当前欠费金额：0'],\n",
       " ['机构名称：北京自来水公司', '业务类型：自来水费', '记账年月：2016年6月'],\n",
       " ['业务开通日期：2014年1月31日', '当前缴费状态：正常', '当前欠费金额：0']]"
      ]
     },
     "execution_count": 121,
     "metadata": {},
     "output_type": "execute_result"
    }
   ],
   "source": [
    "hffjl_data = []\n",
    "hffjl_data.append(['机构名称：中国电信北京分公司', '业务类型：固定电话后付费', '记账年月：2016年7月'])\n",
    "hffjl_data.append(['业务开通日期：2012年6月28日', '当前缴费状态：欠费', '当前欠费金额：550'])\n",
    "hffjl_data.append(['机构名称：中国移动北京分公司', '业务类型：移动电话后付费', '记账年月：2016年6月'])\n",
    "hffjl_data.append(['业务开通日期：2013年1月31日', '当前缴费状态：正常', '当前欠费金额：0'])\n",
    "hffjl_data.append(['机构名称：北京自来水公司', '业务类型：自来水费', '记账年月：2016年6月'])\n",
    "hffjl_data.append(['业务开通日期：2014年1月31日', '当前缴费状态：正常', '当前欠费金额：0'])\n",
    "hffjl_data"
   ]
  },
  {
   "cell_type": "code",
   "execution_count": 124,
   "id": "3864a262-bff0-466e-b770-54fe82acd474",
   "metadata": {},
   "outputs": [
    {
     "data": {
      "text/plain": [
       "[['机构名称：中国电信北京分公司',\n",
       "  '业务类型：固定电话后付费',\n",
       "  '记账年月：2016年7月',\n",
       "  '业务开通日期：2012年6月28日',\n",
       "  '当前缴费状态：欠费',\n",
       "  '当前欠费金额：550',\n",
       "  '业务开通日期：2012年6月28日',\n",
       "  '当前缴费状态：欠费',\n",
       "  '当前欠费金额：550',\n",
       "  '业务开通日期：2012年6月28日',\n",
       "  '当前缴费状态：欠费',\n",
       "  '当前欠费金额：550'],\n",
       " ['机构名称：中国移动北京分公司',\n",
       "  '业务类型：移动电话后付费',\n",
       "  '记账年月：2016年6月',\n",
       "  '业务开通日期：2013年1月31日',\n",
       "  '当前缴费状态：正常',\n",
       "  '当前欠费金额：0',\n",
       "  '业务开通日期：2013年1月31日',\n",
       "  '当前缴费状态：正常',\n",
       "  '当前欠费金额：0',\n",
       "  '业务开通日期：2013年1月31日',\n",
       "  '当前缴费状态：正常',\n",
       "  '当前欠费金额：0'],\n",
       " ['机构名称：北京自来水公司',\n",
       "  '业务类型：自来水费',\n",
       "  '记账年月：2016年6月',\n",
       "  '业务开通日期：2014年1月31日',\n",
       "  '当前缴费状态：正常',\n",
       "  '当前欠费金额：0',\n",
       "  '业务开通日期：2014年1月31日',\n",
       "  '当前缴费状态：正常',\n",
       "  '当前欠费金额：0',\n",
       "  '业务开通日期：2014年1月31日',\n",
       "  '当前缴费状态：正常',\n",
       "  '当前欠费金额：0']]"
      ]
     },
     "execution_count": 124,
     "metadata": {},
     "output_type": "execute_result"
    }
   ],
   "source": [
    "\"\"\" 预处理分割data \"\"\"\n",
    "def hffjl_split_cases(data):  ## 后付费记录\n",
    "    cases = []\n",
    "    n_line_split = 2\n",
    "    for i in range(len(data)):\n",
    "        if i % n_line_split == 0:\n",
    "            cases.append(data[i])\n",
    "        else:\n",
    "            cases[-1].extend(data[i])\n",
    "    return cases\n",
    "\n",
    "hffjl_cases = hffjl_split_cases(data=hffjl_data)\n",
    "hffjl_cases"
   ]
  },
  {
   "cell_type": "markdown",
   "id": "2f1c621b-2c3e-420a-acdd-40ea6e370ccc",
   "metadata": {},
   "source": [
    "### == 预期提取效果"
   ]
  },
  {
   "cell_type": "markdown",
   "id": "10107543-ea34-4397-a5ec-0f02750f7056",
   "metadata": {},
   "source": [
    "整体（提取结果存放在字段 `info_extraction`）：\n",
    "```json\n",
    "{\n",
    "    'header-2-0':{\n",
    "        'header-name':'后付费记录',\n",
    "        'content':[ocr返回结果],\n",
    "        'info_extraction':[case_0_info, case_1_info, case_2_info],\n",
    "    }\n",
    "}\n",
    "```\n",
    "`case_i_info` 提取效果如下："
   ]
  },
  {
   "cell_type": "code",
   "execution_count": 135,
   "id": "d94892b1-24c5-41db-a1bc-da0ea564d937",
   "metadata": {},
   "outputs": [
    {
     "data": {
      "text/plain": [
       "{'机构名称': '...',\n",
       " '业务类型': '...',\n",
       " '记账年月': '...',\n",
       " '业务开通日期': '...',\n",
       " '当前缴费状态': '...',\n",
       " '当前欠费金额': '...'}"
      ]
     },
     "execution_count": 135,
     "metadata": {},
     "output_type": "execute_result"
    }
   ],
   "source": [
    "'''\n",
    "此处schema应由规则提取得到，\n",
    "而非人为规定\n",
    "'''\n",
    "hffjl_schema = [\"机构名称\", \"业务类型\", \"记账年月\"]\n",
    "hffjl_schema.extend([\"业务开通日期\", \"当前缴费状态\", \"当前欠费金额\"])\n",
    "\n",
    "case_i_info = {k:'...' for k in hffjl_schema}\n",
    "case_i_info"
   ]
  },
  {
   "cell_type": "markdown",
   "id": "c8c602ec-dadd-41cc-8a24-2b3707ad480d",
   "metadata": {},
   "source": [
    "### == 提取方案"
   ]
  },
  {
   "cell_type": "markdown",
   "id": "343be36c-bbeb-4f18-b7bd-2afcca705c3e",
   "metadata": {},
   "source": [
    "- 手动规则提取\n",
    "    - 先识别出一个一个案例（e.g. 定死两行为一组）\n",
    "    - 键值对抽取：\" \"/\": \"/\":\"进行分割, 前面为key, 后面为value"
   ]
  },
  {
   "cell_type": "markdown",
   "id": "6f2333b2-adb8-4624-907e-d5405fbe3d8e",
   "metadata": {},
   "source": [
    "### == 案例执行结果"
   ]
  },
  {
   "cell_type": "code",
   "execution_count": 133,
   "id": "45d9bacc-76ba-4703-b7b2-f2ff501bfa19",
   "metadata": {},
   "outputs": [],
   "source": [
    "def hffjl_extract_info_from_caselist(cases):\n",
    "    results = []\n",
    "    for case in cases:\n",
    "        result = {}\n",
    "        for k_v in case:\n",
    "            if k_v =='':\n",
    "                continue\n",
    "            k_v = re.sub(r'[:：]', '|', k_v)  ## 冒号分割\n",
    "            k_v = re.split(r'\\|+', k_v)\n",
    "            k = re.sub(r'\\s+', '', k_v[0])  ## 去除空白\n",
    "            v = re.sub(r'\\s+', '', k_v[1])\n",
    "            result[k] = v\n",
    "        results.append(result)\n",
    "    return results\n",
    "\n",
    "hffjl_results = hffjl_extract_info_from_caselist(hffjl_cases)"
   ]
  },
  {
   "cell_type": "code",
   "execution_count": 134,
   "id": "79fec61d-5f71-4966-acb6-3100a50a521a",
   "metadata": {},
   "outputs": [
    {
     "name": "stdout",
     "output_type": "stream",
     "text": [
      "--------------\n",
      "['机构名称：中国电信北京分公司', '业务类型：固定电话后付费', '记账年月：2016年7月', '业务开通日期：2012年6月28日', '当前缴费状态：欠费', '当前欠费金额：550', '业务开通日期：2012年6月28日', '当前缴费状态：欠费', '当前欠费金额：550', '业务开通日期：2012年6月28日', '当前缴费状态：欠费', '当前欠费金额：550']\n"
     ]
    },
    {
     "data": {
      "text/html": [
       "<div>\n",
       "<style scoped>\n",
       "    .dataframe tbody tr th:only-of-type {\n",
       "        vertical-align: middle;\n",
       "    }\n",
       "\n",
       "    .dataframe tbody tr th {\n",
       "        vertical-align: top;\n",
       "    }\n",
       "\n",
       "    .dataframe thead th {\n",
       "        text-align: right;\n",
       "    }\n",
       "</style>\n",
       "<table border=\"1\" class=\"dataframe\">\n",
       "  <thead>\n",
       "    <tr style=\"text-align: right;\">\n",
       "      <th></th>\n",
       "      <th>key</th>\n",
       "      <th>value</th>\n",
       "    </tr>\n",
       "  </thead>\n",
       "  <tbody>\n",
       "    <tr>\n",
       "      <th>0</th>\n",
       "      <td>机构名称</td>\n",
       "      <td>中国电信北京分公司</td>\n",
       "    </tr>\n",
       "    <tr>\n",
       "      <th>1</th>\n",
       "      <td>业务类型</td>\n",
       "      <td>固定电话后付费</td>\n",
       "    </tr>\n",
       "    <tr>\n",
       "      <th>2</th>\n",
       "      <td>记账年月</td>\n",
       "      <td>2016年7月</td>\n",
       "    </tr>\n",
       "    <tr>\n",
       "      <th>3</th>\n",
       "      <td>业务开通日期</td>\n",
       "      <td>2012年6月28日</td>\n",
       "    </tr>\n",
       "    <tr>\n",
       "      <th>4</th>\n",
       "      <td>当前缴费状态</td>\n",
       "      <td>欠费</td>\n",
       "    </tr>\n",
       "    <tr>\n",
       "      <th>5</th>\n",
       "      <td>当前欠费金额</td>\n",
       "      <td>550</td>\n",
       "    </tr>\n",
       "  </tbody>\n",
       "</table>\n",
       "</div>"
      ],
      "text/plain": [
       "      key       value\n",
       "0    机构名称   中国电信北京分公司\n",
       "1    业务类型     固定电话后付费\n",
       "2    记账年月     2016年7月\n",
       "3  业务开通日期  2012年6月28日\n",
       "4  当前缴费状态          欠费\n",
       "5  当前欠费金额         550"
      ]
     },
     "metadata": {},
     "output_type": "display_data"
    },
    {
     "name": "stdout",
     "output_type": "stream",
     "text": [
      "--------------\n",
      "['机构名称：中国移动北京分公司', '业务类型：移动电话后付费', '记账年月：2016年6月', '业务开通日期：2013年1月31日', '当前缴费状态：正常', '当前欠费金额：0', '业务开通日期：2013年1月31日', '当前缴费状态：正常', '当前欠费金额：0', '业务开通日期：2013年1月31日', '当前缴费状态：正常', '当前欠费金额：0']\n"
     ]
    },
    {
     "data": {
      "text/html": [
       "<div>\n",
       "<style scoped>\n",
       "    .dataframe tbody tr th:only-of-type {\n",
       "        vertical-align: middle;\n",
       "    }\n",
       "\n",
       "    .dataframe tbody tr th {\n",
       "        vertical-align: top;\n",
       "    }\n",
       "\n",
       "    .dataframe thead th {\n",
       "        text-align: right;\n",
       "    }\n",
       "</style>\n",
       "<table border=\"1\" class=\"dataframe\">\n",
       "  <thead>\n",
       "    <tr style=\"text-align: right;\">\n",
       "      <th></th>\n",
       "      <th>key</th>\n",
       "      <th>value</th>\n",
       "    </tr>\n",
       "  </thead>\n",
       "  <tbody>\n",
       "    <tr>\n",
       "      <th>0</th>\n",
       "      <td>机构名称</td>\n",
       "      <td>中国移动北京分公司</td>\n",
       "    </tr>\n",
       "    <tr>\n",
       "      <th>1</th>\n",
       "      <td>业务类型</td>\n",
       "      <td>移动电话后付费</td>\n",
       "    </tr>\n",
       "    <tr>\n",
       "      <th>2</th>\n",
       "      <td>记账年月</td>\n",
       "      <td>2016年6月</td>\n",
       "    </tr>\n",
       "    <tr>\n",
       "      <th>3</th>\n",
       "      <td>业务开通日期</td>\n",
       "      <td>2013年1月31日</td>\n",
       "    </tr>\n",
       "    <tr>\n",
       "      <th>4</th>\n",
       "      <td>当前缴费状态</td>\n",
       "      <td>正常</td>\n",
       "    </tr>\n",
       "    <tr>\n",
       "      <th>5</th>\n",
       "      <td>当前欠费金额</td>\n",
       "      <td>0</td>\n",
       "    </tr>\n",
       "  </tbody>\n",
       "</table>\n",
       "</div>"
      ],
      "text/plain": [
       "      key       value\n",
       "0    机构名称   中国移动北京分公司\n",
       "1    业务类型     移动电话后付费\n",
       "2    记账年月     2016年6月\n",
       "3  业务开通日期  2013年1月31日\n",
       "4  当前缴费状态          正常\n",
       "5  当前欠费金额           0"
      ]
     },
     "metadata": {},
     "output_type": "display_data"
    },
    {
     "name": "stdout",
     "output_type": "stream",
     "text": [
      "--------------\n",
      "['机构名称：北京自来水公司', '业务类型：自来水费', '记账年月：2016年6月', '业务开通日期：2014年1月31日', '当前缴费状态：正常', '当前欠费金额：0', '业务开通日期：2014年1月31日', '当前缴费状态：正常', '当前欠费金额：0', '业务开通日期：2014年1月31日', '当前缴费状态：正常', '当前欠费金额：0']\n"
     ]
    },
    {
     "data": {
      "text/html": [
       "<div>\n",
       "<style scoped>\n",
       "    .dataframe tbody tr th:only-of-type {\n",
       "        vertical-align: middle;\n",
       "    }\n",
       "\n",
       "    .dataframe tbody tr th {\n",
       "        vertical-align: top;\n",
       "    }\n",
       "\n",
       "    .dataframe thead th {\n",
       "        text-align: right;\n",
       "    }\n",
       "</style>\n",
       "<table border=\"1\" class=\"dataframe\">\n",
       "  <thead>\n",
       "    <tr style=\"text-align: right;\">\n",
       "      <th></th>\n",
       "      <th>key</th>\n",
       "      <th>value</th>\n",
       "    </tr>\n",
       "  </thead>\n",
       "  <tbody>\n",
       "    <tr>\n",
       "      <th>0</th>\n",
       "      <td>机构名称</td>\n",
       "      <td>北京自来水公司</td>\n",
       "    </tr>\n",
       "    <tr>\n",
       "      <th>1</th>\n",
       "      <td>业务类型</td>\n",
       "      <td>自来水费</td>\n",
       "    </tr>\n",
       "    <tr>\n",
       "      <th>2</th>\n",
       "      <td>记账年月</td>\n",
       "      <td>2016年6月</td>\n",
       "    </tr>\n",
       "    <tr>\n",
       "      <th>3</th>\n",
       "      <td>业务开通日期</td>\n",
       "      <td>2014年1月31日</td>\n",
       "    </tr>\n",
       "    <tr>\n",
       "      <th>4</th>\n",
       "      <td>当前缴费状态</td>\n",
       "      <td>正常</td>\n",
       "    </tr>\n",
       "    <tr>\n",
       "      <th>5</th>\n",
       "      <td>当前欠费金额</td>\n",
       "      <td>0</td>\n",
       "    </tr>\n",
       "  </tbody>\n",
       "</table>\n",
       "</div>"
      ],
      "text/plain": [
       "      key       value\n",
       "0    机构名称     北京自来水公司\n",
       "1    业务类型        自来水费\n",
       "2    记账年月     2016年6月\n",
       "3  业务开通日期  2014年1月31日\n",
       "4  当前缴费状态          正常\n",
       "5  当前欠费金额           0"
      ]
     },
     "metadata": {},
     "output_type": "display_data"
    }
   ],
   "source": [
    "for i in range (len(hffjl_cases)):\n",
    "    print(\"--------------\")\n",
    "    print(hffjl_cases[i])\n",
    "    display(pd.DataFrame(list(hffjl_results[i].items()), columns=['key', 'value']))"
   ]
  },
  {
   "cell_type": "markdown",
   "id": "7b460174-efaa-47bb-a118-d07d016c28a5",
   "metadata": {},
   "source": [
    "### == 备注"
   ]
  },
  {
   "cell_type": "markdown",
   "id": "a54bd7ab-05b0-4938-a8fa-266d7aa9d4d3",
   "metadata": {},
   "source": [
    "1. 具体操作需根据ocr返回结果格式调整"
   ]
  },
  {
   "cell_type": "markdown",
   "id": "40022a16-884d-4270-a586-d5959eff958e",
   "metadata": {},
   "source": [
    "# 公共记录\n",
    "略 -- 'content'"
   ]
  },
  {
   "cell_type": "markdown",
   "id": "9869d775-b5b3-4e63-b6a2-ae588476e944",
   "metadata": {},
   "source": [
    "## 欠税记录\n",
    "略 -- 思路同 `后付费记录`"
   ]
  },
  {
   "cell_type": "markdown",
   "id": "24e5e752-b4a7-4692-9ac7-7a914af43982",
   "metadata": {},
   "source": [
    "- 定死两行一组\n",
    "- 预期识别关键字段名称\n",
    "    - 主管税务机关\n",
    "    - 欠税统计日期\n",
    "    - 欠税总额\n",
    "    - 纳税人识别号\n"
   ]
  },
  {
   "cell_type": "markdown",
   "id": "479f1898-c0ae-4603-b59e-316eb4b8ec28",
   "metadata": {},
   "source": [
    "## 民事判决记录\n",
    "略 -- 思路同 `后付费记录`"
   ]
  },
  {
   "cell_type": "markdown",
   "id": "614578c6-7da3-43ce-99b3-f64c44ab2ad5",
   "metadata": {},
   "source": [
    "- 定死5行一组\n",
    "- 预期识别关键字段名称\n",
    "    -  立案法院\n",
    "    -  案号\n",
    "    -  案由\n",
    "    -  结案方式\n",
    "    -  立案日期\n",
    "    -  判决/调解结果\n",
    "    -  诉讼标的\n",
    "    -  判决/调解生效日期\n",
    "    -  诉讼标的金额"
   ]
  },
  {
   "cell_type": "markdown",
   "id": "88cb19c0-b9eb-431a-a914-e94a5a967d8d",
   "metadata": {},
   "source": [
    "## 强制执行记录\n",
    "略 -- 思路同 `后付费记录`"
   ]
  },
  {
   "cell_type": "markdown",
   "id": "72484b6f-bbfe-4d36-8111-1309e738f9bb",
   "metadata": {},
   "source": [
    "- 定死6行一组\n",
    "- 预期识别关键字段名称\n",
    "    -  执行法院\n",
    "    -  案号\n",
    "    -  执行案由\n",
    "    -  结案方式\n",
    "    -  立案日期\n",
    "    -  案件状态\n",
    "    -  申请执行标的\n",
    "    -  已执行标的\n",
    "    -  申请执行标的金额\n",
    "    -  已执行标的金额\n",
    "    -  结案日期"
   ]
  },
  {
   "cell_type": "markdown",
   "id": "4619ed8d-0e3a-4de8-b5b5-73a34daa192e",
   "metadata": {},
   "source": [
    "## 行政处罚记录\n",
    "略 -- 思路同 `后付费记录`"
   ]
  },
  {
   "cell_type": "markdown",
   "id": "39c1c7c3-385f-4fc5-a9f4-f0a7ad3a2312",
   "metadata": {},
   "source": [
    "- 定死4行一组\n",
    "- 预期识别关键字段名称\n",
    "    - 处罚机构\n",
    "    - 文书编号\n",
    "    - 处罚内容\n",
    "    - 行政复议结果\n",
    "    - 处罚金额\n",
    "    - 生效日期\n",
    "    - 截止日期"
   ]
  },
  {
   "cell_type": "markdown",
   "id": "c553e2d7-4c8f-408c-9e16-ec8262ff8246",
   "metadata": {},
   "source": [
    "# 查询记录\n",
    "略 -- 'content'"
   ]
  },
  {
   "cell_type": "markdown",
   "id": "474c6c5c-b55f-49e7-9469-5f62f0293c87",
   "metadata": {},
   "source": [
    "## 机构查询记录明细 \n",
    "略"
   ]
  },
  {
   "cell_type": "markdown",
   "id": "e2e2776c-f915-4c49-a973-a4fc3440f4a6",
   "metadata": {},
   "source": [
    "## 本人查询记录明细\n",
    "略"
   ]
  }
 ],
 "metadata": {
  "kernelspec": {
   "display_name": "Python 3 (ipykernel)",
   "language": "python",
   "name": "python3"
  },
  "language_info": {
   "codemirror_mode": {
    "name": "ipython",
    "version": 3
   },
   "file_extension": ".py",
   "mimetype": "text/x-python",
   "name": "python",
   "nbconvert_exporter": "python",
   "pygments_lexer": "ipython3",
   "version": "3.10.14"
  }
 },
 "nbformat": 4,
 "nbformat_minor": 5
}
