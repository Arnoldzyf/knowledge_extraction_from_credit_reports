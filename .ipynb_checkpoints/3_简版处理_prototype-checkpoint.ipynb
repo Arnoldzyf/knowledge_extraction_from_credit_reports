{
 "cells": [
  {
   "cell_type": "code",
   "execution_count": 66,
   "id": "b0bf7ff1-02e6-464d-9cb7-94ea3c2b5e14",
   "metadata": {},
   "outputs": [
    {
     "name": "stderr",
     "output_type": "stream",
     "text": [
      "E:\\miniconda3\\envs\\ZheShang\\lib\\site-packages\\tqdm\\auto.py:21: TqdmWarning: IProgress not found. Please update jupyter and ipywidgets. See https://ipywidgets.readthedocs.io/en/stable/user_install.html\n",
      "  from .autonotebook import tqdm as notebook_tqdm\n",
      "E:\\miniconda3\\envs\\ZheShang\\lib\\site-packages\\_distutils_hack\\__init__.py:32: UserWarning: Setuptools is replacing distutils. Support for replacing an already imported distutils is deprecated. In the future, this condition will fail. Register concerns at https://github.com/pypa/setuptools/issues/new?template=distutils-deprecation.yml\n",
      "  warnings.warn(\n"
     ]
    }
   ],
   "source": [
    "import pdfplumber\n",
    "import pandas as pd\n",
    "import re\n",
    "import sys\n",
    "import json\n",
    "from paddlenlp import Taskflow"
   ]
  },
  {
   "cell_type": "code",
   "execution_count": null,
   "id": "98a93e97-b977-48e4-afb4-f497db5a12e4",
   "metadata": {},
   "outputs": [],
   "source": [
    "file_info = {}\n",
    "section_info = {}\n",
    "text_all = \"\""
   ]
  },
  {
   "cell_type": "markdown",
   "id": "de358836-3028-4404-80c7-a77d96cac7ca",
   "metadata": {},
   "source": [
    "# 文件读取"
   ]
  },
  {
   "cell_type": "markdown",
   "id": "7da145b3-7b75-4424-919e-537efa36f1de",
   "metadata": {},
   "source": [
    "- 暂未考虑图片格式\n",
    "- 实际情况入参：\n",
    "    - `pdf_base64` 编码\n",
    "    - `tail_page_num` 最后有几页是说明页（不用进行信息提取）\n",
    "        - 简版默认一页\n",
    "        - 无法给入参可以尝试手动识别匹配 `\\n说 明\\n` "
   ]
  },
  {
   "cell_type": "code",
   "execution_count": 8,
   "id": "456bc8c8-6f16-4bde-9596-ec72cbf68b49",
   "metadata": {},
   "outputs": [
    {
     "name": "stdout",
     "output_type": "stream",
     "text": [
      "文档总页数为：5\n"
     ]
    }
   ],
   "source": [
    "pdf = pdfplumber.open(\"./data/简版征信模板_from_base64.pdf\")\n",
    "pdf_len = len(pdf.pages)\n",
    "print(f\"文档总页数为：{pdf_len}\")"
   ]
  },
  {
   "cell_type": "code",
   "execution_count": 6,
   "id": "43d46e39-e52a-4582-b91e-6cedf72dca0c",
   "metadata": {},
   "outputs": [],
   "source": [
    "tail_page_num = 1\n",
    "page_info = pdf.pages[:-1]"
   ]
  },
  {
   "cell_type": "markdown",
   "id": "627c072d-7e7d-405f-89b0-1f1d5beddf64",
   "metadata": {},
   "source": [
    "## 读入所有文本"
   ]
  },
  {
   "cell_type": "code",
   "execution_count": 31,
   "id": "79ffe2f3-e031-4260-9c4d-b61dfadb651c",
   "metadata": {
    "scrolled": true
   },
   "outputs": [
    {
     "name": "stdout",
     "output_type": "stream",
     "text": [
      "4984\n",
      "本报告仅供您了解自身信用状况，\n",
      "不用于信贷申 请及其他用途。\n",
      "请妥善保管，避免信息泄露\n",
      "个人信用报告\n",
      "报告编号：2016080303000014210351 报告时间：2016-08-03 09:30:15\n",
      "姓名: 张三 证件类型: 身份证 证件号码: 110124197506232452 已婚\n",
      "其他证件信息：护照G300234234/军人身份证 M09876893\n",
      "信贷记录\n",
      "这部分包含您的信用卡、贷款和其他信贷记录。金额类数据均以人民币计算，精确到元。\n",
      "信息概要\n",
      "资产处置信息 垫款信息\n",
      "账户数 1 3\n",
      "贷款\n",
      "逾期记录可能影响对您的信用评\n",
      "信用卡 其他业务\n",
      "购房 其他 价。\n",
      "账户数 8 4 5 8 购房贷款，包括个人住房商业贷款、\n",
      "未结清/未销户账户数 4 2 3 7 个人商用房（包括商住两用）贷款和\n",
      "发生过逾期的账户数 4 2 2 4 个人住房公积金贷款。\n",
      "发生过90天以上逾期的账户数 4 1 1 1\n",
      "发生过逾期的信用卡账户，指曾经\n",
      "“未按时还最低还款额”的贷记卡\n",
      "为个人 为企业\n",
      "账户和 “透支超过60天”的准贷记\n",
      "相关还款责任账户数 1 3 卡账户。\n",
      "资产处置信息\n",
      "1.2012年03月12日，东方资产管理公司接收债权，金额为11,000,000。截至 2014年11月11日，余额为920,000，最近一次\n",
      "还款日期为2015年12月11日。\n",
      "垫款信息\n",
      "1.2012年02月02日以来中国人寿保险公司累计代偿金额80，000。截至2014年09月9日，余额70,000，最近一次还款日期为\n",
      "2014年10月10日。\n",
      "2.2013年02月02日以来富登融资租赁担保公司累计代偿金额400,000。2016年1月已结清。\n",
      "信用卡\n",
      "发生过逾期的贷记卡账户明细如下：\n",
      "1. 2004 年 8 月 30 日中国建设银行北京分行发放的贷记卡（人民币账户，卡片尾号：0001）。截至 2010 年 10 月，信用额度\n",
      "10,000，已变成呆账，余额500。\n",
      "2. 2004年8月30日中国工商银行北京分行发放的贷记卡（人民币账户，卡片尾号：0002）。截至2016年7月，信用额度50,000，\n",
      "余额5,000（含未出单的大额专项分期余额4,000），当前有逾期。最近5年内有11个月处于逾期状态，其中5个月逾期超\n",
      "过90天。\n",
      "3. 2010年4月1日中国民生银行信用卡中心发放的贷记卡（人民币账户，卡片尾号：0003），2015年12月销户。最近5年内\n",
      "第1页/共5页\n",
      "有7个月处于逾期状态，其中3个月逾期超过90天。\n",
      "2014年3月，该机构声明：该客户委托XX公司偿还贷款，因开发公司不按时还款导致出现多次逾期。\n",
      "透支超过60天的准贷记卡账户明细如下：\n",
      "4. 2005年6月30日中国银行北京分行发放的准贷记卡（人民币账户，卡片尾号：0999）。截至2016年7月，信用额度10,000，\n",
      "透支余额5,000，当前透支超过60天。最近5年内有6个月透支超过60天，其中3个月透支超过90天。\n",
      "5. 2006年3月10日上海浦东发展银行北京分行发放的准贷记卡（人民币账户，卡片尾号：0022），2015年12月销户。最近5\n",
      "年内有20个月透支超过60天，其中16个月透支超过90天。\n",
      "从未逾期过的贷记卡及透支未超过60天的准贷记卡账户明细如下：\n",
      "6. 2005年6月30日中国光大银行北京分行发放的贷记卡（美元账户，卡片尾号：0222）。截至2016年7月，信用额度6,800，\n",
      "余额5,000（含未出单的大额专项分期余额4,000）。\n",
      "7. 2005年7月30日中国光大银行南京分行发放的贷记卡（美元账户）。截至2016年5月，信用额度6,800，已使用额度5,000。\n",
      "8. 2006年7月1日招商银行发放的准贷记卡（人民币账户，卡片尾号：1111），2009年12月销户。\n",
      "9. 2007年6月30日中国光大银行北京分行发放的贷记卡（人民币账户，卡片尾号：2122）。截至2016年7月尚未激活。\n",
      "贷款\n",
      "发生过逾期的账户明细如下：\n",
      "1. 2008年8月30日中国农业银行北京发放的600,000元（美元折人民币）住房贷款（其他机构转入）， 2028年8月30日到\n",
      "期。截至2016年7月，余额为572,750，当前有逾期。最近5年内有1个月处于逾期状态，没有发生过90天以上逾期。\n",
      "2. 2008年9月30日中国农业银行北京分行发放的100,000元（人民币）汽车贷款，2018年8月30日到期。截至2016年7月，\n",
      "余额为72,750，当前无逾期。最近5年内有2个月处于逾期状态，没有发生过90天以上逾期。\n",
      "从未逾期过的账户明细如下：\n",
      "3. 2010年5月8日北京银行金融街支行发放的200,000元（人民币）住房贷款，2029年5月8日到期。截至2016年7月，余\n",
      "额50,000。\n",
      "4. 2012年5月8日中信银行知春路支行发放的100,000元（人民币）个人经营性贷款，2019年5月8日到期。截至2016年7\n",
      "月，余额50,000。\n",
      "5. 2013年4月15日福特汽车金融公司发放的100,000元（人民币）汽车贷款，2013年4月15日到期。截至2016年7月，余\n",
      "额50,000。\n",
      "6. 2011年9月10日招商银行金融街支行发放的300,000元（人民币）住房贷款，2015年12月已结清。\n",
      "其他业务\n",
      "发生过逾期的账户明细如下：\n",
      "1. 2005年10月20日建元资本（中国）融资租赁有限公司办理的500,000元（人民币）融资租赁业务，2020年10月20日到期。\n",
      "截至2011年11月，已变成呆账，最近一次还款日期为2010年11月25日，余额150,000。\n",
      "2. 2005年9月22日建元资本（中国）融资租赁有限公司办理的500,000元（人民币）融资租赁业务，2020年9月22日到期。\n",
      "截至2016年7月，余额400,000，当前无逾期。最近5年内有3个月处于逾期状态，没有发生过90天以上逾期。\n",
      "3. 2006年10月20日中信证券公司办理的500,000元（人民币）约定购回式证券交易，2007年10月19日到期。截至2008年1\n",
      "月，已变成司法追偿，最近一次还款日期为2007年10月15日，余额150,000。\n",
      "4. 2009年9月22日海通证券公司办理的500,000元（人民币）约定购回式证券交易，2010年9月21日到期。截至2016年7\n",
      "月，余额500,000，当前有逾期。最近5年内有1个月处于逾期状态，没有发生过90天以上逾期。\n",
      "从未逾期过的账户明细如下：\n",
      "5. 2014年9月29日建元资本（中国）融资租赁有限公司办理的10,000元（人民币）融资租赁业务，2019年12月28日到期。\n",
      "截至 2016年6月，余额2,000。\n",
      "6. 2015年1月12日建元资本（中国）融资租赁有限公司办理的50,000元（人民币）融资租赁业务， 2016年7月已结清。\n",
      "第2页/共5页\n",
      "7. 2015年6月29日中信证券公司办理的80,000元（人民币）股票质押式回购交易，2018年6月28日到期。截至 2016年7\n",
      "月，余额80,000。\n",
      "8. 2015年7月12日国泰君安证券公司办理的50,000元（人民币）约定购回式证券交易， 2016年7月已结清。\n",
      "相关还款责任信息\n",
      "1.2009年3月2日，为赵四（证件类型：身份证，证件号码：420105198503242420）在中国建设银行金融街支行办理的个人住\n",
      "房商业贷款承担相关还款责任，责任人类型为保证人，相关还款责任金额 50,000（保证合同编号：100022233）。截至 2016\n",
      "年7月5日，个人住房商业贷款余额30,000。\n",
      "2.2010年5月20日，为李三（证件类型：身份证，证件号码：420105197503202424）在中国农业银行信用卡中心办理的贷记卡\n",
      "承担相关还款责任，责任人类型为保证人，相关还款责任金额50,000。截至2016年7月20日，贷记卡余额20,000。\n",
      "3.2012年3月2日，为赵四（证件类型：身份证，证件号码：420105198503242420）在建元资本（中国）融资租赁有限公司办\n",
      "理的约定购回式证券交易业务承担相关还款责任，责任人类型为其他，相关还款责任金额50,000。截至2016年7月5日，\n",
      "约定购回式证券交易余额30,000。\n",
      "4.2009年3月2日，为北京某公司（证件类型：机构信用代码，证件号码：12011819008808）在建设银行北京分行办理的固定\n",
      "资产贷款承担相关还款责任，责任人类型为应收账款债务人，相关还款责任金额200,000。截至2015年5月25日，固定资\n",
      "产贷款余额30,000（人民币）。\n",
      "非信贷交易记录\n",
      "这部分包含您最近5年内的非信贷交易记录。金额类数据均以人民币计算，精确到元。\n",
      "后付费记录\n",
      "机构名称：中国电信北京分公司 业务类型：固定电话后付费 记账年月：2016年7月\n",
      "业务开通日期：2012年6月28日 当前缴费状态：欠费 当前欠费金额：550\n",
      "机构名称：中国移动北京分公司 业务类型：移动电话后付费 记账年月：2016年6月\n",
      "业务开通日期：2013年1月31日 当前缴费状态：正常 当前欠费金额：0\n",
      "机构名称：北京自来水公司 业务类型：自来水费 记账年月：2016年6月\n",
      "业务开通日期：2014年1月31日 当前缴费状态：正常 当前欠费金额：0\n",
      "公共记录\n",
      "这部分包含您最近5年内的公共信息。金额类数据均以人民币计算，精确到元。\n",
      "欠税记录\n",
      "主管税务机关：北京市东城区地税局 欠税统计日期：2016年7月\n",
      "欠税总额：500 纳税人识别号：CN12485442333\n",
      "民事判决记录\n",
      "立案法院：北京市宣武区人民法院 案号：(2015)京民-初字第00056号\n",
      "案由：房屋买卖纠纷 结案方式: 判决\n",
      "立案日期：2016年1月 判决/调解结果：被告张三赔偿原告李四人民币420,000。\n",
      "诉讼标的：房屋买卖纠纷 判决/调解生效日期：2015年4月\n",
      "诉讼标的金额：500,000\n",
      "第3页/共5页\n",
      "立案法院：北京市西城区人民法院 案号：(2016)京民-初字第00116号\n",
      "案由：- 结案方式： 判决\n",
      "立案日期：2015年1月 判决/调解结果：被告张三赔偿原告王五人民币500,000。\n",
      "诉讼标的：房屋买卖纠纷 判决/调解生效日期：2016年4月\n",
      "诉讼标的金额：700,000\n",
      "强制执行记录\n",
      "执行法院：北京市西城区人民法院 案号：(2015)京民-初字第01041号\n",
      "执行案由：- 结案方式：执行结案\n",
      "立案日期：2015年6月 案件状态：执行完毕\n",
      "申请执行标的：房屋 已执行标的：房屋\n",
      "申请执行标的金额：420,000 已执行标的金额：420,000\n",
      "结案日期：2015年8月\n",
      "行政处罚记录\n",
      "处罚机构：北京市东城区地税局 文书编号：地税罚字[2015]第7号\n",
      "处罚内容：扣缴税款 行政复议结果：维持原判\n",
      "处罚金额：5000\n",
      "生效日期：2015年8月 截止日期：-\n",
      "处罚机构：湖南省建设管理服务中心 文书编号：HN0923456-CF\n",
      "处罚内容：暂扣或者吊销许可证、暂扣或者吊销执照 行政复议结果：-\n",
      "处罚金额：2000\n",
      "生效日期：2015年5月 截止日期：2018年12月\n",
      "查询记录\n",
      "这部分包含您的信用报告最近2年内被查询的记录。\n",
      "机构查询记 录明细\n",
      "编号 查询日期 查询机构 查询原因\n",
      "1 2016年7月15日 中国工商银行 贷后管理\n",
      "2 2015年12月10日 中国农业银行 贷款审批\n",
      "3 2015年2月12日 中国农业银行 担保资格审查\n",
      "4 2015年2月10日 建元资本 融资审批\n",
      "5 2015年2月1日 平安财险 保前审查\n",
      "本人查询记录明细\n",
      "编号 查询日期 查询机构 查询原因\n",
      "1 2016年7月25日 本人 本人查询（互联网个人信用信息服务平台）\n",
      "2 2015年11月23日 本人 本人查询（互联网个人信用信息服务平台）\n",
      "3 2015年10月10日 本人 本人查询（商业银行网上银行）\n",
      "4 2015年9月2日 中国人民银行营业管理部 本人查询（临柜）\n",
      "第4页/共5页\n",
      "\n"
     ]
    }
   ],
   "source": [
    "for p in page_info:\n",
    "    text_all += p.extract_text() + '\\n'\n",
    "\n",
    "print(len(text_all))\n",
    "print(text_all)"
   ]
  },
  {
   "cell_type": "markdown",
   "id": "47dfd53d-b22e-425d-931d-46526a1b913e",
   "metadata": {},
   "source": [
    "## 确定每页索引范围"
   ]
  },
  {
   "cell_type": "markdown",
   "id": "b03feac9-13dc-41a4-87cc-1d463f51f3b3",
   "metadata": {},
   "source": [
    "`第n页/共m页`在`text_all`中的位置"
   ]
  },
  {
   "cell_type": "code",
   "execution_count": 32,
   "id": "161d0848-f38b-4eb4-9249-37880b1c6570",
   "metadata": {},
   "outputs": [
    {
     "name": "stdout",
     "output_type": "stream",
     "text": [
      "文档分页索引为：[0, 1038, 2866, 4142, 4983]\n"
     ]
    },
    {
     "data": {
      "text/plain": [
       "[<re.Match object; span=(1031, 1038), match='第1页/共5页'>,\n",
       " <re.Match object; span=(2859, 2866), match='第2页/共5页'>,\n",
       " <re.Match object; span=(4135, 4142), match='第3页/共5页'>,\n",
       " <re.Match object; span=(4976, 4983), match='第4页/共5页'>]"
      ]
     },
     "execution_count": 32,
     "metadata": {},
     "output_type": "execute_result"
    }
   ],
   "source": [
    "\"\"\"\n",
    "不需要真的关心页数n\\m的值\n",
    "模式匹配\n",
    "可以处理缺页的文本\n",
    "\"\"\"\n",
    "\n",
    "page_num_pattern = r'第\\d+页/共\\d+页'\n",
    "page_num_indices = [0]\n",
    "page_num_indices.extend([match.end() for match in re.finditer(page_num_pattern, text_all)])\n",
    "page_num_indices.sort()\n",
    "\n",
    "print(f\"文档分页索引为：{page_num_indices}\")\n",
    "\n",
    "## check error\n",
    "if len(page_num_indices)-1 != len(page_info):\n",
    "    sys.exit(\"文档分页索引有误！\")\n",
    "\n",
    "list(re.finditer(page_num_pattern, text_all))"
   ]
  },
  {
   "cell_type": "code",
   "execution_count": 50,
   "id": "c4841122-9e63-487b-b3b5-91388225460a",
   "metadata": {},
   "outputs": [
    {
     "name": "stdout",
     "output_type": "stream",
     "text": [
      "0\n",
      "2\n",
      "3\n"
     ]
    }
   ],
   "source": [
    "'''\n",
    "用来查找某索引在哪一页\n",
    "从0开始算页数\n",
    "用途: 定位分段, 查看表格是否跨页\n",
    "'''\n",
    "def find_interval(a, intervals):\n",
    "    intervals.sort()\n",
    "    intervals[-1] = intervals[-1] + 1  ## 最后一个index + 1, 将最后的字符算入最后的区间里\n",
    "    for i in range(len(intervals) - 1):\n",
    "        if intervals[i] <= a < intervals[i + 1]:\n",
    "            return i\n",
    "    return None  \n",
    "\n",
    "print(find_interval(0,page_num_indices))\n",
    "print(find_interval(3578,page_num_indices))\n",
    "print(find_interval(4983,page_num_indices))"
   ]
  },
  {
   "cell_type": "markdown",
   "id": "d8657703-07e2-4841-b539-b016c60e5db2",
   "metadata": {},
   "source": [
    "# 内容分段"
   ]
  },
  {
   "cell_type": "markdown",
   "id": "7ea5e35c-d3b5-4ddb-a7c9-b997fad8fb63",
   "metadata": {},
   "source": [
    "## 一级标题"
   ]
  },
  {
   "cell_type": "markdown",
   "id": "fb1a0956-7597-4b58-ac2a-f935a0ccb2b5",
   "metadata": {},
   "source": [
    "- 一级标题\n",
    "    - 内容及顺序需要提前定好 !!! （最好有一份全集的章节名称结构表 !! ）\n",
    "    - 并非由非识别得到（否则请提供文档段落结构识别工具）\n",
    "    - 暂时不涉及内容类型（表格 or 文字） "
   ]
  },
  {
   "cell_type": "code",
   "execution_count": 25,
   "id": "6ae31d37-eb1e-444d-88a6-29a2261c9e80",
   "metadata": {},
   "outputs": [],
   "source": [
    "header_1_list = [\"个人信用报告\", \"信贷记录\", \"非信贷交易记录\", \"公共记录\",\"查询记录\"]"
   ]
  },
  {
   "cell_type": "code",
   "execution_count": 62,
   "id": "07bd555d-c8db-4463-9dcb-b610a7443370",
   "metadata": {
    "scrolled": true
   },
   "outputs": [
    {
     "data": {
      "text/plain": [
       "{'个人信用报告': {'header_level': 1,\n",
       "  'header_index': 0,\n",
       "  'header_span': [43, 51],\n",
       "  'section_idx_span': [51, 184],\n",
       "  'section_page_span': [0, 0]},\n",
       " '信贷记录': {'header_level': 1,\n",
       "  'header_index': 1,\n",
       "  'header_span': [184, 190],\n",
       "  'section_idx_span': [190, 3590],\n",
       "  'section_page_span': [0, 2]},\n",
       " '非信贷交易记录': {'header_level': 1,\n",
       "  'header_index': 2,\n",
       "  'header_span': [3590, 3599],\n",
       "  'section_idx_span': [3599, 3874],\n",
       "  'section_page_span': [2, 2]},\n",
       " '公共记录': {'header_level': 1,\n",
       "  'header_index': 3,\n",
       "  'header_span': [3874, 3880],\n",
       "  'section_idx_span': [3880, 4630],\n",
       "  'section_page_span': [2, 3]},\n",
       " '查询记录': {'header_level': 1,\n",
       "  'header_index': 4,\n",
       "  'header_span': [4630, 4636],\n",
       "  'section_idx_span': [4636, 4983],\n",
       "  'section_page_span': [3, 3]}}"
      ]
     },
     "execution_count": 62,
     "metadata": {},
     "output_type": "execute_result"
    }
   ],
   "source": [
    "'''\n",
    "给每个一级标题定位\n",
    "'''\n",
    "for i in range(len(header_1_list)):\n",
    "    header = header_1_list[i]\n",
    "\n",
    "    header_pattern = f'\\n{header}\\n'\n",
    "    match = list(re.finditer(header_pattern, text_all))\n",
    "\n",
    "    ## error cheak\n",
    "    if len(match) != 1:\n",
    "        sys.exit(f\"error in searching level 1 header -- {header} occurs {len(matches)} times\")\n",
    "\n",
    "    header_span = match[0].span()\n",
    "    \n",
    "    section_info[header] = {}\n",
    "    section_info[header]['header_level'] = 1\n",
    "    section_info[header]['header_index'] = i\n",
    "    section_info[header]['header_span'] = header_span  ## 标题本身定位\n",
    "\n",
    "# json.loads(json.dumps(section_info))\n",
    "\n",
    "'''\n",
    "标记每章节涉及到的的页码\n",
    "'''\n",
    "for i in range(len(header_1_list)):\n",
    "    header = header_1_list[i]\n",
    "    \n",
    "    sec_start_idx = section_info[header][\"header_span\"][1]\n",
    "    if i == len(header_1_list)-1:\n",
    "        sec_end_idx = len(text_all)-1\n",
    "    else:\n",
    "        sec_end_idx = section_info[header_1_list[i+1]][\"header_span\"][0]\n",
    "\n",
    "    sec_idx_span = [sec_start_idx, sec_end_idx]\n",
    "    sec_page_span = [find_interval(idx, page_num_indices) for idx in sec_idx_span]\n",
    "    \n",
    "    section_info[header][\"section_idx_span\"] = sec_idx_span  ## 该章节的index区间, 不含标题\n",
    "    section_info[header][\"section_page_span\"] = sec_page_span  ## 该章节的page区间, 不含标题\n",
    "\n",
    "# json.loads(json.dumps(section_info))\n",
    "section_info"
   ]
  },
  {
   "cell_type": "markdown",
   "id": "e28e1915-725f-4e6f-bbaa-3f6b8060dc72",
   "metadata": {},
   "source": [
    "# Sec_0 - 个人信用报告"
   ]
  },
  {
   "cell_type": "markdown",
   "id": "1205e84a-bfa5-4d1e-a432-88df20ab4e58",
   "metadata": {},
   "source": [
    "- 该章节默认无子章节、无表格\n",
    "- 提取方法：paddleNLP taskflow information_extraction\n",
    "    - 待提取字段应预先定好\n",
    "    - 每次待增加提取字段应手动调试，会有错误提取的可能（错/漏/无中生有）"
   ]
  },
  {
   "cell_type": "code",
   "execution_count": 98,
   "id": "92c71226-e1b6-4134-a2b1-e9ddcf1a7ee8",
   "metadata": {},
   "outputs": [
    {
     "data": {
      "text/plain": [
       "'报告编号：2016080303000014210351 报告时间：2016-08-03 09:30:15 姓名: 张三 证件类型: 身份证 证件号码: 110124197506232452 已婚 其他证件信息：护照G300234234/军人身份证 M09876893'"
      ]
     },
     "execution_count": 98,
     "metadata": {},
     "output_type": "execute_result"
    }
   ],
   "source": [
    "'''\n",
    "通过索引定位，直接处理text\n",
    "'''\n",
    "header = \"个人信用报告\"\n",
    "file_info[header] = {}\n",
    "\n",
    "sec_span = section_info[header][\"section_idx_span\"]\n",
    "sec_content = text_all[sec_span[0]:sec_span[1]]\n",
    "\n",
    "sec_content = sec_content.replace(\"\\n\",\" \").strip() ## 去掉换行、首尾空格\n",
    "sec_content"
   ]
  },
  {
   "cell_type": "code",
   "execution_count": 99,
   "id": "3934e2ab-3d2e-4247-a0ed-6ea825f6f2fd",
   "metadata": {
    "scrolled": true
   },
   "outputs": [
    {
     "name": "stdout",
     "output_type": "stream",
     "text": [
      "['报告编号', '报告时间', '姓名', '证件类型', '证件号码', '是否已婚', '其他证件信息']\n"
     ]
    },
    {
     "name": "stderr",
     "output_type": "stream",
     "text": [
      "\u001b[32m[2024-08-19 17:20:44,596] [    INFO]\u001b[0m - We are using <class 'paddlenlp.transformers.ernie.tokenizer.ErnieTokenizer'> to load 'C:\\Users\\0049004320\\.paddlenlp\\taskflow\\information_extraction\\uie-base'.\u001b[0m\n"
     ]
    },
    {
     "data": {
      "text/plain": [
       "[{'报告编号': [{'text': '2016080303000014210351',\n",
       "    'start': 5,\n",
       "    'end': 27,\n",
       "    'probability': 0.9333265036233627}],\n",
       "  '报告时间': [{'text': '2016-08-03 09:30:15',\n",
       "    'start': 33,\n",
       "    'end': 52,\n",
       "    'probability': 0.9732754336903469}],\n",
       "  '姓名': [{'text': '张三',\n",
       "    'start': 57,\n",
       "    'end': 59,\n",
       "    'probability': 0.9990793091685823}],\n",
       "  '证件类型': [{'text': '身份证',\n",
       "    'start': 66,\n",
       "    'end': 69,\n",
       "    'probability': 0.9770177023690962}],\n",
       "  '证件号码': [{'text': '110124197506232452',\n",
       "    'start': 76,\n",
       "    'end': 94,\n",
       "    'probability': 0.8250815500229081}],\n",
       "  '是否已婚': [{'text': '已婚',\n",
       "    'start': 95,\n",
       "    'end': 97,\n",
       "    'probability': 0.4881551144842433}],\n",
       "  '其他证件信息': [{'text': '护照G300234234',\n",
       "    'start': 105,\n",
       "    'end': 117,\n",
       "    'probability': 0.3762645293408866}]}]"
      ]
     },
     "execution_count": 99,
     "metadata": {},
     "output_type": "execute_result"
    }
   ],
   "source": [
    "'''\n",
    "taskflow 抽取信息\n",
    "'''\n",
    "schema = ['报告编号', '报告时间']\n",
    "schema.extend(['姓名','证件类型','证件号码','是否已婚'])\n",
    "schema.extend(['其他证件信息'])\n",
    "print(schema)              \n",
    "              \n",
    "ie = Taskflow('information_extraction', schema=schema, batch_size=16)\n",
    "result = ie(sec_content)\n",
    "result"
   ]
  },
  {
   "cell_type": "code",
   "execution_count": 100,
   "id": "75d587fd-f0c7-43f6-a65c-80643ee15786",
   "metadata": {},
   "outputs": [
    {
     "data": {
      "text/plain": [
       "{'个人信用报告': {'报告编号': '2016080303000014210351',\n",
       "  '报告时间': '2016-08-03 09:30:15',\n",
       "  '姓名': '张三',\n",
       "  '证件类型': '身份证',\n",
       "  '证件号码': '110124197506232452',\n",
       "  '是否已婚': '已婚',\n",
       "  '其他证件信息': '护照G300234234'}}"
      ]
     },
     "execution_count": 100,
     "metadata": {},
     "output_type": "execute_result"
    }
   ],
   "source": [
    "'''\n",
    "整合信息\n",
    "'''\n",
    "for item in schema:\n",
    "    item_result = result[0].get(item)\n",
    "    if item_result:  ## schema里的信息不一定都取得到\n",
    "        item_result = item_result[0].get(\"text\")\n",
    "    file_info[header][item] = item_result\n",
    "\n",
    "file_info"
   ]
  },
  {
   "cell_type": "markdown",
   "id": "d93a3e29-a373-4eca-82ed-d46348171896",
   "metadata": {},
   "source": [
    "- !!! 此处需要人工校验添加矫正规则，例如\n",
    "    - `其他证件信息`未提取完善, 需要人工手动提取\n",
    "        - 目前矫正规则：默认最后一个item, 定位然后拉到最后\n",
    "    - 其他规则请相关业务人员补充检查"
   ]
  },
  {
   "cell_type": "code",
   "execution_count": 101,
   "id": "1958bc0b-2d56-4987-9021-6ca6a0a5e7e3",
   "metadata": {},
   "outputs": [
    {
     "data": {
      "text/plain": [
       "{'个人信用报告': {'报告编号': '2016080303000014210351',\n",
       "  '报告时间': '2016-08-03 09:30:15',\n",
       "  '姓名': '张三',\n",
       "  '证件类型': '身份证',\n",
       "  '证件号码': '110124197506232452',\n",
       "  '是否已婚': '已婚',\n",
       "  '其他证件信息': '护照G300234234/军人身份证 M09876893'}}"
      ]
     },
     "execution_count": 101,
     "metadata": {},
     "output_type": "execute_result"
    }
   ],
   "source": [
    "'''\n",
    "用规则矫正\n",
    "'''\n",
    "\n",
    "## 其他证件信息\n",
    "## 默认是最后一个item,直接定位到section最后\n",
    "match = list(re.finditer(\"其他证件信息\", sec_content))\n",
    "if len(match) == 0:\n",
    "    item_result = None\n",
    "else:\n",
    "    idx = match[0].end()\n",
    "    item_result = sec_content[idx:]\n",
    "    item_result = re.sub(r'[\\n:：]', '', item_result)\n",
    "\n",
    "file_info[header][\"其他证件信息\"] = item_result\n",
    "file_info"
   ]
  },
  {
   "cell_type": "markdown",
   "id": "d3016957-a769-486a-9c9e-07c0a8dcfd4e",
   "metadata": {},
   "source": [
    "# sec_1 - 信贷记录"
   ]
  },
  {
   "cell_type": "markdown",
   "id": "1c861a1d-357c-47ce-8908-a70eb2c22442",
   "metadata": {},
   "source": [
    "- 简版模板标题无编号，没有很好的识别方式\n",
    "- !! 这里二级、三级标题都要提前定好\n",
    "    - !! 最好提供全集的标题可供搜索匹配 "
   ]
  },
  {
   "cell_type": "code",
   "execution_count": 103,
   "id": "ee335182-5d70-4418-8b8e-c2029cad3201",
   "metadata": {
    "scrolled": true
   },
   "outputs": [
    {
     "name": "stdout",
     "output_type": "stream",
     "text": [
      "这部分包含您的信用卡、贷款和其他信贷记录。金额类数据均以人民币计算，精确到元。\n",
      "信息概要\n",
      "资产处置信息 垫款信息\n",
      "账户数 1 3\n",
      "贷款\n",
      "逾期记录可能影响对您的信用评\n",
      "信用卡 其他业务\n",
      "购房 其他 价。\n",
      "账户数 8 4 5 8 购房贷款，包括个人住房商业贷款、\n",
      "未结清/未销户账户数 4 2 3 7 个人商用房（包括商住两用）贷款和\n",
      "发生过逾期的账户数 4 2 2 4 个人住房公积金贷款。\n",
      "发生过90天以上逾期的账户数 4 1 1 1\n",
      "发生过逾期的信用卡账户，指曾经\n",
      "“未按时还最低还款额”的贷记卡\n",
      "为个人 为企业\n",
      "账户和 “透支超过60天”的准贷记\n",
      "相关还款责任账户数 1 3 卡账户。\n",
      "资产处置信息\n",
      "1.2012年03月12日，东方资产管理公司接收债权，金额为11,000,000。截至 2014年11月11日，余额为920,000，最近一次\n",
      "还款日期为2015年12月11日。\n",
      "垫款信息\n",
      "1.2012年02月02日以来中国人寿保险公司累计代偿金额80，000。截至2014年09月9日，余额70,000，最近一次还款日期为\n",
      "2014年10月10日。\n",
      "2.2013年02月02日以来富登融资租赁担保公司累计代偿金额400,000。2016年1月已结清。\n",
      "信用卡\n",
      "发生过逾期的贷记卡账户明细如下：\n",
      "1. 2004 年 8 月 30 日中国建设银行北京分行发放的贷记卡（人民币账户，卡片尾号：0001）。截至 2010 年 10 月，信用额度\n",
      "10,000，已变成呆账，余额500。\n",
      "2. 2004年8月30日中国工商银行北京分行发放的贷记卡（人民币账户，卡片尾号：0002）。截至2016年7月，信用额度50,000，\n",
      "余额5,000（含未出单的大额专项分期余额4,000），当前有逾期。最近5年内有11个月处于逾期状态，其中5个月逾期超\n",
      "过90天。\n",
      "3. 2010年4月1日中国民生银行信用卡中心发放的贷记卡（人民币账户，卡片尾号：0003），2015年12月销户。最近5年内\n",
      "第1页/共5页\n",
      "有7个月处于逾期状态，其中3个月逾期超过90天。\n",
      "2014年3月，该机构声明：该客户委托XX公司偿还贷款，因开发公司不按时还款导致出现多次逾期。\n",
      "透支超过60天的准贷记卡账户明细如下：\n",
      "4. 2005年6月30日中国银行北京分行发放的准贷记卡（人民币账户，卡片尾号：0999）。截至2016年7月，信用额度10,000，\n",
      "透支余额5,000，当前透支超过60天。最近5年内有6个月透支超过60天，其中3个月透支超过90天。\n",
      "5. 2006年3月10日上海浦东发展银行北京分行发放的准贷记卡（人民币账户，卡片尾号：0022），2015年12月销户。最近5\n",
      "年内有20个月透支超过60天，其中16个月透支超过90天。\n",
      "从未逾期过的贷记卡及透支未超过60天的准贷记卡账户明细如下：\n",
      "6. 2005年6月30日中国光大银行北京分行发放的贷记卡（美元账户，卡片尾号：0222）。截至2016年7月，信用额度6,800，\n",
      "余额5,000（含未出单的大额专项分期余额4,000）。\n",
      "7. 2005年7月30日中国光大银行南京分行发放的贷记卡（美元账户）。截至2016年5月，信用额度6,800，已使用额度5,000。\n",
      "8. 2006年7月1日招商银行发放的准贷记卡（人民币账户，卡片尾号：1111），2009年12月销户。\n",
      "9. 2007年6月30日中国光大银行北京分行发放的贷记卡（人民币账户，卡片尾号：2122）。截至2016年7月尚未激活。\n",
      "贷款\n",
      "发生过逾期的账户明细如下：\n",
      "1. 2008年8月30日中国农业银行北京发放的600,000元（美元折人民币）住房贷款（其他机构转入）， 2028年8月30日到\n",
      "期。截至2016年7月，余额为572,750，当前有逾期。最近5年内有1个月处于逾期状态，没有发生过90天以上逾期。\n",
      "2. 2008年9月30日中国农业银行北京分行发放的100,000元（人民币）汽车贷款，2018年8月30日到期。截至2016年7月，\n",
      "余额为72,750，当前无逾期。最近5年内有2个月处于逾期状态，没有发生过90天以上逾期。\n",
      "从未逾期过的账户明细如下：\n",
      "3. 2010年5月8日北京银行金融街支行发放的200,000元（人民币）住房贷款，2029年5月8日到期。截至2016年7月，余\n",
      "额50,000。\n",
      "4. 2012年5月8日中信银行知春路支行发放的100,000元（人民币）个人经营性贷款，2019年5月8日到期。截至2016年7\n",
      "月，余额50,000。\n",
      "5. 2013年4月15日福特汽车金融公司发放的100,000元（人民币）汽车贷款，2013年4月15日到期。截至2016年7月，余\n",
      "额50,000。\n",
      "6. 2011年9月10日招商银行金融街支行发放的300,000元（人民币）住房贷款，2015年12月已结清。\n",
      "其他业务\n",
      "发生过逾期的账户明细如下：\n",
      "1. 2005年10月20日建元资本（中国）融资租赁有限公司办理的500,000元（人民币）融资租赁业务，2020年10月20日到期。\n",
      "截至2011年11月，已变成呆账，最近一次还款日期为2010年11月25日，余额150,000。\n",
      "2. 2005年9月22日建元资本（中国）融资租赁有限公司办理的500,000元（人民币）融资租赁业务，2020年9月22日到期。\n",
      "截至2016年7月，余额400,000，当前无逾期。最近5年内有3个月处于逾期状态，没有发生过90天以上逾期。\n",
      "3. 2006年10月20日中信证券公司办理的500,000元（人民币）约定购回式证券交易，2007年10月19日到期。截至2008年1\n",
      "月，已变成司法追偿，最近一次还款日期为2007年10月15日，余额150,000。\n",
      "4. 2009年9月22日海通证券公司办理的500,000元（人民币）约定购回式证券交易，2010年9月21日到期。截至2016年7\n",
      "月，余额500,000，当前有逾期。最近5年内有1个月处于逾期状态，没有发生过90天以上逾期。\n",
      "从未逾期过的账户明细如下：\n",
      "5. 2014年9月29日建元资本（中国）融资租赁有限公司办理的10,000元（人民币）融资租赁业务，2019年12月28日到期。\n",
      "截至 2016年6月，余额2,000。\n",
      "6. 2015年1月12日建元资本（中国）融资租赁有限公司办理的50,000元（人民币）融资租赁业务， 2016年7月已结清。\n",
      "第2页/共5页\n",
      "7. 2015年6月29日中信证券公司办理的80,000元（人民币）股票质押式回购交易，2018年6月28日到期。截至 2016年7\n",
      "月，余额80,000。\n",
      "8. 2015年7月12日国泰君安证券公司办理的50,000元（人民币）约定购回式证券交易， 2016年7月已结清。\n",
      "相关还款责任信息\n",
      "1.2009年3月2日，为赵四（证件类型：身份证，证件号码：420105198503242420）在中国建设银行金融街支行办理的个人住\n",
      "房商业贷款承担相关还款责任，责任人类型为保证人，相关还款责任金额 50,000（保证合同编号：100022233）。截至 2016\n",
      "年7月5日，个人住房商业贷款余额30,000。\n",
      "2.2010年5月20日，为李三（证件类型：身份证，证件号码：420105197503202424）在中国农业银行信用卡中心办理的贷记卡\n",
      "承担相关还款责任，责任人类型为保证人，相关还款责任金额50,000。截至2016年7月20日，贷记卡余额20,000。\n",
      "3.2012年3月2日，为赵四（证件类型：身份证，证件号码：420105198503242420）在建元资本（中国）融资租赁有限公司办\n",
      "理的约定购回式证券交易业务承担相关还款责任，责任人类型为其他，相关还款责任金额50,000。截至2016年7月5日，\n",
      "约定购回式证券交易余额30,000。\n",
      "4.2009年3月2日，为北京某公司（证件类型：机构信用代码，证件号码：12011819008808）在建设银行北京分行办理的固定\n",
      "资产贷款承担相关还款责任，责任人类型为应收账款债务人，相关还款责任金额200,000。截至2015年5月25日，固定资\n",
      "产贷款余额30,000（人民币）。\n"
     ]
    }
   ],
   "source": [
    "'''\n",
    "提取目标段落内容\n",
    "'''\n",
    "header = \"信贷记录\"\n",
    "\n",
    "sec_span = section_info[header][\"section_idx_span\"]\n",
    "sec_content = text_all[sec_span[0]:sec_span[1]]\n",
    "print(sec_content)"
   ]
  },
  {
   "cell_type": "code",
   "execution_count": null,
   "id": "3a7b888c-063d-4cd0-aabb-87d488a1375c",
   "metadata": {},
   "outputs": [],
   "source": [
    "headers = {\"信息概要\": {\n",
    "                \"资产处置信息\": {}, \n",
    "                \"垫款信息\": {}\n",
    "                },\n",
    "          \"信用卡\": {\n",
    "                \"发生过逾期的贷记卡账户明细如下\": {},\n",
    "                \"透支超过 60 天的准贷记卡账户明细如下\": {},\n",
    "                \"从未逾期过的贷记卡及透支未超过 60 天的准贷记卡账户明细如下\": {}\n",
    "                },\n",
    "          \"\"}"
   ]
  },
  {
   "cell_type": "code",
   "execution_count": null,
   "id": "7dcc337c-d3d5-41ac-816d-4b51530b8189",
   "metadata": {},
   "outputs": [],
   "source": []
  },
  {
   "cell_type": "code",
   "execution_count": null,
   "id": "798bcb4b-b368-4018-ba0b-8c82659456b8",
   "metadata": {},
   "outputs": [],
   "source": []
  },
  {
   "cell_type": "code",
   "execution_count": null,
   "id": "cc941dc2-6692-4df4-af6f-30a9e67aa6d3",
   "metadata": {},
   "outputs": [],
   "source": []
  },
  {
   "cell_type": "code",
   "execution_count": 108,
   "id": "27039a3d-56e9-4c1b-a2d0-231c4bb67e43",
   "metadata": {},
   "outputs": [],
   "source": [
    "from transformers import AutoModelForCausalLM, AutoTokenizer\n",
    "from transformers.generation import GenerationConfig"
   ]
  },
  {
   "cell_type": "code",
   "execution_count": 111,
   "id": "268eb2ac-5d86-4412-9bd1-033bf9de9fe1",
   "metadata": {},
   "outputs": [
    {
     "name": "stderr",
     "output_type": "stream",
     "text": [
      "E:\\miniconda3\\envs\\ZheShang\\lib\\site-packages\\transformers\\tokenization_utils_base.py:1601: FutureWarning: `clean_up_tokenization_spaces` was not set. It will be set to `True` by default. This behavior will be depracted in transformers v4.45, and will be then set to `False` by default. For more details check this issue: https://github.com/huggingface/transformers/issues/31884\n",
      "  warnings.warn(\n"
     ]
    },
    {
     "ename": "ImportError",
     "evalue": "\nAutoModelForCausalLM requires the PyTorch library but it was not found in your environment. Checkout the instructions on the\ninstallation page: https://pytorch.org/get-started/locally/ and follow the ones that match your environment.\nPlease note that you may need to restart your runtime after installation.\n",
     "output_type": "error",
     "traceback": [
      "\u001b[1;31m---------------------------------------------------------------------------\u001b[0m",
      "\u001b[1;31mImportError\u001b[0m                               Traceback (most recent call last)",
      "Cell \u001b[1;32mIn[111], line 6\u001b[0m\n\u001b[0;32m      3\u001b[0m tokenizer \u001b[38;5;241m=\u001b[39m AutoTokenizer\u001b[38;5;241m.\u001b[39mfrom_pretrained(model, trust_remote_code\u001b[38;5;241m=\u001b[39m\u001b[38;5;28;01mTrue\u001b[39;00m)\n\u001b[0;32m      5\u001b[0m \u001b[38;5;66;03m# Only Qwen-72B-Chat and Qwen-1_8B-Chat has system prompt enhancement now.\u001b[39;00m\n\u001b[1;32m----> 6\u001b[0m model \u001b[38;5;241m=\u001b[39m \u001b[43mAutoModelForCausalLM\u001b[49m\u001b[38;5;241;43m.\u001b[39;49m\u001b[43mfrom_pretrained\u001b[49m(model, device_map\u001b[38;5;241m=\u001b[39m\u001b[38;5;124m\"\u001b[39m\u001b[38;5;124mauto\u001b[39m\u001b[38;5;124m\"\u001b[39m, trust_remote_code\u001b[38;5;241m=\u001b[39m\u001b[38;5;28;01mTrue\u001b[39;00m)\u001b[38;5;241m.\u001b[39meval()\n\u001b[0;32m      7\u001b[0m \u001b[38;5;66;03m# model = AutoModelForCausalLM.from_pretrained(\"Qwen/Qwen-72B-Chat\", device_map=\"auto\", trust_remote_code=True).eval()\u001b[39;00m\n\u001b[0;32m      9\u001b[0m response, _ \u001b[38;5;241m=\u001b[39m model\u001b[38;5;241m.\u001b[39mchat(tokenizer, \u001b[38;5;124m\"\u001b[39m\u001b[38;5;124m你好呀\u001b[39m\u001b[38;5;124m\"\u001b[39m, history\u001b[38;5;241m=\u001b[39m\u001b[38;5;28;01mNone\u001b[39;00m, system\u001b[38;5;241m=\u001b[39m\u001b[38;5;124m\"\u001b[39m\u001b[38;5;124m请用二次元可爱语气和我说话\u001b[39m\u001b[38;5;124m\"\u001b[39m)\n",
      "File \u001b[1;32mE:\\miniconda3\\envs\\ZheShang\\lib\\site-packages\\transformers\\utils\\import_utils.py:1543\u001b[0m, in \u001b[0;36mDummyObject.__getattribute__\u001b[1;34m(cls, key)\u001b[0m\n\u001b[0;32m   1541\u001b[0m \u001b[38;5;28;01mif\u001b[39;00m key\u001b[38;5;241m.\u001b[39mstartswith(\u001b[38;5;124m\"\u001b[39m\u001b[38;5;124m_\u001b[39m\u001b[38;5;124m\"\u001b[39m) \u001b[38;5;129;01mand\u001b[39;00m key \u001b[38;5;241m!=\u001b[39m \u001b[38;5;124m\"\u001b[39m\u001b[38;5;124m_from_config\u001b[39m\u001b[38;5;124m\"\u001b[39m:\n\u001b[0;32m   1542\u001b[0m     \u001b[38;5;28;01mreturn\u001b[39;00m \u001b[38;5;28msuper\u001b[39m()\u001b[38;5;241m.\u001b[39m\u001b[38;5;21m__getattribute__\u001b[39m(key)\n\u001b[1;32m-> 1543\u001b[0m \u001b[43mrequires_backends\u001b[49m\u001b[43m(\u001b[49m\u001b[38;5;28;43mcls\u001b[39;49m\u001b[43m,\u001b[49m\u001b[43m \u001b[49m\u001b[38;5;28;43mcls\u001b[39;49m\u001b[38;5;241;43m.\u001b[39;49m\u001b[43m_backends\u001b[49m\u001b[43m)\u001b[49m\n",
      "File \u001b[1;32mE:\\miniconda3\\envs\\ZheShang\\lib\\site-packages\\transformers\\utils\\import_utils.py:1531\u001b[0m, in \u001b[0;36mrequires_backends\u001b[1;34m(obj, backends)\u001b[0m\n\u001b[0;32m   1529\u001b[0m failed \u001b[38;5;241m=\u001b[39m [msg\u001b[38;5;241m.\u001b[39mformat(name) \u001b[38;5;28;01mfor\u001b[39;00m available, msg \u001b[38;5;129;01min\u001b[39;00m checks \u001b[38;5;28;01mif\u001b[39;00m \u001b[38;5;129;01mnot\u001b[39;00m available()]\n\u001b[0;32m   1530\u001b[0m \u001b[38;5;28;01mif\u001b[39;00m failed:\n\u001b[1;32m-> 1531\u001b[0m     \u001b[38;5;28;01mraise\u001b[39;00m \u001b[38;5;167;01mImportError\u001b[39;00m(\u001b[38;5;124m\"\u001b[39m\u001b[38;5;124m\"\u001b[39m\u001b[38;5;241m.\u001b[39mjoin(failed))\n",
      "\u001b[1;31mImportError\u001b[0m: \nAutoModelForCausalLM requires the PyTorch library but it was not found in your environment. Checkout the instructions on the\ninstallation page: https://pytorch.org/get-started/locally/ and follow the ones that match your environment.\nPlease note that you may need to restart your runtime after installation.\n"
     ]
    }
   ],
   "source": [
    "model = \"D:\\models\\Qwen-1_8B-Chat\"\n",
    "\n",
    "tokenizer = AutoTokenizer.from_pretrained(model, trust_remote_code=True)\n",
    "\n",
    "# Only Qwen-72B-Chat and Qwen-1_8B-Chat has system prompt enhancement now.\n",
    "model = AutoModelForCausalLM.from_pretrained(model, device_map=\"auto\", trust_remote_code=True).eval()\n",
    "# model = AutoModelForCausalLM.from_pretrained(\"Qwen/Qwen-72B-Chat\", device_map=\"auto\", trust_remote_code=True).eval()\n",
    "\n",
    "response, _ = model.chat(tokenizer, \"你好呀\", history=None, system=\"请用二次元可爱语气和我说话\")\n",
    "print(response)"
   ]
  },
  {
   "cell_type": "code",
   "execution_count": null,
   "id": "8a008b9d-bcdd-469b-bb84-5242d1438d7f",
   "metadata": {},
   "outputs": [],
   "source": []
  }
 ],
 "metadata": {
  "kernelspec": {
   "display_name": "Python 3 (ipykernel)",
   "language": "python",
   "name": "python3"
  },
  "language_info": {
   "codemirror_mode": {
    "name": "ipython",
    "version": 3
   },
   "file_extension": ".py",
   "mimetype": "text/x-python",
   "name": "python",
   "nbconvert_exporter": "python",
   "pygments_lexer": "ipython3",
   "version": "3.10.14"
  }
 },
 "nbformat": 4,
 "nbformat_minor": 5
}
