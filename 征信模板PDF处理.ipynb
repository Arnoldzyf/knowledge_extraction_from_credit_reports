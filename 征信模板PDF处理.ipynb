{
 "cells": [
  {
   "cell_type": "code",
   "execution_count": 3,
   "id": "6d46b706-72ca-482b-a1fa-469829fd80f7",
   "metadata": {},
   "outputs": [
    {
     "name": "stdout",
     "output_type": "stream",
     "text": [
      "start\n",
      "征信模板pdf提取函数如下：\n"
     ]
    }
   ],
   "source": [
    "print('start')\n",
    "print('征信模板pdf提取函数如下：')"
   ]
  },
  {
   "cell_type": "code",
   "execution_count": 5,
   "id": "824a0e29-c8da-4129-b3e1-6df706c9b78f",
   "metadata": {},
   "outputs": [],
   "source": [
    "# 读取PDF\n",
    "import PyPDF2\n",
    "# 分析PDF的layout，提取文本\n",
    "from pdfminer.high_level import extract_pages, extract_text\n",
    "from pdfminer.layout import LTTextContainer, LTChar, LTRect, LTFigure\n",
    "# 从PDF的表格中提取文本和表格\n",
    "import pdfplumber\n",
    "import sys\n",
    "\n",
    "#创建一个文本提取函数\n",
    "def text_extraction(element):\n",
    "    # 从行元素中提取文本\n",
    "    line_text = element.get_text().strip('\\n')\n",
    "    line_text = line_text.replace(\"\\n\",\": \")\n",
    "    # 探析文本的格式\n",
    "    #用文本行中出现的所有格式初始化列表\n",
    "    line_formats = []\n",
    "    for text_line in element:\n",
    "        if isinstance(text_line, LTTextContainer):\n",
    "            #遍历文本行中的每个字符\n",
    "            for character in text_line:##\n",
    "                if isinstance(character, LTChar):\n",
    "                    #追加字符的font-family\n",
    "                    line_formats.append(character.fontname)\n",
    "                    # 追加字符的font-size\n",
    "                    line_formats.append(character.size)\n",
    "        #找到行中唯一的字体大小和名称\n",
    "        format_per_line = list(set(line_formats))\n",
    "        # 返回包含每行文本及其格式的元组\n",
    "    return (line_text+'\\n', format_per_line)"
   ]
  },
  {
   "cell_type": "code",
   "execution_count": 6,
   "id": "5c1a5d5a-e5c9-4707-af04-54176f1e7c4b",
   "metadata": {},
   "outputs": [],
   "source": [
    "#从页面中提取表格内容\n",
    "def extract_table(pdf_path, page_num, table_num):\n",
    "    # 打开PDF文件\n",
    "    pdf = pdfplumber.open(pdf_path)\n",
    "    # 查找已检查的页面\n",
    "    table_page = pdf.pages[page_num]\n",
    "    # 提取适当的表格\n",
    "    table = table_page.extract_tables()[table_num]\n",
    "    return table\n",
    "\n",
    "# 将表格转换为适当的格式\n",
    "def table_converter(table):\n",
    "    table_string = ''\n",
    "    # 遍历表格的每一行\n",
    "    for row_num in range(len(table)):\n",
    "        row = table[row_num]\n",
    "        # 从warp的文字删除线路断路器\n",
    "        cleaned_row = [item.replace('\\n', ' ') if item is not None and '\\n' in item else 'None' if item is None else item for item in row]\n",
    "        # 将表格转换为字符串，注意'|'、'\\n'\n",
    "        table_string+=('|'+'|'.join(cleaned_row)+'|'+'\\n')#\n",
    "        # 删除最后一个换行符\n",
    "        table_string = table_string[:-1]\n",
    "    return table_string\n"
   ]
  },
  {
   "cell_type": "code",
   "execution_count": 7,
   "id": "6944516d-e7c2-45ff-9f47-14d0a1aa6b6e",
   "metadata": {},
   "outputs": [],
   "source": [
    "def PDF_extract(): ##############################################\n",
    "    # 查找PDF路径\n",
    "    pdf_path = 'F:/浙商nlp项目/征信模板.pdf'\n",
    "    # 创建字典以从每个图像中提取文本\n",
    "    text_per_page = {}\n",
    "    # 打开pdf文件\n",
    "    pdf = pdfplumber.open(pdf_path)\n",
    "    # 我们从PDF中提取页面\n",
    "    pages_info_all = list(extract_pages(pdf_path))\n",
    "    for pagenum, page in enumerate(pages_info_all):  # [:1]\n",
    "\n",
    "        # 初始化从页面中提取文本所需的变量\n",
    "        page_text = []\n",
    "        line_format = []\n",
    "        text_from_tables = []\n",
    "        page_content = []\n",
    "\n",
    "        # 初始化检查表的数量\n",
    "        table_num = 0\n",
    "        first_element = True\n",
    "        table_extraction_flag = False\n",
    "\n",
    "        # 查找已检查的页面\n",
    "        page_tables = pdf.pages[pagenum]\n",
    "        # 找出本页上的表格数目\n",
    "        tables = page_tables.find_tables()\n",
    "        # 找出本页表格边界\n",
    "        upper_side_list = [page.bbox[3] - tables[table_num].bbox[1] for table_num in range(len(tables))]\n",
    "        lower_side_list = [page.bbox[3] - tables[table_num].bbox[3] for table_num in range(len(tables))]\n",
    "\n",
    "        # 找到所有的元素\n",
    "        page_elements = [(element.y1, element) for element in page._objs]\n",
    "\n",
    "        # 对页面中出现的所有元素进行排序，感觉不需要吧\n",
    "        page_elements.sort(key=lambda a: a[0], reverse=True)\n",
    "\n",
    "        # 查找组成页面的元素\n",
    "        for i, component in enumerate(page_elements):\n",
    "            # 提取PDF中元素顶部的位置\n",
    "            # pos= component[0]\n",
    "            # 提取页面布局的元素\n",
    "            element = component[1]\n",
    "\n",
    "            # 检查表的元素\n",
    "            if isinstance(element, LTRect):\n",
    "                table_content = []\n",
    "\n",
    "                # 如果第一个矩形元素\n",
    "                if first_element == True and (table_num + 1) <= len(tables) and element.y1 <= upper_side_list[table_num]:\n",
    "                    # 从表中提取信息\n",
    "                    table = extract_table(pdf_path, pagenum, table_num)\n",
    "                    # 将表信息转换为结构化字符串格式\n",
    "                    table_string = table_converter(table)\n",
    "                    # 将表字符串追加到列表中\n",
    "                    table_content.append(table)\n",
    "                    table_content.append(table_string)\n",
    "                    text_from_tables.append(table_content)\n",
    "                    page_content.append(table)\n",
    "                    # 将标志设置为True以再次避免该内容\n",
    "                    table_extraction_flag = True\n",
    "                    # 让它成为另一个元素\n",
    "                    table_num += 1\n",
    "\n",
    "                # 检查我们是否是上个表内信息\n",
    "                if element.y0 >= lower_side_list[table_num - 1] and element.y1 <= upper_side_list[table_num - 1]:\n",
    "                    pass\n",
    "                elif not isinstance(page_elements[i + 1][1], LTRect):\n",
    "                    table_extraction_flag = False\n",
    "                    first_element = True\n",
    "\n",
    "            # 检查该元素是否为文本元素\n",
    "            if isinstance(element, LTTextContainer):\n",
    "                # 检查文本是否出现在表中\n",
    "                if table_extraction_flag == False:\n",
    "                    # 使用该函数提取每个文本元素的文本和格式\n",
    "                    (line_text, format_per_line) = text_extraction(element)\n",
    "                    # 将每行的文本追加到页文本\n",
    "                    page_text.append(line_text)\n",
    "                    # 附加每一行包含文本的格式\n",
    "                    line_format.append(format_per_line)\n",
    "                    page_content.append(line_text)\n",
    "                else:\n",
    "                    # 省略表中出现的文本\n",
    "                    pass\n",
    "\n",
    "        # 创建字典的键\n",
    "        dctkey = 'Page_' + str(pagenum)\n",
    "        # 将list的列表添加为页键的值\n",
    "        text_per_page[dctkey] = [page_text, line_format, text_from_tables, page_content]\n",
    "\n",
    "    return text_from_tables"
   ]
  },
  {
   "cell_type": "code",
   "execution_count": 8,
   "id": "b2f1aaa2-f7eb-4e9a-8156-bb75b121a792",
   "metadata": {},
   "outputs": [],
   "source": [
    "extract=PDF_extract()"
   ]
  },
  {
   "cell_type": "code",
   "execution_count": 11,
   "id": "733b07d3-2390-4c1c-8ced-edb4ea0d3f31",
   "metadata": {},
   "outputs": [
    {
     "name": "stdout",
     "output_type": "stream",
     "text": [
      "[[['后付费业务的还款状态说明：'], ['电信业务：\\n*-服务已开通但本月不需缴费；\\nN-正常（用户已经按时缴纳该月全部服务费用，包括在宽限期内的用户）；\\n0-欠费超过宽限期不足1个月；\\n1-欠费超过宽限期1个月不足2个月；\\n2-欠费超过宽限期2个月不足3个月；\\n3-欠费超过宽限期3个月不足4个月；\\n4-欠费超过宽限期4个月不足5个月；\\n5-欠费超过宽限期5个月不足6个月；\\n6-欠费超过宽限期6个月以上；\\nC-正常销户（结清后的销户）； G-结束（非正常结清的销户）；\\n#-未知：没有此期数据。']], '|后付费业务的还款状态说明：||电信业务： *-服务已开通但本月不需缴费； N-正常（用户已经按时缴纳该月全部服务费用，包括在宽限期内的用户）； 0-欠费超过宽限期不足1个月； 1-欠费超过宽限期1个月不足2个月； 2-欠费超过宽限期2个月不足3个月； 3-欠费超过宽限期3个月不足4个月； 4-欠费超过宽限期4个月不足5个月； 5-欠费超过宽限期5个月不足6个月； 6-欠费超过宽限期6个月以上； C-正常销户（结清后的销户）； G-结束（非正常结清的销户）； #-未知：没有此期数据。|']\n"
     ]
    }
   ],
   "source": [
    "print(extract[1])"
   ]
  },
  {
   "cell_type": "code",
   "execution_count": 12,
   "id": "6492307c-8fba-4287-a438-787c689a74f2",
   "metadata": {},
   "outputs": [
    {
     "name": "stdout",
     "output_type": "stream",
     "text": [
      "为了将其中的表格进行json表示，将得到的表格数据进行处理，先用示例\n"
     ]
    }
   ],
   "source": [
    "print('为了将其中的表格进行json表示，将得到的表格数据进行处理，先用示例')"
   ]
  },
  {
   "cell_type": "code",
   "execution_count": 16,
   "id": "e6304d40-ca65-4cb6-b331-ddaabdafe491",
   "metadata": {},
   "outputs": [
    {
     "name": "stdout",
     "output_type": "stream",
     "text": [
      "由于表格中含有较多混合表格，涉及同一表格内的上下对齐与左右对齐，目前没有想到能够准确判断什么时候纵向匹配，什么时候横向匹配，\n",
      "就先拿表格中出现较多的“编号”为标志进行筛选,形成表格的json格式代码如下\n"
     ]
    }
   ],
   "source": [
    "print('由于表格中含有较多混合表格，涉及同一表格内的上下对齐与左右对齐，目前没有想到能够准确判断什么时候纵向匹配，什么时候横向匹配，')\n",
    "print('就先拿表格中出现较多的“编号”为标志进行筛选,形成表格的json格式代码如下')"
   ]
  },
  {
   "cell_type": "code",
   "execution_count": 31,
   "id": "ffbec395-1463-4007-9964-94cc1d0fe238",
   "metadata": {},
   "outputs": [],
   "source": [
    "def merge_dict(d):#检查，进行列横行对应\n",
    "    #d = {'证件类型': '护照', '证件号码': 'G30003516', '被查询者证件号码': '110108******181X', '查询机构': '中国人民银行营业管理部', '护照': '军官证', 'G30003516': 'M0938981'}  # {'证件类型': '护照', '护照': '军官证'}\n",
    "    result = {}\n",
    "    seen_values = set()\n",
    "\n",
    "    for key, value in d.items():\n",
    "        if isinstance(value,list):\n",
    "            result[key]=value\n",
    "            return result\n",
    "        elif isinstance(value,str):\n",
    "            if value in seen_values:\n",
    "                continue\n",
    "            seen_values.add(value)\n",
    "            if value in d:\n",
    "                result[key] = [value, d[value]]\n",
    "            elif key in seen_values:\n",
    "                continue\n",
    "            else:\n",
    "                result[key] = [value]\n",
    "    return result\n",
    "# merged_dict = merge_dict()"
   ]
  },
  {
   "cell_type": "code",
   "execution_count": 18,
   "id": "259c72ef-f37e-4850-b3ca-8dc602da789b",
   "metadata": {},
   "outputs": [],
   "source": [
    "def table2json1(lis):#不能表格行数少于三行，否则直接跳出循环\n",
    "    dicc = {}\n",
    "    for linea in range(int(len(lis)/2-1)):#列竖行对应\n",
    "        for t,z in enumerate(lis[2*linea]):\n",
    "            if z == None:#表格合并，无值情况\n",
    "                continue\n",
    "            elif '：' in z:#有冒号情况\n",
    "                str, st = z.split('：')\n",
    "                dicc[str] = st\n",
    "            elif len(z) == 0:#‘’情况\n",
    "                continue\n",
    "            elif '编号' in z:#横行读情况\n",
    "                ss = lis[linea*2:]  # 有个问题，要是横行对应的不到表格末端也会有问题\n",
    "                #transposed = [[row[i] for row in ss] for i in range(len(ss[0]))]#列表转秩\n",
    "                zilis = []\n",
    "                tem = {}\n",
    "                dicc['biao_title'] = zilis\n",
    "                for r in range(int(len(ss)-1)):#列\n",
    "                    for a, b in enumerate(ss[r+1]):#行  第一行做表头\n",
    "                        if b == None:#表格合并，无值情况\n",
    "                            continue\n",
    "                        elif len(b) == 0:#‘’情况\n",
    "                            continue\n",
    "                        else:\n",
    "                            tem[ss[0][a]]=b\n",
    "                    temp = tem.copy()\n",
    "                    dicc['biao_title'].append(temp)\n",
    "                    tem={}\n",
    "                return dicc\n",
    "            else:\n",
    "                dicc[z] = lis[2*linea + 1][t]\n",
    "    return dicc"
   ]
  },
  {
   "cell_type": "code",
   "execution_count": 3,
   "id": "dfa93d90-90df-4b72-991a-4d90ecab2636",
   "metadata": {},
   "outputs": [
    {
     "name": "stdout",
     "output_type": "stream",
     "text": [
      "测试单条列表，以PDF中不同形式的表格分别为例子，进行测试\n"
     ]
    }
   ],
   "source": [
    "print('测试单条列表，以PDF中不同形式的表格分别为例子，进行测试')"
   ]
  },
  {
   "cell_type": "code",
   "execution_count": 13,
   "id": "ab3d6b5c-a5d1-4903-b24e-e4a1dc0ea45b",
   "metadata": {},
   "outputs": [],
   "source": [
    "s = [['编号', '居住地址', '住宅电话', '居住状况', '信息更新日期'],\n",
    "     ['1', '北京市朝阳区春晓园北区7号楼C555室', '010—83234323', '按揭', '2015.05.01'],\n",
    "     ['2', '北京市海淀区学院路20号院甲2号楼401室', '010—62123212', '集体宿舍', '2015.01.22'],\n",
    "     ['3', '北京市西城区复兴门北大街4号楼603室', '010—59873232', '租房', '2014.02.01'], \n",
    "     ['4', '北京市西城区西交民巷64号院1号楼201室', '010—59000011', '租房', '2014.01.22'], \n",
    "     ['5', '北京市海淀区花园路10号院3号楼701室', '010—57889900', '租房', '2013.11.12'], \n",
    "     ['编号', '数据发生机构名称', None, None, None], \n",
    "     ['1', '工商银行', None, None, None], \n",
    "     ['2', '中国银行', None, None, None], \n",
    "     ['3', '农业银行', None, None, None], \n",
    "     ['4', '中信银行', None, None, None], \n",
    "     ['5', '建设银行', None, None, None]]"
   ]
  },
  {
   "cell_type": "code",
   "execution_count": 21,
   "id": "e35770ca-480e-4898-b125-13873e27e65b",
   "metadata": {},
   "outputs": [],
   "source": [
    "tt= [['编号', '工作单位', '单位性质', '单位地址', None, None, '单位电话'], \n",
    "     ['1', '中国人民银行征信中心企业部', '机关、事业单位', '北京市西城区金融大街35号\\\\n国际企业大厦A座305室', None, None, '010—83233333'], \n",
    "     ['2', '北京大学信息科学技术学院软件\\\\n工程研究所', '机关、事业单位', '北京市海淀区颐和园路5号\\\\n理科3号楼601室', None, None, '010—62123333'],\n",
    "     ['3', '中科院微电子研究所', '机关、事业单位', '北京市海淀区清华园1号', None, None, '010—59875555'],\n",
    "     ['4', '北京威力公司', '个体、私营企业', '北京市朝阳区北土城西路3号', None, None, '010—59006666'], \n",
    "     ['5', 'IBM软件中心', '外资企业', '北京市朝阳区北辰东路8号', None, None, '010—57889900'], \n",
    "     ['编号', '职业', '行业', '职务', '职称', '进入本单位年份', '信息更新日期'], \n",
    "     ['1', '办事人员和有关人员', '金融业', '中级领导', '中级', '2008', '2015.05.01'], \n",
    "     ['2', '专业技术人员', '科学研究和技术服务业', '中级领导', '中级', '2007', '2015.01.22'],\n",
    "     ['3', '专业技术人员', '科学研究和技术服务业', '一般员工', '初级', '2004', '2014.02.01'], \n",
    "     ['4', '专业技术人员', '科学研究和技术服务业', '一般员工', '初级', '2003', '2014.01.22'], \n",
    "     ['5', '专业技术人员', '科学研究和技术服务业', '一般员工', '初级', '2001', '2013.11.12'], \n",
    "     ['编号', '数据发生机构名称', None, None, None, None, None],\n",
    "     ['1', '工商银行', None, None, None, None, None],\n",
    "     ['2', '中国银行', None, None, None, None, None], \n",
    "     ['3', '农业银行', None, None, None, None, None], \n",
    "     ['4', '中信银行', None, None, None, None, None], \n",
    "     ['5', '建设银行', None, None, None, None, None]]"
   ]
  },
  {
   "cell_type": "code",
   "execution_count": 6,
   "id": "98a43416-5b58-41da-a065-0cfbe1fafd9d",
   "metadata": {},
   "outputs": [],
   "source": [
    "q = [['', '防欺诈警示', None, ''],\n",
    "     ['信息主体申请设置防欺诈警示，联系电话：010—90000000/13900000000。', None, None, None],\n",
    "     ['生效日期', None, '截止日期', None],\n",
    "     ['2015年5月29日', None, '2016年5月28日', None]]"
   ]
  },
  {
   "cell_type": "code",
   "execution_count": 8,
   "id": "dff2ab72-3f69-4e7f-88f1-5b0506074f91",
   "metadata": {},
   "outputs": [],
   "source": [
    "ll=[['编号', '手机号码', None, '信息更新日期', '数据发生机构名称'],\n",
    "      ['1', '13811117777', None, '2015.05.01', '工商银行'],\n",
    "      ['2', '13811112222', None, '2015.01.22', '中国银行'],\n",
    "      ['3', '13900000000', None, '2014.02.01', '农业银行'],\n",
    "      ['4', '13300000000', None, '2014.01.22', '中信银行'],\n",
    "      ['5', '18600000000', None, '2013.11.12', '建设银行']]"
   ]
  },
  {
   "cell_type": "code",
   "execution_count": 9,
   "id": "7bbd2722-4e90-4b98-91c0-6c87b65933a4",
   "metadata": {},
   "outputs": [],
   "source": [
    "gg = [['性别', None, '出生日期', '婚姻状况', '就业状况'],\n",
    "      ['男', None, '1981.08.15', '已婚', '在职'],\n",
    "      ['数据发生机构名称', None, '数据发生机构名称', '数据发生机构名称', '数据发生机构名称'],\n",
    "      ['工商银行', None, '工商银行', '工商银行', '工商银行'],\n",
    "      ['学历', None, '学位', '国籍', '电子邮箱'],\n",
    "      ['本科', None, '学士', '中国', 'zhang15@hotmail.com'],\n",
    "      ['数据发生机构名称', None, '数据发生机构名称', '数据发生机构名称', '数据发生机构名称'],\n",
    "      ['工商银行', None, '工商银行', '工商银行', '工商银行'],\n",
    "      ['通讯地址', None, None, '户籍地址', None],\n",
    "      ['北京市西城区金融大街35号国际企业大厦A座301室', None, None, '北京市朝阳区春晓园北区7号楼C522室', None],\n",
    "      ['数据发生机构名称', None, None, '数据发生机构名称', None],\n",
    "      ['工商银行', None, None, '工商银行', None],\n",
    "      ['编号', '手机号码', None, '信息更新日期', '数据发生机构名称'],\n",
    "      ['1', '13811117777', None, '2015.05.01', '工商银行'],\n",
    "      ['2', '13811112222', None, '2015.01.22', '中国银行'],\n",
    "      ['3', '13900000000', None, '2014.02.01', '农业银行'],\n",
    "      ['4', '13300000000', None, '2014.01.22', '中信银行'],\n",
    "      ['5', '18600000000', None, '2013.11.12', '建设银行']]"
   ]
  },
  {
   "cell_type": "code",
   "execution_count": 19,
   "id": "f6332009-6869-4733-b17a-e895d531e549",
   "metadata": {},
   "outputs": [
    {
     "name": "stdout",
     "output_type": "stream",
     "text": [
      "{'性别': '男', '出生日期': '1981.08.15', '婚姻状况': '已婚', '就业状况': '在职', '数据发生机构名称': '工商银行', '学历': '本科', '学位': '学士', '国籍': '中国', '电子邮箱': 'zhang15@hotmail.com', '通讯地址': '北京市西城区金融大街35号国际企业大厦A座301室', '户籍地址': '北京市朝阳区春晓园北区7号楼C522室', 'biao_title': [{'编号': '1', '手机号码': '13811117777', '信息更新日期': '2015.05.01', '数据发生机构名称': '工商银行'}, {'编号': '2', '手机号码': '13811112222', '信息更新日期': '2015.01.22', '数据发生机构名称': '中国银行'}, {'编号': '3', '手机号码': '13900000000', '信息更新日期': '2014.02.01', '数据发生机构名称': '农业银行'}, {'编号': '4', '手机号码': '13300000000', '信息更新日期': '2014.01.22', '数据发生机构名称': '中信银行'}, {'编号': '5', '手机号码': '18600000000', '信息更新日期': '2013.11.12', '数据发生机构名称': '建设银行'}]}\n"
     ]
    }
   ],
   "source": [
    "new = table2json1(gg)\n",
    "print(new)"
   ]
  },
  {
   "cell_type": "code",
   "execution_count": 28,
   "id": "9ea34f67-55f4-46b0-9beb-8994a5f1c612",
   "metadata": {},
   "outputs": [
    {
     "name": "stdout",
     "output_type": "stream",
     "text": [
      "{'性别': ['男'], '出生日期': ['1981.08.15'], '婚姻状况': ['已婚'], '就业状况': ['在职'], '数据发生机构名称': ['工商银行'], '学历': ['本科'], '学位': ['学士'], '国籍': ['中国'], '电子邮箱': ['zhang15@hotmail.com'], '通讯地址': ['北京市西城区金融大街35号国际企业大厦A座301室'], '户籍地址': ['北京市朝阳区春晓园北区7号楼C522室'], 'biao_title': [{'编号': '1', '手机号码': '13811117777', '信息更新日期': '2015.05.01', '数据发生机构名称': '工商银行'}, {'编号': '2', '手机号码': '13811112222', '信息更新日期': '2015.01.22', '数据发生机构名称': '中国银行'}, {'编号': '3', '手机号码': '13900000000', '信息更新日期': '2014.02.01', '数据发生机构名称': '农业银行'}, {'编号': '4', '手机号码': '13300000000', '信息更新日期': '2014.01.22', '数据发生机构名称': '中信银行'}, {'编号': '5', '手机号码': '18600000000', '信息更新日期': '2013.11.12', '数据发生机构名称': '建设银行'}]}\n"
     ]
    }
   ],
   "source": [
    "dic = merge_dict(new)#检查，进行列横行对应\n",
    "print(dic)"
   ]
  },
  {
   "cell_type": "code",
   "execution_count": 20,
   "id": "8e3416a6-1c5c-4628-9e15-58e2afb96a99",
   "metadata": {},
   "outputs": [
    {
     "name": "stdout",
     "output_type": "stream",
     "text": [
      "{'biao_title': [{'编号': '1', '居住地址': '北京市朝阳区春晓园北区7号楼C555室', '住宅电话': '010—83234323', '居住状况': '按揭', '信息更新日期': '2015.05.01'}, {'编号': '2', '居住地址': '北京市海淀区学院路20号院甲2号楼401室', '住宅电话': '010—62123212', '居住状况': '集体宿舍', '信息更新日期': '2015.01.22'}, {'编号': '3', '居住地址': '北京市西城区复兴门北大街4号楼603室', '住宅电话': '010—59873232', '居住状况': '租房', '信息更新日期': '2014.02.01'}, {'编号': '4', '居住地址': '北京市西城区西交民巷64号院1号楼201室', '住宅电话': '010—59000011', '居住状况': '租房', '信息更新日期': '2014.01.22'}, {'编号': '5', '居住地址': '北京市海淀区花园路10号院3号楼701室', '住宅电话': '010—57889900', '居住状况': '租房', '信息更新日期': '2013.11.12'}, {'编号': '编号', '居住地址': '数据发生机构名称'}, {'编号': '1', '居住地址': '工商银行'}, {'编号': '2', '居住地址': '中国银行'}, {'编号': '3', '居住地址': '农业银行'}, {'编号': '4', '居住地址': '中信银行'}, {'编号': '5', '居住地址': '建设银行'}]}\n"
     ]
    }
   ],
   "source": [
    "new2 = table2json1(s)\n",
    "print(new2)"
   ]
  },
  {
   "cell_type": "code",
   "execution_count": 22,
   "id": "5ed4410d-b87f-4e34-a3ab-d0f84c62ff2b",
   "metadata": {},
   "outputs": [
    {
     "name": "stdout",
     "output_type": "stream",
     "text": [
      "{'biao_title': [{'编号': '1', '工作单位': '中国人民银行征信中心企业部', '单位性质': '机关、事业单位', '单位地址': '北京市西城区金融大街35号\\\\n国际企业大厦A座305室', '单位电话': '010—83233333'}, {'编号': '2', '工作单位': '北京大学信息科学技术学院软件\\\\n工程研究所', '单位性质': '机关、事业单位', '单位地址': '北京市海淀区颐和园路5号\\\\n理科3号楼601室', '单位电话': '010—62123333'}, {'编号': '3', '工作单位': '中科院微电子研究所', '单位性质': '机关、事业单位', '单位地址': '北京市海淀区清华园1号', '单位电话': '010—59875555'}, {'编号': '4', '工作单位': '北京威力公司', '单位性质': '个体、私营企业', '单位地址': '北京市朝阳区北土城西路3号', '单位电话': '010—59006666'}, {'编号': '5', '工作单位': 'IBM软件中心', '单位性质': '外资企业', '单位地址': '北京市朝阳区北辰东路8号', '单位电话': '010—57889900'}, {'编号': '编号', '工作单位': '职业', '单位性质': '行业', '单位地址': '职务', None: '进入本单位年份', '单位电话': '信息更新日期'}, {'编号': '1', '工作单位': '办事人员和有关人员', '单位性质': '金融业', '单位地址': '中级领导', None: '2008', '单位电话': '2015.05.01'}, {'编号': '2', '工作单位': '专业技术人员', '单位性质': '科学研究和技术服务业', '单位地址': '中级领导', None: '2007', '单位电话': '2015.01.22'}, {'编号': '3', '工作单位': '专业技术人员', '单位性质': '科学研究和技术服务业', '单位地址': '一般员工', None: '2004', '单位电话': '2014.02.01'}, {'编号': '4', '工作单位': '专业技术人员', '单位性质': '科学研究和技术服务业', '单位地址': '一般员工', None: '2003', '单位电话': '2014.01.22'}, {'编号': '5', '工作单位': '专业技术人员', '单位性质': '科学研究和技术服务业', '单位地址': '一般员工', None: '2001', '单位电话': '2013.11.12'}, {'编号': '编号', '工作单位': '数据发生机构名称'}, {'编号': '1', '工作单位': '工商银行'}, {'编号': '2', '工作单位': '中国银行'}, {'编号': '3', '工作单位': '农业银行'}, {'编号': '4', '工作单位': '中信银行'}, {'编号': '5', '工作单位': '建设银行'}]}\n"
     ]
    }
   ],
   "source": [
    "new = table2json1(tt)\n",
    "print(new)"
   ]
  },
  {
   "cell_type": "code",
   "execution_count": 23,
   "id": "62cd5d1d-3728-4a78-9f2c-f8d29fe875bc",
   "metadata": {},
   "outputs": [
    {
     "name": "stdout",
     "output_type": "stream",
     "text": [
      "对于行数较少的列表可以用以下函数处理\n"
     ]
    }
   ],
   "source": [
    "print('对于行数较少的列表可以用以下函数处理')"
   ]
  },
  {
   "cell_type": "code",
   "execution_count": 24,
   "id": "9f57ddfe-7fc1-47ff-a0cb-b67ff223bb52",
   "metadata": {},
   "outputs": [],
   "source": [
    "def table2json2(lis):#表格行数较少，不会出现横行对应情况\n",
    "    dicc = {}\n",
    "    for linea in range(int(len(lis)-1)):#列竖行对应\n",
    "        for t,z in enumerate(lis[linea]):\n",
    "            if z == None:#表格合并，无值情况\n",
    "                continue\n",
    "            elif '：' in z:#有冒号情况\n",
    "                str, st = z.split('：')\n",
    "                dicc[str] = st\n",
    "            elif len(z) == 0:#‘’情况\n",
    "                continue\n",
    "            else:\n",
    "                dicc[z] = lis[linea + 1][t]\n",
    "    return dicc"
   ]
  },
  {
   "cell_type": "code",
   "execution_count": 25,
   "id": "62190f12-da30-4161-8d88-7ad510998514",
   "metadata": {},
   "outputs": [],
   "source": [
    "vv = [['报告编号：201506010000332123', None, None, '报告时间：2015.06.01 10:05:15', None],\n",
    "    ['被查询者姓名', '被查询者证件类型', '被查询者证件号码', '查询机构', '查询原因'],\n",
    "    ['张十五', '身份证', '110108******181X', '中国人民银行营业管理部', '本人查询（临柜）']]"
   ]
  },
  {
   "cell_type": "code",
   "execution_count": 26,
   "id": "f9145653-51dd-4155-93c6-b2f592650599",
   "metadata": {},
   "outputs": [
    {
     "name": "stdout",
     "output_type": "stream",
     "text": [
      "{'报告编号': '201506010000332123', '报告时间': '2015.06.01 10:05:15', '被查询者姓名': '张十五', '被查询者证件类型': '身份证', '被查询者证件号码': '110108******181X', '查询机构': '中国人民银行营业管理部', '查询原因': '本人查询（临柜）'}\n"
     ]
    }
   ],
   "source": [
    "print(table2json2(vv))"
   ]
  },
  {
   "cell_type": "code",
   "execution_count": 27,
   "id": "4d6a7423-71ef-4de0-8134-8f1335bcc814",
   "metadata": {},
   "outputs": [],
   "source": [
    "xv = [['', '其他证件信息', None, ''],\n",
    "     ['证件类型', None, '证件号码', None],\n",
    "     ['护照', None, 'G30003516', None],\n",
    "     ['军官证', None, 'M0938981', None]]"
   ]
  },
  {
   "cell_type": "code",
   "execution_count": 28,
   "id": "30ef7b1c-ae35-4ae4-9ead-643ffbead44d",
   "metadata": {},
   "outputs": [
    {
     "name": "stdout",
     "output_type": "stream",
     "text": [
      "{'其他证件信息': None, '证件类型': '护照', '证件号码': 'G30003516', '护照': '军官证', 'G30003516': 'M0938981'}\n"
     ]
    }
   ],
   "source": [
    "print(table2json2(xv))"
   ]
  },
  {
   "cell_type": "code",
   "execution_count": 29,
   "id": "1a2e7102-6009-44a0-a099-caa97c82d077",
   "metadata": {},
   "outputs": [
    {
     "name": "stdout",
     "output_type": "stream",
     "text": [
      "行数少的情况需要进行横行检查，防止单行上下对应与表格现实情况不符合\n"
     ]
    }
   ],
   "source": [
    "print('行数少的情况需要进行横行检查，防止单行上下对应与表格现实情况不符合')"
   ]
  },
  {
   "cell_type": "code",
   "execution_count": 32,
   "id": "b46ec08a-094d-4667-853f-5533286c1c78",
   "metadata": {},
   "outputs": [
    {
     "name": "stdout",
     "output_type": "stream",
     "text": [
      "{'证件类型': ['护照', '军官证'], '证件号码': ['G30003516', 'M0938981']}\n"
     ]
    }
   ],
   "source": [
    "dic2 = merge_dict(table2json2(xv))#检查，进行列横行对应\n",
    "print(dic2)"
   ]
  },
  {
   "cell_type": "code",
   "execution_count": null,
   "id": "c4093a20-9dda-4ad5-889d-6bb475cdee22",
   "metadata": {},
   "outputs": [],
   "source": []
  }
 ],
 "metadata": {
  "kernelspec": {
   "display_name": "Python 3 (ipykernel)",
   "language": "python",
   "name": "python3"
  },
  "language_info": {
   "codemirror_mode": {
    "name": "ipython",
    "version": 3
   },
   "file_extension": ".py",
   "mimetype": "text/x-python",
   "name": "python",
   "nbconvert_exporter": "python",
   "pygments_lexer": "ipython3",
   "version": "3.10.13"
  }
 },
 "nbformat": 4,
 "nbformat_minor": 5
}
